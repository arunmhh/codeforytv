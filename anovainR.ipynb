{
 "cells": [
  {
   "cell_type": "markdown",
   "metadata": {},
   "source": [
    "##### H0 = No difference in the mean of population or group \n",
    "##### Ha = There is difference in the mean of population or group \n",
    "##### Alpha = 0.05 "
   ]
  },
  {
   "cell_type": "code",
   "execution_count": 2,
   "metadata": {
    "vscode": {
     "languageId": "r"
    }
   },
   "outputs": [
    {
     "name": "stderr",
     "output_type": "stream",
     "text": [
      "── \u001b[1mAttaching core tidyverse packages\u001b[22m ──────────────────────── tidyverse 2.0.0 ──\n",
      "\u001b[32m✔\u001b[39m \u001b[34mdplyr    \u001b[39m 1.1.4     \u001b[32m✔\u001b[39m \u001b[34mreadr    \u001b[39m 2.1.5\n",
      "\u001b[32m✔\u001b[39m \u001b[34mforcats  \u001b[39m 1.0.0     \u001b[32m✔\u001b[39m \u001b[34mstringr  \u001b[39m 1.5.1\n",
      "\u001b[32m✔\u001b[39m \u001b[34mggplot2  \u001b[39m 3.5.0     \u001b[32m✔\u001b[39m \u001b[34mtibble   \u001b[39m 3.2.1\n",
      "\u001b[32m✔\u001b[39m \u001b[34mlubridate\u001b[39m 1.9.3     \u001b[32m✔\u001b[39m \u001b[34mtidyr    \u001b[39m 1.3.1\n",
      "\u001b[32m✔\u001b[39m \u001b[34mpurrr    \u001b[39m 1.0.2     \n",
      "── \u001b[1mConflicts\u001b[22m ────────────────────────────────────────── tidyverse_conflicts() ──\n",
      "\u001b[31m✖\u001b[39m \u001b[34mdplyr\u001b[39m::\u001b[32mfilter()\u001b[39m masks \u001b[34mstats\u001b[39m::filter()\n",
      "\u001b[31m✖\u001b[39m \u001b[34mdplyr\u001b[39m::\u001b[32mlag()\u001b[39m    masks \u001b[34mstats\u001b[39m::lag()\n",
      "\u001b[36mℹ\u001b[39m Use the conflicted package (\u001b[3m\u001b[34m<http://conflicted.r-lib.org/>\u001b[39m\u001b[23m) to force all conflicts to become errors\n"
     ]
    }
   ],
   "source": [
    "library(tidyverse)\n",
    "library(datarium)"
   ]
  },
  {
   "cell_type": "markdown",
   "metadata": {},
   "source": [
    "### read data from library datarium"
   ]
  },
  {
   "cell_type": "code",
   "execution_count": 3,
   "metadata": {
    "vscode": {
     "languageId": "r"
    }
   },
   "outputs": [
    {
     "data": {
      "text/html": [
       "<table class=\"dataframe\">\n",
       "<caption>A tibble: 45 × 5</caption>\n",
       "<thead>\n",
       "\t<tr><th scope=col>id</th><th scope=col>group</th><th scope=col>t1</th><th scope=col>t2</th><th scope=col>t3</th></tr>\n",
       "\t<tr><th scope=col>&lt;fct&gt;</th><th scope=col>&lt;fct&gt;</th><th scope=col>&lt;dbl&gt;</th><th scope=col>&lt;dbl&gt;</th><th scope=col>&lt;dbl&gt;</th></tr>\n",
       "</thead>\n",
       "<tbody>\n",
       "\t<tr><td>1 </td><td>grp1</td><td>14.1</td><td>14.4</td><td>14.1</td></tr>\n",
       "\t<tr><td>2 </td><td>grp1</td><td>14.5</td><td>14.6</td><td>14.3</td></tr>\n",
       "\t<tr><td>3 </td><td>grp1</td><td>15.7</td><td>15.2</td><td>14.9</td></tr>\n",
       "\t<tr><td>4 </td><td>grp1</td><td>16.0</td><td>15.5</td><td>15.3</td></tr>\n",
       "\t<tr><td>5 </td><td>grp1</td><td>16.5</td><td>15.8</td><td>15.7</td></tr>\n",
       "\t<tr><td>6 </td><td>grp1</td><td>16.9</td><td>16.5</td><td>16.2</td></tr>\n",
       "\t<tr><td>7 </td><td>grp1</td><td>17.0</td><td>16.8</td><td>16.5</td></tr>\n",
       "\t<tr><td>8 </td><td>grp1</td><td>17.0</td><td>17.1</td><td>16.6</td></tr>\n",
       "\t<tr><td>9 </td><td>grp1</td><td>17.3</td><td>16.9</td><td>16.5</td></tr>\n",
       "\t<tr><td>10</td><td>grp1</td><td>17.3</td><td>17.1</td><td>16.7</td></tr>\n",
       "\t<tr><td>11</td><td>grp1</td><td>17.8</td><td>17.7</td><td>17.3</td></tr>\n",
       "\t<tr><td>12</td><td>grp1</td><td>17.9</td><td>17.7</td><td>17.5</td></tr>\n",
       "\t<tr><td>13</td><td>grp1</td><td>19.1</td><td>19.4</td><td>19.3</td></tr>\n",
       "\t<tr><td>14</td><td>grp1</td><td>19.4</td><td>19.2</td><td>17.3</td></tr>\n",
       "\t<tr><td>15</td><td>grp1</td><td>19.8</td><td>20.0</td><td>19.4</td></tr>\n",
       "\t<tr><td>16</td><td>grp2</td><td>13.7</td><td>13.4</td><td>12.7</td></tr>\n",
       "\t<tr><td>17</td><td>grp2</td><td>14.7</td><td>14.8</td><td>13.1</td></tr>\n",
       "\t<tr><td>18</td><td>grp2</td><td>14.9</td><td>14.4</td><td>13.6</td></tr>\n",
       "\t<tr><td>19</td><td>grp2</td><td>15.1</td><td>14.8</td><td>13.6</td></tr>\n",
       "\t<tr><td>20</td><td>grp2</td><td>15.8</td><td>14.8</td><td>14.2</td></tr>\n",
       "\t<tr><td>21</td><td>grp2</td><td>16.4</td><td>15.7</td><td>14.9</td></tr>\n",
       "\t<tr><td>22</td><td>grp2</td><td>16.6</td><td>16.9</td><td>16.1</td></tr>\n",
       "\t<tr><td>23</td><td>grp2</td><td>16.9</td><td>16.9</td><td>16.1</td></tr>\n",
       "\t<tr><td>24</td><td>grp2</td><td>16.9</td><td>16.9</td><td>16.3</td></tr>\n",
       "\t<tr><td>25</td><td>grp2</td><td>17.2</td><td>17.3</td><td>15.9</td></tr>\n",
       "\t<tr><td>26</td><td>grp2</td><td>17.8</td><td>18.2</td><td>17.4</td></tr>\n",
       "\t<tr><td>27</td><td>grp2</td><td>17.8</td><td>17.7</td><td>16.9</td></tr>\n",
       "\t<tr><td>28</td><td>grp2</td><td>18.2</td><td>17.8</td><td>17.1</td></tr>\n",
       "\t<tr><td>29</td><td>grp2</td><td>18.4</td><td>18.5</td><td>17.3</td></tr>\n",
       "\t<tr><td>30</td><td>grp2</td><td>19.3</td><td>18.9</td><td>17.7</td></tr>\n",
       "\t<tr><td>31</td><td>grp3</td><td>14.6</td><td>13.0</td><td>11.7</td></tr>\n",
       "\t<tr><td>32</td><td>grp3</td><td>15.0</td><td>13.0</td><td>11.9</td></tr>\n",
       "\t<tr><td>33</td><td>grp3</td><td>15.5</td><td>12.7</td><td>11.0</td></tr>\n",
       "\t<tr><td>34</td><td>grp3</td><td>15.7</td><td>14.1</td><td>12.1</td></tr>\n",
       "\t<tr><td>35</td><td>grp3</td><td>16.4</td><td>14.4</td><td>12.3</td></tr>\n",
       "\t<tr><td>36</td><td>grp3</td><td>16.9</td><td>14.5</td><td>13.6</td></tr>\n",
       "\t<tr><td>37</td><td>grp3</td><td>17.1</td><td>15.6</td><td>14.3</td></tr>\n",
       "\t<tr><td>38</td><td>grp3</td><td>17.3</td><td>15.4</td><td>14.2</td></tr>\n",
       "\t<tr><td>39</td><td>grp3</td><td>17.5</td><td>15.6</td><td>14.4</td></tr>\n",
       "\t<tr><td>40</td><td>grp3</td><td>17.6</td><td>14.8</td><td>13.8</td></tr>\n",
       "\t<tr><td>41</td><td>grp3</td><td>17.8</td><td>16.1</td><td>14.3</td></tr>\n",
       "\t<tr><td>42</td><td>grp3</td><td>17.9</td><td>15.7</td><td>13.8</td></tr>\n",
       "\t<tr><td>43</td><td>grp3</td><td>18.4</td><td>16.7</td><td>15.4</td></tr>\n",
       "\t<tr><td>44</td><td>grp3</td><td>18.5</td><td>16.4</td><td>15.1</td></tr>\n",
       "\t<tr><td>45</td><td>grp3</td><td>19.0</td><td>17.2</td><td>15.5</td></tr>\n",
       "</tbody>\n",
       "</table>\n"
      ],
      "text/latex": [
       "A tibble: 45 × 5\n",
       "\\begin{tabular}{lllll}\n",
       " id & group & t1 & t2 & t3\\\\\n",
       " <fct> & <fct> & <dbl> & <dbl> & <dbl>\\\\\n",
       "\\hline\n",
       "\t 1  & grp1 & 14.1 & 14.4 & 14.1\\\\\n",
       "\t 2  & grp1 & 14.5 & 14.6 & 14.3\\\\\n",
       "\t 3  & grp1 & 15.7 & 15.2 & 14.9\\\\\n",
       "\t 4  & grp1 & 16.0 & 15.5 & 15.3\\\\\n",
       "\t 5  & grp1 & 16.5 & 15.8 & 15.7\\\\\n",
       "\t 6  & grp1 & 16.9 & 16.5 & 16.2\\\\\n",
       "\t 7  & grp1 & 17.0 & 16.8 & 16.5\\\\\n",
       "\t 8  & grp1 & 17.0 & 17.1 & 16.6\\\\\n",
       "\t 9  & grp1 & 17.3 & 16.9 & 16.5\\\\\n",
       "\t 10 & grp1 & 17.3 & 17.1 & 16.7\\\\\n",
       "\t 11 & grp1 & 17.8 & 17.7 & 17.3\\\\\n",
       "\t 12 & grp1 & 17.9 & 17.7 & 17.5\\\\\n",
       "\t 13 & grp1 & 19.1 & 19.4 & 19.3\\\\\n",
       "\t 14 & grp1 & 19.4 & 19.2 & 17.3\\\\\n",
       "\t 15 & grp1 & 19.8 & 20.0 & 19.4\\\\\n",
       "\t 16 & grp2 & 13.7 & 13.4 & 12.7\\\\\n",
       "\t 17 & grp2 & 14.7 & 14.8 & 13.1\\\\\n",
       "\t 18 & grp2 & 14.9 & 14.4 & 13.6\\\\\n",
       "\t 19 & grp2 & 15.1 & 14.8 & 13.6\\\\\n",
       "\t 20 & grp2 & 15.8 & 14.8 & 14.2\\\\\n",
       "\t 21 & grp2 & 16.4 & 15.7 & 14.9\\\\\n",
       "\t 22 & grp2 & 16.6 & 16.9 & 16.1\\\\\n",
       "\t 23 & grp2 & 16.9 & 16.9 & 16.1\\\\\n",
       "\t 24 & grp2 & 16.9 & 16.9 & 16.3\\\\\n",
       "\t 25 & grp2 & 17.2 & 17.3 & 15.9\\\\\n",
       "\t 26 & grp2 & 17.8 & 18.2 & 17.4\\\\\n",
       "\t 27 & grp2 & 17.8 & 17.7 & 16.9\\\\\n",
       "\t 28 & grp2 & 18.2 & 17.8 & 17.1\\\\\n",
       "\t 29 & grp2 & 18.4 & 18.5 & 17.3\\\\\n",
       "\t 30 & grp2 & 19.3 & 18.9 & 17.7\\\\\n",
       "\t 31 & grp3 & 14.6 & 13.0 & 11.7\\\\\n",
       "\t 32 & grp3 & 15.0 & 13.0 & 11.9\\\\\n",
       "\t 33 & grp3 & 15.5 & 12.7 & 11.0\\\\\n",
       "\t 34 & grp3 & 15.7 & 14.1 & 12.1\\\\\n",
       "\t 35 & grp3 & 16.4 & 14.4 & 12.3\\\\\n",
       "\t 36 & grp3 & 16.9 & 14.5 & 13.6\\\\\n",
       "\t 37 & grp3 & 17.1 & 15.6 & 14.3\\\\\n",
       "\t 38 & grp3 & 17.3 & 15.4 & 14.2\\\\\n",
       "\t 39 & grp3 & 17.5 & 15.6 & 14.4\\\\\n",
       "\t 40 & grp3 & 17.6 & 14.8 & 13.8\\\\\n",
       "\t 41 & grp3 & 17.8 & 16.1 & 14.3\\\\\n",
       "\t 42 & grp3 & 17.9 & 15.7 & 13.8\\\\\n",
       "\t 43 & grp3 & 18.4 & 16.7 & 15.4\\\\\n",
       "\t 44 & grp3 & 18.5 & 16.4 & 15.1\\\\\n",
       "\t 45 & grp3 & 19.0 & 17.2 & 15.5\\\\\n",
       "\\end{tabular}\n"
      ],
      "text/markdown": [
       "\n",
       "A tibble: 45 × 5\n",
       "\n",
       "| id &lt;fct&gt; | group &lt;fct&gt; | t1 &lt;dbl&gt; | t2 &lt;dbl&gt; | t3 &lt;dbl&gt; |\n",
       "|---|---|---|---|---|\n",
       "| 1  | grp1 | 14.1 | 14.4 | 14.1 |\n",
       "| 2  | grp1 | 14.5 | 14.6 | 14.3 |\n",
       "| 3  | grp1 | 15.7 | 15.2 | 14.9 |\n",
       "| 4  | grp1 | 16.0 | 15.5 | 15.3 |\n",
       "| 5  | grp1 | 16.5 | 15.8 | 15.7 |\n",
       "| 6  | grp1 | 16.9 | 16.5 | 16.2 |\n",
       "| 7  | grp1 | 17.0 | 16.8 | 16.5 |\n",
       "| 8  | grp1 | 17.0 | 17.1 | 16.6 |\n",
       "| 9  | grp1 | 17.3 | 16.9 | 16.5 |\n",
       "| 10 | grp1 | 17.3 | 17.1 | 16.7 |\n",
       "| 11 | grp1 | 17.8 | 17.7 | 17.3 |\n",
       "| 12 | grp1 | 17.9 | 17.7 | 17.5 |\n",
       "| 13 | grp1 | 19.1 | 19.4 | 19.3 |\n",
       "| 14 | grp1 | 19.4 | 19.2 | 17.3 |\n",
       "| 15 | grp1 | 19.8 | 20.0 | 19.4 |\n",
       "| 16 | grp2 | 13.7 | 13.4 | 12.7 |\n",
       "| 17 | grp2 | 14.7 | 14.8 | 13.1 |\n",
       "| 18 | grp2 | 14.9 | 14.4 | 13.6 |\n",
       "| 19 | grp2 | 15.1 | 14.8 | 13.6 |\n",
       "| 20 | grp2 | 15.8 | 14.8 | 14.2 |\n",
       "| 21 | grp2 | 16.4 | 15.7 | 14.9 |\n",
       "| 22 | grp2 | 16.6 | 16.9 | 16.1 |\n",
       "| 23 | grp2 | 16.9 | 16.9 | 16.1 |\n",
       "| 24 | grp2 | 16.9 | 16.9 | 16.3 |\n",
       "| 25 | grp2 | 17.2 | 17.3 | 15.9 |\n",
       "| 26 | grp2 | 17.8 | 18.2 | 17.4 |\n",
       "| 27 | grp2 | 17.8 | 17.7 | 16.9 |\n",
       "| 28 | grp2 | 18.2 | 17.8 | 17.1 |\n",
       "| 29 | grp2 | 18.4 | 18.5 | 17.3 |\n",
       "| 30 | grp2 | 19.3 | 18.9 | 17.7 |\n",
       "| 31 | grp3 | 14.6 | 13.0 | 11.7 |\n",
       "| 32 | grp3 | 15.0 | 13.0 | 11.9 |\n",
       "| 33 | grp3 | 15.5 | 12.7 | 11.0 |\n",
       "| 34 | grp3 | 15.7 | 14.1 | 12.1 |\n",
       "| 35 | grp3 | 16.4 | 14.4 | 12.3 |\n",
       "| 36 | grp3 | 16.9 | 14.5 | 13.6 |\n",
       "| 37 | grp3 | 17.1 | 15.6 | 14.3 |\n",
       "| 38 | grp3 | 17.3 | 15.4 | 14.2 |\n",
       "| 39 | grp3 | 17.5 | 15.6 | 14.4 |\n",
       "| 40 | grp3 | 17.6 | 14.8 | 13.8 |\n",
       "| 41 | grp3 | 17.8 | 16.1 | 14.3 |\n",
       "| 42 | grp3 | 17.9 | 15.7 | 13.8 |\n",
       "| 43 | grp3 | 18.4 | 16.7 | 15.4 |\n",
       "| 44 | grp3 | 18.5 | 16.4 | 15.1 |\n",
       "| 45 | grp3 | 19.0 | 17.2 | 15.5 |\n",
       "\n"
      ],
      "text/plain": [
       "   id group t1   t2   t3  \n",
       "1  1  grp1  14.1 14.4 14.1\n",
       "2  2  grp1  14.5 14.6 14.3\n",
       "3  3  grp1  15.7 15.2 14.9\n",
       "4  4  grp1  16.0 15.5 15.3\n",
       "5  5  grp1  16.5 15.8 15.7\n",
       "6  6  grp1  16.9 16.5 16.2\n",
       "7  7  grp1  17.0 16.8 16.5\n",
       "8  8  grp1  17.0 17.1 16.6\n",
       "9  9  grp1  17.3 16.9 16.5\n",
       "10 10 grp1  17.3 17.1 16.7\n",
       "11 11 grp1  17.8 17.7 17.3\n",
       "12 12 grp1  17.9 17.7 17.5\n",
       "13 13 grp1  19.1 19.4 19.3\n",
       "14 14 grp1  19.4 19.2 17.3\n",
       "15 15 grp1  19.8 20.0 19.4\n",
       "16 16 grp2  13.7 13.4 12.7\n",
       "17 17 grp2  14.7 14.8 13.1\n",
       "18 18 grp2  14.9 14.4 13.6\n",
       "19 19 grp2  15.1 14.8 13.6\n",
       "20 20 grp2  15.8 14.8 14.2\n",
       "21 21 grp2  16.4 15.7 14.9\n",
       "22 22 grp2  16.6 16.9 16.1\n",
       "23 23 grp2  16.9 16.9 16.1\n",
       "24 24 grp2  16.9 16.9 16.3\n",
       "25 25 grp2  17.2 17.3 15.9\n",
       "26 26 grp2  17.8 18.2 17.4\n",
       "27 27 grp2  17.8 17.7 16.9\n",
       "28 28 grp2  18.2 17.8 17.1\n",
       "29 29 grp2  18.4 18.5 17.3\n",
       "30 30 grp2  19.3 18.9 17.7\n",
       "31 31 grp3  14.6 13.0 11.7\n",
       "32 32 grp3  15.0 13.0 11.9\n",
       "33 33 grp3  15.5 12.7 11.0\n",
       "34 34 grp3  15.7 14.1 12.1\n",
       "35 35 grp3  16.4 14.4 12.3\n",
       "36 36 grp3  16.9 14.5 13.6\n",
       "37 37 grp3  17.1 15.6 14.3\n",
       "38 38 grp3  17.3 15.4 14.2\n",
       "39 39 grp3  17.5 15.6 14.4\n",
       "40 40 grp3  17.6 14.8 13.8\n",
       "41 41 grp3  17.8 16.1 14.3\n",
       "42 42 grp3  17.9 15.7 13.8\n",
       "43 43 grp3  18.4 16.7 15.4\n",
       "44 44 grp3  18.5 16.4 15.1\n",
       "45 45 grp3  19.0 17.2 15.5"
      ]
     },
     "metadata": {},
     "output_type": "display_data"
    }
   ],
   "source": [
    "dataan <- anxiety\n",
    "dataan"
   ]
  },
  {
   "cell_type": "code",
   "execution_count": 4,
   "metadata": {
    "vscode": {
     "languageId": "r"
    }
   },
   "outputs": [
    {
     "data": {
      "text/html": [
       "<table class=\"dataframe\">\n",
       "<caption>A tibble: 135 × 4</caption>\n",
       "<thead>\n",
       "\t<tr><th scope=col>id</th><th scope=col>group</th><th scope=col>observation</th><th scope=col>reads</th></tr>\n",
       "\t<tr><th scope=col>&lt;fct&gt;</th><th scope=col>&lt;fct&gt;</th><th scope=col>&lt;chr&gt;</th><th scope=col>&lt;dbl&gt;</th></tr>\n",
       "</thead>\n",
       "<tbody>\n",
       "\t<tr><td>1 </td><td>grp1</td><td>t1</td><td>14.1</td></tr>\n",
       "\t<tr><td>1 </td><td>grp1</td><td>t2</td><td>14.4</td></tr>\n",
       "\t<tr><td>1 </td><td>grp1</td><td>t3</td><td>14.1</td></tr>\n",
       "\t<tr><td>2 </td><td>grp1</td><td>t1</td><td>14.5</td></tr>\n",
       "\t<tr><td>2 </td><td>grp1</td><td>t2</td><td>14.6</td></tr>\n",
       "\t<tr><td>2 </td><td>grp1</td><td>t3</td><td>14.3</td></tr>\n",
       "\t<tr><td>3 </td><td>grp1</td><td>t1</td><td>15.7</td></tr>\n",
       "\t<tr><td>3 </td><td>grp1</td><td>t2</td><td>15.2</td></tr>\n",
       "\t<tr><td>3 </td><td>grp1</td><td>t3</td><td>14.9</td></tr>\n",
       "\t<tr><td>4 </td><td>grp1</td><td>t1</td><td>16.0</td></tr>\n",
       "\t<tr><td>4 </td><td>grp1</td><td>t2</td><td>15.5</td></tr>\n",
       "\t<tr><td>4 </td><td>grp1</td><td>t3</td><td>15.3</td></tr>\n",
       "\t<tr><td>5 </td><td>grp1</td><td>t1</td><td>16.5</td></tr>\n",
       "\t<tr><td>5 </td><td>grp1</td><td>t2</td><td>15.8</td></tr>\n",
       "\t<tr><td>5 </td><td>grp1</td><td>t3</td><td>15.7</td></tr>\n",
       "\t<tr><td>6 </td><td>grp1</td><td>t1</td><td>16.9</td></tr>\n",
       "\t<tr><td>6 </td><td>grp1</td><td>t2</td><td>16.5</td></tr>\n",
       "\t<tr><td>6 </td><td>grp1</td><td>t3</td><td>16.2</td></tr>\n",
       "\t<tr><td>7 </td><td>grp1</td><td>t1</td><td>17.0</td></tr>\n",
       "\t<tr><td>7 </td><td>grp1</td><td>t2</td><td>16.8</td></tr>\n",
       "\t<tr><td>7 </td><td>grp1</td><td>t3</td><td>16.5</td></tr>\n",
       "\t<tr><td>8 </td><td>grp1</td><td>t1</td><td>17.0</td></tr>\n",
       "\t<tr><td>8 </td><td>grp1</td><td>t2</td><td>17.1</td></tr>\n",
       "\t<tr><td>8 </td><td>grp1</td><td>t3</td><td>16.6</td></tr>\n",
       "\t<tr><td>9 </td><td>grp1</td><td>t1</td><td>17.3</td></tr>\n",
       "\t<tr><td>9 </td><td>grp1</td><td>t2</td><td>16.9</td></tr>\n",
       "\t<tr><td>9 </td><td>grp1</td><td>t3</td><td>16.5</td></tr>\n",
       "\t<tr><td>10</td><td>grp1</td><td>t1</td><td>17.3</td></tr>\n",
       "\t<tr><td>10</td><td>grp1</td><td>t2</td><td>17.1</td></tr>\n",
       "\t<tr><td>10</td><td>grp1</td><td>t3</td><td>16.7</td></tr>\n",
       "\t<tr><td>⋮</td><td>⋮</td><td>⋮</td><td>⋮</td></tr>\n",
       "\t<tr><td>36</td><td>grp3</td><td>t1</td><td>16.9</td></tr>\n",
       "\t<tr><td>36</td><td>grp3</td><td>t2</td><td>14.5</td></tr>\n",
       "\t<tr><td>36</td><td>grp3</td><td>t3</td><td>13.6</td></tr>\n",
       "\t<tr><td>37</td><td>grp3</td><td>t1</td><td>17.1</td></tr>\n",
       "\t<tr><td>37</td><td>grp3</td><td>t2</td><td>15.6</td></tr>\n",
       "\t<tr><td>37</td><td>grp3</td><td>t3</td><td>14.3</td></tr>\n",
       "\t<tr><td>38</td><td>grp3</td><td>t1</td><td>17.3</td></tr>\n",
       "\t<tr><td>38</td><td>grp3</td><td>t2</td><td>15.4</td></tr>\n",
       "\t<tr><td>38</td><td>grp3</td><td>t3</td><td>14.2</td></tr>\n",
       "\t<tr><td>39</td><td>grp3</td><td>t1</td><td>17.5</td></tr>\n",
       "\t<tr><td>39</td><td>grp3</td><td>t2</td><td>15.6</td></tr>\n",
       "\t<tr><td>39</td><td>grp3</td><td>t3</td><td>14.4</td></tr>\n",
       "\t<tr><td>40</td><td>grp3</td><td>t1</td><td>17.6</td></tr>\n",
       "\t<tr><td>40</td><td>grp3</td><td>t2</td><td>14.8</td></tr>\n",
       "\t<tr><td>40</td><td>grp3</td><td>t3</td><td>13.8</td></tr>\n",
       "\t<tr><td>41</td><td>grp3</td><td>t1</td><td>17.8</td></tr>\n",
       "\t<tr><td>41</td><td>grp3</td><td>t2</td><td>16.1</td></tr>\n",
       "\t<tr><td>41</td><td>grp3</td><td>t3</td><td>14.3</td></tr>\n",
       "\t<tr><td>42</td><td>grp3</td><td>t1</td><td>17.9</td></tr>\n",
       "\t<tr><td>42</td><td>grp3</td><td>t2</td><td>15.7</td></tr>\n",
       "\t<tr><td>42</td><td>grp3</td><td>t3</td><td>13.8</td></tr>\n",
       "\t<tr><td>43</td><td>grp3</td><td>t1</td><td>18.4</td></tr>\n",
       "\t<tr><td>43</td><td>grp3</td><td>t2</td><td>16.7</td></tr>\n",
       "\t<tr><td>43</td><td>grp3</td><td>t3</td><td>15.4</td></tr>\n",
       "\t<tr><td>44</td><td>grp3</td><td>t1</td><td>18.5</td></tr>\n",
       "\t<tr><td>44</td><td>grp3</td><td>t2</td><td>16.4</td></tr>\n",
       "\t<tr><td>44</td><td>grp3</td><td>t3</td><td>15.1</td></tr>\n",
       "\t<tr><td>45</td><td>grp3</td><td>t1</td><td>19.0</td></tr>\n",
       "\t<tr><td>45</td><td>grp3</td><td>t2</td><td>17.2</td></tr>\n",
       "\t<tr><td>45</td><td>grp3</td><td>t3</td><td>15.5</td></tr>\n",
       "</tbody>\n",
       "</table>\n"
      ],
      "text/latex": [
       "A tibble: 135 × 4\n",
       "\\begin{tabular}{llll}\n",
       " id & group & observation & reads\\\\\n",
       " <fct> & <fct> & <chr> & <dbl>\\\\\n",
       "\\hline\n",
       "\t 1  & grp1 & t1 & 14.1\\\\\n",
       "\t 1  & grp1 & t2 & 14.4\\\\\n",
       "\t 1  & grp1 & t3 & 14.1\\\\\n",
       "\t 2  & grp1 & t1 & 14.5\\\\\n",
       "\t 2  & grp1 & t2 & 14.6\\\\\n",
       "\t 2  & grp1 & t3 & 14.3\\\\\n",
       "\t 3  & grp1 & t1 & 15.7\\\\\n",
       "\t 3  & grp1 & t2 & 15.2\\\\\n",
       "\t 3  & grp1 & t3 & 14.9\\\\\n",
       "\t 4  & grp1 & t1 & 16.0\\\\\n",
       "\t 4  & grp1 & t2 & 15.5\\\\\n",
       "\t 4  & grp1 & t3 & 15.3\\\\\n",
       "\t 5  & grp1 & t1 & 16.5\\\\\n",
       "\t 5  & grp1 & t2 & 15.8\\\\\n",
       "\t 5  & grp1 & t3 & 15.7\\\\\n",
       "\t 6  & grp1 & t1 & 16.9\\\\\n",
       "\t 6  & grp1 & t2 & 16.5\\\\\n",
       "\t 6  & grp1 & t3 & 16.2\\\\\n",
       "\t 7  & grp1 & t1 & 17.0\\\\\n",
       "\t 7  & grp1 & t2 & 16.8\\\\\n",
       "\t 7  & grp1 & t3 & 16.5\\\\\n",
       "\t 8  & grp1 & t1 & 17.0\\\\\n",
       "\t 8  & grp1 & t2 & 17.1\\\\\n",
       "\t 8  & grp1 & t3 & 16.6\\\\\n",
       "\t 9  & grp1 & t1 & 17.3\\\\\n",
       "\t 9  & grp1 & t2 & 16.9\\\\\n",
       "\t 9  & grp1 & t3 & 16.5\\\\\n",
       "\t 10 & grp1 & t1 & 17.3\\\\\n",
       "\t 10 & grp1 & t2 & 17.1\\\\\n",
       "\t 10 & grp1 & t3 & 16.7\\\\\n",
       "\t ⋮ & ⋮ & ⋮ & ⋮\\\\\n",
       "\t 36 & grp3 & t1 & 16.9\\\\\n",
       "\t 36 & grp3 & t2 & 14.5\\\\\n",
       "\t 36 & grp3 & t3 & 13.6\\\\\n",
       "\t 37 & grp3 & t1 & 17.1\\\\\n",
       "\t 37 & grp3 & t2 & 15.6\\\\\n",
       "\t 37 & grp3 & t3 & 14.3\\\\\n",
       "\t 38 & grp3 & t1 & 17.3\\\\\n",
       "\t 38 & grp3 & t2 & 15.4\\\\\n",
       "\t 38 & grp3 & t3 & 14.2\\\\\n",
       "\t 39 & grp3 & t1 & 17.5\\\\\n",
       "\t 39 & grp3 & t2 & 15.6\\\\\n",
       "\t 39 & grp3 & t3 & 14.4\\\\\n",
       "\t 40 & grp3 & t1 & 17.6\\\\\n",
       "\t 40 & grp3 & t2 & 14.8\\\\\n",
       "\t 40 & grp3 & t3 & 13.8\\\\\n",
       "\t 41 & grp3 & t1 & 17.8\\\\\n",
       "\t 41 & grp3 & t2 & 16.1\\\\\n",
       "\t 41 & grp3 & t3 & 14.3\\\\\n",
       "\t 42 & grp3 & t1 & 17.9\\\\\n",
       "\t 42 & grp3 & t2 & 15.7\\\\\n",
       "\t 42 & grp3 & t3 & 13.8\\\\\n",
       "\t 43 & grp3 & t1 & 18.4\\\\\n",
       "\t 43 & grp3 & t2 & 16.7\\\\\n",
       "\t 43 & grp3 & t3 & 15.4\\\\\n",
       "\t 44 & grp3 & t1 & 18.5\\\\\n",
       "\t 44 & grp3 & t2 & 16.4\\\\\n",
       "\t 44 & grp3 & t3 & 15.1\\\\\n",
       "\t 45 & grp3 & t1 & 19.0\\\\\n",
       "\t 45 & grp3 & t2 & 17.2\\\\\n",
       "\t 45 & grp3 & t3 & 15.5\\\\\n",
       "\\end{tabular}\n"
      ],
      "text/markdown": [
       "\n",
       "A tibble: 135 × 4\n",
       "\n",
       "| id &lt;fct&gt; | group &lt;fct&gt; | observation &lt;chr&gt; | reads &lt;dbl&gt; |\n",
       "|---|---|---|---|\n",
       "| 1  | grp1 | t1 | 14.1 |\n",
       "| 1  | grp1 | t2 | 14.4 |\n",
       "| 1  | grp1 | t3 | 14.1 |\n",
       "| 2  | grp1 | t1 | 14.5 |\n",
       "| 2  | grp1 | t2 | 14.6 |\n",
       "| 2  | grp1 | t3 | 14.3 |\n",
       "| 3  | grp1 | t1 | 15.7 |\n",
       "| 3  | grp1 | t2 | 15.2 |\n",
       "| 3  | grp1 | t3 | 14.9 |\n",
       "| 4  | grp1 | t1 | 16.0 |\n",
       "| 4  | grp1 | t2 | 15.5 |\n",
       "| 4  | grp1 | t3 | 15.3 |\n",
       "| 5  | grp1 | t1 | 16.5 |\n",
       "| 5  | grp1 | t2 | 15.8 |\n",
       "| 5  | grp1 | t3 | 15.7 |\n",
       "| 6  | grp1 | t1 | 16.9 |\n",
       "| 6  | grp1 | t2 | 16.5 |\n",
       "| 6  | grp1 | t3 | 16.2 |\n",
       "| 7  | grp1 | t1 | 17.0 |\n",
       "| 7  | grp1 | t2 | 16.8 |\n",
       "| 7  | grp1 | t3 | 16.5 |\n",
       "| 8  | grp1 | t1 | 17.0 |\n",
       "| 8  | grp1 | t2 | 17.1 |\n",
       "| 8  | grp1 | t3 | 16.6 |\n",
       "| 9  | grp1 | t1 | 17.3 |\n",
       "| 9  | grp1 | t2 | 16.9 |\n",
       "| 9  | grp1 | t3 | 16.5 |\n",
       "| 10 | grp1 | t1 | 17.3 |\n",
       "| 10 | grp1 | t2 | 17.1 |\n",
       "| 10 | grp1 | t3 | 16.7 |\n",
       "| ⋮ | ⋮ | ⋮ | ⋮ |\n",
       "| 36 | grp3 | t1 | 16.9 |\n",
       "| 36 | grp3 | t2 | 14.5 |\n",
       "| 36 | grp3 | t3 | 13.6 |\n",
       "| 37 | grp3 | t1 | 17.1 |\n",
       "| 37 | grp3 | t2 | 15.6 |\n",
       "| 37 | grp3 | t3 | 14.3 |\n",
       "| 38 | grp3 | t1 | 17.3 |\n",
       "| 38 | grp3 | t2 | 15.4 |\n",
       "| 38 | grp3 | t3 | 14.2 |\n",
       "| 39 | grp3 | t1 | 17.5 |\n",
       "| 39 | grp3 | t2 | 15.6 |\n",
       "| 39 | grp3 | t3 | 14.4 |\n",
       "| 40 | grp3 | t1 | 17.6 |\n",
       "| 40 | grp3 | t2 | 14.8 |\n",
       "| 40 | grp3 | t3 | 13.8 |\n",
       "| 41 | grp3 | t1 | 17.8 |\n",
       "| 41 | grp3 | t2 | 16.1 |\n",
       "| 41 | grp3 | t3 | 14.3 |\n",
       "| 42 | grp3 | t1 | 17.9 |\n",
       "| 42 | grp3 | t2 | 15.7 |\n",
       "| 42 | grp3 | t3 | 13.8 |\n",
       "| 43 | grp3 | t1 | 18.4 |\n",
       "| 43 | grp3 | t2 | 16.7 |\n",
       "| 43 | grp3 | t3 | 15.4 |\n",
       "| 44 | grp3 | t1 | 18.5 |\n",
       "| 44 | grp3 | t2 | 16.4 |\n",
       "| 44 | grp3 | t3 | 15.1 |\n",
       "| 45 | grp3 | t1 | 19.0 |\n",
       "| 45 | grp3 | t2 | 17.2 |\n",
       "| 45 | grp3 | t3 | 15.5 |\n",
       "\n"
      ],
      "text/plain": [
       "    id group observation reads\n",
       "1   1  grp1  t1          14.1 \n",
       "2   1  grp1  t2          14.4 \n",
       "3   1  grp1  t3          14.1 \n",
       "4   2  grp1  t1          14.5 \n",
       "5   2  grp1  t2          14.6 \n",
       "6   2  grp1  t3          14.3 \n",
       "7   3  grp1  t1          15.7 \n",
       "8   3  grp1  t2          15.2 \n",
       "9   3  grp1  t3          14.9 \n",
       "10  4  grp1  t1          16.0 \n",
       "11  4  grp1  t2          15.5 \n",
       "12  4  grp1  t3          15.3 \n",
       "13  5  grp1  t1          16.5 \n",
       "14  5  grp1  t2          15.8 \n",
       "15  5  grp1  t3          15.7 \n",
       "16  6  grp1  t1          16.9 \n",
       "17  6  grp1  t2          16.5 \n",
       "18  6  grp1  t3          16.2 \n",
       "19  7  grp1  t1          17.0 \n",
       "20  7  grp1  t2          16.8 \n",
       "21  7  grp1  t3          16.5 \n",
       "22  8  grp1  t1          17.0 \n",
       "23  8  grp1  t2          17.1 \n",
       "24  8  grp1  t3          16.6 \n",
       "25  9  grp1  t1          17.3 \n",
       "26  9  grp1  t2          16.9 \n",
       "27  9  grp1  t3          16.5 \n",
       "28  10 grp1  t1          17.3 \n",
       "29  10 grp1  t2          17.1 \n",
       "30  10 grp1  t3          16.7 \n",
       "⋮   ⋮  ⋮     ⋮           ⋮    \n",
       "106 36 grp3  t1          16.9 \n",
       "107 36 grp3  t2          14.5 \n",
       "108 36 grp3  t3          13.6 \n",
       "109 37 grp3  t1          17.1 \n",
       "110 37 grp3  t2          15.6 \n",
       "111 37 grp3  t3          14.3 \n",
       "112 38 grp3  t1          17.3 \n",
       "113 38 grp3  t2          15.4 \n",
       "114 38 grp3  t3          14.2 \n",
       "115 39 grp3  t1          17.5 \n",
       "116 39 grp3  t2          15.6 \n",
       "117 39 grp3  t3          14.4 \n",
       "118 40 grp3  t1          17.6 \n",
       "119 40 grp3  t2          14.8 \n",
       "120 40 grp3  t3          13.8 \n",
       "121 41 grp3  t1          17.8 \n",
       "122 41 grp3  t2          16.1 \n",
       "123 41 grp3  t3          14.3 \n",
       "124 42 grp3  t1          17.9 \n",
       "125 42 grp3  t2          15.7 \n",
       "126 42 grp3  t3          13.8 \n",
       "127 43 grp3  t1          18.4 \n",
       "128 43 grp3  t2          16.7 \n",
       "129 43 grp3  t3          15.4 \n",
       "130 44 grp3  t1          18.5 \n",
       "131 44 grp3  t2          16.4 \n",
       "132 44 grp3  t3          15.1 \n",
       "133 45 grp3  t1          19.0 \n",
       "134 45 grp3  t2          17.2 \n",
       "135 45 grp3  t3          15.5 "
      ]
     },
     "metadata": {},
     "output_type": "display_data"
    }
   ],
   "source": [
    "dataan_longer <- dataan %>%\n",
    "  pivot_longer(cols = 3:5,\n",
    "               names_to = \"observation\",\n",
    "               values_to = \"reads\")\n",
    "dataan_longer"
   ]
  },
  {
   "cell_type": "code",
   "execution_count": 5,
   "metadata": {
    "vscode": {
     "languageId": "r"
    }
   },
   "outputs": [
    {
     "data": {
      "text/plain": [
       "\n",
       "\tShapiro-Wilk normality test\n",
       "\n",
       "data:  dataan_longer$reads\n",
       "W = 0.98698, p-value = 0.2316\n"
      ]
     },
     "metadata": {},
     "output_type": "display_data"
    }
   ],
   "source": [
    "# we check the data for normal distribution\n",
    "shapiro.test(dataan_longer $ reads)"
   ]
  },
  {
   "cell_type": "markdown",
   "metadata": {},
   "source": [
    "#### Bartlett test: to check the homogeneity of variances"
   ]
  },
  {
   "cell_type": "code",
   "execution_count": 6,
   "metadata": {
    "vscode": {
     "languageId": "r"
    }
   },
   "outputs": [
    {
     "data": {
      "text/plain": [
       "\n",
       "\tBartlett test of homogeneity of variances\n",
       "\n",
       "data:  reads by observation\n",
       "Bartlett's K-squared = 3.3527, df = 2, p-value = 0.1871\n"
      ]
     },
     "metadata": {},
     "output_type": "display_data"
    }
   ],
   "source": [
    "bartlett.test(reads ~ observation, data = dataan_longer)"
   ]
  },
  {
   "cell_type": "code",
   "execution_count": 7,
   "metadata": {
    "vscode": {
     "languageId": "r"
    }
   },
   "outputs": [
    {
     "data": {
      "text/plain": [
       "             Df Sum Sq Mean Sq F value   Pr(>F)    \n",
       "observation   2   66.6   33.29   10.84 4.38e-05 ***\n",
       "Residuals   132  405.4    3.07                     \n",
       "---\n",
       "Signif. codes:  0 ‘***’ 0.001 ‘**’ 0.01 ‘*’ 0.05 ‘.’ 0.1 ‘ ’ 1"
      ]
     },
     "metadata": {},
     "output_type": "display_data"
    }
   ],
   "source": [
    "aov_model <- aov(reads ~ observation, data = dataan_longer)\n",
    "summary(aov_model)"
   ]
  },
  {
   "cell_type": "code",
   "execution_count": 8,
   "metadata": {
    "vscode": {
     "languageId": "r"
    }
   },
   "outputs": [
    {
     "data": {
      "text/plain": [
       "  Tukey multiple comparisons of means\n",
       "    95% family-wise confidence level\n",
       "\n",
       "Fit: aov(formula = reads ~ observation, data = dataan_longer)\n",
       "\n",
       "$observation\n",
       "            diff       lwr         upr     p adj\n",
       "t2-t1 -0.7800000 -1.655747  0.09574702 0.0914210\n",
       "t3-t1 -1.7177778 -2.593525 -0.84203076 0.0000236\n",
       "t3-t2 -0.9377778 -1.813525 -0.06203076 0.0327338\n"
      ]
     },
     "metadata": {},
     "output_type": "display_data"
    }
   ],
   "source": [
    "TukeyHSD(aov_model)"
   ]
  },
  {
   "cell_type": "code",
   "execution_count": null,
   "metadata": {
    "vscode": {
     "languageId": "r"
    }
   },
   "outputs": [],
   "source": [
    "write.csv(dataan_longer, \"anxity.csv\")"
   ]
  }
 ],
 "metadata": {
  "kernelspec": {
   "display_name": "R",
   "language": "R",
   "name": "ir"
  },
  "language_info": {
   "codemirror_mode": "r",
   "file_extension": ".r",
   "mimetype": "text/x-r-source",
   "name": "R",
   "pygments_lexer": "r",
   "version": "4.2.3"
  }
 },
 "nbformat": 4,
 "nbformat_minor": 2
}
