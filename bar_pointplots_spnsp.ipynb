{
 "cells": [
  {
   "cell_type": "code",
   "execution_count": 1,
   "metadata": {
    "vscode": {
     "languageId": "r"
    }
   },
   "outputs": [
    {
     "ename": "ERROR",
     "evalue": "Error in read_excel(\"/Volumes/NGS/Myytcode/codeforytv/wilcoxontest-2.xlsx\", : konnte Funktion \"read_excel\" nicht finden\n",
     "output_type": "error",
     "traceback": [
      "Error in read_excel(\"/Volumes/NGS/Myytcode/codeforytv/wilcoxontest-2.xlsx\", : konnte Funktion \"read_excel\" nicht finden\nTraceback:\n"
     ]
    }
   ],
   "source": []
  },
  {
   "cell_type": "code",
   "execution_count": 8,
   "metadata": {
    "vscode": {
     "languageId": "r"
    }
   },
   "outputs": [],
   "source": [
    "library(tidyverse)\n",
    "library(readxl)\n",
    "library(devtools)\n",
    "library(tinystatr)\n",
    "library(reshape2)\n",
    "library(ggpubr)"
   ]
  },
  {
   "cell_type": "code",
   "execution_count": 12,
   "metadata": {
    "vscode": {
     "languageId": "r"
    }
   },
   "outputs": [
    {
     "name": "stderr",
     "output_type": "stream",
     "text": [
      "No id variables; using all as measure variables\n",
      "\n"
     ]
    },
    {
     "name": "stdout",
     "output_type": "stream",
     "text": [
      "All groups have 3 or more samples. \n",
      "Normally distributed  \n",
      "Variance unequal  \n",
      "Kruskal-Wallis \n"
     ]
    },
    {
     "data": {
      "text/html": [
       "<table class=\"dataframe\">\n",
       "<caption>A rstatix_test: 6 × 8</caption>\n",
       "<thead>\n",
       "\t<tr><th scope=col>group1</th><th scope=col>group2</th><th scope=col>p.adj</th><th scope=col>posthoc</th><th scope=col>variable</th><th scope=col>p1</th><th scope=col>P1method</th><th scope=col>p.adj.signif</th></tr>\n",
       "\t<tr><th scope=col>&lt;chr&gt;</th><th scope=col>&lt;chr&gt;</th><th scope=col>&lt;dbl&gt;</th><th scope=col>&lt;chr&gt;</th><th scope=col>&lt;chr&gt;</th><th scope=col>&lt;dbl&gt;</th><th scope=col>&lt;chr&gt;</th><th scope=col>&lt;chr&gt;</th></tr>\n",
       "</thead>\n",
       "<tbody>\n",
       "\t<tr><td>SPFA  </td><td>SPDMSO </td><td>1.00000000</td><td>bonferroni</td><td>id</td><td>0.0273</td><td>K_W</td><td>ns</td></tr>\n",
       "\t<tr><td>SPFA  </td><td>NSPFA  </td><td>0.32547302</td><td>bonferroni</td><td>id</td><td>0.0273</td><td>K_W</td><td>ns</td></tr>\n",
       "\t<tr><td>SPFA  </td><td>NSPDMSO</td><td>0.01944501</td><td>bonferroni</td><td>id</td><td>0.0273</td><td>K_W</td><td>* </td></tr>\n",
       "\t<tr><td>SPDMSO</td><td>NSPFA  </td><td>1.00000000</td><td>bonferroni</td><td>id</td><td>0.0273</td><td>K_W</td><td>ns</td></tr>\n",
       "\t<tr><td>SPDMSO</td><td>NSPDMSO</td><td>0.53657615</td><td>bonferroni</td><td>id</td><td>0.0273</td><td>K_W</td><td>ns</td></tr>\n",
       "\t<tr><td>NSPFA </td><td>NSPDMSO</td><td>1.00000000</td><td>bonferroni</td><td>id</td><td>0.0273</td><td>K_W</td><td>ns</td></tr>\n",
       "</tbody>\n",
       "</table>\n"
      ],
      "text/latex": [
       "A rstatix\\_test: 6 × 8\n",
       "\\begin{tabular}{llllllll}\n",
       " group1 & group2 & p.adj & posthoc & variable & p1 & P1method & p.adj.signif\\\\\n",
       " <chr> & <chr> & <dbl> & <chr> & <chr> & <dbl> & <chr> & <chr>\\\\\n",
       "\\hline\n",
       "\t SPFA   & SPDMSO  & 1.00000000 & bonferroni & id & 0.0273 & K\\_W & ns\\\\\n",
       "\t SPFA   & NSPFA   & 0.32547302 & bonferroni & id & 0.0273 & K\\_W & ns\\\\\n",
       "\t SPFA   & NSPDMSO & 0.01944501 & bonferroni & id & 0.0273 & K\\_W & * \\\\\n",
       "\t SPDMSO & NSPFA   & 1.00000000 & bonferroni & id & 0.0273 & K\\_W & ns\\\\\n",
       "\t SPDMSO & NSPDMSO & 0.53657615 & bonferroni & id & 0.0273 & K\\_W & ns\\\\\n",
       "\t NSPFA  & NSPDMSO & 1.00000000 & bonferroni & id & 0.0273 & K\\_W & ns\\\\\n",
       "\\end{tabular}\n"
      ],
      "text/markdown": [
       "\n",
       "A rstatix_test: 6 × 8\n",
       "\n",
       "| group1 &lt;chr&gt; | group2 &lt;chr&gt; | p.adj &lt;dbl&gt; | posthoc &lt;chr&gt; | variable &lt;chr&gt; | p1 &lt;dbl&gt; | P1method &lt;chr&gt; | p.adj.signif &lt;chr&gt; |\n",
       "|---|---|---|---|---|---|---|---|\n",
       "| SPFA   | SPDMSO  | 1.00000000 | bonferroni | id | 0.0273 | K_W | ns |\n",
       "| SPFA   | NSPFA   | 0.32547302 | bonferroni | id | 0.0273 | K_W | ns |\n",
       "| SPFA   | NSPDMSO | 0.01944501 | bonferroni | id | 0.0273 | K_W | *  |\n",
       "| SPDMSO | NSPFA   | 1.00000000 | bonferroni | id | 0.0273 | K_W | ns |\n",
       "| SPDMSO | NSPDMSO | 0.53657615 | bonferroni | id | 0.0273 | K_W | ns |\n",
       "| NSPFA  | NSPDMSO | 1.00000000 | bonferroni | id | 0.0273 | K_W | ns |\n",
       "\n"
      ],
      "text/plain": [
       "  group1 group2  p.adj      posthoc    variable p1     P1method p.adj.signif\n",
       "1 SPFA   SPDMSO  1.00000000 bonferroni id       0.0273 K_W      ns          \n",
       "2 SPFA   NSPFA   0.32547302 bonferroni id       0.0273 K_W      ns          \n",
       "3 SPFA   NSPDMSO 0.01944501 bonferroni id       0.0273 K_W      *           \n",
       "4 SPDMSO NSPFA   1.00000000 bonferroni id       0.0273 K_W      ns          \n",
       "5 SPDMSO NSPDMSO 0.53657615 bonferroni id       0.0273 K_W      ns          \n",
       "6 NSPFA  NSPDMSO 1.00000000 bonferroni id       0.0273 K_W      ns          "
      ]
     },
     "metadata": {},
     "output_type": "display_data"
    }
   ],
   "source": [
    "cd109 <- read_excel(\"/Volumes/NGS/Myytcode/codeforytv/wilcoxontest-2.xlsx\", sheet = 6)\n",
    "cd109_1 <- melt(cd109)\n",
    "colnames(cd109_1)[1] <- \"group\"\n",
    "\n",
    "\n",
    "\n",
    "stat3(data = cd109_1,group = \"group\",value = \"value\",formula = value~group)\n",
    "spfa <- stat3result[[\"stat\"]]"
   ]
  },
  {
   "cell_type": "code",
   "execution_count": 23,
   "metadata": {
    "vscode": {
     "languageId": "r"
    }
   },
   "outputs": [
    {
     "data": {
      "text/html": [
       "<table class=\"dataframe\">\n",
       "<caption>A rstatix_test: 6 × 3</caption>\n",
       "<thead>\n",
       "\t<tr><th scope=col>group1</th><th scope=col>group2</th><th scope=col>y.position</th></tr>\n",
       "\t<tr><th scope=col>&lt;chr&gt;</th><th scope=col>&lt;chr&gt;</th><th scope=col>&lt;dbl&gt;</th></tr>\n",
       "</thead>\n",
       "<tbody>\n",
       "\t<tr><td>SPFA  </td><td>SPDMSO </td><td>12.75525</td></tr>\n",
       "\t<tr><td>SPFA  </td><td>NSPFA  </td><td>      NA</td></tr>\n",
       "\t<tr><td>SPFA  </td><td>NSPDMSO</td><td>      NA</td></tr>\n",
       "\t<tr><td>SPDMSO</td><td>NSPFA  </td><td>      NA</td></tr>\n",
       "\t<tr><td>SPDMSO</td><td>NSPDMSO</td><td>      NA</td></tr>\n",
       "\t<tr><td>NSPFA </td><td>NSPDMSO</td><td>      NA</td></tr>\n",
       "</tbody>\n",
       "</table>\n"
      ],
      "text/latex": [
       "A rstatix\\_test: 6 × 3\n",
       "\\begin{tabular}{lll}\n",
       " group1 & group2 & y.position\\\\\n",
       " <chr> & <chr> & <dbl>\\\\\n",
       "\\hline\n",
       "\t SPFA   & SPDMSO  & 12.75525\\\\\n",
       "\t SPFA   & NSPFA   &       NA\\\\\n",
       "\t SPFA   & NSPDMSO &       NA\\\\\n",
       "\t SPDMSO & NSPFA   &       NA\\\\\n",
       "\t SPDMSO & NSPDMSO &       NA\\\\\n",
       "\t NSPFA  & NSPDMSO &       NA\\\\\n",
       "\\end{tabular}\n"
      ],
      "text/markdown": [
       "\n",
       "A rstatix_test: 6 × 3\n",
       "\n",
       "| group1 &lt;chr&gt; | group2 &lt;chr&gt; | y.position &lt;dbl&gt; |\n",
       "|---|---|---|\n",
       "| SPFA   | SPDMSO  | 12.75525 |\n",
       "| SPFA   | NSPFA   |       NA |\n",
       "| SPFA   | NSPDMSO |       NA |\n",
       "| SPDMSO | NSPFA   |       NA |\n",
       "| SPDMSO | NSPDMSO |       NA |\n",
       "| NSPFA  | NSPDMSO |       NA |\n",
       "\n"
      ],
      "text/plain": [
       "  group1 group2  y.position\n",
       "1 SPFA   SPDMSO  12.75525  \n",
       "2 SPFA   NSPFA         NA  \n",
       "3 SPFA   NSPDMSO       NA  \n",
       "4 SPDMSO NSPFA         NA  \n",
       "5 SPDMSO NSPDMSO       NA  \n",
       "6 NSPFA  NSPDMSO       NA  "
      ]
     },
     "metadata": {},
     "output_type": "display_data"
    }
   ],
   "source": [
    "tes <- spfa[,c(1,2)]\n",
    "tt <- cd109_1 ## melted data\n",
    "tes$y.position <- NA\n",
    "tes$y.position[1] <-max(tt$value)*1.12\n",
    "tes"
   ]
  },
  {
   "cell_type": "code",
   "execution_count": 49,
   "metadata": {
    "vscode": {
     "languageId": "r"
    }
   },
   "outputs": [],
   "source": [
    "tes <- spfa[,c(1,2)]\n",
    "  ##select all the data of the dataframe\n",
    "  tt <- cd109_1 \n",
    "  ##set a new NA column for y position \n",
    "  tes$y.position <- NA\n",
    "  tes$y.position[1] <-max(tt$value)*1.12\n",
    "  #set the first y position\n",
    "  #use a for loop to set the rest y position \n",
    "  for (e in 1:(length(tes$group2)-1)) {\n",
    "    tes$y.position[e+1] <-tes$y.position[e]*1.08\n",
    "  }\n",
    "  \n",
    "   stat.test2 <- left_join(spfa,tes,by=c(\"group1\",\"group2\"))"
   ]
  },
  {
   "cell_type": "code",
   "execution_count": 47,
   "metadata": {
    "vscode": {
     "languageId": "r"
    }
   },
   "outputs": [
    {
     "data": {
      "text/html": [
       "<table class=\"dataframe\">\n",
       "<caption>A rstatix_test: 6 × 9</caption>\n",
       "<thead>\n",
       "\t<tr><th scope=col>group1</th><th scope=col>group2</th><th scope=col>p.adj</th><th scope=col>posthoc</th><th scope=col>variable</th><th scope=col>p1</th><th scope=col>P1method</th><th scope=col>p.adj.signif</th><th scope=col>y.position</th></tr>\n",
       "\t<tr><th scope=col>&lt;chr&gt;</th><th scope=col>&lt;chr&gt;</th><th scope=col>&lt;dbl&gt;</th><th scope=col>&lt;chr&gt;</th><th scope=col>&lt;chr&gt;</th><th scope=col>&lt;dbl&gt;</th><th scope=col>&lt;chr&gt;</th><th scope=col>&lt;chr&gt;</th><th scope=col>&lt;dbl&gt;</th></tr>\n",
       "</thead>\n",
       "<tbody>\n",
       "\t<tr><td>SPFA  </td><td>SPDMSO </td><td>1.00000000</td><td>bonferroni</td><td>id</td><td>0.0273</td><td>K_W</td><td>ns</td><td>-Inf</td></tr>\n",
       "\t<tr><td>SPFA  </td><td>NSPFA  </td><td>0.32547302</td><td>bonferroni</td><td>id</td><td>0.0273</td><td>K_W</td><td>ns</td><td>-Inf</td></tr>\n",
       "\t<tr><td>SPFA  </td><td>NSPDMSO</td><td>0.01944501</td><td>bonferroni</td><td>id</td><td>0.0273</td><td>K_W</td><td>* </td><td>-Inf</td></tr>\n",
       "\t<tr><td>SPDMSO</td><td>NSPFA  </td><td>1.00000000</td><td>bonferroni</td><td>id</td><td>0.0273</td><td>K_W</td><td>ns</td><td>-Inf</td></tr>\n",
       "\t<tr><td>SPDMSO</td><td>NSPDMSO</td><td>0.53657615</td><td>bonferroni</td><td>id</td><td>0.0273</td><td>K_W</td><td>ns</td><td>-Inf</td></tr>\n",
       "\t<tr><td>NSPFA </td><td>NSPDMSO</td><td>1.00000000</td><td>bonferroni</td><td>id</td><td>0.0273</td><td>K_W</td><td>ns</td><td>-Inf</td></tr>\n",
       "</tbody>\n",
       "</table>\n"
      ],
      "text/latex": [
       "A rstatix\\_test: 6 × 9\n",
       "\\begin{tabular}{lllllllll}\n",
       " group1 & group2 & p.adj & posthoc & variable & p1 & P1method & p.adj.signif & y.position\\\\\n",
       " <chr> & <chr> & <dbl> & <chr> & <chr> & <dbl> & <chr> & <chr> & <dbl>\\\\\n",
       "\\hline\n",
       "\t SPFA   & SPDMSO  & 1.00000000 & bonferroni & id & 0.0273 & K\\_W & ns & -Inf\\\\\n",
       "\t SPFA   & NSPFA   & 0.32547302 & bonferroni & id & 0.0273 & K\\_W & ns & -Inf\\\\\n",
       "\t SPFA   & NSPDMSO & 0.01944501 & bonferroni & id & 0.0273 & K\\_W & *  & -Inf\\\\\n",
       "\t SPDMSO & NSPFA   & 1.00000000 & bonferroni & id & 0.0273 & K\\_W & ns & -Inf\\\\\n",
       "\t SPDMSO & NSPDMSO & 0.53657615 & bonferroni & id & 0.0273 & K\\_W & ns & -Inf\\\\\n",
       "\t NSPFA  & NSPDMSO & 1.00000000 & bonferroni & id & 0.0273 & K\\_W & ns & -Inf\\\\\n",
       "\\end{tabular}\n"
      ],
      "text/markdown": [
       "\n",
       "A rstatix_test: 6 × 9\n",
       "\n",
       "| group1 &lt;chr&gt; | group2 &lt;chr&gt; | p.adj &lt;dbl&gt; | posthoc &lt;chr&gt; | variable &lt;chr&gt; | p1 &lt;dbl&gt; | P1method &lt;chr&gt; | p.adj.signif &lt;chr&gt; | y.position &lt;dbl&gt; |\n",
       "|---|---|---|---|---|---|---|---|---|\n",
       "| SPFA   | SPDMSO  | 1.00000000 | bonferroni | id | 0.0273 | K_W | ns | -Inf |\n",
       "| SPFA   | NSPFA   | 0.32547302 | bonferroni | id | 0.0273 | K_W | ns | -Inf |\n",
       "| SPFA   | NSPDMSO | 0.01944501 | bonferroni | id | 0.0273 | K_W | *  | -Inf |\n",
       "| SPDMSO | NSPFA   | 1.00000000 | bonferroni | id | 0.0273 | K_W | ns | -Inf |\n",
       "| SPDMSO | NSPDMSO | 0.53657615 | bonferroni | id | 0.0273 | K_W | ns | -Inf |\n",
       "| NSPFA  | NSPDMSO | 1.00000000 | bonferroni | id | 0.0273 | K_W | ns | -Inf |\n",
       "\n"
      ],
      "text/plain": [
       "  group1 group2  p.adj      posthoc    variable p1     P1method p.adj.signif\n",
       "1 SPFA   SPDMSO  1.00000000 bonferroni id       0.0273 K_W      ns          \n",
       "2 SPFA   NSPFA   0.32547302 bonferroni id       0.0273 K_W      ns          \n",
       "3 SPFA   NSPDMSO 0.01944501 bonferroni id       0.0273 K_W      *           \n",
       "4 SPDMSO NSPFA   1.00000000 bonferroni id       0.0273 K_W      ns          \n",
       "5 SPDMSO NSPDMSO 0.53657615 bonferroni id       0.0273 K_W      ns          \n",
       "6 NSPFA  NSPDMSO 1.00000000 bonferroni id       0.0273 K_W      ns          \n",
       "  y.position\n",
       "1 -Inf      \n",
       "2 -Inf      \n",
       "3 -Inf      \n",
       "4 -Inf      \n",
       "5 -Inf      \n",
       "6 -Inf      "
      ]
     },
     "metadata": {},
     "output_type": "display_data"
    }
   ],
   "source": [
    "left_join(spfa,tes,by = c(\"group1\",\"group2\"))"
   ]
  },
  {
   "cell_type": "code",
   "execution_count": 50,
   "metadata": {
    "vscode": {
     "languageId": "r"
    }
   },
   "outputs": [
    {
     "data": {
      "text/html": [
       "<table class=\"dataframe\">\n",
       "<caption>A rstatix_test: 6 × 9</caption>\n",
       "<thead>\n",
       "\t<tr><th scope=col>group1</th><th scope=col>group2</th><th scope=col>p.adj</th><th scope=col>posthoc</th><th scope=col>variable</th><th scope=col>p1</th><th scope=col>P1method</th><th scope=col>p.adj.signif</th><th scope=col>y.position</th></tr>\n",
       "\t<tr><th scope=col>&lt;chr&gt;</th><th scope=col>&lt;chr&gt;</th><th scope=col>&lt;dbl&gt;</th><th scope=col>&lt;chr&gt;</th><th scope=col>&lt;chr&gt;</th><th scope=col>&lt;dbl&gt;</th><th scope=col>&lt;chr&gt;</th><th scope=col>&lt;chr&gt;</th><th scope=col>&lt;dbl&gt;</th></tr>\n",
       "</thead>\n",
       "<tbody>\n",
       "\t<tr><td>SPFA  </td><td>SPDMSO </td><td>1.00000000</td><td>bonferroni</td><td>id</td><td>0.0273</td><td>K_W</td><td>ns</td><td>12.75525</td></tr>\n",
       "\t<tr><td>SPFA  </td><td>NSPFA  </td><td>0.32547302</td><td>bonferroni</td><td>id</td><td>0.0273</td><td>K_W</td><td>ns</td><td>13.77567</td></tr>\n",
       "\t<tr><td>SPFA  </td><td>NSPDMSO</td><td>0.01944501</td><td>bonferroni</td><td>id</td><td>0.0273</td><td>K_W</td><td>* </td><td>14.87772</td></tr>\n",
       "\t<tr><td>SPDMSO</td><td>NSPFA  </td><td>1.00000000</td><td>bonferroni</td><td>id</td><td>0.0273</td><td>K_W</td><td>ns</td><td>16.06794</td></tr>\n",
       "\t<tr><td>SPDMSO</td><td>NSPDMSO</td><td>0.53657615</td><td>bonferroni</td><td>id</td><td>0.0273</td><td>K_W</td><td>ns</td><td>17.35338</td></tr>\n",
       "\t<tr><td>NSPFA </td><td>NSPDMSO</td><td>1.00000000</td><td>bonferroni</td><td>id</td><td>0.0273</td><td>K_W</td><td>ns</td><td>18.74165</td></tr>\n",
       "</tbody>\n",
       "</table>\n"
      ],
      "text/latex": [
       "A rstatix\\_test: 6 × 9\n",
       "\\begin{tabular}{lllllllll}\n",
       " group1 & group2 & p.adj & posthoc & variable & p1 & P1method & p.adj.signif & y.position\\\\\n",
       " <chr> & <chr> & <dbl> & <chr> & <chr> & <dbl> & <chr> & <chr> & <dbl>\\\\\n",
       "\\hline\n",
       "\t SPFA   & SPDMSO  & 1.00000000 & bonferroni & id & 0.0273 & K\\_W & ns & 12.75525\\\\\n",
       "\t SPFA   & NSPFA   & 0.32547302 & bonferroni & id & 0.0273 & K\\_W & ns & 13.77567\\\\\n",
       "\t SPFA   & NSPDMSO & 0.01944501 & bonferroni & id & 0.0273 & K\\_W & *  & 14.87772\\\\\n",
       "\t SPDMSO & NSPFA   & 1.00000000 & bonferroni & id & 0.0273 & K\\_W & ns & 16.06794\\\\\n",
       "\t SPDMSO & NSPDMSO & 0.53657615 & bonferroni & id & 0.0273 & K\\_W & ns & 17.35338\\\\\n",
       "\t NSPFA  & NSPDMSO & 1.00000000 & bonferroni & id & 0.0273 & K\\_W & ns & 18.74165\\\\\n",
       "\\end{tabular}\n"
      ],
      "text/markdown": [
       "\n",
       "A rstatix_test: 6 × 9\n",
       "\n",
       "| group1 &lt;chr&gt; | group2 &lt;chr&gt; | p.adj &lt;dbl&gt; | posthoc &lt;chr&gt; | variable &lt;chr&gt; | p1 &lt;dbl&gt; | P1method &lt;chr&gt; | p.adj.signif &lt;chr&gt; | y.position &lt;dbl&gt; |\n",
       "|---|---|---|---|---|---|---|---|---|\n",
       "| SPFA   | SPDMSO  | 1.00000000 | bonferroni | id | 0.0273 | K_W | ns | 12.75525 |\n",
       "| SPFA   | NSPFA   | 0.32547302 | bonferroni | id | 0.0273 | K_W | ns | 13.77567 |\n",
       "| SPFA   | NSPDMSO | 0.01944501 | bonferroni | id | 0.0273 | K_W | *  | 14.87772 |\n",
       "| SPDMSO | NSPFA   | 1.00000000 | bonferroni | id | 0.0273 | K_W | ns | 16.06794 |\n",
       "| SPDMSO | NSPDMSO | 0.53657615 | bonferroni | id | 0.0273 | K_W | ns | 17.35338 |\n",
       "| NSPFA  | NSPDMSO | 1.00000000 | bonferroni | id | 0.0273 | K_W | ns | 18.74165 |\n",
       "\n"
      ],
      "text/plain": [
       "  group1 group2  p.adj      posthoc    variable p1     P1method p.adj.signif\n",
       "1 SPFA   SPDMSO  1.00000000 bonferroni id       0.0273 K_W      ns          \n",
       "2 SPFA   NSPFA   0.32547302 bonferroni id       0.0273 K_W      ns          \n",
       "3 SPFA   NSPDMSO 0.01944501 bonferroni id       0.0273 K_W      *           \n",
       "4 SPDMSO NSPFA   1.00000000 bonferroni id       0.0273 K_W      ns          \n",
       "5 SPDMSO NSPDMSO 0.53657615 bonferroni id       0.0273 K_W      ns          \n",
       "6 NSPFA  NSPDMSO 1.00000000 bonferroni id       0.0273 K_W      ns          \n",
       "  y.position\n",
       "1 12.75525  \n",
       "2 13.77567  \n",
       "3 14.87772  \n",
       "4 16.06794  \n",
       "5 17.35338  \n",
       "6 18.74165  "
      ]
     },
     "metadata": {},
     "output_type": "display_data"
    }
   ],
   "source": [
    "stat.test2"
   ]
  },
  {
   "cell_type": "code",
   "execution_count": 11,
   "metadata": {
    "vscode": {
     "languageId": "r"
    }
   },
   "outputs": [
    {
     "name": "stderr",
     "output_type": "stream",
     "text": [
      "\u001b[1m\u001b[22mNew names:\n",
      "\u001b[36m•\u001b[39m `` -> `...2`\n"
     ]
    },
    {
     "name": "stdout",
     "output_type": "stream",
     "text": [
      "All groups have 3 or more samples. \n",
      "Normally distributed  \n",
      "Variance equal  \n",
      " Anova\n",
      "All groups have 3 or more samples. \n",
      "Normally distributed  \n",
      "Variance equal  \n",
      " Anova\n",
      "All groups have 3 or more samples. \n",
      "Normally distributed  \n",
      "Variance equal  \n",
      " Anova\n",
      "All groups have 3 or more samples. \n",
      "Normally distributed  \n",
      "Variance equal  \n",
      " Anova\n",
      "All groups have 3 or more samples. \n",
      "Normally distributed  \n",
      "Variance equal  \n",
      " Anova\n",
      "All groups have 3 or more samples. \n",
      "Normally distributed  \n",
      "Variance equal  \n",
      " Anova\n",
      "All groups have 3 or more samples. \n",
      "Normally distributed  \n",
      "Variance equal  \n",
      " Anova\n",
      "All groups have 3 or more samples. \n",
      "Normally distributed  \n",
      "Variance unequal  \n",
      "Kruskal-Wallis \n",
      "All groups have 3 or more samples. \n",
      "Non-normally distributed  \n",
      "Variance unequal  \n",
      "Kruskal-Wallis \n",
      "All groups have 3 or more samples. \n",
      "Normally distributed  \n",
      "Variance equal  \n",
      " Anova\n",
      "All groups have 3 or more samples. \n",
      "Non-normally distributed  \n",
      "Variance unequal  \n",
      "Kruskal-Wallis \n",
      "All groups have 3 or more samples. \n",
      "Normally distributed  \n",
      "Variance equal  \n",
      " Anova\n",
      "All groups have 3 or more samples. \n",
      "Normally distributed  \n",
      "Variance equal  \n",
      " Anova\n",
      "All groups have 3 or more samples. \n",
      "Non-normally distributed  \n",
      "Variance unequal  \n",
      "Kruskal-Wallis \n",
      "All groups have 3 or more samples. \n",
      "Normally distributed  \n",
      "Variance equal  \n",
      " Anova\n",
      "All groups have 3 or more samples. \n",
      "Normally distributed  \n",
      "Variance equal  \n",
      " Anova\n",
      "All groups have 3 or more samples. \n",
      "Non-normally distributed  \n",
      "Variance unequal  \n",
      "Kruskal-Wallis \n",
      "All groups have 3 or more samples. \n",
      "Non-normally distributed  \n",
      "Variance unequal  \n",
      "Kruskal-Wallis \n",
      "All groups have 3 or more samples. \n",
      "Normally distributed  \n",
      "Variance equal  \n",
      " Anova\n",
      "All groups have 3 or more samples. \n",
      "Normally distributed  \n",
      "Variance unequal  \n",
      "Kruskal-Wallis \n"
     ]
    }
   ],
   "source": [
    "CSC_CD133 <- read_excel(\"/Volumes/NGS/Myytcode/codeforytv/wilcoxontest-2.xlsx\", sheet = 15, skip = 1)\n",
    "\n",
    "CSC_CD133 <- CSC_CD133 %>%  mutate_at(vars(3:18), as.numeric)\n",
    "\n",
    "CSC_CD133 %>% dplyr::select(1,3:18) %>% \n",
    "  pivot_longer(cols = 2:17,\n",
    "               names_to = \"group\",\n",
    "               values_to = \"value\") %>% \n",
    "  mutate(group = gsub(\"\\\\d$\", \"\", group)) %>%\n",
    "  group_by(group)->CSC_CD133_long\n",
    "CSC_CD133_long <- as.data.frame(CSC_CD133_long)\n",
    "\n",
    "\n",
    "### loop\n",
    "\n",
    "unique_ids <- unique(CSC_CD133_long$variable)\n",
    "\n",
    "for (id in unique_ids){\n",
    "  # Subset data for the current ID\n",
    "  # id_data <- cc_spfa1_long[cc_spfa1_long$variable == id, ]\n",
    "  stat3(data = CSC_CD133_long ,group = \"group\",value = \"value\",\n",
    "        variable = \"variable\", id = id,\n",
    "        formula = value~group)\n",
    "  stat_result <- stat3result[[\"stat\"]]\n",
    "  \n",
    "  tes <-  stat_result[,c(1,2)]\n",
    "  ##select all the data of the dataframe\n",
    "  tt <- CSC_CD133_long %>% filter(variable == id )\n",
    "  ##set a new NA column for y position \n",
    "  tes$y.position <- NA\n",
    "  tes$y.position[1] <-max(tt$value)*1.12\n",
    "  #set the first y position\n",
    "  #use a for loop to set the rest y position \n",
    "  for (e in 1:(length(tes$group2)-1)) {\n",
    "    tes$y.position[e + 1] <- tes$y.position[e] * 1.08\n",
    "  }\n",
    "  \n",
    "  stat.test2 <- left_join(stat_result, tes, by = c(\"group1\",\" group 2\"))\n",
    "  \n",
    "  \n",
    "  p = ggbarplot(tt, x = \"group\", y = \"value\",\n",
    "            add = c(\"mean_se\"),  # Combine add arguments into a single vector\n",
    "            color = \"group\",\n",
    "            palette = c(\"#FF0000\",\"#000099\",\"#FF0000\",\"#000099\"))+\n",
    "            labs(title = (paste0( id)),\n",
    "            y = \"Signal Instenstiy (log2)\")+\n",
    "    theme_classic() + \n",
    "    theme(plot.title = element_text(hjust = 0.5, size = (20)), \n",
    "      strip.text.y = element_text(size = 15),\n",
    "      legend.position =\"right\",\n",
    "      legend.title = element_text(size = 18),\n",
    "      legend.text = element_text(size = 14),\n",
    "      axis.text.x = element_text(size = 14),\n",
    "      axis.text.y = element_text(size = 18),\n",
    "      axis.title.x = element_text(size = 14),\n",
    "      axis.title.y = element_text(size = 14))+\n",
    "    stat_pvalue_manual(stat.test2,label = \"p.adj.signif\", hide.ns = TRUE)\n",
    "  \n",
    "  ggsave(p, \n",
    "  file = paste0(\"CSCMarkers/CSC_CD133/\", id, \" .tiff\"),\n",
    "  units = \"in\", \n",
    "  width = 5, \n",
    "  height = 4, \n",
    "  dpi = 200, \n",
    "  compression = 'lzw')\n",
    "  \n",
    "}"
   ]
  }
 ],
 "metadata": {
  "kernelspec": {
   "display_name": "R",
   "language": "R",
   "name": "ir"
  },
  "language_info": {
   "codemirror_mode": "r",
   "file_extension": ".r",
   "mimetype": "text/x-r-source",
   "name": "R",
   "pygments_lexer": "r",
   "version": "4.2.3"
  }
 },
 "nbformat": 4,
 "nbformat_minor": 2
}
