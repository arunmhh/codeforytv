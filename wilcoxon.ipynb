{
 "cells": [
  {
   "cell_type": "markdown",
   "metadata": {},
   "source": [
    "##### Wilcoxon signed Rank test for paired, non-parametric and dependent samples. #####\n",
    "##### H0  = There is no difference in the median of population #####\n",
    "##### Ha = There is difference in the median of population #####\n",
    "##### Alpha = 0.05 #####\n",
    "##### two.sided #####\n"
   ]
  },
  {
   "cell_type": "code",
   "execution_count": 1,
   "metadata": {
    "vscode": {
     "languageId": "r"
    }
   },
   "outputs": [
    {
     "name": "stderr",
     "output_type": "stream",
     "text": [
      "-- \u001b[1mAttaching core tidyverse packages\u001b[22m ------------------------ tidyverse 2.0.0 --\n",
      "\u001b[32mv\u001b[39m \u001b[34mdplyr    \u001b[39m 1.1.4     \u001b[32mv\u001b[39m \u001b[34mreadr    \u001b[39m 2.1.5\n",
      "\u001b[32mv\u001b[39m \u001b[34mforcats  \u001b[39m 1.0.0     \u001b[32mv\u001b[39m \u001b[34mstringr  \u001b[39m 1.5.1\n",
      "\u001b[32mv\u001b[39m \u001b[34mggplot2  \u001b[39m 3.5.1     \u001b[32mv\u001b[39m \u001b[34mtibble   \u001b[39m 3.2.1\n",
      "\u001b[32mv\u001b[39m \u001b[34mlubridate\u001b[39m 1.9.3     \u001b[32mv\u001b[39m \u001b[34mtidyr    \u001b[39m 1.3.1\n",
      "\u001b[32mv\u001b[39m \u001b[34mpurrr    \u001b[39m 1.0.2     \n",
      "-- \u001b[1mConflicts\u001b[22m ------------------------------------------ tidyverse_conflicts() --\n",
      "\u001b[31mx\u001b[39m \u001b[34mdplyr\u001b[39m::\u001b[32mfilter()\u001b[39m masks \u001b[34mstats\u001b[39m::filter()\n",
      "\u001b[31mx\u001b[39m \u001b[34mdplyr\u001b[39m::\u001b[32mlag()\u001b[39m    masks \u001b[34mstats\u001b[39m::lag()\n",
      "\u001b[36mi\u001b[39m Use the conflicted package (\u001b[3m\u001b[34m<http://conflicted.r-lib.org/>\u001b[39m\u001b[23m) to force all conflicts to become errors\n",
      "Registered S3 methods overwritten by 'dlookr':\n",
      "  method          from  \n",
      "  plot.transform  scales\n",
      "  print.transform scales\n",
      "\n",
      "\n",
      "Attache Paket: 'dlookr'\n",
      "\n",
      "\n",
      "Das folgende Objekt ist maskiert 'package:tidyr':\n",
      "\n",
      "    extract\n",
      "\n",
      "\n",
      "Das folgende Objekt ist maskiert 'package:base':\n",
      "\n",
      "    transform\n",
      "\n",
      "\n"
     ]
    }
   ],
   "source": [
    "library(tidyverse)\n",
    "library(readxl)\n",
    "library(dplyr)\n",
    "library(dlookr)"
   ]
  },
  {
   "cell_type": "code",
   "execution_count": 3,
   "metadata": {
    "vscode": {
     "languageId": "r"
    }
   },
   "outputs": [],
   "source": [
    "bloodpressure = read_xlsx(\"/Volumes/NGS/Myytcode/codeforytv/wilcoxontest-1.xlsx\",sheet = 2)"
   ]
  },
  {
   "cell_type": "code",
   "execution_count": 4,
   "metadata": {
    "vscode": {
     "languageId": "r"
    }
   },
   "outputs": [
    {
     "data": {
      "text/html": [
       "<table class=\"dataframe\">\n",
       "<caption>A tibble: 25 x 3</caption>\n",
       "<thead>\n",
       "\t<tr><th scope=col>Subject</th><th scope=col>Before</th><th scope=col>After</th></tr>\n",
       "\t<tr><th scope=col>&lt;dbl&gt;</th><th scope=col>&lt;dbl&gt;</th><th scope=col>&lt;dbl&gt;</th></tr>\n",
       "</thead>\n",
       "<tbody>\n",
       "\t<tr><td> 1</td><td>135</td><td>114</td></tr>\n",
       "\t<tr><td> 2</td><td>142</td><td>118</td></tr>\n",
       "\t<tr><td> 3</td><td>137</td><td>111</td></tr>\n",
       "\t<tr><td> 4</td><td>122</td><td>132</td></tr>\n",
       "\t<tr><td> 5</td><td>147</td><td>121</td></tr>\n",
       "\t<tr><td> 6</td><td>151</td><td>130</td></tr>\n",
       "\t<tr><td> 7</td><td>131</td><td>115</td></tr>\n",
       "\t<tr><td> 8</td><td>117</td><td>111</td></tr>\n",
       "\t<tr><td> 9</td><td>154</td><td>129</td></tr>\n",
       "\t<tr><td>10</td><td>143</td><td>122</td></tr>\n",
       "\t<tr><td>11</td><td>133</td><td>131</td></tr>\n",
       "\t<tr><td>12</td><td>125</td><td>110</td></tr>\n",
       "\t<tr><td>13</td><td>154</td><td>127</td></tr>\n",
       "\t<tr><td>14</td><td>156</td><td>133</td></tr>\n",
       "\t<tr><td>15</td><td>132</td><td>114</td></tr>\n",
       "\t<tr><td>16</td><td>125</td><td>115</td></tr>\n",
       "\t<tr><td>17</td><td>136</td><td>134</td></tr>\n",
       "\t<tr><td>18</td><td>141</td><td>133</td></tr>\n",
       "\t<tr><td>19</td><td>129</td><td>135</td></tr>\n",
       "\t<tr><td>20</td><td>148</td><td>121</td></tr>\n",
       "\t<tr><td>21</td><td>136</td><td>132</td></tr>\n",
       "\t<tr><td>22</td><td>120</td><td>125</td></tr>\n",
       "\t<tr><td>23</td><td>147</td><td>121</td></tr>\n",
       "\t<tr><td>24</td><td>138</td><td>112</td></tr>\n",
       "\t<tr><td>25</td><td>158</td><td>124</td></tr>\n",
       "</tbody>\n",
       "</table>\n"
      ],
      "text/latex": [
       "A tibble: 25 x 3\n",
       "\\begin{tabular}{lll}\n",
       " Subject & Before & After\\\\\n",
       " <dbl> & <dbl> & <dbl>\\\\\n",
       "\\hline\n",
       "\t  1 & 135 & 114\\\\\n",
       "\t  2 & 142 & 118\\\\\n",
       "\t  3 & 137 & 111\\\\\n",
       "\t  4 & 122 & 132\\\\\n",
       "\t  5 & 147 & 121\\\\\n",
       "\t  6 & 151 & 130\\\\\n",
       "\t  7 & 131 & 115\\\\\n",
       "\t  8 & 117 & 111\\\\\n",
       "\t  9 & 154 & 129\\\\\n",
       "\t 10 & 143 & 122\\\\\n",
       "\t 11 & 133 & 131\\\\\n",
       "\t 12 & 125 & 110\\\\\n",
       "\t 13 & 154 & 127\\\\\n",
       "\t 14 & 156 & 133\\\\\n",
       "\t 15 & 132 & 114\\\\\n",
       "\t 16 & 125 & 115\\\\\n",
       "\t 17 & 136 & 134\\\\\n",
       "\t 18 & 141 & 133\\\\\n",
       "\t 19 & 129 & 135\\\\\n",
       "\t 20 & 148 & 121\\\\\n",
       "\t 21 & 136 & 132\\\\\n",
       "\t 22 & 120 & 125\\\\\n",
       "\t 23 & 147 & 121\\\\\n",
       "\t 24 & 138 & 112\\\\\n",
       "\t 25 & 158 & 124\\\\\n",
       "\\end{tabular}\n"
      ],
      "text/markdown": [
       "\n",
       "A tibble: 25 x 3\n",
       "\n",
       "| Subject &lt;dbl&gt; | Before &lt;dbl&gt; | After &lt;dbl&gt; |\n",
       "|---|---|---|\n",
       "|  1 | 135 | 114 |\n",
       "|  2 | 142 | 118 |\n",
       "|  3 | 137 | 111 |\n",
       "|  4 | 122 | 132 |\n",
       "|  5 | 147 | 121 |\n",
       "|  6 | 151 | 130 |\n",
       "|  7 | 131 | 115 |\n",
       "|  8 | 117 | 111 |\n",
       "|  9 | 154 | 129 |\n",
       "| 10 | 143 | 122 |\n",
       "| 11 | 133 | 131 |\n",
       "| 12 | 125 | 110 |\n",
       "| 13 | 154 | 127 |\n",
       "| 14 | 156 | 133 |\n",
       "| 15 | 132 | 114 |\n",
       "| 16 | 125 | 115 |\n",
       "| 17 | 136 | 134 |\n",
       "| 18 | 141 | 133 |\n",
       "| 19 | 129 | 135 |\n",
       "| 20 | 148 | 121 |\n",
       "| 21 | 136 | 132 |\n",
       "| 22 | 120 | 125 |\n",
       "| 23 | 147 | 121 |\n",
       "| 24 | 138 | 112 |\n",
       "| 25 | 158 | 124 |\n",
       "\n"
      ],
      "text/plain": [
       "   Subject Before After\n",
       "1   1      135    114  \n",
       "2   2      142    118  \n",
       "3   3      137    111  \n",
       "4   4      122    132  \n",
       "5   5      147    121  \n",
       "6   6      151    130  \n",
       "7   7      131    115  \n",
       "8   8      117    111  \n",
       "9   9      154    129  \n",
       "10 10      143    122  \n",
       "11 11      133    131  \n",
       "12 12      125    110  \n",
       "13 13      154    127  \n",
       "14 14      156    133  \n",
       "15 15      132    114  \n",
       "16 16      125    115  \n",
       "17 17      136    134  \n",
       "18 18      141    133  \n",
       "19 19      129    135  \n",
       "20 20      148    121  \n",
       "21 21      136    132  \n",
       "22 22      120    125  \n",
       "23 23      147    121  \n",
       "24 24      138    112  \n",
       "25 25      158    124  "
      ]
     },
     "metadata": {},
     "output_type": "display_data"
    }
   ],
   "source": [
    "bloodpressure"
   ]
  },
  {
   "cell_type": "code",
   "execution_count": 5,
   "metadata": {
    "vscode": {
     "languageId": "r"
    }
   },
   "outputs": [
    {
     "data": {
      "text/plain": [
       "\n",
       "\tShapiro-Wilk normality test\n",
       "\n",
       "data:  bloodpressure$Before\n",
       "W = 0.97179, p-value = 0.6906\n"
      ]
     },
     "metadata": {},
     "output_type": "display_data"
    },
    {
     "data": {
      "text/plain": [
       "\n",
       "\tShapiro-Wilk normality test\n",
       "\n",
       "data:  bloodpressure$After\n",
       "W = 0.91648, p-value = 0.04263\n"
      ]
     },
     "metadata": {},
     "output_type": "display_data"
    }
   ],
   "source": [
    "shapiro.test(bloodpressure$Before)\n",
    "shapiro.test(bloodpressure$After)"
   ]
  },
  {
   "cell_type": "code",
   "execution_count": 8,
   "metadata": {
    "vscode": {
     "languageId": "r"
    }
   },
   "outputs": [
    {
     "data": {
      "text/plain": [
       "\n",
       "\tWilcoxon signed rank test\n",
       "\n",
       "data:  bloodpressure$Before and bloodpressure$After\n",
       "V = 307, p-value = 9.974e-05\n",
       "alternative hypothesis: true location shift is not equal to 0\n",
       "95 percent confidence interval:\n",
       " 10.00003 22.00004\n",
       "sample estimates:\n",
       "(pseudo)median \n",
       "      15.99997 \n"
      ]
     },
     "metadata": {},
     "output_type": "display_data"
    }
   ],
   "source": [
    "wilcox.test(bloodpressure$Before,bloodpressure$After,paired = TRUE, mu = 0, \n",
    "alternative = \"two.sided\",exact = FALSE,correct = FALSE, conf.int = TRUE)\n"
   ]
  },
  {
   "cell_type": "code",
   "execution_count": 73,
   "metadata": {
    "vscode": {
     "languageId": "r"
    }
   },
   "outputs": [
    {
     "ename": "ERROR",
     "evalue": "Error in library(performanceanalytics): es gibt kein Paket namens 'performanceanalytics'\n",
     "output_type": "error",
     "traceback": [
      "Error in library(performanceanalytics): es gibt kein Paket namens 'performanceanalytics'\nTraceback:\n",
      "1. library(performanceanalytics)"
     ]
    }
   ],
   "source": [
    "library(GGally)\n",
    "library(ggstatsplot)\n",
    "library(performanceanalytics)\n",
    "library(gtsummary)"
   ]
  },
  {
   "cell_type": "code",
   "execution_count": 76,
   "metadata": {
    "vscode": {
     "languageId": "r"
    }
   },
   "outputs": [
    {
     "name": "stderr",
     "output_type": "stream",
     "text": [
      "Warning message:\n",
      "\"package 'performanceanalytics ' is not available for this version of R\n",
      "\n",
      "A version of this package for your version of R might be available elsewhere,\n",
      "see the ideas at\n",
      "https://cran.r-project.org/doc/manuals/r-patched/R-admin.html#Installing-packages\"\n"
     ]
    }
   ],
   "source": [
    "install.packages(\"performanceanalytics \")"
   ]
  }
 ],
 "metadata": {
  "kernelspec": {
   "display_name": "R",
   "language": "R",
   "name": "ir"
  },
  "language_info": {
   "codemirror_mode": "r",
   "file_extension": ".r",
   "mimetype": "text/x-r-source",
   "name": "R",
   "pygments_lexer": "r",
   "version": "4.3.3"
  }
 },
 "nbformat": 4,
 "nbformat_minor": 2
}
