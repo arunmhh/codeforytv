{
 "cells": [
  {
   "cell_type": "code",
   "execution_count": 8,
   "id": "642944bc",
   "metadata": {},
   "outputs": [],
   "source": [
    "import GEOparse\n",
    "import pandas as pd"
   ]
  },
  {
   "cell_type": "code",
   "execution_count": null,
   "id": "18aef828",
   "metadata": {},
   "outputs": [],
   "source": [
    "# Load GEO Series\n",
    "gse = GEOparse.get_GEO(geo=\"GSE183947\", destdir=\"GEO\")"
   ]
  },
  {
   "cell_type": "code",
   "execution_count": 5,
   "id": "4e9e97db",
   "metadata": {},
   "outputs": [
    {
     "name": "stdout",
     "output_type": "stream",
     "text": [
      "{'title': ['Identification of five cytotoxicity-related genes involved in the progression of breast cancer'], 'geo_accession': ['GSE183947'], 'status': ['Public on Sep 15 2021'], 'submission_date': ['Sep 11 2021'], 'last_update_date': ['Jan 31 2022'], 'pubmed_id': ['35046993'], 'summary': ['Breast cancer is one of the deadly tumors in women, and its incidence continues to increase. This study aimed to identify novel therapeutic molecules using RNA sequencing (RNAseq) data of breast cancer from our hospitals.'], 'overall_design': ['30 pairs of normal and cancerous tissues from the same excision were collected from the Affiliated Cancer Hospital of Guangzhou Medical University, the Affiliated Cancer Hospital of Sun Yat-sen University and Guangzhou Army General Hospital. RNA sequencing was performed by Guangzhou Huayin Health medical Group. Original reads of RNA sequencing data were normalized as FPKM data.'], 'type': ['Expression profiling by high throughput sequencing'], 'contributor': ['Yan,,Zhang', 'Xu,X,Wei', 'Wei,K,Yang', 'Hong,,Shen'], 'sample_id': ['GSM5574685', 'GSM5574686', 'GSM5574687', 'GSM5574688', 'GSM5574689', 'GSM5574690', 'GSM5574691', 'GSM5574692', 'GSM5574693', 'GSM5574694', 'GSM5574695', 'GSM5574696', 'GSM5574697', 'GSM5574698', 'GSM5574699', 'GSM5574700', 'GSM5574701', 'GSM5574702', 'GSM5574703', 'GSM5574704', 'GSM5574705', 'GSM5574706', 'GSM5574707', 'GSM5574708', 'GSM5574709', 'GSM5574710', 'GSM5574711', 'GSM5574712', 'GSM5574713', 'GSM5574714', 'GSM5574715', 'GSM5574716', 'GSM5574717', 'GSM5574718', 'GSM5574719', 'GSM5574720', 'GSM5574721', 'GSM5574722', 'GSM5574723', 'GSM5574724', 'GSM5574725', 'GSM5574726', 'GSM5574727', 'GSM5574728', 'GSM5574729', 'GSM5574730', 'GSM5574731', 'GSM5574732', 'GSM5574733', 'GSM5574734', 'GSM5574735', 'GSM5574736', 'GSM5574737', 'GSM5574738', 'GSM5574739', 'GSM5574740', 'GSM5574741', 'GSM5574742', 'GSM5574743', 'GSM5574744'], 'contact_name': ['Jianhua,,Xu'], 'contact_institute': ['Department of Laboratory Medicine Shunde Hospital of Guangzhou University of Chinese Medicine'], 'contact_address': ['No. 12, Jinsha Avenue, Shunde District, Foshan, Guangdong, P.R. China'], 'contact_city': ['Fushan'], 'contact_state': ['Guangdong'], 'contact_zip/postal_code': ['528300'], 'contact_country': ['China'], 'supplementary_file': ['ftp://ftp.ncbi.nlm.nih.gov/geo/series/GSE183nnn/GSE183947/suppl/GSE183947_fpkm.csv.gz'], 'platform_id': ['GPL11154'], 'platform_taxid': ['9606'], 'sample_taxid': ['9606'], 'relation': ['BioProject: https://www.ncbi.nlm.nih.gov/bioproject/PRJNA762469', 'SRA: https://www.ncbi.nlm.nih.gov/sra?term=SRP336638']}\n"
     ]
    }
   ],
   "source": [
    "# Explore metadata\n",
    "print(gse.metadata)"
   ]
  },
  {
   "cell_type": "code",
   "execution_count": null,
   "id": "7cedcb4f",
   "metadata": {},
   "outputs": [],
   "source": [
    "# Access sample data\n",
    "for gsm_name, gsm in gse.gsms.items():\n",
    "    print(gsm.metadata)"
   ]
  },
  {
   "cell_type": "code",
   "execution_count": 13,
   "id": "d8e6a0ce",
   "metadata": {},
   "outputs": [
    {
     "name": "stdout",
     "output_type": "stream",
     "text": [
      "60\n",
      "dict_keys(['title', 'geo_accession', 'status', 'submission_date', 'last_update_date', 'pubmed_id', 'summary', 'overall_design', 'type', 'contributor', 'sample_id', 'contact_name', 'contact_institute', 'contact_address', 'contact_city', 'contact_state', 'contact_zip/postal_code', 'contact_country', 'supplementary_file', 'platform_id', 'platform_taxid', 'sample_taxid', 'relation'])\n",
      "['ftp://ftp.ncbi.nlm.nih.gov/geo/series/GSE183nnn/GSE183947/suppl/GSE183947_fpkm.csv.gz']\n"
     ]
    }
   ],
   "source": [
    "print(len(gse.gsms))  # should be 60\n",
    "print(gse.metadata.keys())\n",
    "print(gse.metadata.get(\"supplementary_file\"))\n"
   ]
  },
  {
   "cell_type": "code",
   "execution_count": 55,
   "id": "33d5e306",
   "metadata": {},
   "outputs": [
    {
     "name": "stdout",
     "output_type": "stream",
     "text": [
      "✅ Expression data loaded successfully!\n",
      "Shape: (20246, 60)\n",
      "          CA.102548  CA.104338  CA.105094  CA.109745  CA.1906415  CA.1912627  \\\n",
      "TSPAN6         0.93       1.97       0.00       5.45        4.52        4.75   \n",
      "TNMD           0.00       0.00       0.00       0.00        0.00        0.00   \n",
      "DPM1           0.00       0.43       0.00       3.43        8.45        8.53   \n",
      "SCYL3          5.78       5.17       8.76       4.58        7.20        6.03   \n",
      "C1orf112       2.83       6.26       3.37       6.24        5.16       13.69   \n",
      "\n",
      "          CA.1924346  CA.1926760  CA.1927842  CA.1933414  ...  CAP.2040686  \\\n",
      "TSPAN6          3.96        3.58        6.41       11.89  ...         6.66   \n",
      "TNMD            0.00        0.23        0.39        0.44  ...         0.12   \n",
      "DPM1            7.80        7.62        6.40        6.09  ...         4.93   \n",
      "SCYL3           9.05        5.37        5.92       12.45  ...         8.02   \n",
      "C1orf112        6.69        5.28        7.65       13.71  ...         7.91   \n",
      "\n",
      "          CAP.2046297  CAP.2046641  CAP.348981  CAP.354300  CAP.359448  \\\n",
      "TSPAN6           8.35         8.94        6.33        5.94        6.35   \n",
      "TNMD             0.17         1.08        0.29        0.00        0.07   \n",
      "DPM1             7.47         5.72        4.96        9.28        9.15   \n",
      "SCYL3            6.00         5.28        4.98        4.45        7.00   \n",
      "C1orf112         4.61         8.35        9.84        7.68        5.62   \n",
      "\n",
      "          CAP.94377  CAP.98389  CAP.98475  CAP.99145  \n",
      "TSPAN6         3.74       4.84      10.46       4.54  \n",
      "TNMD           9.19       1.18       0.09       0.39  \n",
      "DPM1           4.77       3.75       7.31       2.77  \n",
      "SCYL3          4.14       5.51       7.45       2.33  \n",
      "C1orf112       2.81       7.08       7.28       5.39  \n",
      "\n",
      "[5 rows x 60 columns]\n"
     ]
    }
   ],
   "source": [
    "import pandas as pd\n",
    "import requests\n",
    "import gzip\n",
    "from io import BytesIO\n",
    "\n",
    "# Correct URL from metadata\n",
    "url = \"https://ftp.ncbi.nlm.nih.gov/geo/series/GSE183nnn/GSE183947/suppl/GSE183947_fpkm.csv.gz\"\n",
    "\n",
    "# Download and decompress\n",
    "r = requests.get(url)\n",
    "\n",
    "# Load gzipped CSV\n",
    "df = pd.read_csv(BytesIO(gzip.decompress(r.content)), index_col=0)\n",
    "\n",
    "print(\"✅ Expression data loaded successfully!\")\n",
    "print(\"Shape:\", df.shape)\n",
    "print(df.head())\n"
   ]
  },
  {
   "cell_type": "code",
   "execution_count": 59,
   "id": "300779b1",
   "metadata": {},
   "outputs": [
    {
     "name": "stderr",
     "output_type": "stream",
     "text": [
      "07-Oct-2025 11:46:40 DEBUG utils - Directory ./data already exists. Skipping.\n",
      "07-Oct-2025 11:46:40 INFO GEOparse - File already exist: using local version.\n",
      "07-Oct-2025 11:46:40 INFO GEOparse - Parsing ./data/GSE183947_family.soft.gz: \n",
      "07-Oct-2025 11:46:40 DEBUG GEOparse - DATABASE: GeoMiame\n",
      "07-Oct-2025 11:46:40 DEBUG GEOparse - SERIES: GSE183947\n",
      "07-Oct-2025 11:46:40 DEBUG GEOparse - PLATFORM: GPL11154\n",
      "07-Oct-2025 11:46:40 DEBUG GEOparse - SAMPLE: GSM5574685\n",
      "07-Oct-2025 11:46:40 DEBUG GEOparse - SAMPLE: GSM5574686\n",
      "07-Oct-2025 11:46:40 DEBUG GEOparse - SAMPLE: GSM5574687\n",
      "07-Oct-2025 11:46:40 DEBUG GEOparse - SAMPLE: GSM5574688\n",
      "07-Oct-2025 11:46:40 DEBUG GEOparse - SAMPLE: GSM5574689\n",
      "07-Oct-2025 11:46:40 DEBUG GEOparse - SAMPLE: GSM5574690\n",
      "07-Oct-2025 11:46:40 DEBUG GEOparse - SAMPLE: GSM5574691\n",
      "07-Oct-2025 11:46:40 DEBUG GEOparse - SAMPLE: GSM5574692\n",
      "07-Oct-2025 11:46:40 DEBUG GEOparse - SAMPLE: GSM5574693\n",
      "07-Oct-2025 11:46:40 DEBUG GEOparse - SAMPLE: GSM5574694\n",
      "07-Oct-2025 11:46:40 DEBUG GEOparse - SAMPLE: GSM5574695\n",
      "07-Oct-2025 11:46:40 DEBUG GEOparse - SAMPLE: GSM5574696\n",
      "07-Oct-2025 11:46:40 DEBUG GEOparse - SAMPLE: GSM5574697\n",
      "07-Oct-2025 11:46:40 DEBUG GEOparse - SAMPLE: GSM5574698\n",
      "07-Oct-2025 11:46:40 DEBUG GEOparse - SAMPLE: GSM5574699\n",
      "07-Oct-2025 11:46:40 DEBUG GEOparse - SAMPLE: GSM5574700\n",
      "07-Oct-2025 11:46:40 DEBUG GEOparse - SAMPLE: GSM5574701\n",
      "07-Oct-2025 11:46:40 DEBUG GEOparse - SAMPLE: GSM5574702\n",
      "07-Oct-2025 11:46:40 DEBUG GEOparse - SAMPLE: GSM5574703\n",
      "07-Oct-2025 11:46:40 DEBUG GEOparse - SAMPLE: GSM5574704\n",
      "07-Oct-2025 11:46:40 DEBUG GEOparse - SAMPLE: GSM5574705\n",
      "07-Oct-2025 11:46:40 DEBUG GEOparse - SAMPLE: GSM5574706\n",
      "07-Oct-2025 11:46:40 DEBUG GEOparse - SAMPLE: GSM5574707\n",
      "07-Oct-2025 11:46:40 DEBUG GEOparse - SAMPLE: GSM5574708\n",
      "07-Oct-2025 11:46:40 DEBUG GEOparse - SAMPLE: GSM5574709\n",
      "07-Oct-2025 11:46:40 DEBUG GEOparse - SAMPLE: GSM5574710\n",
      "07-Oct-2025 11:46:40 DEBUG GEOparse - SAMPLE: GSM5574711\n",
      "07-Oct-2025 11:46:40 DEBUG GEOparse - SAMPLE: GSM5574712\n",
      "07-Oct-2025 11:46:40 DEBUG GEOparse - SAMPLE: GSM5574713\n",
      "07-Oct-2025 11:46:40 DEBUG GEOparse - SAMPLE: GSM5574714\n",
      "07-Oct-2025 11:46:40 DEBUG GEOparse - SAMPLE: GSM5574715\n",
      "07-Oct-2025 11:46:40 DEBUG GEOparse - SAMPLE: GSM5574716\n",
      "07-Oct-2025 11:46:40 DEBUG GEOparse - SAMPLE: GSM5574717\n",
      "07-Oct-2025 11:46:40 DEBUG GEOparse - SAMPLE: GSM5574718\n",
      "07-Oct-2025 11:46:40 DEBUG GEOparse - SAMPLE: GSM5574719\n",
      "07-Oct-2025 11:46:40 DEBUG GEOparse - SAMPLE: GSM5574720\n",
      "07-Oct-2025 11:46:40 DEBUG GEOparse - SAMPLE: GSM5574721\n",
      "07-Oct-2025 11:46:40 DEBUG GEOparse - SAMPLE: GSM5574722\n",
      "07-Oct-2025 11:46:40 DEBUG GEOparse - SAMPLE: GSM5574723\n",
      "07-Oct-2025 11:46:40 DEBUG GEOparse - SAMPLE: GSM5574724\n",
      "07-Oct-2025 11:46:40 DEBUG GEOparse - SAMPLE: GSM5574725\n",
      "07-Oct-2025 11:46:40 DEBUG GEOparse - SAMPLE: GSM5574726\n",
      "07-Oct-2025 11:46:40 DEBUG GEOparse - SAMPLE: GSM5574727\n",
      "07-Oct-2025 11:46:40 DEBUG GEOparse - SAMPLE: GSM5574728\n",
      "07-Oct-2025 11:46:40 DEBUG GEOparse - SAMPLE: GSM5574729\n",
      "07-Oct-2025 11:46:40 DEBUG GEOparse - SAMPLE: GSM5574730\n",
      "07-Oct-2025 11:46:40 DEBUG GEOparse - SAMPLE: GSM5574731\n",
      "07-Oct-2025 11:46:40 DEBUG GEOparse - SAMPLE: GSM5574732\n",
      "07-Oct-2025 11:46:40 DEBUG GEOparse - SAMPLE: GSM5574733\n",
      "07-Oct-2025 11:46:40 DEBUG GEOparse - SAMPLE: GSM5574734\n",
      "07-Oct-2025 11:46:40 DEBUG GEOparse - SAMPLE: GSM5574735\n",
      "07-Oct-2025 11:46:40 DEBUG GEOparse - SAMPLE: GSM5574736\n",
      "07-Oct-2025 11:46:40 DEBUG GEOparse - SAMPLE: GSM5574737\n",
      "07-Oct-2025 11:46:40 DEBUG GEOparse - SAMPLE: GSM5574738\n",
      "07-Oct-2025 11:46:40 DEBUG GEOparse - SAMPLE: GSM5574739\n",
      "07-Oct-2025 11:46:40 DEBUG GEOparse - SAMPLE: GSM5574740\n",
      "07-Oct-2025 11:46:40 DEBUG GEOparse - SAMPLE: GSM5574741\n",
      "07-Oct-2025 11:46:40 DEBUG GEOparse - SAMPLE: GSM5574742\n",
      "07-Oct-2025 11:46:40 DEBUG GEOparse - SAMPLE: GSM5574743\n",
      "07-Oct-2025 11:46:40 DEBUG GEOparse - SAMPLE: GSM5574744\n"
     ]
    },
    {
     "name": "stdout",
     "output_type": "stream",
     "text": [
      "Pheno shape: (60, 2)\n",
      "          gsm        title\n",
      "0  GSM5574685   tumor rep1\n",
      "1  GSM5574686   tumor rep2\n",
      "2  GSM5574687   tumor rep3\n",
      "3  GSM5574688   tumor rep4\n",
      "4  GSM5574689   tumor rep5\n",
      "5  GSM5574690   tumor rep6\n",
      "6  GSM5574691   tumor rep7\n",
      "7  GSM5574692   tumor rep8\n",
      "8  GSM5574693   tumor rep9\n",
      "9  GSM5574694  tumor rep10\n"
     ]
    }
   ],
   "source": [
    "import GEOparse\n",
    "import pandas as pd\n",
    "\n",
    "# Load GEO metadata\n",
    "gse = GEOparse.get_GEO(\"GSE183947\", destdir=\"./data\")\n",
    "\n",
    "meta = []\n",
    "\n",
    "for gsm_name, gsm in gse.gsms.items():\n",
    "    title = gsm.metadata.get(\"title\", [\"\"])[0]  # sample title\n",
    "    meta.append({\n",
    "        \"gsm\": gsm_name,\n",
    "        \"title\": title\n",
    "    })\n",
    "\n",
    "# Create DataFrame\n",
    "pheno = pd.DataFrame(meta)\n",
    "print(\"Pheno shape:\", pheno.shape)\n",
    "print(pheno.head(10))\n",
    "\n"
   ]
  },
  {
   "cell_type": "code",
   "execution_count": 62,
   "id": "8ca672d2",
   "metadata": {},
   "outputs": [
    {
     "name": "stdout",
     "output_type": "stream",
     "text": [
      "Index(['CA.102548', 'CA.104338', 'CA.105094', 'CA.109745', 'CA.1906415',\n",
      "       'CA.1912627', 'CA.1924346', 'CA.1926760', 'CA.1927842', 'CA.1933414'],\n",
      "      dtype='object')\n",
      "Index(['gsm', 'title'], dtype='object')\n",
      "          gsm       title\n",
      "0  GSM5574685  tumor rep1\n",
      "1  GSM5574686  tumor rep2\n",
      "2  GSM5574687  tumor rep3\n",
      "3  GSM5574688  tumor rep4\n",
      "4  GSM5574689  tumor rep5\n"
     ]
    }
   ],
   "source": [
    "print(df.columns[:10])\n",
    "print(pheno.columns)\n",
    "print(pheno.head(5))\n",
    "\n"
   ]
  },
  {
   "cell_type": "code",
   "execution_count": 63,
   "id": "cf473bea",
   "metadata": {},
   "outputs": [],
   "source": [
    "# Look for GSM IDs in column names\n",
    "for col in df.columns[:10]:\n",
    "    matches = [gsm for gsm in pheno['gsm'] if gsm in col]\n",
    "    if matches:\n",
    "        print(col, matches)\n"
   ]
  },
  {
   "cell_type": "code",
   "execution_count": 64,
   "id": "9dcd32e0",
   "metadata": {},
   "outputs": [],
   "source": [
    "# Example mapping (must match your experiment)\n",
    "sample_map = {\n",
    "    'CA.102548': {'condition': 'tumor', 'replicate': 1},\n",
    "    'CA.104338': {'condition': 'tumor', 'replicate': 2},\n",
    "    'CA.105094': {'condition': 'tumor', 'replicate': 3},\n",
    "    # ... continue for all 60 samples\n",
    "}\n",
    "\n",
    "# Convert to DataFrame\n",
    "pheno_new = pd.DataFrame.from_dict(sample_map, orient='index')\n",
    "pheno_new.index.name = 'sample_id'\n",
    "pheno_new.reset_index(inplace=True)\n",
    "\n",
    "# Align expression data\n",
    "df = df[pheno_new['sample_id']]\n"
   ]
  },
  {
   "cell_type": "code",
   "execution_count": 65,
   "id": "2e234b9a",
   "metadata": {},
   "outputs": [
    {
     "name": "stdout",
     "output_type": "stream",
     "text": [
      "Expression matrix shape: (20246, 3)\n",
      "Metadata shape: (3, 3)\n",
      "Index(['CA.102548', 'CA.104338', 'CA.105094'], dtype='object')\n",
      "   sample_id condition  replicate\n",
      "0  CA.102548     tumor          1\n",
      "1  CA.104338     tumor          2\n",
      "2  CA.105094     tumor          3\n"
     ]
    }
   ],
   "source": [
    "print(\"Expression matrix shape:\", df.shape)\n",
    "print(\"Metadata shape:\", pheno_new.shape)\n",
    "print(df.columns[:5])\n",
    "print(pheno_new.head())\n"
   ]
  },
  {
   "cell_type": "code",
   "execution_count": 66,
   "id": "45cd05fb",
   "metadata": {},
   "outputs": [
    {
     "ename": "KeyError",
     "evalue": "\"None of [Index(['GSM5574685', 'GSM5574686', 'GSM5574687', 'GSM5574688', 'GSM5574689',\\n       'GSM55746810', 'GSM55746811', 'GSM55746812', 'GSM55746813',\\n       'GSM55746814', 'GSM55746815', 'GSM55746816', 'GSM55746817',\\n       'GSM55746818', 'GSM55746819', 'GSM55746820', 'GSM55746821',\\n       'GSM55746822', 'GSM55746823', 'GSM55746824', 'GSM55746825',\\n       'GSM55746826', 'GSM55746827', 'GSM55746828', 'GSM55746829',\\n       'GSM55746830', 'GSM55746831', 'GSM55746832', 'GSM55746833',\\n       'GSM55746834', 'GSM5574745', 'GSM5574746', 'GSM5574747', 'GSM5574748',\\n       'GSM5574749', 'GSM55747410', 'GSM55747411', 'GSM55747412',\\n       'GSM55747413', 'GSM55747414', 'GSM55747415', 'GSM55747416',\\n       'GSM55747417', 'GSM55747418', 'GSM55747419', 'GSM55747420',\\n       'GSM55747421', 'GSM55747422', 'GSM55747423', 'GSM55747424',\\n       'GSM55747425', 'GSM55747426', 'GSM55747427', 'GSM55747428',\\n       'GSM55747429', 'GSM55747430', 'GSM55747431', 'GSM55747432',\\n       'GSM55747433', 'GSM55747434'],\\n      dtype='object')] are in the [columns]\"",
     "output_type": "error",
     "traceback": [
      "\u001b[0;31m---------------------------------------------------------------------------\u001b[0m",
      "\u001b[0;31mKeyError\u001b[0m                                  Traceback (most recent call last)",
      "Cell \u001b[0;32mIn[66], line 27\u001b[0m\n\u001b[1;32m     19\u001b[0m metadata \u001b[38;5;241m=\u001b[39m pd\u001b[38;5;241m.\u001b[39mDataFrame({\n\u001b[1;32m     20\u001b[0m     \u001b[38;5;124m'\u001b[39m\u001b[38;5;124mgsm\u001b[39m\u001b[38;5;124m'\u001b[39m: gsm_ids,\n\u001b[1;32m     21\u001b[0m     \u001b[38;5;124m'\u001b[39m\u001b[38;5;124mtitle\u001b[39m\u001b[38;5;124m'\u001b[39m: titles,\n\u001b[1;32m     22\u001b[0m     \u001b[38;5;124m'\u001b[39m\u001b[38;5;124mcondition\u001b[39m\u001b[38;5;124m'\u001b[39m: conditions,\n\u001b[1;32m     23\u001b[0m     \u001b[38;5;124m'\u001b[39m\u001b[38;5;124mreplicate\u001b[39m\u001b[38;5;124m'\u001b[39m: replicates\n\u001b[1;32m     24\u001b[0m })\n\u001b[1;32m     26\u001b[0m \u001b[38;5;66;03m# Step 3: Align expression matrix with metadata\u001b[39;00m\n\u001b[0;32m---> 27\u001b[0m expr_df \u001b[38;5;241m=\u001b[39m \u001b[43mexpr_df\u001b[49m\u001b[43m[\u001b[49m\u001b[43mmetadata\u001b[49m\u001b[43m[\u001b[49m\u001b[38;5;124;43m'\u001b[39;49m\u001b[38;5;124;43mgsm\u001b[39;49m\u001b[38;5;124;43m'\u001b[39;49m\u001b[43m]\u001b[49m\u001b[43m]\u001b[49m\n\u001b[1;32m     29\u001b[0m \u001b[38;5;66;03m# Step 4: Save to CSV\u001b[39;00m\n\u001b[1;32m     30\u001b[0m expr_df\u001b[38;5;241m.\u001b[39mto_csv(\u001b[38;5;124m\"\u001b[39m\u001b[38;5;124mexpression_matrix.csv\u001b[39m\u001b[38;5;124m\"\u001b[39m)\n",
      "File \u001b[0;32m/Volumes/NGS/conda/miniconda3/envs/myytcode/lib/python3.12/site-packages/pandas/core/frame.py:4108\u001b[0m, in \u001b[0;36mDataFrame.__getitem__\u001b[0;34m(self, key)\u001b[0m\n\u001b[1;32m   4106\u001b[0m     \u001b[38;5;28;01mif\u001b[39;00m is_iterator(key):\n\u001b[1;32m   4107\u001b[0m         key \u001b[38;5;241m=\u001b[39m \u001b[38;5;28mlist\u001b[39m(key)\n\u001b[0;32m-> 4108\u001b[0m     indexer \u001b[38;5;241m=\u001b[39m \u001b[38;5;28;43mself\u001b[39;49m\u001b[38;5;241;43m.\u001b[39;49m\u001b[43mcolumns\u001b[49m\u001b[38;5;241;43m.\u001b[39;49m\u001b[43m_get_indexer_strict\u001b[49m\u001b[43m(\u001b[49m\u001b[43mkey\u001b[49m\u001b[43m,\u001b[49m\u001b[43m \u001b[49m\u001b[38;5;124;43m\"\u001b[39;49m\u001b[38;5;124;43mcolumns\u001b[39;49m\u001b[38;5;124;43m\"\u001b[39;49m\u001b[43m)\u001b[49m[\u001b[38;5;241m1\u001b[39m]\n\u001b[1;32m   4110\u001b[0m \u001b[38;5;66;03m# take() does not accept boolean indexers\u001b[39;00m\n\u001b[1;32m   4111\u001b[0m \u001b[38;5;28;01mif\u001b[39;00m \u001b[38;5;28mgetattr\u001b[39m(indexer, \u001b[38;5;124m\"\u001b[39m\u001b[38;5;124mdtype\u001b[39m\u001b[38;5;124m\"\u001b[39m, \u001b[38;5;28;01mNone\u001b[39;00m) \u001b[38;5;241m==\u001b[39m \u001b[38;5;28mbool\u001b[39m:\n",
      "File \u001b[0;32m/Volumes/NGS/conda/miniconda3/envs/myytcode/lib/python3.12/site-packages/pandas/core/indexes/base.py:6200\u001b[0m, in \u001b[0;36mIndex._get_indexer_strict\u001b[0;34m(self, key, axis_name)\u001b[0m\n\u001b[1;32m   6197\u001b[0m \u001b[38;5;28;01melse\u001b[39;00m:\n\u001b[1;32m   6198\u001b[0m     keyarr, indexer, new_indexer \u001b[38;5;241m=\u001b[39m \u001b[38;5;28mself\u001b[39m\u001b[38;5;241m.\u001b[39m_reindex_non_unique(keyarr)\n\u001b[0;32m-> 6200\u001b[0m \u001b[38;5;28;43mself\u001b[39;49m\u001b[38;5;241;43m.\u001b[39;49m\u001b[43m_raise_if_missing\u001b[49m\u001b[43m(\u001b[49m\u001b[43mkeyarr\u001b[49m\u001b[43m,\u001b[49m\u001b[43m \u001b[49m\u001b[43mindexer\u001b[49m\u001b[43m,\u001b[49m\u001b[43m \u001b[49m\u001b[43maxis_name\u001b[49m\u001b[43m)\u001b[49m\n\u001b[1;32m   6202\u001b[0m keyarr \u001b[38;5;241m=\u001b[39m \u001b[38;5;28mself\u001b[39m\u001b[38;5;241m.\u001b[39mtake(indexer)\n\u001b[1;32m   6203\u001b[0m \u001b[38;5;28;01mif\u001b[39;00m \u001b[38;5;28misinstance\u001b[39m(key, Index):\n\u001b[1;32m   6204\u001b[0m     \u001b[38;5;66;03m# GH 42790 - Preserve name from an Index\u001b[39;00m\n",
      "File \u001b[0;32m/Volumes/NGS/conda/miniconda3/envs/myytcode/lib/python3.12/site-packages/pandas/core/indexes/base.py:6249\u001b[0m, in \u001b[0;36mIndex._raise_if_missing\u001b[0;34m(self, key, indexer, axis_name)\u001b[0m\n\u001b[1;32m   6247\u001b[0m \u001b[38;5;28;01mif\u001b[39;00m nmissing:\n\u001b[1;32m   6248\u001b[0m     \u001b[38;5;28;01mif\u001b[39;00m nmissing \u001b[38;5;241m==\u001b[39m \u001b[38;5;28mlen\u001b[39m(indexer):\n\u001b[0;32m-> 6249\u001b[0m         \u001b[38;5;28;01mraise\u001b[39;00m \u001b[38;5;167;01mKeyError\u001b[39;00m(\u001b[38;5;124mf\u001b[39m\u001b[38;5;124m\"\u001b[39m\u001b[38;5;124mNone of [\u001b[39m\u001b[38;5;132;01m{\u001b[39;00mkey\u001b[38;5;132;01m}\u001b[39;00m\u001b[38;5;124m] are in the [\u001b[39m\u001b[38;5;132;01m{\u001b[39;00maxis_name\u001b[38;5;132;01m}\u001b[39;00m\u001b[38;5;124m]\u001b[39m\u001b[38;5;124m\"\u001b[39m)\n\u001b[1;32m   6251\u001b[0m     not_found \u001b[38;5;241m=\u001b[39m \u001b[38;5;28mlist\u001b[39m(ensure_index(key)[missing_mask\u001b[38;5;241m.\u001b[39mnonzero()[\u001b[38;5;241m0\u001b[39m]]\u001b[38;5;241m.\u001b[39munique())\n\u001b[1;32m   6252\u001b[0m     \u001b[38;5;28;01mraise\u001b[39;00m \u001b[38;5;167;01mKeyError\u001b[39;00m(\u001b[38;5;124mf\u001b[39m\u001b[38;5;124m\"\u001b[39m\u001b[38;5;132;01m{\u001b[39;00mnot_found\u001b[38;5;132;01m}\u001b[39;00m\u001b[38;5;124m not in index\u001b[39m\u001b[38;5;124m\"\u001b[39m)\n",
      "\u001b[0;31mKeyError\u001b[0m: \"None of [Index(['GSM5574685', 'GSM5574686', 'GSM5574687', 'GSM5574688', 'GSM5574689',\\n       'GSM55746810', 'GSM55746811', 'GSM55746812', 'GSM55746813',\\n       'GSM55746814', 'GSM55746815', 'GSM55746816', 'GSM55746817',\\n       'GSM55746818', 'GSM55746819', 'GSM55746820', 'GSM55746821',\\n       'GSM55746822', 'GSM55746823', 'GSM55746824', 'GSM55746825',\\n       'GSM55746826', 'GSM55746827', 'GSM55746828', 'GSM55746829',\\n       'GSM55746830', 'GSM55746831', 'GSM55746832', 'GSM55746833',\\n       'GSM55746834', 'GSM5574745', 'GSM5574746', 'GSM5574747', 'GSM5574748',\\n       'GSM5574749', 'GSM55747410', 'GSM55747411', 'GSM55747412',\\n       'GSM55747413', 'GSM55747414', 'GSM55747415', 'GSM55747416',\\n       'GSM55747417', 'GSM55747418', 'GSM55747419', 'GSM55747420',\\n       'GSM55747421', 'GSM55747422', 'GSM55747423', 'GSM55747424',\\n       'GSM55747425', 'GSM55747426', 'GSM55747427', 'GSM55747428',\\n       'GSM55747429', 'GSM55747430', 'GSM55747431', 'GSM55747432',\\n       'GSM55747433', 'GSM55747434'],\\n      dtype='object')] are in the [columns]\""
     ]
    }
   ],
   "source": [
    "import pandas as pd\n",
    "import numpy as np\n",
    "import requests\n",
    "import gzip\n",
    "from io import BytesIO\n",
    "\n",
    "# Step 1: Download the FPKM CSV file\n",
    "url = \"https://ftp.ncbi.nlm.nih.gov/geo/series/GSE183nnn/GSE183947/suppl/GSE183947_fpkm.csv.gz\"\n",
    "response = requests.get(url)\n",
    "with gzip.GzipFile(fileobj=BytesIO(response.content)) as f:\n",
    "    expr_df = pd.read_csv(f, index_col=0)\n",
    "\n",
    "# Step 2: Create metadata DataFrame\n",
    "gsm_ids = [f\"GSM557468{i}\" for i in range(5, 35)] + [f\"GSM557474{i}\" for i in range(5, 35)]\n",
    "conditions = ['tumor'] * 30 + ['normal'] * 30\n",
    "replicates = list(range(1, 31)) * 2\n",
    "titles = [f\"{cond} rep{rep}\" for cond, rep in zip(conditions, replicates)]\n",
    "\n",
    "metadata = pd.DataFrame({\n",
    "    'gsm': gsm_ids,\n",
    "    'title': titles,\n",
    "    'condition': conditions,\n",
    "    'replicate': replicates\n",
    "})\n",
    "\n",
    "# Step 3: Align expression matrix with metadata\n",
    "expr_df = expr_df[metadata['gsm']]\n",
    "\n",
    "# Step 4: Save to CSV\n",
    "expr_df.to_csv(\"expression_matrix.csv\")\n",
    "metadata.to_csv(\"sample_metadata.csv\", index=False)\n",
    "\n",
    "print(\"Data aligned and saved to 'expression_matrix.csv' and 'sample_metadata.csv'.\")\n"
   ]
  }
 ],
 "metadata": {
  "kernelspec": {
   "display_name": "myytcode",
   "language": "python",
   "name": "python3"
  },
  "language_info": {
   "codemirror_mode": {
    "name": "ipython",
    "version": 3
   },
   "file_extension": ".py",
   "mimetype": "text/x-python",
   "name": "python",
   "nbconvert_exporter": "python",
   "pygments_lexer": "ipython3",
   "version": "3.12.6"
  }
 },
 "nbformat": 4,
 "nbformat_minor": 5
}
