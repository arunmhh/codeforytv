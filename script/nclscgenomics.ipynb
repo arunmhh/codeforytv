{
 "cells": [
  {
   "cell_type": "code",
   "execution_count": 5,
   "metadata": {
    "vscode": {
     "languageId": "r"
    }
   },
   "outputs": [
    {
     "name": "stderr",
     "output_type": "stream",
     "text": [
      "Lade nötiges Paket: Biobase\n",
      "\n",
      "Lade nötiges Paket: BiocGenerics\n",
      "\n",
      "\n",
      "Attache Paket: ‘BiocGenerics’\n",
      "\n",
      "\n",
      "Die folgenden Objekte sind maskiert von ‘package:lubridate’:\n",
      "\n",
      "    intersect, setdiff, union\n",
      "\n",
      "\n",
      "Die folgenden Objekte sind maskiert von ‘package:dplyr’:\n",
      "\n",
      "    combine, intersect, setdiff, union\n",
      "\n",
      "\n",
      "Die folgenden Objekte sind maskiert von ‘package:stats’:\n",
      "\n",
      "    IQR, mad, sd, var, xtabs\n",
      "\n",
      "\n",
      "Die folgenden Objekte sind maskiert von ‘package:base’:\n",
      "\n",
      "    anyDuplicated, aperm, append, as.data.frame, basename, cbind,\n",
      "    colnames, dirname, do.call, duplicated, eval, evalq, Filter, Find,\n",
      "    get, grep, grepl, intersect, is.unsorted, lapply, Map, mapply,\n",
      "    match, mget, order, paste, pmax, pmax.int, pmin, pmin.int,\n",
      "    Position, rank, rbind, Reduce, rownames, sapply, setdiff, sort,\n",
      "    table, tapply, union, unique, unsplit, which.max, which.min\n",
      "\n",
      "\n",
      "Welcome to Bioconductor\n",
      "\n",
      "    Vignettes contain introductory material; view with\n",
      "    'browseVignettes()'. To cite Bioconductor, see\n",
      "    'citation(\"Biobase\")', and for packages 'citation(\"pkgname\")'.\n",
      "\n",
      "\n",
      "Setting options('download.file.method.GEOquery'='auto')\n",
      "\n",
      "Setting options('GEOquery.inmemory.gpl'=FALSE)\n",
      "\n"
     ]
    }
   ],
   "source": [
    "# load libraries\n",
    "library(dplyr)\n",
    "library(tidyverse)\n",
    "library(GEOquery)"
   ]
  },
  {
   "cell_type": "code",
   "execution_count": 6,
   "metadata": {
    "vscode": {
     "languageId": "r"
    }
   },
   "outputs": [
    {
     "name": "stderr",
     "output_type": "stream",
     "text": [
      "Found 1 file(s)\n",
      "\n",
      "GSE183947_series_matrix.txt.gz\n",
      "\n"
     ]
    }
   ],
   "source": [
    "# get metadata --------\n",
    "gse <- getGEO(GEO = 'GSE183947', GSEMatrix = TRUE)\n"
   ]
  },
  {
   "cell_type": "code",
   "execution_count": 19,
   "metadata": {
    "vscode": {
     "languageId": "r"
    }
   },
   "outputs": [
    {
     "data": {
      "text/html": [
       "'list'"
      ],
      "text/latex": [
       "'list'"
      ],
      "text/markdown": [
       "'list'"
      ],
      "text/plain": [
       "[1] \"list\""
      ]
     },
     "metadata": {},
     "output_type": "display_data"
    },
    {
     "data": {
      "text/html": [
       "'GSE183947_series_matrix.txt.gz'"
      ],
      "text/latex": [
       "'GSE183947\\_series\\_matrix.txt.gz'"
      ],
      "text/markdown": [
       "'GSE183947_series_matrix.txt.gz'"
      ],
      "text/plain": [
       "[1] \"GSE183947_series_matrix.txt.gz\""
      ]
     },
     "metadata": {},
     "output_type": "display_data"
    }
   ],
   "source": [
    "class(gse)\n",
    "names(gse)\n",
    "gse = gse[[1]]\n"
   ]
  },
  {
   "cell_type": "code",
   "execution_count": 30,
   "metadata": {
    "vscode": {
     "languageId": "r"
    }
   },
   "outputs": [
    {
     "name": "stderr",
     "output_type": "stream",
     "text": [
      "\u001b[1m\u001b[22mNew names:\n",
      "\u001b[36m•\u001b[39m `` -> `...1`\n",
      "\u001b[1mRows: \u001b[22m\u001b[34m20246\u001b[39m \u001b[1mColumns: \u001b[22m\u001b[34m61\u001b[39m\n",
      "\u001b[36m──\u001b[39m \u001b[1mColumn specification\u001b[22m \u001b[36m────────────────────────────────────────────────────────\u001b[39m\n",
      "\u001b[1mDelimiter:\u001b[22m \",\"\n",
      "\u001b[31mchr\u001b[39m  (1): ...1\n",
      "\u001b[32mdbl\u001b[39m (60): CA.102548, CA.104338, CA.105094, CA.109745, CA.1906415, CA.1912627...\n",
      "\n",
      "\u001b[36mℹ\u001b[39m Use `spec()` to retrieve the full column specification for this data.\n",
      "\u001b[36mℹ\u001b[39m Specify the column types or set `show_col_types = FALSE` to quiet this message.\n",
      "\u001b[1m\u001b[22mNew names:\n",
      "\u001b[36m•\u001b[39m `` -> `...1`\n",
      "\u001b[1mRows: \u001b[22m\u001b[34m20246\u001b[39m \u001b[1mColumns: \u001b[22m\u001b[34m61\u001b[39m\n",
      "\u001b[36m──\u001b[39m \u001b[1mColumn specification\u001b[22m \u001b[36m────────────────────────────────────────────────────────\u001b[39m\n",
      "\u001b[1mDelimiter:\u001b[22m \",\"\n",
      "\u001b[31mchr\u001b[39m  (1): ...1\n",
      "\u001b[32mdbl\u001b[39m (60): CA.102548, CA.104338, CA.105094, CA.109745, CA.1906415, CA.1912627...\n",
      "\n",
      "\u001b[36mℹ\u001b[39m Use `spec()` to retrieve the full column specification for this data.\n",
      "\u001b[36mℹ\u001b[39m Specify the column types or set `show_col_types = FALSE` to quiet this message.\n"
     ]
    },
    {
     "data": {
      "text/html": [
       "<style>\n",
       ".list-inline {list-style: none; margin:0; padding: 0}\n",
       ".list-inline>li {display: inline-block}\n",
       ".list-inline>li:not(:last-child)::after {content: \"\\00b7\"; padding: 0 .5ex}\n",
       "</style>\n",
       "<ol class=list-inline><li>20246</li><li>60</li></ol>\n"
      ],
      "text/latex": [
       "\\begin{enumerate*}\n",
       "\\item 20246\n",
       "\\item 60\n",
       "\\end{enumerate*}\n"
      ],
      "text/markdown": [
       "1. 20246\n",
       "2. 60\n",
       "\n",
       "\n"
      ],
      "text/plain": [
       "[1] 20246    60"
      ]
     },
     "metadata": {},
     "output_type": "display_data"
    },
    {
     "data": {
      "text/html": [
       "<table class=\"dataframe\">\n",
       "<caption>A data.frame: 6 × 5</caption>\n",
       "<thead>\n",
       "\t<tr><th></th><th scope=col>CA.102548</th><th scope=col>CA.104338</th><th scope=col>CA.105094</th><th scope=col>CA.109745</th><th scope=col>CA.1906415</th></tr>\n",
       "\t<tr><th></th><th scope=col>&lt;dbl&gt;</th><th scope=col>&lt;dbl&gt;</th><th scope=col>&lt;dbl&gt;</th><th scope=col>&lt;dbl&gt;</th><th scope=col>&lt;dbl&gt;</th></tr>\n",
       "</thead>\n",
       "<tbody>\n",
       "\t<tr><th scope=row>TSPAN6</th><td>0.93</td><td>1.97</td><td>0.00</td><td>5.45</td><td> 4.52</td></tr>\n",
       "\t<tr><th scope=row>TNMD</th><td>0.00</td><td>0.00</td><td>0.00</td><td>0.00</td><td> 0.00</td></tr>\n",
       "\t<tr><th scope=row>DPM1</th><td>0.00</td><td>0.43</td><td>0.00</td><td>3.43</td><td> 8.45</td></tr>\n",
       "\t<tr><th scope=row>SCYL3</th><td>5.78</td><td>5.17</td><td>8.76</td><td>4.58</td><td> 7.20</td></tr>\n",
       "\t<tr><th scope=row>C1orf112</th><td>2.83</td><td>6.26</td><td>3.37</td><td>6.24</td><td> 5.16</td></tr>\n",
       "\t<tr><th scope=row>FGR</th><td>4.80</td><td>1.83</td><td>0.00</td><td>4.23</td><td>15.87</td></tr>\n",
       "</tbody>\n",
       "</table>\n"
      ],
      "text/latex": [
       "A data.frame: 6 × 5\n",
       "\\begin{tabular}{r|lllll}\n",
       "  & CA.102548 & CA.104338 & CA.105094 & CA.109745 & CA.1906415\\\\\n",
       "  & <dbl> & <dbl> & <dbl> & <dbl> & <dbl>\\\\\n",
       "\\hline\n",
       "\tTSPAN6 & 0.93 & 1.97 & 0.00 & 5.45 &  4.52\\\\\n",
       "\tTNMD & 0.00 & 0.00 & 0.00 & 0.00 &  0.00\\\\\n",
       "\tDPM1 & 0.00 & 0.43 & 0.00 & 3.43 &  8.45\\\\\n",
       "\tSCYL3 & 5.78 & 5.17 & 8.76 & 4.58 &  7.20\\\\\n",
       "\tC1orf112 & 2.83 & 6.26 & 3.37 & 6.24 &  5.16\\\\\n",
       "\tFGR & 4.80 & 1.83 & 0.00 & 4.23 & 15.87\\\\\n",
       "\\end{tabular}\n"
      ],
      "text/markdown": [
       "\n",
       "A data.frame: 6 × 5\n",
       "\n",
       "| <!--/--> | CA.102548 &lt;dbl&gt; | CA.104338 &lt;dbl&gt; | CA.105094 &lt;dbl&gt; | CA.109745 &lt;dbl&gt; | CA.1906415 &lt;dbl&gt; |\n",
       "|---|---|---|---|---|---|\n",
       "| TSPAN6 | 0.93 | 1.97 | 0.00 | 5.45 |  4.52 |\n",
       "| TNMD | 0.00 | 0.00 | 0.00 | 0.00 |  0.00 |\n",
       "| DPM1 | 0.00 | 0.43 | 0.00 | 3.43 |  8.45 |\n",
       "| SCYL3 | 5.78 | 5.17 | 8.76 | 4.58 |  7.20 |\n",
       "| C1orf112 | 2.83 | 6.26 | 3.37 | 6.24 |  5.16 |\n",
       "| FGR | 4.80 | 1.83 | 0.00 | 4.23 | 15.87 |\n",
       "\n"
      ],
      "text/plain": [
       "         CA.102548 CA.104338 CA.105094 CA.109745 CA.1906415\n",
       "TSPAN6   0.93      1.97      0.00      5.45       4.52     \n",
       "TNMD     0.00      0.00      0.00      0.00       0.00     \n",
       "DPM1     0.00      0.43      0.00      3.43       8.45     \n",
       "SCYL3    5.78      5.17      8.76      4.58       7.20     \n",
       "C1orf112 2.83      6.26      3.37      6.24       5.16     \n",
       "FGR      4.80      1.83      0.00      4.23      15.87     "
      ]
     },
     "metadata": {},
     "output_type": "display_data"
    }
   ],
   "source": [
    "library(readr)\n",
    "\n",
    "# Download the same file\n",
    "url <- \"https://ftp.ncbi.nlm.nih.gov/geo/series/GSE183nnn/GSE183947/suppl/GSE183947_fpkm.csv.gz\"\n",
    "\n",
    "# Read the gzipped CSV directly\n",
    "expr_matrix <- read_csv(url)\n",
    "\n",
    "# Or if it uses row names in first column:\n",
    "expr_matrix <- read_csv(url, show_col_types = TRUE)\n",
    "expr_matrix <- as.data.frame(expr_matrix)\n",
    "rownames(expr_matrix) <- expr_matrix[[1]]\n",
    "expr_matrix <- expr_matrix[, -1]\n",
    "\n",
    "# Check structure\n",
    "dim(expr_matrix)\n",
    "head(expr_matrix[, 1:5])\n",
    "\n",
    "\n"
   ]
  },
  {
   "cell_type": "code",
   "execution_count": 36,
   "metadata": {
    "vscode": {
     "languageId": "r"
    }
   },
   "outputs": [
    {
     "data": {
      "text/html": [
       "<table class=\"dataframe\">\n",
       "<caption>A data.frame: 1214760 × 3</caption>\n",
       "<thead>\n",
       "\t<tr><th scope=col>gene</th><th scope=col>samples</th><th scope=col>fpkm</th></tr>\n",
       "\t<tr><th scope=col>&lt;chr&gt;</th><th scope=col>&lt;chr&gt;</th><th scope=col>&lt;dbl&gt;</th></tr>\n",
       "</thead>\n",
       "<tbody>\n",
       "\t<tr><td>TSPAN6  </td><td>CA.102548</td><td>  0.93</td></tr>\n",
       "\t<tr><td>TNMD    </td><td>CA.102548</td><td>  0.00</td></tr>\n",
       "\t<tr><td>DPM1    </td><td>CA.102548</td><td>  0.00</td></tr>\n",
       "\t<tr><td>SCYL3   </td><td>CA.102548</td><td>  5.78</td></tr>\n",
       "\t<tr><td>C1orf112</td><td>CA.102548</td><td>  2.83</td></tr>\n",
       "\t<tr><td>FGR     </td><td>CA.102548</td><td>  4.80</td></tr>\n",
       "\t<tr><td>CFH     </td><td>CA.102548</td><td>  1.37</td></tr>\n",
       "\t<tr><td>FUCA2   </td><td>CA.102548</td><td> 21.92</td></tr>\n",
       "\t<tr><td>GCLC    </td><td>CA.102548</td><td> 34.16</td></tr>\n",
       "\t<tr><td>NFYA    </td><td>CA.102548</td><td>  0.70</td></tr>\n",
       "\t<tr><td>STPG1   </td><td>CA.102548</td><td> 11.84</td></tr>\n",
       "\t<tr><td>NIPAL3  </td><td>CA.102548</td><td>  9.46</td></tr>\n",
       "\t<tr><td>LAS1L   </td><td>CA.102548</td><td>  3.75</td></tr>\n",
       "\t<tr><td>ENPP4   </td><td>CA.102548</td><td>  0.03</td></tr>\n",
       "\t<tr><td>SEMA3F  </td><td>CA.102548</td><td>  8.53</td></tr>\n",
       "\t<tr><td>CFTR    </td><td>CA.102548</td><td> 14.10</td></tr>\n",
       "\t<tr><td>ANKIB1  </td><td>CA.102548</td><td>  2.00</td></tr>\n",
       "\t<tr><td>CYP51A1 </td><td>CA.102548</td><td> 69.01</td></tr>\n",
       "\t<tr><td>KRIT1   </td><td>CA.102548</td><td> 64.26</td></tr>\n",
       "\t<tr><td>RAD52   </td><td>CA.102548</td><td>  2.83</td></tr>\n",
       "\t<tr><td>BAD     </td><td>CA.102548</td><td> 25.69</td></tr>\n",
       "\t<tr><td>LAP3    </td><td>CA.102548</td><td> 10.00</td></tr>\n",
       "\t<tr><td>CD99    </td><td>CA.102548</td><td> 97.07</td></tr>\n",
       "\t<tr><td>HS3ST1  </td><td>CA.102548</td><td>  1.87</td></tr>\n",
       "\t<tr><td>AOC1    </td><td>CA.102548</td><td>  1.18</td></tr>\n",
       "\t<tr><td>WNT16   </td><td>CA.102548</td><td>  0.00</td></tr>\n",
       "\t<tr><td>HECW1   </td><td>CA.102548</td><td>  9.00</td></tr>\n",
       "\t<tr><td>MAD1L1  </td><td>CA.102548</td><td> 20.65</td></tr>\n",
       "\t<tr><td>LASP1   </td><td>CA.102548</td><td> 89.55</td></tr>\n",
       "\t<tr><td>SNX11   </td><td>CA.102548</td><td>143.06</td></tr>\n",
       "\t<tr><td>⋮</td><td>⋮</td><td>⋮</td></tr>\n",
       "\t<tr><td>GS1-259H13.10 </td><td>CAP.99145</td><td>1.27</td></tr>\n",
       "\t<tr><td>RP11-447L10.1 </td><td>CAP.99145</td><td>0.00</td></tr>\n",
       "\t<tr><td>RP11-155D18.14</td><td>CAP.99145</td><td>3.01</td></tr>\n",
       "\t<tr><td>CTD-2410N18.5 </td><td>CAP.99145</td><td>0.00</td></tr>\n",
       "\t<tr><td>AP002884.3    </td><td>CAP.99145</td><td>0.00</td></tr>\n",
       "\t<tr><td>RP11-302B13.5 </td><td>CAP.99145</td><td>0.00</td></tr>\n",
       "\t<tr><td>CTC-487M23.8  </td><td>CAP.99145</td><td>0.67</td></tr>\n",
       "\t<tr><td>RP11-216L13.17</td><td>CAP.99145</td><td>0.00</td></tr>\n",
       "\t<tr><td>RP1-309K20.6  </td><td>CAP.99145</td><td>0.00</td></tr>\n",
       "\t<tr><td>RP11-574K11.31</td><td>CAP.99145</td><td>3.87</td></tr>\n",
       "\t<tr><td>RP11-500M8.7  </td><td>CAP.99145</td><td>0.00</td></tr>\n",
       "\t<tr><td>RBAK-RBAKDN   </td><td>CAP.99145</td><td>1.14</td></tr>\n",
       "\t<tr><td>RP11-399J13.3 </td><td>CAP.99145</td><td>0.00</td></tr>\n",
       "\t<tr><td>C2ORF15       </td><td>CAP.99145</td><td>1.56</td></tr>\n",
       "\t<tr><td>RP4-583P15.14 </td><td>CAP.99145</td><td>6.46</td></tr>\n",
       "\t<tr><td>RP11-834C11.12</td><td>CAP.99145</td><td>0.00</td></tr>\n",
       "\t<tr><td>GRIN2B        </td><td>CAP.99145</td><td>0.07</td></tr>\n",
       "\t<tr><td>RP11-201K10.3 </td><td>CAP.99145</td><td>0.00</td></tr>\n",
       "\t<tr><td>RP4-583P15.15 </td><td>CAP.99145</td><td>5.97</td></tr>\n",
       "\t<tr><td>RP11-307N16.6 </td><td>CAP.99145</td><td>0.00</td></tr>\n",
       "\t<tr><td>CTB-96E2.2    </td><td>CAP.99145</td><td>0.00</td></tr>\n",
       "\t<tr><td>CTC-432M15.3  </td><td>CAP.99145</td><td>0.46</td></tr>\n",
       "\t<tr><td>RP11-986E7.7  </td><td>CAP.99145</td><td>1.17</td></tr>\n",
       "\t<tr><td>RP11-761B3.1  </td><td>CAP.99145</td><td>0.00</td></tr>\n",
       "\t<tr><td>ZBTB8B        </td><td>CAP.99145</td><td>5.27</td></tr>\n",
       "\t<tr><td>RP11-1084J3.4 </td><td>CAP.99145</td><td>0.23</td></tr>\n",
       "\t<tr><td>RP11-944L7.5  </td><td>CAP.99145</td><td>0.00</td></tr>\n",
       "\t<tr><td>FLJ00388      </td><td>CAP.99145</td><td>0.00</td></tr>\n",
       "\t<tr><td>RP11-474G23.1 </td><td>CAP.99145</td><td>0.14</td></tr>\n",
       "\t<tr><td>AC005358.1    </td><td>CAP.99145</td><td>1.19</td></tr>\n",
       "</tbody>\n",
       "</table>\n"
      ],
      "text/latex": [
       "A data.frame: 1214760 × 3\n",
       "\\begin{tabular}{lll}\n",
       " gene & samples & fpkm\\\\\n",
       " <chr> & <chr> & <dbl>\\\\\n",
       "\\hline\n",
       "\t TSPAN6   & CA.102548 &   0.93\\\\\n",
       "\t TNMD     & CA.102548 &   0.00\\\\\n",
       "\t DPM1     & CA.102548 &   0.00\\\\\n",
       "\t SCYL3    & CA.102548 &   5.78\\\\\n",
       "\t C1orf112 & CA.102548 &   2.83\\\\\n",
       "\t FGR      & CA.102548 &   4.80\\\\\n",
       "\t CFH      & CA.102548 &   1.37\\\\\n",
       "\t FUCA2    & CA.102548 &  21.92\\\\\n",
       "\t GCLC     & CA.102548 &  34.16\\\\\n",
       "\t NFYA     & CA.102548 &   0.70\\\\\n",
       "\t STPG1    & CA.102548 &  11.84\\\\\n",
       "\t NIPAL3   & CA.102548 &   9.46\\\\\n",
       "\t LAS1L    & CA.102548 &   3.75\\\\\n",
       "\t ENPP4    & CA.102548 &   0.03\\\\\n",
       "\t SEMA3F   & CA.102548 &   8.53\\\\\n",
       "\t CFTR     & CA.102548 &  14.10\\\\\n",
       "\t ANKIB1   & CA.102548 &   2.00\\\\\n",
       "\t CYP51A1  & CA.102548 &  69.01\\\\\n",
       "\t KRIT1    & CA.102548 &  64.26\\\\\n",
       "\t RAD52    & CA.102548 &   2.83\\\\\n",
       "\t BAD      & CA.102548 &  25.69\\\\\n",
       "\t LAP3     & CA.102548 &  10.00\\\\\n",
       "\t CD99     & CA.102548 &  97.07\\\\\n",
       "\t HS3ST1   & CA.102548 &   1.87\\\\\n",
       "\t AOC1     & CA.102548 &   1.18\\\\\n",
       "\t WNT16    & CA.102548 &   0.00\\\\\n",
       "\t HECW1    & CA.102548 &   9.00\\\\\n",
       "\t MAD1L1   & CA.102548 &  20.65\\\\\n",
       "\t LASP1    & CA.102548 &  89.55\\\\\n",
       "\t SNX11    & CA.102548 & 143.06\\\\\n",
       "\t ⋮ & ⋮ & ⋮\\\\\n",
       "\t GS1-259H13.10  & CAP.99145 & 1.27\\\\\n",
       "\t RP11-447L10.1  & CAP.99145 & 0.00\\\\\n",
       "\t RP11-155D18.14 & CAP.99145 & 3.01\\\\\n",
       "\t CTD-2410N18.5  & CAP.99145 & 0.00\\\\\n",
       "\t AP002884.3     & CAP.99145 & 0.00\\\\\n",
       "\t RP11-302B13.5  & CAP.99145 & 0.00\\\\\n",
       "\t CTC-487M23.8   & CAP.99145 & 0.67\\\\\n",
       "\t RP11-216L13.17 & CAP.99145 & 0.00\\\\\n",
       "\t RP1-309K20.6   & CAP.99145 & 0.00\\\\\n",
       "\t RP11-574K11.31 & CAP.99145 & 3.87\\\\\n",
       "\t RP11-500M8.7   & CAP.99145 & 0.00\\\\\n",
       "\t RBAK-RBAKDN    & CAP.99145 & 1.14\\\\\n",
       "\t RP11-399J13.3  & CAP.99145 & 0.00\\\\\n",
       "\t C2ORF15        & CAP.99145 & 1.56\\\\\n",
       "\t RP4-583P15.14  & CAP.99145 & 6.46\\\\\n",
       "\t RP11-834C11.12 & CAP.99145 & 0.00\\\\\n",
       "\t GRIN2B         & CAP.99145 & 0.07\\\\\n",
       "\t RP11-201K10.3  & CAP.99145 & 0.00\\\\\n",
       "\t RP4-583P15.15  & CAP.99145 & 5.97\\\\\n",
       "\t RP11-307N16.6  & CAP.99145 & 0.00\\\\\n",
       "\t CTB-96E2.2     & CAP.99145 & 0.00\\\\\n",
       "\t CTC-432M15.3   & CAP.99145 & 0.46\\\\\n",
       "\t RP11-986E7.7   & CAP.99145 & 1.17\\\\\n",
       "\t RP11-761B3.1   & CAP.99145 & 0.00\\\\\n",
       "\t ZBTB8B         & CAP.99145 & 5.27\\\\\n",
       "\t RP11-1084J3.4  & CAP.99145 & 0.23\\\\\n",
       "\t RP11-944L7.5   & CAP.99145 & 0.00\\\\\n",
       "\t FLJ00388       & CAP.99145 & 0.00\\\\\n",
       "\t RP11-474G23.1  & CAP.99145 & 0.14\\\\\n",
       "\t AC005358.1     & CAP.99145 & 1.19\\\\\n",
       "\\end{tabular}\n"
      ],
      "text/markdown": [
       "\n",
       "A data.frame: 1214760 × 3\n",
       "\n",
       "| gene &lt;chr&gt; | samples &lt;chr&gt; | fpkm &lt;dbl&gt; |\n",
       "|---|---|---|\n",
       "| TSPAN6   | CA.102548 |   0.93 |\n",
       "| TNMD     | CA.102548 |   0.00 |\n",
       "| DPM1     | CA.102548 |   0.00 |\n",
       "| SCYL3    | CA.102548 |   5.78 |\n",
       "| C1orf112 | CA.102548 |   2.83 |\n",
       "| FGR      | CA.102548 |   4.80 |\n",
       "| CFH      | CA.102548 |   1.37 |\n",
       "| FUCA2    | CA.102548 |  21.92 |\n",
       "| GCLC     | CA.102548 |  34.16 |\n",
       "| NFYA     | CA.102548 |   0.70 |\n",
       "| STPG1    | CA.102548 |  11.84 |\n",
       "| NIPAL3   | CA.102548 |   9.46 |\n",
       "| LAS1L    | CA.102548 |   3.75 |\n",
       "| ENPP4    | CA.102548 |   0.03 |\n",
       "| SEMA3F   | CA.102548 |   8.53 |\n",
       "| CFTR     | CA.102548 |  14.10 |\n",
       "| ANKIB1   | CA.102548 |   2.00 |\n",
       "| CYP51A1  | CA.102548 |  69.01 |\n",
       "| KRIT1    | CA.102548 |  64.26 |\n",
       "| RAD52    | CA.102548 |   2.83 |\n",
       "| BAD      | CA.102548 |  25.69 |\n",
       "| LAP3     | CA.102548 |  10.00 |\n",
       "| CD99     | CA.102548 |  97.07 |\n",
       "| HS3ST1   | CA.102548 |   1.87 |\n",
       "| AOC1     | CA.102548 |   1.18 |\n",
       "| WNT16    | CA.102548 |   0.00 |\n",
       "| HECW1    | CA.102548 |   9.00 |\n",
       "| MAD1L1   | CA.102548 |  20.65 |\n",
       "| LASP1    | CA.102548 |  89.55 |\n",
       "| SNX11    | CA.102548 | 143.06 |\n",
       "| ⋮ | ⋮ | ⋮ |\n",
       "| GS1-259H13.10  | CAP.99145 | 1.27 |\n",
       "| RP11-447L10.1  | CAP.99145 | 0.00 |\n",
       "| RP11-155D18.14 | CAP.99145 | 3.01 |\n",
       "| CTD-2410N18.5  | CAP.99145 | 0.00 |\n",
       "| AP002884.3     | CAP.99145 | 0.00 |\n",
       "| RP11-302B13.5  | CAP.99145 | 0.00 |\n",
       "| CTC-487M23.8   | CAP.99145 | 0.67 |\n",
       "| RP11-216L13.17 | CAP.99145 | 0.00 |\n",
       "| RP1-309K20.6   | CAP.99145 | 0.00 |\n",
       "| RP11-574K11.31 | CAP.99145 | 3.87 |\n",
       "| RP11-500M8.7   | CAP.99145 | 0.00 |\n",
       "| RBAK-RBAKDN    | CAP.99145 | 1.14 |\n",
       "| RP11-399J13.3  | CAP.99145 | 0.00 |\n",
       "| C2ORF15        | CAP.99145 | 1.56 |\n",
       "| RP4-583P15.14  | CAP.99145 | 6.46 |\n",
       "| RP11-834C11.12 | CAP.99145 | 0.00 |\n",
       "| GRIN2B         | CAP.99145 | 0.07 |\n",
       "| RP11-201K10.3  | CAP.99145 | 0.00 |\n",
       "| RP4-583P15.15  | CAP.99145 | 5.97 |\n",
       "| RP11-307N16.6  | CAP.99145 | 0.00 |\n",
       "| CTB-96E2.2     | CAP.99145 | 0.00 |\n",
       "| CTC-432M15.3   | CAP.99145 | 0.46 |\n",
       "| RP11-986E7.7   | CAP.99145 | 1.17 |\n",
       "| RP11-761B3.1   | CAP.99145 | 0.00 |\n",
       "| ZBTB8B         | CAP.99145 | 5.27 |\n",
       "| RP11-1084J3.4  | CAP.99145 | 0.23 |\n",
       "| RP11-944L7.5   | CAP.99145 | 0.00 |\n",
       "| FLJ00388       | CAP.99145 | 0.00 |\n",
       "| RP11-474G23.1  | CAP.99145 | 0.14 |\n",
       "| AC005358.1     | CAP.99145 | 1.19 |\n",
       "\n"
      ],
      "text/plain": [
       "        gene           samples   fpkm  \n",
       "1       TSPAN6         CA.102548   0.93\n",
       "2       TNMD           CA.102548   0.00\n",
       "3       DPM1           CA.102548   0.00\n",
       "4       SCYL3          CA.102548   5.78\n",
       "5       C1orf112       CA.102548   2.83\n",
       "6       FGR            CA.102548   4.80\n",
       "7       CFH            CA.102548   1.37\n",
       "8       FUCA2          CA.102548  21.92\n",
       "9       GCLC           CA.102548  34.16\n",
       "10      NFYA           CA.102548   0.70\n",
       "11      STPG1          CA.102548  11.84\n",
       "12      NIPAL3         CA.102548   9.46\n",
       "13      LAS1L          CA.102548   3.75\n",
       "14      ENPP4          CA.102548   0.03\n",
       "15      SEMA3F         CA.102548   8.53\n",
       "16      CFTR           CA.102548  14.10\n",
       "17      ANKIB1         CA.102548   2.00\n",
       "18      CYP51A1        CA.102548  69.01\n",
       "19      KRIT1          CA.102548  64.26\n",
       "20      RAD52          CA.102548   2.83\n",
       "21      BAD            CA.102548  25.69\n",
       "22      LAP3           CA.102548  10.00\n",
       "23      CD99           CA.102548  97.07\n",
       "24      HS3ST1         CA.102548   1.87\n",
       "25      AOC1           CA.102548   1.18\n",
       "26      WNT16          CA.102548   0.00\n",
       "27      HECW1          CA.102548   9.00\n",
       "28      MAD1L1         CA.102548  20.65\n",
       "29      LASP1          CA.102548  89.55\n",
       "30      SNX11          CA.102548 143.06\n",
       "⋮       ⋮              ⋮         ⋮     \n",
       "1214731 GS1-259H13.10  CAP.99145 1.27  \n",
       "1214732 RP11-447L10.1  CAP.99145 0.00  \n",
       "1214733 RP11-155D18.14 CAP.99145 3.01  \n",
       "1214734 CTD-2410N18.5  CAP.99145 0.00  \n",
       "1214735 AP002884.3     CAP.99145 0.00  \n",
       "1214736 RP11-302B13.5  CAP.99145 0.00  \n",
       "1214737 CTC-487M23.8   CAP.99145 0.67  \n",
       "1214738 RP11-216L13.17 CAP.99145 0.00  \n",
       "1214739 RP1-309K20.6   CAP.99145 0.00  \n",
       "1214740 RP11-574K11.31 CAP.99145 3.87  \n",
       "1214741 RP11-500M8.7   CAP.99145 0.00  \n",
       "1214742 RBAK-RBAKDN    CAP.99145 1.14  \n",
       "1214743 RP11-399J13.3  CAP.99145 0.00  \n",
       "1214744 C2ORF15        CAP.99145 1.56  \n",
       "1214745 RP4-583P15.14  CAP.99145 6.46  \n",
       "1214746 RP11-834C11.12 CAP.99145 0.00  \n",
       "1214747 GRIN2B         CAP.99145 0.07  \n",
       "1214748 RP11-201K10.3  CAP.99145 0.00  \n",
       "1214749 RP4-583P15.15  CAP.99145 5.97  \n",
       "1214750 RP11-307N16.6  CAP.99145 0.00  \n",
       "1214751 CTB-96E2.2     CAP.99145 0.00  \n",
       "1214752 CTC-432M15.3   CAP.99145 0.46  \n",
       "1214753 RP11-986E7.7   CAP.99145 1.17  \n",
       "1214754 RP11-761B3.1   CAP.99145 0.00  \n",
       "1214755 ZBTB8B         CAP.99145 5.27  \n",
       "1214756 RP11-1084J3.4  CAP.99145 0.23  \n",
       "1214757 RP11-944L7.5   CAP.99145 0.00  \n",
       "1214758 FLJ00388       CAP.99145 0.00  \n",
       "1214759 RP11-474G23.1  CAP.99145 0.14  \n",
       "1214760 AC005358.1     CAP.99145 1.19  "
      ]
     },
     "metadata": {},
     "output_type": "display_data"
    }
   ],
   "source": [
    "expr_matrix %>%\n",
    "rownames_to_column(var = \"gene\")%>%\n",
    "gather(key = \"samples\",\n",
    "value = \"fpkm\", -gene)"
   ]
  },
  {
   "cell_type": "code",
   "execution_count": 34,
   "metadata": {
    "vscode": {
     "languageId": "r"
    }
   },
   "outputs": [
    {
     "data": {
      "text/html": [
       "<table class=\"dataframe\">\n",
       "<caption>A data.frame: 6 × 4</caption>\n",
       "<thead>\n",
       "\t<tr><th></th><th scope=col>title</th><th scope=col>tissue</th><th scope=col>metastasis</th><th scope=col>description</th></tr>\n",
       "\t<tr><th></th><th scope=col>&lt;chr&gt;</th><th scope=col>&lt;chr&gt;</th><th scope=col>&lt;chr&gt;</th><th scope=col>&lt;chr&gt;</th></tr>\n",
       "</thead>\n",
       "<tbody>\n",
       "\t<tr><th scope=row>GSM5574685</th><td>tumor rep1</td><td>breast tumor</td><td>yes</td><td>CA.102548 </td></tr>\n",
       "\t<tr><th scope=row>GSM5574686</th><td>tumor rep2</td><td>breast tumor</td><td>yes</td><td>CA.104338 </td></tr>\n",
       "\t<tr><th scope=row>GSM5574687</th><td>tumor rep3</td><td>breast tumor</td><td>yes</td><td>CA.105094 </td></tr>\n",
       "\t<tr><th scope=row>GSM5574688</th><td>tumor rep4</td><td>breast tumor</td><td>no </td><td>CA.109745 </td></tr>\n",
       "\t<tr><th scope=row>GSM5574689</th><td>tumor rep5</td><td>breast tumor</td><td>no </td><td>CA.1906415</td></tr>\n",
       "\t<tr><th scope=row>GSM5574690</th><td>tumor rep6</td><td>breast tumor</td><td>yes</td><td>CA.1912627</td></tr>\n",
       "</tbody>\n",
       "</table>\n"
      ],
      "text/latex": [
       "A data.frame: 6 × 4\n",
       "\\begin{tabular}{r|llll}\n",
       "  & title & tissue & metastasis & description\\\\\n",
       "  & <chr> & <chr> & <chr> & <chr>\\\\\n",
       "\\hline\n",
       "\tGSM5574685 & tumor rep1 & breast tumor & yes & CA.102548 \\\\\n",
       "\tGSM5574686 & tumor rep2 & breast tumor & yes & CA.104338 \\\\\n",
       "\tGSM5574687 & tumor rep3 & breast tumor & yes & CA.105094 \\\\\n",
       "\tGSM5574688 & tumor rep4 & breast tumor & no  & CA.109745 \\\\\n",
       "\tGSM5574689 & tumor rep5 & breast tumor & no  & CA.1906415\\\\\n",
       "\tGSM5574690 & tumor rep6 & breast tumor & yes & CA.1912627\\\\\n",
       "\\end{tabular}\n"
      ],
      "text/markdown": [
       "\n",
       "A data.frame: 6 × 4\n",
       "\n",
       "| <!--/--> | title &lt;chr&gt; | tissue &lt;chr&gt; | metastasis &lt;chr&gt; | description &lt;chr&gt; |\n",
       "|---|---|---|---|---|\n",
       "| GSM5574685 | tumor rep1 | breast tumor | yes | CA.102548  |\n",
       "| GSM5574686 | tumor rep2 | breast tumor | yes | CA.104338  |\n",
       "| GSM5574687 | tumor rep3 | breast tumor | yes | CA.105094  |\n",
       "| GSM5574688 | tumor rep4 | breast tumor | no  | CA.109745  |\n",
       "| GSM5574689 | tumor rep5 | breast tumor | no  | CA.1906415 |\n",
       "| GSM5574690 | tumor rep6 | breast tumor | yes | CA.1912627 |\n",
       "\n"
      ],
      "text/plain": [
       "           title      tissue       metastasis description\n",
       "GSM5574685 tumor rep1 breast tumor yes        CA.102548  \n",
       "GSM5574686 tumor rep2 breast tumor yes        CA.104338  \n",
       "GSM5574687 tumor rep3 breast tumor yes        CA.105094  \n",
       "GSM5574688 tumor rep4 breast tumor no         CA.109745  \n",
       "GSM5574689 tumor rep5 breast tumor no         CA.1906415 \n",
       "GSM5574690 tumor rep6 breast tumor yes        CA.1912627 "
      ]
     },
     "metadata": {},
     "output_type": "display_data"
    }
   ],
   "source": [
    "pheno_data <- pData(gse)\n",
    "modified.pheno = pheno_data %>%\n",
    "  select(1,10,11,17) %>%\n",
    "  rename(tissue = characteristics_ch1) %>%\n",
    "  rename(metastasis = characteristics_ch1.1) %>%\n",
    "  mutate(tissue = gsub(\"tissue: \", \"\", tissue)) %>%\n",
    "  mutate(metastasis = gsub(\"metastasis: \", \"\", metastasis))\n",
    "head(modified.pheno)\n"
   ]
  },
  {
   "cell_type": "code",
   "execution_count": null,
   "metadata": {
    "vscode": {
     "languageId": "r"
    }
   },
   "outputs": [
    {
     "data": {
      "text/html": [],
      "text/latex": [],
      "text/markdown": [],
      "text/plain": [
       "<0 x 0 matrix>"
      ]
     },
     "metadata": {},
     "output_type": "display_data"
    }
   ],
   "source": []
  }
 ],
 "metadata": {
  "kernelspec": {
   "display_name": "R",
   "language": "R",
   "name": "ir"
  },
  "language_info": {
   "codemirror_mode": "r",
   "file_extension": ".r",
   "mimetype": "text/x-r-source",
   "name": "R",
   "pygments_lexer": "r",
   "version": "4.3.3"
  }
 },
 "nbformat": 4,
 "nbformat_minor": 2
}
