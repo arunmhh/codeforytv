{
 "cells": [
  {
   "cell_type": "code",
   "execution_count": 41,
   "metadata": {
    "vscode": {
     "languageId": "r"
    }
   },
   "outputs": [],
   "source": [
    "# load libraries\n",
    "library(dplyr)\n",
    "library(tidyverse)\n",
    "library(GEOquery)"
   ]
  },
  {
   "cell_type": "code",
   "execution_count": 42,
   "metadata": {
    "vscode": {
     "languageId": "r"
    }
   },
   "outputs": [
    {
     "name": "stderr",
     "output_type": "stream",
     "text": [
      "Found 1 file(s)\n",
      "\n",
      "GSE197406_series_matrix.txt.gz\n",
      "\n",
      "Using locally cached version: /var/folders/1c/4pxks9s17nnfr2djltgq72mr0000gn/T//RtmpreoQ1A/GSE197406_series_matrix.txt.gz\n",
      "\n",
      "Using locally cached version of GPL570 found here:\n",
      "/var/folders/1c/4pxks9s17nnfr2djltgq72mr0000gn/T//RtmpreoQ1A/GPL570.soft.gz \n",
      "\n"
     ]
    },
    {
     "data": {
      "text/html": [
       "1"
      ],
      "text/latex": [
       "1"
      ],
      "text/markdown": [
       "1"
      ],
      "text/plain": [
       "[1] 1"
      ]
     },
     "metadata": {},
     "output_type": "display_data"
    },
    {
     "data": {
      "text/html": [
       "'GSE197406_series_matrix.txt.gz'"
      ],
      "text/latex": [
       "'GSE197406\\_series\\_matrix.txt.gz'"
      ],
      "text/markdown": [
       "'GSE197406_series_matrix.txt.gz'"
      ],
      "text/plain": [
       "[1] \"GSE197406_series_matrix.txt.gz\""
      ]
     },
     "metadata": {},
     "output_type": "display_data"
    }
   ],
   "source": [
    "# get metadata --------\n",
    "gse <- getGEO(GEO = 'GSE197406', GSEMatrix = TRUE)\n",
    "length(gse)\n",
    "names(gse)\n"
   ]
  },
  {
   "cell_type": "code",
   "execution_count": 44,
   "metadata": {
    "vscode": {
     "languageId": "r"
    }
   },
   "outputs": [
    {
     "data": {
      "text/html": [
       "'ExpressionSet'"
      ],
      "text/latex": [
       "'ExpressionSet'"
      ],
      "text/markdown": [
       "'ExpressionSet'"
      ],
      "text/plain": [
       "[1] \"ExpressionSet\"\n",
       "attr(,\"package\")\n",
       "[1] \"Biobase\""
      ]
     },
     "metadata": {},
     "output_type": "display_data"
    }
   ],
   "source": [
    "gse <- gse[[1]]\n",
    "class(gse)\n",
    "\n"
   ]
  },
  {
   "cell_type": "code",
   "execution_count": 46,
   "metadata": {
    "vscode": {
     "languageId": "r"
    }
   },
   "outputs": [
    {
     "data": {
      "text/html": [
       "<style>\n",
       ".list-inline {list-style: none; margin:0; padding: 0}\n",
       ".list-inline>li {display: inline-block}\n",
       ".list-inline>li:not(:last-child)::after {content: \"\\00b7\"; padding: 0 .5ex}\n",
       "</style>\n",
       "<ol class=list-inline><li>54675</li><li>15</li></ol>\n"
      ],
      "text/latex": [
       "\\begin{enumerate*}\n",
       "\\item 54675\n",
       "\\item 15\n",
       "\\end{enumerate*}\n"
      ],
      "text/markdown": [
       "1. 54675\n",
       "2. 15\n",
       "\n",
       "\n"
      ],
      "text/plain": [
       "[1] 54675    15"
      ]
     },
     "metadata": {},
     "output_type": "display_data"
    },
    {
     "data": {
      "text/html": [
       "<table class=\"dataframe\">\n",
       "<caption>A matrix: 6 × 5 of type dbl</caption>\n",
       "<thead>\n",
       "\t<tr><th></th><th scope=col>GSM5916425</th><th scope=col>GSM5916426</th><th scope=col>GSM5916427</th><th scope=col>GSM5916428</th><th scope=col>GSM5916429</th></tr>\n",
       "</thead>\n",
       "<tbody>\n",
       "\t<tr><th scope=row>1007_s_at</th><td>8.25153</td><td>7.76315</td><td>8.40313</td><td>7.98926</td><td>8.05217</td></tr>\n",
       "\t<tr><th scope=row>1053_at</th><td>6.74268</td><td>6.75010</td><td>6.50660</td><td>6.88312</td><td>6.97066</td></tr>\n",
       "\t<tr><th scope=row>117_at</th><td>6.74961</td><td>6.53426</td><td>6.72746</td><td>6.90891</td><td>6.80198</td></tr>\n",
       "\t<tr><th scope=row>121_at</th><td>8.79223</td><td>8.73107</td><td>9.32590</td><td>9.22579</td><td>9.28703</td></tr>\n",
       "\t<tr><th scope=row>1255_g_at</th><td>5.60172</td><td>5.69342</td><td>5.70023</td><td>5.77163</td><td>5.73856</td></tr>\n",
       "\t<tr><th scope=row>1294_at</th><td>7.68554</td><td>7.71898</td><td>7.58802</td><td>7.67031</td><td>7.84641</td></tr>\n",
       "</tbody>\n",
       "</table>\n"
      ],
      "text/latex": [
       "A matrix: 6 × 5 of type dbl\n",
       "\\begin{tabular}{r|lllll}\n",
       "  & GSM5916425 & GSM5916426 & GSM5916427 & GSM5916428 & GSM5916429\\\\\n",
       "\\hline\n",
       "\t1007\\_s\\_at & 8.25153 & 7.76315 & 8.40313 & 7.98926 & 8.05217\\\\\n",
       "\t1053\\_at & 6.74268 & 6.75010 & 6.50660 & 6.88312 & 6.97066\\\\\n",
       "\t117\\_at & 6.74961 & 6.53426 & 6.72746 & 6.90891 & 6.80198\\\\\n",
       "\t121\\_at & 8.79223 & 8.73107 & 9.32590 & 9.22579 & 9.28703\\\\\n",
       "\t1255\\_g\\_at & 5.60172 & 5.69342 & 5.70023 & 5.77163 & 5.73856\\\\\n",
       "\t1294\\_at & 7.68554 & 7.71898 & 7.58802 & 7.67031 & 7.84641\\\\\n",
       "\\end{tabular}\n"
      ],
      "text/markdown": [
       "\n",
       "A matrix: 6 × 5 of type dbl\n",
       "\n",
       "| <!--/--> | GSM5916425 | GSM5916426 | GSM5916427 | GSM5916428 | GSM5916429 |\n",
       "|---|---|---|---|---|---|\n",
       "| 1007_s_at | 8.25153 | 7.76315 | 8.40313 | 7.98926 | 8.05217 |\n",
       "| 1053_at | 6.74268 | 6.75010 | 6.50660 | 6.88312 | 6.97066 |\n",
       "| 117_at | 6.74961 | 6.53426 | 6.72746 | 6.90891 | 6.80198 |\n",
       "| 121_at | 8.79223 | 8.73107 | 9.32590 | 9.22579 | 9.28703 |\n",
       "| 1255_g_at | 5.60172 | 5.69342 | 5.70023 | 5.77163 | 5.73856 |\n",
       "| 1294_at | 7.68554 | 7.71898 | 7.58802 | 7.67031 | 7.84641 |\n",
       "\n"
      ],
      "text/plain": [
       "          GSM5916425 GSM5916426 GSM5916427 GSM5916428 GSM5916429\n",
       "1007_s_at 8.25153    7.76315    8.40313    7.98926    8.05217   \n",
       "1053_at   6.74268    6.75010    6.50660    6.88312    6.97066   \n",
       "117_at    6.74961    6.53426    6.72746    6.90891    6.80198   \n",
       "121_at    8.79223    8.73107    9.32590    9.22579    9.28703   \n",
       "1255_g_at 5.60172    5.69342    5.70023    5.77163    5.73856   \n",
       "1294_at   7.68554    7.71898    7.58802    7.67031    7.84641   "
      ]
     },
     "metadata": {},
     "output_type": "display_data"
    }
   ],
   "source": [
    "expr_matrix <- exprs(gse)\n",
    "dim(expr_matrix)\n",
    "head(expr_matrix[, 1:5])"
   ]
  },
  {
   "cell_type": "code",
   "execution_count": null,
   "metadata": {
    "vscode": {
     "languageId": "r"
    }
   },
   "outputs": [],
   "source": []
  },
  {
   "cell_type": "code",
   "execution_count": 49,
   "metadata": {
    "vscode": {
     "languageId": "r"
    }
   },
   "outputs": [
    {
     "data": {
      "text/html": [
       "<table class=\"dataframe\">\n",
       "<caption>A data.frame: 6 × 4</caption>\n",
       "<thead>\n",
       "\t<tr><th></th><th scope=col>title</th><th scope=col>characteristics_ch1</th><th scope=col>characteristics_ch1.1</th><th scope=col>extract_protocol_ch1</th></tr>\n",
       "\t<tr><th></th><th scope=col>&lt;chr&gt;</th><th scope=col>&lt;chr&gt;</th><th scope=col>&lt;chr&gt;</th><th scope=col>&lt;chr&gt;</th></tr>\n",
       "</thead>\n",
       "<tbody>\n",
       "\t<tr><th scope=row>GSM5916425</th><td>NL1</td><td>disease state: Human liver (no liver abnormality)</td><td>tissue: Liver</td><td>Trizol extraction of total RNA followed by Rneasy cleanup procedure performed according to the manufacturer's instructions.</td></tr>\n",
       "\t<tr><th scope=row>GSM5916426</th><td>NL2</td><td>disease state: Human liver (no liver abnormality)</td><td>tissue: Liver</td><td>Trizol extraction of total RNA followed by Rneasy cleanup procedure performed according to the manufacturer's instructions.</td></tr>\n",
       "\t<tr><th scope=row>GSM5916427</th><td>NL3</td><td>disease state: Human liver (no liver abnormality)</td><td>tissue: Liver</td><td>Trizol extraction of total RNA followed by Rneasy cleanup procedure performed according to the manufacturer's instructions.</td></tr>\n",
       "\t<tr><th scope=row>GSM5916428</th><td>NL4</td><td>disease state: Human liver (no liver abnormality)</td><td>tissue: Liver</td><td>Trizol extraction of total RNA followed by Rneasy cleanup procedure performed according to the manufacturer's instructions.</td></tr>\n",
       "\t<tr><th scope=row>GSM5916429</th><td>NL5</td><td>disease state: Human liver (no liver abnormality)</td><td>tissue: Liver</td><td>Trizol extraction of total RNA followed by Rneasy cleanup procedure performed according to the manufacturer's instructions.</td></tr>\n",
       "\t<tr><th scope=row>GSM5916430</th><td>NL6</td><td>disease state: Human liver (no liver abnormality)</td><td>tissue: Liver</td><td>Trizol extraction of total RNA followed by Rneasy cleanup procedure performed according to the manufacturer's instructions.</td></tr>\n",
       "</tbody>\n",
       "</table>\n"
      ],
      "text/latex": [
       "A data.frame: 6 × 4\n",
       "\\begin{tabular}{r|llll}\n",
       "  & title & characteristics\\_ch1 & characteristics\\_ch1.1 & extract\\_protocol\\_ch1\\\\\n",
       "  & <chr> & <chr> & <chr> & <chr>\\\\\n",
       "\\hline\n",
       "\tGSM5916425 & NL1 & disease state: Human liver (no liver abnormality) & tissue: Liver & Trizol extraction of total RNA followed by Rneasy cleanup procedure performed according to the manufacturer's instructions.\\\\\n",
       "\tGSM5916426 & NL2 & disease state: Human liver (no liver abnormality) & tissue: Liver & Trizol extraction of total RNA followed by Rneasy cleanup procedure performed according to the manufacturer's instructions.\\\\\n",
       "\tGSM5916427 & NL3 & disease state: Human liver (no liver abnormality) & tissue: Liver & Trizol extraction of total RNA followed by Rneasy cleanup procedure performed according to the manufacturer's instructions.\\\\\n",
       "\tGSM5916428 & NL4 & disease state: Human liver (no liver abnormality) & tissue: Liver & Trizol extraction of total RNA followed by Rneasy cleanup procedure performed according to the manufacturer's instructions.\\\\\n",
       "\tGSM5916429 & NL5 & disease state: Human liver (no liver abnormality) & tissue: Liver & Trizol extraction of total RNA followed by Rneasy cleanup procedure performed according to the manufacturer's instructions.\\\\\n",
       "\tGSM5916430 & NL6 & disease state: Human liver (no liver abnormality) & tissue: Liver & Trizol extraction of total RNA followed by Rneasy cleanup procedure performed according to the manufacturer's instructions.\\\\\n",
       "\\end{tabular}\n"
      ],
      "text/markdown": [
       "\n",
       "A data.frame: 6 × 4\n",
       "\n",
       "| <!--/--> | title &lt;chr&gt; | characteristics_ch1 &lt;chr&gt; | characteristics_ch1.1 &lt;chr&gt; | extract_protocol_ch1 &lt;chr&gt; |\n",
       "|---|---|---|---|---|\n",
       "| GSM5916425 | NL1 | disease state: Human liver (no liver abnormality) | tissue: Liver | Trizol extraction of total RNA followed by Rneasy cleanup procedure performed according to the manufacturer's instructions. |\n",
       "| GSM5916426 | NL2 | disease state: Human liver (no liver abnormality) | tissue: Liver | Trizol extraction of total RNA followed by Rneasy cleanup procedure performed according to the manufacturer's instructions. |\n",
       "| GSM5916427 | NL3 | disease state: Human liver (no liver abnormality) | tissue: Liver | Trizol extraction of total RNA followed by Rneasy cleanup procedure performed according to the manufacturer's instructions. |\n",
       "| GSM5916428 | NL4 | disease state: Human liver (no liver abnormality) | tissue: Liver | Trizol extraction of total RNA followed by Rneasy cleanup procedure performed according to the manufacturer's instructions. |\n",
       "| GSM5916429 | NL5 | disease state: Human liver (no liver abnormality) | tissue: Liver | Trizol extraction of total RNA followed by Rneasy cleanup procedure performed according to the manufacturer's instructions. |\n",
       "| GSM5916430 | NL6 | disease state: Human liver (no liver abnormality) | tissue: Liver | Trizol extraction of total RNA followed by Rneasy cleanup procedure performed according to the manufacturer's instructions. |\n",
       "\n"
      ],
      "text/plain": [
       "           title characteristics_ch1                              \n",
       "GSM5916425 NL1   disease state: Human liver (no liver abnormality)\n",
       "GSM5916426 NL2   disease state: Human liver (no liver abnormality)\n",
       "GSM5916427 NL3   disease state: Human liver (no liver abnormality)\n",
       "GSM5916428 NL4   disease state: Human liver (no liver abnormality)\n",
       "GSM5916429 NL5   disease state: Human liver (no liver abnormality)\n",
       "GSM5916430 NL6   disease state: Human liver (no liver abnormality)\n",
       "           characteristics_ch1.1\n",
       "GSM5916425 tissue: Liver        \n",
       "GSM5916426 tissue: Liver        \n",
       "GSM5916427 tissue: Liver        \n",
       "GSM5916428 tissue: Liver        \n",
       "GSM5916429 tissue: Liver        \n",
       "GSM5916430 tissue: Liver        \n",
       "           extract_protocol_ch1                                                                                                       \n",
       "GSM5916425 Trizol extraction of total RNA followed by Rneasy cleanup procedure performed according to the manufacturer's instructions.\n",
       "GSM5916426 Trizol extraction of total RNA followed by Rneasy cleanup procedure performed according to the manufacturer's instructions.\n",
       "GSM5916427 Trizol extraction of total RNA followed by Rneasy cleanup procedure performed according to the manufacturer's instructions.\n",
       "GSM5916428 Trizol extraction of total RNA followed by Rneasy cleanup procedure performed according to the manufacturer's instructions.\n",
       "GSM5916429 Trizol extraction of total RNA followed by Rneasy cleanup procedure performed according to the manufacturer's instructions.\n",
       "GSM5916430 Trizol extraction of total RNA followed by Rneasy cleanup procedure performed according to the manufacturer's instructions."
      ]
     },
     "metadata": {},
     "output_type": "display_data"
    }
   ],
   "source": [
    "pheno_data <- pData(gse)\n",
    "modified.pheno = pheno_data %>%\n",
    "  select(1,10,11,17) #%>%\n",
    "  #rename(tissue = characteristics_ch1) %>%\n",
    "  #rename(metastasis = characteristics_ch1.1) %>%\n",
    "  #mutate(tissue = gsub(\"tissue: \", \"\", tissue)) %>%\n",
    "  #mutate(metastasis = gsub(\"metastasis: \", \"\", metastasis))\n",
    "head(modified.pheno)\n"
   ]
  },
  {
   "cell_type": "code",
   "execution_count": 50,
   "metadata": {
    "vscode": {
     "languageId": "r"
    }
   },
   "outputs": [
    {
     "data": {
      "text/html": [
       "<table class=\"dataframe\">\n",
       "<caption>A data.frame: 6 × 6</caption>\n",
       "<thead>\n",
       "\t<tr><th></th><th scope=col>ID</th><th scope=col>GB_ACC</th><th scope=col>SPOT_ID</th><th scope=col>Species Scientific Name</th><th scope=col>Annotation Date</th><th scope=col>Sequence Type</th></tr>\n",
       "\t<tr><th></th><th scope=col>&lt;chr&gt;</th><th scope=col>&lt;chr&gt;</th><th scope=col>&lt;chr&gt;</th><th scope=col>&lt;chr&gt;</th><th scope=col>&lt;chr&gt;</th><th scope=col>&lt;chr&gt;</th></tr>\n",
       "</thead>\n",
       "<tbody>\n",
       "\t<tr><th scope=row>1007_s_at</th><td>1007_s_at</td><td>U48705</td><td></td><td>Homo sapiens</td><td>Oct 6, 2014</td><td>Exemplar sequence</td></tr>\n",
       "\t<tr><th scope=row>1053_at</th><td>1053_at  </td><td>M87338</td><td></td><td>Homo sapiens</td><td>Oct 6, 2014</td><td>Exemplar sequence</td></tr>\n",
       "\t<tr><th scope=row>117_at</th><td>117_at   </td><td>X51757</td><td></td><td>Homo sapiens</td><td>Oct 6, 2014</td><td>Exemplar sequence</td></tr>\n",
       "\t<tr><th scope=row>121_at</th><td>121_at   </td><td>X69699</td><td></td><td>Homo sapiens</td><td>Oct 6, 2014</td><td>Exemplar sequence</td></tr>\n",
       "\t<tr><th scope=row>1255_g_at</th><td>1255_g_at</td><td>L36861</td><td></td><td>Homo sapiens</td><td>Oct 6, 2014</td><td>Exemplar sequence</td></tr>\n",
       "\t<tr><th scope=row>1294_at</th><td>1294_at  </td><td>L13852</td><td></td><td>Homo sapiens</td><td>Oct 6, 2014</td><td>Exemplar sequence</td></tr>\n",
       "</tbody>\n",
       "</table>\n"
      ],
      "text/latex": [
       "A data.frame: 6 × 6\n",
       "\\begin{tabular}{r|llllll}\n",
       "  & ID & GB\\_ACC & SPOT\\_ID & Species Scientific Name & Annotation Date & Sequence Type\\\\\n",
       "  & <chr> & <chr> & <chr> & <chr> & <chr> & <chr>\\\\\n",
       "\\hline\n",
       "\t1007\\_s\\_at & 1007\\_s\\_at & U48705 &  & Homo sapiens & Oct 6, 2014 & Exemplar sequence\\\\\n",
       "\t1053\\_at & 1053\\_at   & M87338 &  & Homo sapiens & Oct 6, 2014 & Exemplar sequence\\\\\n",
       "\t117\\_at & 117\\_at    & X51757 &  & Homo sapiens & Oct 6, 2014 & Exemplar sequence\\\\\n",
       "\t121\\_at & 121\\_at    & X69699 &  & Homo sapiens & Oct 6, 2014 & Exemplar sequence\\\\\n",
       "\t1255\\_g\\_at & 1255\\_g\\_at & L36861 &  & Homo sapiens & Oct 6, 2014 & Exemplar sequence\\\\\n",
       "\t1294\\_at & 1294\\_at   & L13852 &  & Homo sapiens & Oct 6, 2014 & Exemplar sequence\\\\\n",
       "\\end{tabular}\n"
      ],
      "text/markdown": [
       "\n",
       "A data.frame: 6 × 6\n",
       "\n",
       "| <!--/--> | ID &lt;chr&gt; | GB_ACC &lt;chr&gt; | SPOT_ID &lt;chr&gt; | Species Scientific Name &lt;chr&gt; | Annotation Date &lt;chr&gt; | Sequence Type &lt;chr&gt; |\n",
       "|---|---|---|---|---|---|---|\n",
       "| 1007_s_at | 1007_s_at | U48705 | <!----> | Homo sapiens | Oct 6, 2014 | Exemplar sequence |\n",
       "| 1053_at | 1053_at   | M87338 | <!----> | Homo sapiens | Oct 6, 2014 | Exemplar sequence |\n",
       "| 117_at | 117_at    | X51757 | <!----> | Homo sapiens | Oct 6, 2014 | Exemplar sequence |\n",
       "| 121_at | 121_at    | X69699 | <!----> | Homo sapiens | Oct 6, 2014 | Exemplar sequence |\n",
       "| 1255_g_at | 1255_g_at | L36861 | <!----> | Homo sapiens | Oct 6, 2014 | Exemplar sequence |\n",
       "| 1294_at | 1294_at   | L13852 | <!----> | Homo sapiens | Oct 6, 2014 | Exemplar sequence |\n",
       "\n"
      ],
      "text/plain": [
       "          ID        GB_ACC SPOT_ID Species Scientific Name Annotation Date\n",
       "1007_s_at 1007_s_at U48705         Homo sapiens            Oct 6, 2014    \n",
       "1053_at   1053_at   M87338         Homo sapiens            Oct 6, 2014    \n",
       "117_at    117_at    X51757         Homo sapiens            Oct 6, 2014    \n",
       "121_at    121_at    X69699         Homo sapiens            Oct 6, 2014    \n",
       "1255_g_at 1255_g_at L36861         Homo sapiens            Oct 6, 2014    \n",
       "1294_at   1294_at   L13852         Homo sapiens            Oct 6, 2014    \n",
       "          Sequence Type    \n",
       "1007_s_at Exemplar sequence\n",
       "1053_at   Exemplar sequence\n",
       "117_at    Exemplar sequence\n",
       "121_at    Exemplar sequence\n",
       "1255_g_at Exemplar sequence\n",
       "1294_at   Exemplar sequence"
      ]
     },
     "metadata": {},
     "output_type": "display_data"
    }
   ],
   "source": [
    "## featue data\n",
    "\n",
    "feature_data <- fData(gse)\n",
    "head(feature_data[, 1:6])\n"
   ]
  },
  {
   "cell_type": "code",
   "execution_count": 51,
   "metadata": {
    "vscode": {
     "languageId": "r"
    }
   },
   "outputs": [
    {
     "data": {
      "text/html": [
       "TRUE"
      ],
      "text/latex": [
       "TRUE"
      ],
      "text/markdown": [
       "TRUE"
      ],
      "text/plain": [
       "[1] TRUE"
      ]
     },
     "metadata": {},
     "output_type": "display_data"
    }
   ],
   "source": [
    "all(colnames(expr_matrix) == rownames(pheno_data))\n"
   ]
  }
 ],
 "metadata": {
  "kernelspec": {
   "display_name": "R",
   "language": "R",
   "name": "ir"
  },
  "language_info": {
   "codemirror_mode": "r",
   "file_extension": ".r",
   "mimetype": "text/x-r-source",
   "name": "R",
   "pygments_lexer": "r",
   "version": "4.3.3"
  }
 },
 "nbformat": 4,
 "nbformat_minor": 2
}
