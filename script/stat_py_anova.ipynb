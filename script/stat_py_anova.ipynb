{
 "cells": [
  {
   "cell_type": "code",
   "execution_count": 17,
   "metadata": {},
   "outputs": [],
   "source": [
    "import pandas as pd\n",
    "import matplotlib.pyplot as plt\n",
    "from scipy.stats import levene, bartlett\n",
    "import statsmodels.api as sm\n",
    "from statsmodels.formula.api import ols"
   ]
  },
  {
   "cell_type": "code",
   "execution_count": null,
   "metadata": {},
   "outputs": [],
   "source": [
    "data_anxity = pd.read_csv(\"anxity.csv\")\n",
    "data_anxity"
   ]
  },
  {
   "cell_type": "code",
   "execution_count": 16,
   "metadata": {},
   "outputs": [
    {
     "data": {
      "text/html": [
       "<div>\n",
       "<style scoped>\n",
       "    .dataframe tbody tr th:only-of-type {\n",
       "        vertical-align: middle;\n",
       "    }\n",
       "\n",
       "    .dataframe tbody tr th {\n",
       "        vertical-align: top;\n",
       "    }\n",
       "\n",
       "    .dataframe thead th {\n",
       "        text-align: right;\n",
       "    }\n",
       "</style>\n",
       "<table border=\"1\" class=\"dataframe\">\n",
       "  <thead>\n",
       "    <tr style=\"text-align: right;\">\n",
       "      <th></th>\n",
       "      <th>group</th>\n",
       "      <th>observation</th>\n",
       "      <th>reads</th>\n",
       "    </tr>\n",
       "  </thead>\n",
       "  <tbody>\n",
       "    <tr>\n",
       "      <th>0</th>\n",
       "      <td>grp1</td>\n",
       "      <td>t1</td>\n",
       "      <td>14.1</td>\n",
       "    </tr>\n",
       "    <tr>\n",
       "      <th>1</th>\n",
       "      <td>grp1</td>\n",
       "      <td>t2</td>\n",
       "      <td>14.4</td>\n",
       "    </tr>\n",
       "    <tr>\n",
       "      <th>2</th>\n",
       "      <td>grp1</td>\n",
       "      <td>t3</td>\n",
       "      <td>14.1</td>\n",
       "    </tr>\n",
       "    <tr>\n",
       "      <th>3</th>\n",
       "      <td>grp1</td>\n",
       "      <td>t1</td>\n",
       "      <td>14.5</td>\n",
       "    </tr>\n",
       "    <tr>\n",
       "      <th>4</th>\n",
       "      <td>grp1</td>\n",
       "      <td>t2</td>\n",
       "      <td>14.6</td>\n",
       "    </tr>\n",
       "    <tr>\n",
       "      <th>...</th>\n",
       "      <td>...</td>\n",
       "      <td>...</td>\n",
       "      <td>...</td>\n",
       "    </tr>\n",
       "    <tr>\n",
       "      <th>130</th>\n",
       "      <td>grp3</td>\n",
       "      <td>t2</td>\n",
       "      <td>16.4</td>\n",
       "    </tr>\n",
       "    <tr>\n",
       "      <th>131</th>\n",
       "      <td>grp3</td>\n",
       "      <td>t3</td>\n",
       "      <td>15.1</td>\n",
       "    </tr>\n",
       "    <tr>\n",
       "      <th>132</th>\n",
       "      <td>grp3</td>\n",
       "      <td>t1</td>\n",
       "      <td>19.0</td>\n",
       "    </tr>\n",
       "    <tr>\n",
       "      <th>133</th>\n",
       "      <td>grp3</td>\n",
       "      <td>t2</td>\n",
       "      <td>17.2</td>\n",
       "    </tr>\n",
       "    <tr>\n",
       "      <th>134</th>\n",
       "      <td>grp3</td>\n",
       "      <td>t3</td>\n",
       "      <td>15.5</td>\n",
       "    </tr>\n",
       "  </tbody>\n",
       "</table>\n",
       "<p>135 rows × 3 columns</p>\n",
       "</div>"
      ],
      "text/plain": [
       "    group observation  reads\n",
       "0    grp1          t1   14.1\n",
       "1    grp1          t2   14.4\n",
       "2    grp1          t3   14.1\n",
       "3    grp1          t1   14.5\n",
       "4    grp1          t2   14.6\n",
       "..    ...         ...    ...\n",
       "130  grp3          t2   16.4\n",
       "131  grp3          t3   15.1\n",
       "132  grp3          t1   19.0\n",
       "133  grp3          t2   17.2\n",
       "134  grp3          t3   15.5\n",
       "\n",
       "[135 rows x 3 columns]"
      ]
     },
     "execution_count": 16,
     "metadata": {},
     "output_type": "execute_result"
    }
   ],
   "source": [
    "anxity_subset = data_anxity[[\"group\",\"observation\",\"reads\"]]\n",
    "anxity_subset"
   ]
  },
  {
   "cell_type": "code",
   "execution_count": 33,
   "metadata": {},
   "outputs": [
    {
     "name": "stdout",
     "output_type": "stream",
     "text": [
      "statistic: 0.9869789036748995\n",
      "p_value: 0.23155222959112665\n"
     ]
    }
   ],
   "source": [
    "## Normality check\n",
    "statistic, p_value = stats.shapiro(data_anxity[\"reads\"])\n",
    "print(\"statistic:\", statistic)\n",
    "print(\"p_value:\", p_value)"
   ]
  },
  {
   "cell_type": "code",
   "execution_count": 42,
   "metadata": {},
   "outputs": [
    {
     "data": {
      "text/plain": [
       "array(['t1', 't2', 't3'], dtype=object)"
      ]
     },
     "execution_count": 42,
     "metadata": {},
     "output_type": "execute_result"
    }
   ],
   "source": [
    "# Extract unique levels of \"observation\"\n",
    "observation_levels = data_anxity[\"observation\"].unique()\n",
    "observation_levels"
   ]
  },
  {
   "cell_type": "code",
   "execution_count": 51,
   "metadata": {},
   "outputs": [
    {
     "name": "stdout",
     "output_type": "stream",
     "text": [
      "Levene's test statistic: 2.3410322270615245\n",
      "p-value: 0.10021171478874775\n"
     ]
    }
   ],
   "source": [
    "from scipy.stats import levene\n",
    "\n",
    "# Group the \"reads\" data by \"observation\"\n",
    "grouped_reads = [data_anxity[data_anxity[\"observation\"] == level][\"reads\"] for level in [\"t1\", \"t2\", \"t3\"]]\n",
    "\n",
    "# Perform Levene's test\n",
    "statistic, p_value = levene(*grouped_reads)\n",
    "\n",
    "print(\"Levene's test statistic:\", statistic)\n",
    "print(\"p-value:\", p_value)\n"
   ]
  },
  {
   "cell_type": "markdown",
   "metadata": {},
   "source": [
    "#### there is no significant mean difference between the groups\n",
    "#### Ha = there is significant difference between the groups\n",
    "#### alpha = 0.05\n",
    "Model we are using is OLS from statsmodels package.\n",
    "In ANOVA, OLS is used to fit the model to the observed data, and it estimates the mean response for each level of the categorical variables (factors) by finding the best-fitting line through the data points."
   ]
  },
  {
   "cell_type": "code",
   "execution_count": 19,
   "metadata": {},
   "outputs": [],
   "source": [
    "mod = ols(\"reads ~ observation\", data= anxity_subset).fit()"
   ]
  },
  {
   "cell_type": "code",
   "execution_count": 20,
   "metadata": {},
   "outputs": [
    {
     "name": "stdout",
     "output_type": "stream",
     "text": [
      "                df      sum_sq    mean_sq          F    PR(>F)\n",
      "observation    2.0   66.578815  33.289407  10.839924  0.000044\n",
      "Residual     132.0  405.372000   3.071000        NaN       NaN\n"
     ]
    }
   ],
   "source": [
    "aov_table = sm.stats.anova_lm(mod, type=2)\n",
    "print(aov_table)"
   ]
  },
  {
   "cell_type": "markdown",
   "metadata": {},
   "source": [
    "results shows us that p_value is significant between the groups. but we don't know which group have the significance difference. to know about the significant group. we do the TukeyHSD test."
   ]
  },
  {
   "cell_type": "code",
   "execution_count": 24,
   "metadata": {},
   "outputs": [
    {
     "name": "stdout",
     "output_type": "stream",
     "text": [
      "Multiple Comparison of Means - Tukey HSD, FWER=0.05\n",
      "===================================================\n",
      "group1 group2 meandiff p-adj   lower  upper  reject\n",
      "---------------------------------------------------\n",
      "    t1     t2    -0.78 0.0914 -1.6557 0.0957  False\n",
      "    t1     t3  -1.7178    0.0 -2.5935 -0.842   True\n",
      "    t2     t3  -0.9378 0.0327 -1.8135 -0.062   True\n",
      "---------------------------------------------------\n"
     ]
    }
   ],
   "source": [
    "#pairwise_tukeyhsd test\n",
    "tukey_result = sm.stats.multicomp.pairwise_tukeyhsd(data_anxity['reads'], data_anxity['observation'])\n",
    "print(tukey_result)\n"
   ]
  },
  {
   "cell_type": "code",
   "execution_count": 27,
   "metadata": {},
   "outputs": [
    {
     "name": "stdout",
     "output_type": "stream",
     "text": [
      "                df      sum_sq    mean_sq          F    PR(>F)\n",
      "observation    2.0   66.578815  33.289407  10.839924  0.000044\n",
      "Residual     132.0  405.372000   3.071000        NaN       NaN\n"
     ]
    }
   ],
   "source": [
    "import pingouin as pg\n",
    "aov = pg.anova(data_anxity, dv = \"reads\", between = \"observation\", detailed= True)\n",
    "print(aov_table)"
   ]
  },
  {
   "cell_type": "code",
   "execution_count": 28,
   "metadata": {},
   "outputs": [
    {
     "name": "stdout",
     "output_type": "stream",
     "text": [
      "    A   B    mean(A)    mean(B)      diff        se         T   p-tukey  \\\n",
      "0  t1  t2  16.915556  16.135556  0.780000  0.369444  2.111281  0.091421   \n",
      "1  t1  t3  16.915556  15.197778  1.717778  0.369444  4.649629  0.000024   \n",
      "2  t2  t3  16.135556  15.197778  0.937778  0.369444  2.538349  0.032734   \n",
      "\n",
      "    hedges  \n",
      "0  0.47325  \n",
      "1  0.97601  \n",
      "2  0.49713  \n"
     ]
    }
   ],
   "source": [
    "pt = pg.pairwise_tukey(dv = \"reads\", between= \"observation\", data= data_anxity)\n",
    "print(pt)"
   ]
  }
 ],
 "metadata": {
  "kernelspec": {
   "display_name": "Python 3",
   "language": "python",
   "name": "python3"
  },
  "language_info": {
   "codemirror_mode": {
    "name": "ipython",
    "version": 3
   },
   "file_extension": ".py",
   "mimetype": "text/x-python",
   "name": "python",
   "nbconvert_exporter": "python",
   "pygments_lexer": "ipython3",
   "version": "3.12.3"
  }
 },
 "nbformat": 4,
 "nbformat_minor": 2
}
