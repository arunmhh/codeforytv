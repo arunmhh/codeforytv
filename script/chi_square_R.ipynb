{
 "cells": [
  {
   "cell_type": "markdown",
   "metadata": {},
   "source": [
    "Ho = there is no difference between group or groups are independent\n",
    "Ha = there is difference between groups and groups are dependent\n",
    "alpha = 0.05"
   ]
  },
  {
   "cell_type": "code",
   "execution_count": 3,
   "metadata": {
    "vscode": {
     "languageId": "r"
    }
   },
   "outputs": [],
   "source": [
    "library(tidyverse)"
   ]
  },
  {
   "cell_type": "code",
   "execution_count": 4,
   "metadata": {
    "vscode": {
     "languageId": "r"
    }
   },
   "outputs": [],
   "source": [
    "#generate data\n",
    "set.seed(123)"
   ]
  },
  {
   "cell_type": "code",
   "execution_count": 7,
   "metadata": {
    "vscode": {
     "languageId": "r"
    }
   },
   "outputs": [
    {
     "data": {
      "text/html": [
       "<table class=\"dataframe\">\n",
       "<caption>A data.frame: 100 × 2</caption>\n",
       "<thead>\n",
       "\t<tr><th scope=col>Category</th><th scope=col>Outcome</th></tr>\n",
       "\t<tr><th scope=col>&lt;chr&gt;</th><th scope=col>&lt;chr&gt;</th></tr>\n",
       "</thead>\n",
       "<tbody>\n",
       "\t<tr><td>B</td><td>yes</td></tr>\n",
       "\t<tr><td>A</td><td>yes</td></tr>\n",
       "\t<tr><td>A</td><td>yes</td></tr>\n",
       "\t<tr><td>B</td><td>no </td></tr>\n",
       "\t<tr><td>C</td><td>yes</td></tr>\n",
       "\t<tr><td>A</td><td>yes</td></tr>\n",
       "\t<tr><td>B</td><td>yes</td></tr>\n",
       "\t<tr><td>B</td><td>no </td></tr>\n",
       "\t<tr><td>A</td><td>yes</td></tr>\n",
       "\t<tr><td>B</td><td>yes</td></tr>\n",
       "\t<tr><td>A</td><td>no </td></tr>\n",
       "\t<tr><td>A</td><td>yes</td></tr>\n",
       "\t<tr><td>B</td><td>yes</td></tr>\n",
       "\t<tr><td>A</td><td>yes</td></tr>\n",
       "\t<tr><td>C</td><td>no </td></tr>\n",
       "\t<tr><td>A</td><td>no </td></tr>\n",
       "\t<tr><td>A</td><td>yes</td></tr>\n",
       "\t<tr><td>B</td><td>yes</td></tr>\n",
       "\t<tr><td>A</td><td>yes</td></tr>\n",
       "\t<tr><td>B</td><td>no </td></tr>\n",
       "\t<tr><td>A</td><td>yes</td></tr>\n",
       "\t<tr><td>A</td><td>no </td></tr>\n",
       "\t<tr><td>A</td><td>yes</td></tr>\n",
       "\t<tr><td>C</td><td>no </td></tr>\n",
       "\t<tr><td>C</td><td>yes</td></tr>\n",
       "\t<tr><td>B</td><td>yes</td></tr>\n",
       "\t<tr><td>A</td><td>yes</td></tr>\n",
       "\t<tr><td>B</td><td>no </td></tr>\n",
       "\t<tr><td>C</td><td>no </td></tr>\n",
       "\t<tr><td>B</td><td>yes</td></tr>\n",
       "\t<tr><td>⋮</td><td>⋮</td></tr>\n",
       "\t<tr><td>C</td><td>yes</td></tr>\n",
       "\t<tr><td>A</td><td>no </td></tr>\n",
       "\t<tr><td>B</td><td>yes</td></tr>\n",
       "\t<tr><td>A</td><td>yes</td></tr>\n",
       "\t<tr><td>B</td><td>yes</td></tr>\n",
       "\t<tr><td>B</td><td>yes</td></tr>\n",
       "\t<tr><td>B</td><td>yes</td></tr>\n",
       "\t<tr><td>C</td><td>yes</td></tr>\n",
       "\t<tr><td>A</td><td>yes</td></tr>\n",
       "\t<tr><td>A</td><td>yes</td></tr>\n",
       "\t<tr><td>A</td><td>yes</td></tr>\n",
       "\t<tr><td>A</td><td>no </td></tr>\n",
       "\t<tr><td>C</td><td>no </td></tr>\n",
       "\t<tr><td>A</td><td>yes</td></tr>\n",
       "\t<tr><td>B</td><td>yes</td></tr>\n",
       "\t<tr><td>A</td><td>yes</td></tr>\n",
       "\t<tr><td>B</td><td>no </td></tr>\n",
       "\t<tr><td>B</td><td>no </td></tr>\n",
       "\t<tr><td>A</td><td>yes</td></tr>\n",
       "\t<tr><td>A</td><td>no </td></tr>\n",
       "\t<tr><td>A</td><td>yes</td></tr>\n",
       "\t<tr><td>A</td><td>no </td></tr>\n",
       "\t<tr><td>C</td><td>yes</td></tr>\n",
       "\t<tr><td>A</td><td>no </td></tr>\n",
       "\t<tr><td>A</td><td>yes</td></tr>\n",
       "\t<tr><td>A</td><td>yes</td></tr>\n",
       "\t<tr><td>B</td><td>yes</td></tr>\n",
       "\t<tr><td>B</td><td>no </td></tr>\n",
       "\t<tr><td>C</td><td>no </td></tr>\n",
       "\t<tr><td>B</td><td>yes</td></tr>\n",
       "</tbody>\n",
       "</table>\n"
      ],
      "text/latex": [
       "A data.frame: 100 × 2\n",
       "\\begin{tabular}{ll}\n",
       " Category & Outcome\\\\\n",
       " <chr> & <chr>\\\\\n",
       "\\hline\n",
       "\t B & yes\\\\\n",
       "\t A & yes\\\\\n",
       "\t A & yes\\\\\n",
       "\t B & no \\\\\n",
       "\t C & yes\\\\\n",
       "\t A & yes\\\\\n",
       "\t B & yes\\\\\n",
       "\t B & no \\\\\n",
       "\t A & yes\\\\\n",
       "\t B & yes\\\\\n",
       "\t A & no \\\\\n",
       "\t A & yes\\\\\n",
       "\t B & yes\\\\\n",
       "\t A & yes\\\\\n",
       "\t C & no \\\\\n",
       "\t A & no \\\\\n",
       "\t A & yes\\\\\n",
       "\t B & yes\\\\\n",
       "\t A & yes\\\\\n",
       "\t B & no \\\\\n",
       "\t A & yes\\\\\n",
       "\t A & no \\\\\n",
       "\t A & yes\\\\\n",
       "\t C & no \\\\\n",
       "\t C & yes\\\\\n",
       "\t B & yes\\\\\n",
       "\t A & yes\\\\\n",
       "\t B & no \\\\\n",
       "\t C & no \\\\\n",
       "\t B & yes\\\\\n",
       "\t ⋮ & ⋮\\\\\n",
       "\t C & yes\\\\\n",
       "\t A & no \\\\\n",
       "\t B & yes\\\\\n",
       "\t A & yes\\\\\n",
       "\t B & yes\\\\\n",
       "\t B & yes\\\\\n",
       "\t B & yes\\\\\n",
       "\t C & yes\\\\\n",
       "\t A & yes\\\\\n",
       "\t A & yes\\\\\n",
       "\t A & yes\\\\\n",
       "\t A & no \\\\\n",
       "\t C & no \\\\\n",
       "\t A & yes\\\\\n",
       "\t B & yes\\\\\n",
       "\t A & yes\\\\\n",
       "\t B & no \\\\\n",
       "\t B & no \\\\\n",
       "\t A & yes\\\\\n",
       "\t A & no \\\\\n",
       "\t A & yes\\\\\n",
       "\t A & no \\\\\n",
       "\t C & yes\\\\\n",
       "\t A & no \\\\\n",
       "\t A & yes\\\\\n",
       "\t A & yes\\\\\n",
       "\t B & yes\\\\\n",
       "\t B & no \\\\\n",
       "\t C & no \\\\\n",
       "\t B & yes\\\\\n",
       "\\end{tabular}\n"
      ],
      "text/markdown": [
       "\n",
       "A data.frame: 100 × 2\n",
       "\n",
       "| Category &lt;chr&gt; | Outcome &lt;chr&gt; |\n",
       "|---|---|\n",
       "| B | yes |\n",
       "| A | yes |\n",
       "| A | yes |\n",
       "| B | no  |\n",
       "| C | yes |\n",
       "| A | yes |\n",
       "| B | yes |\n",
       "| B | no  |\n",
       "| A | yes |\n",
       "| B | yes |\n",
       "| A | no  |\n",
       "| A | yes |\n",
       "| B | yes |\n",
       "| A | yes |\n",
       "| C | no  |\n",
       "| A | no  |\n",
       "| A | yes |\n",
       "| B | yes |\n",
       "| A | yes |\n",
       "| B | no  |\n",
       "| A | yes |\n",
       "| A | no  |\n",
       "| A | yes |\n",
       "| C | no  |\n",
       "| C | yes |\n",
       "| B | yes |\n",
       "| A | yes |\n",
       "| B | no  |\n",
       "| C | no  |\n",
       "| B | yes |\n",
       "| ⋮ | ⋮ |\n",
       "| C | yes |\n",
       "| A | no  |\n",
       "| B | yes |\n",
       "| A | yes |\n",
       "| B | yes |\n",
       "| B | yes |\n",
       "| B | yes |\n",
       "| C | yes |\n",
       "| A | yes |\n",
       "| A | yes |\n",
       "| A | yes |\n",
       "| A | no  |\n",
       "| C | no  |\n",
       "| A | yes |\n",
       "| B | yes |\n",
       "| A | yes |\n",
       "| B | no  |\n",
       "| B | no  |\n",
       "| A | yes |\n",
       "| A | no  |\n",
       "| A | yes |\n",
       "| A | no  |\n",
       "| C | yes |\n",
       "| A | no  |\n",
       "| A | yes |\n",
       "| A | yes |\n",
       "| B | yes |\n",
       "| B | no  |\n",
       "| C | no  |\n",
       "| B | yes |\n",
       "\n"
      ],
      "text/plain": [
       "    Category Outcome\n",
       "1   B        yes    \n",
       "2   A        yes    \n",
       "3   A        yes    \n",
       "4   B        no     \n",
       "5   C        yes    \n",
       "6   A        yes    \n",
       "7   B        yes    \n",
       "8   B        no     \n",
       "9   A        yes    \n",
       "10  B        yes    \n",
       "11  A        no     \n",
       "12  A        yes    \n",
       "13  B        yes    \n",
       "14  A        yes    \n",
       "15  C        no     \n",
       "16  A        no     \n",
       "17  A        yes    \n",
       "18  B        yes    \n",
       "19  A        yes    \n",
       "20  B        no     \n",
       "21  A        yes    \n",
       "22  A        no     \n",
       "23  A        yes    \n",
       "24  C        no     \n",
       "25  C        yes    \n",
       "26  B        yes    \n",
       "27  A        yes    \n",
       "28  B        no     \n",
       "29  C        no     \n",
       "30  B        yes    \n",
       "⋮   ⋮        ⋮      \n",
       "71  C        yes    \n",
       "72  A        no     \n",
       "73  B        yes    \n",
       "74  A        yes    \n",
       "75  B        yes    \n",
       "76  B        yes    \n",
       "77  B        yes    \n",
       "78  C        yes    \n",
       "79  A        yes    \n",
       "80  A        yes    \n",
       "81  A        yes    \n",
       "82  A        no     \n",
       "83  C        no     \n",
       "84  A        yes    \n",
       "85  B        yes    \n",
       "86  A        yes    \n",
       "87  B        no     \n",
       "88  B        no     \n",
       "89  A        yes    \n",
       "90  A        no     \n",
       "91  A        yes    \n",
       "92  A        no     \n",
       "93  C        yes    \n",
       "94  A        no     \n",
       "95  A        yes    \n",
       "96  A        yes    \n",
       "97  B        yes    \n",
       "98  B        no     \n",
       "99  C        no     \n",
       "100 B        yes    "
      ]
     },
     "metadata": {},
     "output_type": "display_data"
    }
   ],
   "source": [
    "data = data.frame(Category = sample(c(\"A\",\"B\",\"C\"),100, replace = TRUE),Outcome = sample(c(\"yes\",\"no\"),100, replace = TRUE))\n",
    "data"
   ]
  },
  {
   "cell_type": "markdown",
   "metadata": {},
   "source": [
    "##### contigency table "
   ]
  },
  {
   "cell_type": "code",
   "execution_count": 9,
   "metadata": {
    "vscode": {
     "languageId": "r"
    }
   },
   "outputs": [
    {
     "data": {
      "text/plain": [
       "   \n",
       "    no yes\n",
       "  A 18  29\n",
       "  B 13  20\n",
       "  C  9  11"
      ]
     },
     "metadata": {},
     "output_type": "display_data"
    }
   ],
   "source": [
    "contigency_table = table(data$Category,data$Outcome)\n",
    "contigency_table"
   ]
  },
  {
   "cell_type": "markdown",
   "metadata": {},
   "source": [
    "###### chi_square test"
   ]
  },
  {
   "cell_type": "code",
   "execution_count": 10,
   "metadata": {
    "vscode": {
     "languageId": "r"
    }
   },
   "outputs": [
    {
     "data": {
      "text/plain": [
       "\n",
       "\tPearson's Chi-squared test\n",
       "\n",
       "data:  contigency_table\n",
       "X-squared = 0.27012, df = 2, p-value = 0.8737\n"
      ]
     },
     "metadata": {},
     "output_type": "display_data"
    }
   ],
   "source": [
    "chisq.test(contigency_table)"
   ]
  }
 ],
 "metadata": {
  "kernelspec": {
   "display_name": "R",
   "language": "R",
   "name": "ir"
  },
  "language_info": {
   "codemirror_mode": "r",
   "file_extension": ".r",
   "mimetype": "text/x-r-source",
   "name": "R",
   "pygments_lexer": "r",
   "version": "4.2.3"
  }
 },
 "nbformat": 4,
 "nbformat_minor": 2
}
