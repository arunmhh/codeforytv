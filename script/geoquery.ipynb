{
 "cells": [
  {
   "cell_type": "code",
   "execution_count": 8,
   "id": "642944bc",
   "metadata": {},
   "outputs": [],
   "source": [
    "import GEOparse\n",
    "import pandas as pd"
   ]
  },
  {
   "cell_type": "code",
   "execution_count": null,
   "id": "18aef828",
   "metadata": {},
   "outputs": [],
   "source": [
    "# Load GEO Series\n",
    "gse = GEOparse.get_GEO(geo=\"GSE183947\", destdir=\"GEO\")"
   ]
  },
  {
   "cell_type": "code",
   "execution_count": 5,
   "id": "4e9e97db",
   "metadata": {},
   "outputs": [
    {
     "name": "stdout",
     "output_type": "stream",
     "text": [
      "{'title': ['Identification of five cytotoxicity-related genes involved in the progression of breast cancer'], 'geo_accession': ['GSE183947'], 'status': ['Public on Sep 15 2021'], 'submission_date': ['Sep 11 2021'], 'last_update_date': ['Jan 31 2022'], 'pubmed_id': ['35046993'], 'summary': ['Breast cancer is one of the deadly tumors in women, and its incidence continues to increase. This study aimed to identify novel therapeutic molecules using RNA sequencing (RNAseq) data of breast cancer from our hospitals.'], 'overall_design': ['30 pairs of normal and cancerous tissues from the same excision were collected from the Affiliated Cancer Hospital of Guangzhou Medical University, the Affiliated Cancer Hospital of Sun Yat-sen University and Guangzhou Army General Hospital. RNA sequencing was performed by Guangzhou Huayin Health medical Group. Original reads of RNA sequencing data were normalized as FPKM data.'], 'type': ['Expression profiling by high throughput sequencing'], 'contributor': ['Yan,,Zhang', 'Xu,X,Wei', 'Wei,K,Yang', 'Hong,,Shen'], 'sample_id': ['GSM5574685', 'GSM5574686', 'GSM5574687', 'GSM5574688', 'GSM5574689', 'GSM5574690', 'GSM5574691', 'GSM5574692', 'GSM5574693', 'GSM5574694', 'GSM5574695', 'GSM5574696', 'GSM5574697', 'GSM5574698', 'GSM5574699', 'GSM5574700', 'GSM5574701', 'GSM5574702', 'GSM5574703', 'GSM5574704', 'GSM5574705', 'GSM5574706', 'GSM5574707', 'GSM5574708', 'GSM5574709', 'GSM5574710', 'GSM5574711', 'GSM5574712', 'GSM5574713', 'GSM5574714', 'GSM5574715', 'GSM5574716', 'GSM5574717', 'GSM5574718', 'GSM5574719', 'GSM5574720', 'GSM5574721', 'GSM5574722', 'GSM5574723', 'GSM5574724', 'GSM5574725', 'GSM5574726', 'GSM5574727', 'GSM5574728', 'GSM5574729', 'GSM5574730', 'GSM5574731', 'GSM5574732', 'GSM5574733', 'GSM5574734', 'GSM5574735', 'GSM5574736', 'GSM5574737', 'GSM5574738', 'GSM5574739', 'GSM5574740', 'GSM5574741', 'GSM5574742', 'GSM5574743', 'GSM5574744'], 'contact_name': ['Jianhua,,Xu'], 'contact_institute': ['Department of Laboratory Medicine Shunde Hospital of Guangzhou University of Chinese Medicine'], 'contact_address': ['No. 12, Jinsha Avenue, Shunde District, Foshan, Guangdong, P.R. China'], 'contact_city': ['Fushan'], 'contact_state': ['Guangdong'], 'contact_zip/postal_code': ['528300'], 'contact_country': ['China'], 'supplementary_file': ['ftp://ftp.ncbi.nlm.nih.gov/geo/series/GSE183nnn/GSE183947/suppl/GSE183947_fpkm.csv.gz'], 'platform_id': ['GPL11154'], 'platform_taxid': ['9606'], 'sample_taxid': ['9606'], 'relation': ['BioProject: https://www.ncbi.nlm.nih.gov/bioproject/PRJNA762469', 'SRA: https://www.ncbi.nlm.nih.gov/sra?term=SRP336638']}\n"
     ]
    }
   ],
   "source": [
    "# Explore metadata\n",
    "print(gse.metadata)"
   ]
  },
  {
   "cell_type": "code",
   "execution_count": null,
   "id": "7cedcb4f",
   "metadata": {},
   "outputs": [],
   "source": [
    "# Access sample data\n",
    "for gsm_name, gsm in gse.gsms.items():\n",
    "    print(gsm.metadata)"
   ]
  },
  {
   "cell_type": "code",
   "execution_count": 13,
   "id": "d8e6a0ce",
   "metadata": {},
   "outputs": [
    {
     "name": "stdout",
     "output_type": "stream",
     "text": [
      "60\n",
      "dict_keys(['title', 'geo_accession', 'status', 'submission_date', 'last_update_date', 'pubmed_id', 'summary', 'overall_design', 'type', 'contributor', 'sample_id', 'contact_name', 'contact_institute', 'contact_address', 'contact_city', 'contact_state', 'contact_zip/postal_code', 'contact_country', 'supplementary_file', 'platform_id', 'platform_taxid', 'sample_taxid', 'relation'])\n",
      "['ftp://ftp.ncbi.nlm.nih.gov/geo/series/GSE183nnn/GSE183947/suppl/GSE183947_fpkm.csv.gz']\n"
     ]
    }
   ],
   "source": [
    "print(len(gse.gsms))  # should be 60\n",
    "print(gse.metadata.keys())\n",
    "print(gse.metadata.get(\"supplementary_file\"))\n"
   ]
  },
  {
   "cell_type": "code",
   "execution_count": 55,
   "id": "33d5e306",
   "metadata": {},
   "outputs": [
    {
     "name": "stdout",
     "output_type": "stream",
     "text": [
      "✅ Expression data loaded successfully!\n",
      "Shape: (20246, 60)\n",
      "          CA.102548  CA.104338  CA.105094  CA.109745  CA.1906415  CA.1912627  \\\n",
      "TSPAN6         0.93       1.97       0.00       5.45        4.52        4.75   \n",
      "TNMD           0.00       0.00       0.00       0.00        0.00        0.00   \n",
      "DPM1           0.00       0.43       0.00       3.43        8.45        8.53   \n",
      "SCYL3          5.78       5.17       8.76       4.58        7.20        6.03   \n",
      "C1orf112       2.83       6.26       3.37       6.24        5.16       13.69   \n",
      "\n",
      "          CA.1924346  CA.1926760  CA.1927842  CA.1933414  ...  CAP.2040686  \\\n",
      "TSPAN6          3.96        3.58        6.41       11.89  ...         6.66   \n",
      "TNMD            0.00        0.23        0.39        0.44  ...         0.12   \n",
      "DPM1            7.80        7.62        6.40        6.09  ...         4.93   \n",
      "SCYL3           9.05        5.37        5.92       12.45  ...         8.02   \n",
      "C1orf112        6.69        5.28        7.65       13.71  ...         7.91   \n",
      "\n",
      "          CAP.2046297  CAP.2046641  CAP.348981  CAP.354300  CAP.359448  \\\n",
      "TSPAN6           8.35         8.94        6.33        5.94        6.35   \n",
      "TNMD             0.17         1.08        0.29        0.00        0.07   \n",
      "DPM1             7.47         5.72        4.96        9.28        9.15   \n",
      "SCYL3            6.00         5.28        4.98        4.45        7.00   \n",
      "C1orf112         4.61         8.35        9.84        7.68        5.62   \n",
      "\n",
      "          CAP.94377  CAP.98389  CAP.98475  CAP.99145  \n",
      "TSPAN6         3.74       4.84      10.46       4.54  \n",
      "TNMD           9.19       1.18       0.09       0.39  \n",
      "DPM1           4.77       3.75       7.31       2.77  \n",
      "SCYL3          4.14       5.51       7.45       2.33  \n",
      "C1orf112       2.81       7.08       7.28       5.39  \n",
      "\n",
      "[5 rows x 60 columns]\n"
     ]
    }
   ],
   "source": [
    "import pandas as pd\n",
    "import requests\n",
    "import gzip\n",
    "from io import BytesIO\n",
    "\n",
    "# Correct URL from metadata\n",
    "url = \"https://ftp.ncbi.nlm.nih.gov/geo/series/GSE183nnn/GSE183947/suppl/GSE183947_fpkm.csv.gz\"\n",
    "\n",
    "# Download and decompress\n",
    "r = requests.get(url)\n",
    "\n",
    "# Load gzipped CSV\n",
    "df = pd.read_csv(BytesIO(gzip.decompress(r.content)), index_col=0)\n",
    "\n",
    "print(\"✅ Expression data loaded successfully!\")\n",
    "print(\"Shape:\", df.shape)\n",
    "print(df.head())\n"
   ]
  },
  {
   "cell_type": "code",
   "execution_count": 59,
   "id": "300779b1",
   "metadata": {},
   "outputs": [
    {
     "name": "stderr",
     "output_type": "stream",
     "text": [
      "07-Oct-2025 11:46:40 DEBUG utils - Directory ./data already exists. Skipping.\n",
      "07-Oct-2025 11:46:40 INFO GEOparse - File already exist: using local version.\n",
      "07-Oct-2025 11:46:40 INFO GEOparse - Parsing ./data/GSE183947_family.soft.gz: \n",
      "07-Oct-2025 11:46:40 DEBUG GEOparse - DATABASE: GeoMiame\n",
      "07-Oct-2025 11:46:40 DEBUG GEOparse - SERIES: GSE183947\n",
      "07-Oct-2025 11:46:40 DEBUG GEOparse - PLATFORM: GPL11154\n",
      "07-Oct-2025 11:46:40 DEBUG GEOparse - SAMPLE: GSM5574685\n",
      "07-Oct-2025 11:46:40 DEBUG GEOparse - SAMPLE: GSM5574686\n",
      "07-Oct-2025 11:46:40 DEBUG GEOparse - SAMPLE: GSM5574687\n",
      "07-Oct-2025 11:46:40 DEBUG GEOparse - SAMPLE: GSM5574688\n",
      "07-Oct-2025 11:46:40 DEBUG GEOparse - SAMPLE: GSM5574689\n",
      "07-Oct-2025 11:46:40 DEBUG GEOparse - SAMPLE: GSM5574690\n",
      "07-Oct-2025 11:46:40 DEBUG GEOparse - SAMPLE: GSM5574691\n",
      "07-Oct-2025 11:46:40 DEBUG GEOparse - SAMPLE: GSM5574692\n",
      "07-Oct-2025 11:46:40 DEBUG GEOparse - SAMPLE: GSM5574693\n",
      "07-Oct-2025 11:46:40 DEBUG GEOparse - SAMPLE: GSM5574694\n",
      "07-Oct-2025 11:46:40 DEBUG GEOparse - SAMPLE: GSM5574695\n",
      "07-Oct-2025 11:46:40 DEBUG GEOparse - SAMPLE: GSM5574696\n",
      "07-Oct-2025 11:46:40 DEBUG GEOparse - SAMPLE: GSM5574697\n",
      "07-Oct-2025 11:46:40 DEBUG GEOparse - SAMPLE: GSM5574698\n",
      "07-Oct-2025 11:46:40 DEBUG GEOparse - SAMPLE: GSM5574699\n",
      "07-Oct-2025 11:46:40 DEBUG GEOparse - SAMPLE: GSM5574700\n",
      "07-Oct-2025 11:46:40 DEBUG GEOparse - SAMPLE: GSM5574701\n",
      "07-Oct-2025 11:46:40 DEBUG GEOparse - SAMPLE: GSM5574702\n",
      "07-Oct-2025 11:46:40 DEBUG GEOparse - SAMPLE: GSM5574703\n",
      "07-Oct-2025 11:46:40 DEBUG GEOparse - SAMPLE: GSM5574704\n",
      "07-Oct-2025 11:46:40 DEBUG GEOparse - SAMPLE: GSM5574705\n",
      "07-Oct-2025 11:46:40 DEBUG GEOparse - SAMPLE: GSM5574706\n",
      "07-Oct-2025 11:46:40 DEBUG GEOparse - SAMPLE: GSM5574707\n",
      "07-Oct-2025 11:46:40 DEBUG GEOparse - SAMPLE: GSM5574708\n",
      "07-Oct-2025 11:46:40 DEBUG GEOparse - SAMPLE: GSM5574709\n",
      "07-Oct-2025 11:46:40 DEBUG GEOparse - SAMPLE: GSM5574710\n",
      "07-Oct-2025 11:46:40 DEBUG GEOparse - SAMPLE: GSM5574711\n",
      "07-Oct-2025 11:46:40 DEBUG GEOparse - SAMPLE: GSM5574712\n",
      "07-Oct-2025 11:46:40 DEBUG GEOparse - SAMPLE: GSM5574713\n",
      "07-Oct-2025 11:46:40 DEBUG GEOparse - SAMPLE: GSM5574714\n",
      "07-Oct-2025 11:46:40 DEBUG GEOparse - SAMPLE: GSM5574715\n",
      "07-Oct-2025 11:46:40 DEBUG GEOparse - SAMPLE: GSM5574716\n",
      "07-Oct-2025 11:46:40 DEBUG GEOparse - SAMPLE: GSM5574717\n",
      "07-Oct-2025 11:46:40 DEBUG GEOparse - SAMPLE: GSM5574718\n",
      "07-Oct-2025 11:46:40 DEBUG GEOparse - SAMPLE: GSM5574719\n",
      "07-Oct-2025 11:46:40 DEBUG GEOparse - SAMPLE: GSM5574720\n",
      "07-Oct-2025 11:46:40 DEBUG GEOparse - SAMPLE: GSM5574721\n",
      "07-Oct-2025 11:46:40 DEBUG GEOparse - SAMPLE: GSM5574722\n",
      "07-Oct-2025 11:46:40 DEBUG GEOparse - SAMPLE: GSM5574723\n",
      "07-Oct-2025 11:46:40 DEBUG GEOparse - SAMPLE: GSM5574724\n",
      "07-Oct-2025 11:46:40 DEBUG GEOparse - SAMPLE: GSM5574725\n",
      "07-Oct-2025 11:46:40 DEBUG GEOparse - SAMPLE: GSM5574726\n",
      "07-Oct-2025 11:46:40 DEBUG GEOparse - SAMPLE: GSM5574727\n",
      "07-Oct-2025 11:46:40 DEBUG GEOparse - SAMPLE: GSM5574728\n",
      "07-Oct-2025 11:46:40 DEBUG GEOparse - SAMPLE: GSM5574729\n",
      "07-Oct-2025 11:46:40 DEBUG GEOparse - SAMPLE: GSM5574730\n",
      "07-Oct-2025 11:46:40 DEBUG GEOparse - SAMPLE: GSM5574731\n",
      "07-Oct-2025 11:46:40 DEBUG GEOparse - SAMPLE: GSM5574732\n",
      "07-Oct-2025 11:46:40 DEBUG GEOparse - SAMPLE: GSM5574733\n",
      "07-Oct-2025 11:46:40 DEBUG GEOparse - SAMPLE: GSM5574734\n",
      "07-Oct-2025 11:46:40 DEBUG GEOparse - SAMPLE: GSM5574735\n",
      "07-Oct-2025 11:46:40 DEBUG GEOparse - SAMPLE: GSM5574736\n",
      "07-Oct-2025 11:46:40 DEBUG GEOparse - SAMPLE: GSM5574737\n",
      "07-Oct-2025 11:46:40 DEBUG GEOparse - SAMPLE: GSM5574738\n",
      "07-Oct-2025 11:46:40 DEBUG GEOparse - SAMPLE: GSM5574739\n",
      "07-Oct-2025 11:46:40 DEBUG GEOparse - SAMPLE: GSM5574740\n",
      "07-Oct-2025 11:46:40 DEBUG GEOparse - SAMPLE: GSM5574741\n",
      "07-Oct-2025 11:46:40 DEBUG GEOparse - SAMPLE: GSM5574742\n",
      "07-Oct-2025 11:46:40 DEBUG GEOparse - SAMPLE: GSM5574743\n",
      "07-Oct-2025 11:46:40 DEBUG GEOparse - SAMPLE: GSM5574744\n"
     ]
    },
    {
     "name": "stdout",
     "output_type": "stream",
     "text": [
      "Pheno shape: (60, 2)\n",
      "          gsm        title\n",
      "0  GSM5574685   tumor rep1\n",
      "1  GSM5574686   tumor rep2\n",
      "2  GSM5574687   tumor rep3\n",
      "3  GSM5574688   tumor rep4\n",
      "4  GSM5574689   tumor rep5\n",
      "5  GSM5574690   tumor rep6\n",
      "6  GSM5574691   tumor rep7\n",
      "7  GSM5574692   tumor rep8\n",
      "8  GSM5574693   tumor rep9\n",
      "9  GSM5574694  tumor rep10\n"
     ]
    }
   ],
   "source": [
    "import GEOparse\n",
    "import pandas as pd\n",
    "\n",
    "# Load GEO metadata\n",
    "gse = GEOparse.get_GEO(\"GSE183947\", destdir=\"./data\")\n",
    "\n",
    "meta = []\n",
    "\n",
    "for gsm_name, gsm in gse.gsms.items():\n",
    "    title = gsm.metadata.get(\"title\", [\"\"])[0]  # sample title\n",
    "    meta.append({\n",
    "        \"gsm\": gsm_name,\n",
    "        \"title\": title\n",
    "    })\n",
    "\n",
    "# Create DataFrame\n",
    "pheno = pd.DataFrame(meta)\n",
    "print(\"Pheno shape:\", pheno.shape)\n",
    "print(pheno.head(10))\n",
    "\n"
   ]
  },
  {
   "cell_type": "code",
   "execution_count": 62,
   "id": "8ca672d2",
   "metadata": {},
   "outputs": [
    {
     "name": "stdout",
     "output_type": "stream",
     "text": [
      "Index(['CA.102548', 'CA.104338', 'CA.105094', 'CA.109745', 'CA.1906415',\n",
      "       'CA.1912627', 'CA.1924346', 'CA.1926760', 'CA.1927842', 'CA.1933414'],\n",
      "      dtype='object')\n",
      "Index(['gsm', 'title'], dtype='object')\n",
      "          gsm       title\n",
      "0  GSM5574685  tumor rep1\n",
      "1  GSM5574686  tumor rep2\n",
      "2  GSM5574687  tumor rep3\n",
      "3  GSM5574688  tumor rep4\n",
      "4  GSM5574689  tumor rep5\n"
     ]
    }
   ],
   "source": [
    "print(df.columns[:10])\n",
    "print(pheno.columns)\n",
    "print(pheno.head(5))\n",
    "\n"
   ]
  },
  {
   "cell_type": "code",
   "execution_count": 63,
   "id": "cf473bea",
   "metadata": {},
   "outputs": [],
   "source": [
    "# Look for GSM IDs in column names\n",
    "for col in df.columns[:10]:\n",
    "    matches = [gsm for gsm in pheno['gsm'] if gsm in col]\n",
    "    if matches:\n",
    "        print(col, matches)\n"
   ]
  },
  {
   "cell_type": "code",
   "execution_count": 64,
   "id": "9dcd32e0",
   "metadata": {},
   "outputs": [],
   "source": [
    "# Example mapping (must match your experiment)\n",
    "sample_map = {\n",
    "    'CA.102548': {'condition': 'tumor', 'replicate': 1},\n",
    "    'CA.104338': {'condition': 'tumor', 'replicate': 2},\n",
    "    'CA.105094': {'condition': 'tumor', 'replicate': 3},\n",
    "    # ... continue for all 60 samples\n",
    "}\n",
    "\n",
    "# Convert to DataFrame\n",
    "pheno_new = pd.DataFrame.from_dict(sample_map, orient='index')\n",
    "pheno_new.index.name = 'sample_id'\n",
    "pheno_new.reset_index(inplace=True)\n",
    "\n",
    "# Align expression data\n",
    "df = df[pheno_new['sample_id']]\n"
   ]
  },
  {
   "cell_type": "code",
   "execution_count": 65,
   "id": "2e234b9a",
   "metadata": {},
   "outputs": [
    {
     "name": "stdout",
     "output_type": "stream",
     "text": [
      "Expression matrix shape: (20246, 3)\n",
      "Metadata shape: (3, 3)\n",
      "Index(['CA.102548', 'CA.104338', 'CA.105094'], dtype='object')\n",
      "   sample_id condition  replicate\n",
      "0  CA.102548     tumor          1\n",
      "1  CA.104338     tumor          2\n",
      "2  CA.105094     tumor          3\n"
     ]
    }
   ],
   "source": [
    "print(\"Expression matrix shape:\", df.shape)\n",
    "print(\"Metadata shape:\", pheno_new.shape)\n",
    "print(df.columns[:5])\n",
    "print(pheno_new.head())\n"
   ]
  },
  {
   "cell_type": "code",
   "execution_count": 68,
   "id": "5e766939",
   "metadata": {},
   "outputs": [
    {
     "name": "stdout",
     "output_type": "stream",
     "text": [
      "Expression matrix shape: (20246, 60)\n",
      "First 10 columns: Index(['CA.102548', 'CA.104338', 'CA.105094', 'CA.109745', 'CA.1906415',\n",
      "       'CA.1912627', 'CA.1924346', 'CA.1926760', 'CA.1927842', 'CA.1933414'],\n",
      "      dtype='object')\n",
      "Metadata shape: (60, 3)\n",
      "Expression matrix aligned shape: (20246, 60)\n"
     ]
    }
   ],
   "source": [
    "import pandas as pd\n",
    "import numpy as np\n",
    "import requests, gzip\n",
    "from io import BytesIO\n",
    "\n",
    "# Download FPKM CSV\n",
    "url = \"https://ftp.ncbi.nlm.nih.gov/geo/series/GSE183nnn/GSE183947/suppl/GSE183947_fpkm.csv.gz\"\n",
    "r = requests.get(url)\n",
    "with gzip.GzipFile(fileobj=BytesIO(r.content)) as f:\n",
    "    expr_df = pd.read_csv(f, index_col=0)\n",
    "\n",
    "print(\"Expression matrix shape:\", expr_df.shape)\n",
    "print(\"First 10 columns:\", expr_df.columns[:10])\n",
    "\n",
    "# Step 1: Create metadata based on column order\n",
    "sample_ids = expr_df.columns.tolist()\n",
    "num_samples = len(sample_ids)\n",
    "\n",
    "# Example: 60 samples, first 30 = tumor, next 30 = normal, 5 replicates each (adjust as needed)\n",
    "conditions = ['tumor']*30 + ['normal']*30\n",
    "replicates = list(range(1,6))*12  # 12 sets of 5 replicates\n",
    "\n",
    "metadata = pd.DataFrame({\n",
    "    'sample_id': sample_ids,\n",
    "    'condition': conditions,\n",
    "    'replicate': replicates\n",
    "})\n",
    "\n",
    "# Step 2: Expression matrix columns match metadata\n",
    "expr_df = expr_df[metadata['sample_id']]\n",
    "\n",
    "print(\"Metadata shape:\", metadata.shape)\n",
    "print(\"Expression matrix aligned shape:\", expr_df.shape)\n",
    "\n",
    "# Optional: Save CSV\n",
    "expr_df.to_csv(\"GEO/expression_matrix.csv\")\n",
    "metadata.to_csv(\"GEO/sample_metadata.csv\", index=False)\n"
   ]
  },
  {
   "cell_type": "code",
   "execution_count": 70,
   "id": "75b05875",
   "metadata": {},
   "outputs": [],
   "source": [
    "import numpy as np\n",
    "expr_log = np.log2(expr_df + 1)\n",
    "\n",
    "expr_log.to_csv(\"GEO/GSE183947_fpkm_log2.csv\")\n",
    "metadata.to_csv(\"GEO/GSE183947_metadata.csv\", index=False)\n",
    "\n"
   ]
  }
 ],
 "metadata": {
  "kernelspec": {
   "display_name": "myytcode",
   "language": "python",
   "name": "python3"
  },
  "language_info": {
   "codemirror_mode": {
    "name": "ipython",
    "version": 3
   },
   "file_extension": ".py",
   "mimetype": "text/x-python",
   "name": "python",
   "nbconvert_exporter": "python",
   "pygments_lexer": "ipython3",
   "version": "3.12.6"
  }
 },
 "nbformat": 4,
 "nbformat_minor": 5
}
