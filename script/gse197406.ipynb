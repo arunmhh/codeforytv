{
 "cells": [
  {
   "cell_type": "code",
   "execution_count": null,
   "id": "b3c0039b",
   "metadata": {},
   "outputs": [],
   "source": [
    "import GEOparse\n",
    "gse = GEOparse.get_GEO(\"GSE197406\", destdir= \"../GEO\")\n",
    "gpl = GEOparse.get_GEO(\"GSE197406\", destdir= \"../GEO\")"
   ]
  },
  {
   "cell_type": "code",
   "execution_count": 10,
   "id": "2c78de19",
   "metadata": {},
   "outputs": [
    {
     "data": {
      "text/plain": [
       "['GSM5916425', 'GSM5916426', 'GSM5916427']"
      ]
     },
     "execution_count": 10,
     "metadata": {},
     "output_type": "execute_result"
    }
   ],
   "source": [
    "len(gse.gsms)\n",
    "list(gse.gsms.keys())[ :3]"
   ]
  },
  {
   "cell_type": "code",
   "execution_count": 16,
   "id": "6ae4122c",
   "metadata": {},
   "outputs": [
    {
     "name": "stdout",
     "output_type": "stream",
     "text": [
      "        ID_REF     VALUE\n",
      "0    217771_at   6.37042\n",
      "1    206606_at  11.61950\n",
      "2  215712_s_at   9.16470\n",
      "3   1559573_at  10.70350\n",
      "4  209978_s_at  14.51450\n"
     ]
    }
   ],
   "source": [
    "gsm_keys = list(gse.gsms.keys())\n",
    "example = gse.gsms[gsm_keys[0]]\n",
    "print(example.table.head())"
   ]
  },
  {
   "cell_type": "code",
   "execution_count": 17,
   "id": "91b11342",
   "metadata": {},
   "outputs": [
    {
     "data": {
      "text/html": [
       "<div>\n",
       "<style scoped>\n",
       "    .dataframe tbody tr th:only-of-type {\n",
       "        vertical-align: middle;\n",
       "    }\n",
       "\n",
       "    .dataframe tbody tr th {\n",
       "        vertical-align: top;\n",
       "    }\n",
       "\n",
       "    .dataframe thead th {\n",
       "        text-align: right;\n",
       "    }\n",
       "</style>\n",
       "<table border=\"1\" class=\"dataframe\">\n",
       "  <thead>\n",
       "    <tr style=\"text-align: right;\">\n",
       "      <th>name</th>\n",
       "      <th>GSM5916425</th>\n",
       "      <th>GSM5916426</th>\n",
       "      <th>GSM5916427</th>\n",
       "      <th>GSM5916428</th>\n",
       "      <th>GSM5916429</th>\n",
       "      <th>GSM5916430</th>\n",
       "      <th>GSM5916431</th>\n",
       "      <th>GSM5916432</th>\n",
       "      <th>GSM5916433</th>\n",
       "      <th>GSM5916434</th>\n",
       "      <th>GSM5916435</th>\n",
       "      <th>GSM5916436</th>\n",
       "      <th>GSM5916437</th>\n",
       "      <th>GSM5916438</th>\n",
       "      <th>GSM5916439</th>\n",
       "    </tr>\n",
       "    <tr>\n",
       "      <th>ID_REF</th>\n",
       "      <th></th>\n",
       "      <th></th>\n",
       "      <th></th>\n",
       "      <th></th>\n",
       "      <th></th>\n",
       "      <th></th>\n",
       "      <th></th>\n",
       "      <th></th>\n",
       "      <th></th>\n",
       "      <th></th>\n",
       "      <th></th>\n",
       "      <th></th>\n",
       "      <th></th>\n",
       "      <th></th>\n",
       "      <th></th>\n",
       "    </tr>\n",
       "  </thead>\n",
       "  <tbody>\n",
       "    <tr>\n",
       "      <th>1007_s_at</th>\n",
       "      <td>8.25153</td>\n",
       "      <td>7.76315</td>\n",
       "      <td>8.40313</td>\n",
       "      <td>7.98926</td>\n",
       "      <td>8.05217</td>\n",
       "      <td>8.44563</td>\n",
       "      <td>7.58667</td>\n",
       "      <td>8.02614</td>\n",
       "      <td>9.79436</td>\n",
       "      <td>9.66555</td>\n",
       "      <td>9.49759</td>\n",
       "      <td>9.89471</td>\n",
       "      <td>8.45370</td>\n",
       "      <td>8.85845</td>\n",
       "      <td>8.84316</td>\n",
       "    </tr>\n",
       "    <tr>\n",
       "      <th>1053_at</th>\n",
       "      <td>6.74268</td>\n",
       "      <td>6.75010</td>\n",
       "      <td>6.50660</td>\n",
       "      <td>6.88312</td>\n",
       "      <td>6.97066</td>\n",
       "      <td>6.76910</td>\n",
       "      <td>6.89180</td>\n",
       "      <td>6.67075</td>\n",
       "      <td>6.93478</td>\n",
       "      <td>6.90036</td>\n",
       "      <td>6.62057</td>\n",
       "      <td>6.62056</td>\n",
       "      <td>6.52978</td>\n",
       "      <td>6.72519</td>\n",
       "      <td>6.55780</td>\n",
       "    </tr>\n",
       "    <tr>\n",
       "      <th>117_at</th>\n",
       "      <td>6.74961</td>\n",
       "      <td>6.53426</td>\n",
       "      <td>6.72746</td>\n",
       "      <td>6.90891</td>\n",
       "      <td>6.80198</td>\n",
       "      <td>6.80546</td>\n",
       "      <td>6.76402</td>\n",
       "      <td>6.76341</td>\n",
       "      <td>6.74732</td>\n",
       "      <td>6.86814</td>\n",
       "      <td>6.90635</td>\n",
       "      <td>6.84800</td>\n",
       "      <td>6.63013</td>\n",
       "      <td>6.73454</td>\n",
       "      <td>6.55409</td>\n",
       "    </tr>\n",
       "  </tbody>\n",
       "</table>\n",
       "</div>"
      ],
      "text/plain": [
       "name       GSM5916425  GSM5916426  GSM5916427  GSM5916428  GSM5916429  \\\n",
       "ID_REF                                                                  \n",
       "1007_s_at     8.25153     7.76315     8.40313     7.98926     8.05217   \n",
       "1053_at       6.74268     6.75010     6.50660     6.88312     6.97066   \n",
       "117_at        6.74961     6.53426     6.72746     6.90891     6.80198   \n",
       "\n",
       "name       GSM5916430  GSM5916431  GSM5916432  GSM5916433  GSM5916434  \\\n",
       "ID_REF                                                                  \n",
       "1007_s_at     8.44563     7.58667     8.02614     9.79436     9.66555   \n",
       "1053_at       6.76910     6.89180     6.67075     6.93478     6.90036   \n",
       "117_at        6.80546     6.76402     6.76341     6.74732     6.86814   \n",
       "\n",
       "name       GSM5916435  GSM5916436  GSM5916437  GSM5916438  GSM5916439  \n",
       "ID_REF                                                                 \n",
       "1007_s_at     9.49759     9.89471     8.45370     8.85845     8.84316  \n",
       "1053_at       6.62057     6.62056     6.52978     6.72519     6.55780  \n",
       "117_at        6.90635     6.84800     6.63013     6.73454     6.55409  "
      ]
     },
     "execution_count": 17,
     "metadata": {},
     "output_type": "execute_result"
    }
   ],
   "source": [
    "expr_matrix = gse.pivot_samples(\"VALUE\")\n",
    "expr_matrix.head(3)"
   ]
  },
  {
   "cell_type": "code",
   "execution_count": 23,
   "id": "d3ee7ab7",
   "metadata": {},
   "outputs": [
    {
     "data": {
      "text/plain": [
       "Index(['title', 'geo_accession', 'status', 'submission_date',\n",
       "       'last_update_date', 'type', 'channel_count', 'source_name_ch1',\n",
       "       'organism_ch1', 'taxid_ch1', 'characteristics_ch1.0.disease state',\n",
       "       'characteristics_ch1.1.tissue', 'characteristics_ch1.2.genotype',\n",
       "       'characteristics_ch1.3.age', 'treatment_protocol_ch1',\n",
       "       'growth_protocol_ch1', 'molecule_ch1', 'extract_protocol_ch1',\n",
       "       'label_ch1', 'label_protocol_ch1', 'hyb_protocol', 'scan_protocol',\n",
       "       'description', 'data_processing', 'platform_id', 'contact_name',\n",
       "       'contact_laboratory', 'contact_department', 'contact_institute',\n",
       "       'contact_address', 'contact_city', 'contact_state',\n",
       "       'contact_zip/postal_code', 'contact_country', 'supplementary_file',\n",
       "       'series_id', 'data_row_count'],\n",
       "      dtype='object')"
      ]
     },
     "execution_count": 23,
     "metadata": {},
     "output_type": "execute_result"
    }
   ],
   "source": [
    "pheno = gse.phenotype_data\n",
    "pheno.columns"
   ]
  },
  {
   "cell_type": "code",
   "execution_count": 31,
   "id": "5b0ffb4e",
   "metadata": {},
   "outputs": [],
   "source": [
    "# Create folder path if not already existing\n",
    "import os\n",
    "os.makedirs(\"../data/GSE\", exist_ok=True)\n",
    "expr_matrix.to_csv(\"../data/GSE/GSE197406_expression_matrix.csv\")\n",
    "pheno.to_csv(\"../data/GSE/GSE197406_pheno_data.csv\")"
   ]
  },
  {
   "cell_type": "code",
   "execution_count": 43,
   "id": "e7177850",
   "metadata": {},
   "outputs": [
    {
     "name": "stderr",
     "output_type": "stream",
     "text": [
      "09-Oct-2025 01:54:49 DEBUG utils - Directory ../GEO already exists. Skipping.\n",
      "09-Oct-2025 01:54:49 INFO GEOparse - Downloading http://www.ncbi.nlm.nih.gov/geo/query/acc.cgi?targ=self&acc=GPL570&form=text&view=full to ../GEO/GPL570.txt\n",
      "09-Oct-2025 01:54:52 DEBUG downloader - Total size: 0\n",
      "09-Oct-2025 01:54:52 DEBUG downloader - md5: None\n",
      "81.6MB [00:02, 29.4MB/s]\n",
      "09-Oct-2025 01:54:55 DEBUG downloader - Moving /var/folders/1c/4pxks9s17nnfr2djltgq72mr0000gn/T/tmp16s43tga to /Volumes/NGS/Myytcode/codeforytv/GEO/GPL570.txt\n",
      "09-Oct-2025 01:54:55 DEBUG downloader - Successfully downloaded http://www.ncbi.nlm.nih.gov/geo/query/acc.cgi?targ=self&acc=GPL570&form=text&view=full\n",
      "09-Oct-2025 01:54:55 INFO GEOparse - Parsing ../GEO/GPL570.txt: \n",
      "09-Oct-2025 01:54:55 DEBUG GEOparse - PLATFORM: GPL570\n"
     ]
    },
    {
     "name": "stdout",
     "output_type": "stream",
     "text": [
      "✅ Platform loaded: [HG-U133_Plus_2] Affymetrix Human Genome U133 Plus 2.0 Array\n",
      "Number of probe annotations: 54675\n"
     ]
    },
    {
     "name": "stderr",
     "output_type": "stream",
     "text": [
      "/Volumes/NGS/conda/miniconda3/envs/myytcode/lib/python3.12/site-packages/GEOparse/GEOparse.py:401: DtypeWarning: Columns (2) have mixed types. Specify dtype option on import or set low_memory=False.\n",
      "  return read_csv(StringIO(data), index_col=None, sep=\"\\t\")\n"
     ]
    }
   ],
   "source": [
    "import GEOparse\n",
    "\n",
    "# Load the platform used by GSE197406\n",
    "gpl = GEOparse.get_GEO(\"GPL570\", destdir=\"../GEO\")\n",
    "\n",
    "print(\"✅ Platform loaded:\", gpl.metadata[\"title\"][0])\n",
    "print(\"Number of probe annotations:\", len(gpl.table))\n"
   ]
  },
  {
   "cell_type": "code",
   "execution_count": 45,
   "id": "843b7ce3",
   "metadata": {},
   "outputs": [
    {
     "data": {
      "text/html": [
       "<div>\n",
       "<style scoped>\n",
       "    .dataframe tbody tr th:only-of-type {\n",
       "        vertical-align: middle;\n",
       "    }\n",
       "\n",
       "    .dataframe tbody tr th {\n",
       "        vertical-align: top;\n",
       "    }\n",
       "\n",
       "    .dataframe thead th {\n",
       "        text-align: right;\n",
       "    }\n",
       "</style>\n",
       "<table border=\"1\" class=\"dataframe\">\n",
       "  <thead>\n",
       "    <tr style=\"text-align: right;\">\n",
       "      <th></th>\n",
       "      <th>ID</th>\n",
       "      <th>Gene Symbol</th>\n",
       "      <th>Gene Title</th>\n",
       "    </tr>\n",
       "  </thead>\n",
       "  <tbody>\n",
       "    <tr>\n",
       "      <th>0</th>\n",
       "      <td>1007_s_at</td>\n",
       "      <td>DDR1 /// MIR4640</td>\n",
       "      <td>discoidin domain receptor tyrosine kinase 1 //...</td>\n",
       "    </tr>\n",
       "    <tr>\n",
       "      <th>1</th>\n",
       "      <td>1053_at</td>\n",
       "      <td>RFC2</td>\n",
       "      <td>replication factor C (activator 1) 2, 40kDa</td>\n",
       "    </tr>\n",
       "    <tr>\n",
       "      <th>2</th>\n",
       "      <td>117_at</td>\n",
       "      <td>HSPA6</td>\n",
       "      <td>heat shock 70kDa protein 6 (HSP70B')</td>\n",
       "    </tr>\n",
       "    <tr>\n",
       "      <th>3</th>\n",
       "      <td>121_at</td>\n",
       "      <td>PAX8</td>\n",
       "      <td>paired box 8</td>\n",
       "    </tr>\n",
       "    <tr>\n",
       "      <th>4</th>\n",
       "      <td>1255_g_at</td>\n",
       "      <td>GUCA1A</td>\n",
       "      <td>guanylate cyclase activator 1A (retina)</td>\n",
       "    </tr>\n",
       "  </tbody>\n",
       "</table>\n",
       "</div>"
      ],
      "text/plain": [
       "          ID       Gene Symbol  \\\n",
       "0  1007_s_at  DDR1 /// MIR4640   \n",
       "1    1053_at              RFC2   \n",
       "2     117_at             HSPA6   \n",
       "3     121_at              PAX8   \n",
       "4  1255_g_at            GUCA1A   \n",
       "\n",
       "                                          Gene Title  \n",
       "0  discoidin domain receptor tyrosine kinase 1 //...  \n",
       "1        replication factor C (activator 1) 2, 40kDa  \n",
       "2               heat shock 70kDa protein 6 (HSP70B')  \n",
       "3                                       paired box 8  \n",
       "4            guanylate cyclase activator 1A (retina)  "
      ]
     },
     "execution_count": 45,
     "metadata": {},
     "output_type": "execute_result"
    }
   ],
   "source": [
    "# Extract relevant columns\n",
    "gpl_annot = gpl.table[[\"ID\", \"Gene Symbol\", \"Gene Title\"]]\n",
    "gpl_annot.head()\n"
   ]
  },
  {
   "cell_type": "code",
   "execution_count": 52,
   "id": "bb5fe704",
   "metadata": {},
   "outputs": [
    {
     "name": "stdout",
     "output_type": "stream",
     "text": [
      "✅ Annotated expression matrix shape: (54675, 18)\n"
     ]
    },
    {
     "data": {
      "text/html": [
       "<div>\n",
       "<style scoped>\n",
       "    .dataframe tbody tr th:only-of-type {\n",
       "        vertical-align: middle;\n",
       "    }\n",
       "\n",
       "    .dataframe tbody tr th {\n",
       "        vertical-align: top;\n",
       "    }\n",
       "\n",
       "    .dataframe thead th {\n",
       "        text-align: right;\n",
       "    }\n",
       "</style>\n",
       "<table border=\"1\" class=\"dataframe\">\n",
       "  <thead>\n",
       "    <tr style=\"text-align: right;\">\n",
       "      <th></th>\n",
       "      <th>ID</th>\n",
       "      <th>Gene Symbol</th>\n",
       "      <th>Gene Title</th>\n",
       "      <th>GSM5916425</th>\n",
       "      <th>GSM5916426</th>\n",
       "      <th>GSM5916427</th>\n",
       "      <th>GSM5916428</th>\n",
       "      <th>GSM5916429</th>\n",
       "      <th>GSM5916430</th>\n",
       "      <th>GSM5916431</th>\n",
       "      <th>GSM5916432</th>\n",
       "      <th>GSM5916433</th>\n",
       "      <th>GSM5916434</th>\n",
       "      <th>GSM5916435</th>\n",
       "      <th>GSM5916436</th>\n",
       "      <th>GSM5916437</th>\n",
       "      <th>GSM5916438</th>\n",
       "      <th>GSM5916439</th>\n",
       "    </tr>\n",
       "  </thead>\n",
       "  <tbody>\n",
       "    <tr>\n",
       "      <th>0</th>\n",
       "      <td>1007_s_at</td>\n",
       "      <td>DDR1 /// MIR4640</td>\n",
       "      <td>discoidin domain receptor tyrosine kinase 1 //...</td>\n",
       "      <td>8.25153</td>\n",
       "      <td>7.76315</td>\n",
       "      <td>8.40313</td>\n",
       "      <td>7.98926</td>\n",
       "      <td>8.05217</td>\n",
       "      <td>8.44563</td>\n",
       "      <td>7.58667</td>\n",
       "      <td>8.02614</td>\n",
       "      <td>9.79436</td>\n",
       "      <td>9.66555</td>\n",
       "      <td>9.49759</td>\n",
       "      <td>9.89471</td>\n",
       "      <td>8.45370</td>\n",
       "      <td>8.85845</td>\n",
       "      <td>8.84316</td>\n",
       "    </tr>\n",
       "    <tr>\n",
       "      <th>1</th>\n",
       "      <td>1053_at</td>\n",
       "      <td>RFC2</td>\n",
       "      <td>replication factor C (activator 1) 2, 40kDa</td>\n",
       "      <td>6.74268</td>\n",
       "      <td>6.75010</td>\n",
       "      <td>6.50660</td>\n",
       "      <td>6.88312</td>\n",
       "      <td>6.97066</td>\n",
       "      <td>6.76910</td>\n",
       "      <td>6.89180</td>\n",
       "      <td>6.67075</td>\n",
       "      <td>6.93478</td>\n",
       "      <td>6.90036</td>\n",
       "      <td>6.62057</td>\n",
       "      <td>6.62056</td>\n",
       "      <td>6.52978</td>\n",
       "      <td>6.72519</td>\n",
       "      <td>6.55780</td>\n",
       "    </tr>\n",
       "  </tbody>\n",
       "</table>\n",
       "</div>"
      ],
      "text/plain": [
       "          ID       Gene Symbol  \\\n",
       "0  1007_s_at  DDR1 /// MIR4640   \n",
       "1    1053_at              RFC2   \n",
       "\n",
       "                                          Gene Title  GSM5916425  GSM5916426  \\\n",
       "0  discoidin domain receptor tyrosine kinase 1 //...     8.25153     7.76315   \n",
       "1        replication factor C (activator 1) 2, 40kDa     6.74268     6.75010   \n",
       "\n",
       "   GSM5916427  GSM5916428  GSM5916429  GSM5916430  GSM5916431  GSM5916432  \\\n",
       "0     8.40313     7.98926     8.05217     8.44563     7.58667     8.02614   \n",
       "1     6.50660     6.88312     6.97066     6.76910     6.89180     6.67075   \n",
       "\n",
       "   GSM5916433  GSM5916434  GSM5916435  GSM5916436  GSM5916437  GSM5916438  \\\n",
       "0     9.79436     9.66555     9.49759     9.89471     8.45370     8.85845   \n",
       "1     6.93478     6.90036     6.62057     6.62056     6.52978     6.72519   \n",
       "\n",
       "   GSM5916439  \n",
       "0     8.84316  \n",
       "1     6.55780  "
      ]
     },
     "execution_count": 52,
     "metadata": {},
     "output_type": "execute_result"
    }
   ],
   "source": [
    "# Make sure expr index matches probe IDs\n",
    "expr_matrix.index.name = \"ID\"\n",
    "\n",
    "# Merge probe annotation with expression data\n",
    "expr_annot = gpl_annot.merge(expr_matrix, on=\"ID\", how=\"inner\")\n",
    "\n",
    "print(\"✅ Annotated expression matrix shape:\", expr_annot.shape)\n",
    "expr_annot.head(2)\n"
   ]
  },
  {
   "cell_type": "code",
   "execution_count": 61,
   "id": "eec09233",
   "metadata": {},
   "outputs": [
    {
     "name": "stdout",
     "output_type": "stream",
     "text": [
      "collapsed to genelevel: (23520, 15)\n"
     ]
    },
    {
     "data": {
      "text/html": [
       "<div>\n",
       "<style scoped>\n",
       "    .dataframe tbody tr th:only-of-type {\n",
       "        vertical-align: middle;\n",
       "    }\n",
       "\n",
       "    .dataframe tbody tr th {\n",
       "        vertical-align: top;\n",
       "    }\n",
       "\n",
       "    .dataframe thead th {\n",
       "        text-align: right;\n",
       "    }\n",
       "</style>\n",
       "<table border=\"1\" class=\"dataframe\">\n",
       "  <thead>\n",
       "    <tr style=\"text-align: right;\">\n",
       "      <th></th>\n",
       "      <th>GSM5916425</th>\n",
       "      <th>GSM5916426</th>\n",
       "      <th>GSM5916427</th>\n",
       "      <th>GSM5916428</th>\n",
       "      <th>GSM5916429</th>\n",
       "      <th>GSM5916430</th>\n",
       "      <th>GSM5916431</th>\n",
       "      <th>GSM5916432</th>\n",
       "      <th>GSM5916433</th>\n",
       "      <th>GSM5916434</th>\n",
       "      <th>GSM5916435</th>\n",
       "      <th>GSM5916436</th>\n",
       "      <th>GSM5916437</th>\n",
       "      <th>GSM5916438</th>\n",
       "      <th>GSM5916439</th>\n",
       "    </tr>\n",
       "    <tr>\n",
       "      <th>Gene Symbol</th>\n",
       "      <th></th>\n",
       "      <th></th>\n",
       "      <th></th>\n",
       "      <th></th>\n",
       "      <th></th>\n",
       "      <th></th>\n",
       "      <th></th>\n",
       "      <th></th>\n",
       "      <th></th>\n",
       "      <th></th>\n",
       "      <th></th>\n",
       "      <th></th>\n",
       "      <th></th>\n",
       "      <th></th>\n",
       "      <th></th>\n",
       "    </tr>\n",
       "  </thead>\n",
       "  <tbody>\n",
       "    <tr>\n",
       "      <th>A1BG</th>\n",
       "      <td>13.36290</td>\n",
       "      <td>13.591000</td>\n",
       "      <td>12.27380</td>\n",
       "      <td>13.664100</td>\n",
       "      <td>13.43870</td>\n",
       "      <td>13.28000</td>\n",
       "      <td>13.460400</td>\n",
       "      <td>13.642200</td>\n",
       "      <td>10.886900</td>\n",
       "      <td>10.38160</td>\n",
       "      <td>10.621100</td>\n",
       "      <td>10.311600</td>\n",
       "      <td>9.459760</td>\n",
       "      <td>11.687300</td>\n",
       "      <td>9.41212</td>\n",
       "    </tr>\n",
       "    <tr>\n",
       "      <th>A1BG-AS1</th>\n",
       "      <td>7.49387</td>\n",
       "      <td>7.189490</td>\n",
       "      <td>7.37301</td>\n",
       "      <td>7.830680</td>\n",
       "      <td>7.22424</td>\n",
       "      <td>7.41163</td>\n",
       "      <td>7.681040</td>\n",
       "      <td>8.323270</td>\n",
       "      <td>7.363000</td>\n",
       "      <td>7.44656</td>\n",
       "      <td>7.454340</td>\n",
       "      <td>7.331110</td>\n",
       "      <td>7.186310</td>\n",
       "      <td>7.585580</td>\n",
       "      <td>7.26326</td>\n",
       "    </tr>\n",
       "    <tr>\n",
       "      <th>A1CF</th>\n",
       "      <td>12.56925</td>\n",
       "      <td>12.496750</td>\n",
       "      <td>12.66575</td>\n",
       "      <td>12.039650</td>\n",
       "      <td>12.45315</td>\n",
       "      <td>12.38950</td>\n",
       "      <td>11.897200</td>\n",
       "      <td>12.716950</td>\n",
       "      <td>10.386200</td>\n",
       "      <td>10.63970</td>\n",
       "      <td>10.836250</td>\n",
       "      <td>11.396750</td>\n",
       "      <td>11.416300</td>\n",
       "      <td>11.895000</td>\n",
       "      <td>11.14225</td>\n",
       "    </tr>\n",
       "    <tr>\n",
       "      <th>A2M</th>\n",
       "      <td>10.34091</td>\n",
       "      <td>10.350795</td>\n",
       "      <td>9.90035</td>\n",
       "      <td>10.223595</td>\n",
       "      <td>10.22547</td>\n",
       "      <td>9.32729</td>\n",
       "      <td>9.997065</td>\n",
       "      <td>10.336435</td>\n",
       "      <td>9.779225</td>\n",
       "      <td>9.94644</td>\n",
       "      <td>10.350585</td>\n",
       "      <td>9.911495</td>\n",
       "      <td>10.077495</td>\n",
       "      <td>10.375885</td>\n",
       "      <td>10.16527</td>\n",
       "    </tr>\n",
       "    <tr>\n",
       "      <th>A2M-AS1</th>\n",
       "      <td>6.82393</td>\n",
       "      <td>6.921940</td>\n",
       "      <td>7.20040</td>\n",
       "      <td>6.498240</td>\n",
       "      <td>6.65766</td>\n",
       "      <td>6.52950</td>\n",
       "      <td>7.157360</td>\n",
       "      <td>8.217780</td>\n",
       "      <td>6.376880</td>\n",
       "      <td>6.70249</td>\n",
       "      <td>6.651350</td>\n",
       "      <td>6.597460</td>\n",
       "      <td>7.582040</td>\n",
       "      <td>6.799730</td>\n",
       "      <td>7.67728</td>\n",
       "    </tr>\n",
       "  </tbody>\n",
       "</table>\n",
       "</div>"
      ],
      "text/plain": [
       "             GSM5916425  GSM5916426  GSM5916427  GSM5916428  GSM5916429  \\\n",
       "Gene Symbol                                                               \n",
       "A1BG           13.36290   13.591000    12.27380   13.664100    13.43870   \n",
       "A1BG-AS1        7.49387    7.189490     7.37301    7.830680     7.22424   \n",
       "A1CF           12.56925   12.496750    12.66575   12.039650    12.45315   \n",
       "A2M            10.34091   10.350795     9.90035   10.223595    10.22547   \n",
       "A2M-AS1         6.82393    6.921940     7.20040    6.498240     6.65766   \n",
       "\n",
       "             GSM5916430  GSM5916431  GSM5916432  GSM5916433  GSM5916434  \\\n",
       "Gene Symbol                                                               \n",
       "A1BG           13.28000   13.460400   13.642200   10.886900    10.38160   \n",
       "A1BG-AS1        7.41163    7.681040    8.323270    7.363000     7.44656   \n",
       "A1CF           12.38950   11.897200   12.716950   10.386200    10.63970   \n",
       "A2M             9.32729    9.997065   10.336435    9.779225     9.94644   \n",
       "A2M-AS1         6.52950    7.157360    8.217780    6.376880     6.70249   \n",
       "\n",
       "             GSM5916435  GSM5916436  GSM5916437  GSM5916438  GSM5916439  \n",
       "Gene Symbol                                                              \n",
       "A1BG          10.621100   10.311600    9.459760   11.687300     9.41212  \n",
       "A1BG-AS1       7.454340    7.331110    7.186310    7.585580     7.26326  \n",
       "A1CF          10.836250   11.396750   11.416300   11.895000    11.14225  \n",
       "A2M           10.350585    9.911495   10.077495   10.375885    10.16527  \n",
       "A2M-AS1        6.651350    6.597460    7.582040    6.799730     7.67728  "
      ]
     },
     "execution_count": 61,
     "metadata": {},
     "output_type": "execute_result"
    }
   ],
   "source": [
    "## drop probe id without  ##\n",
    "\n",
    "\n",
    "expr_annot[expr_annot[\"Gene Symbol\"].notnull()& (expr_annot[\"Gene Symbol\"] != \"\")]\n",
    "\n",
    "## average gene expression ##\n",
    "expr_gene = expr_annot.groupby(\"Gene Symbol\").mean(numeric_only= True)\n",
    "\n",
    "print(\"collapsed to genelevel:\", expr_gene.shape)\n",
    "expr_gene.head(5)"
   ]
  },
  {
   "cell_type": "code",
   "execution_count": 62,
   "id": "9f344bf0",
   "metadata": {},
   "outputs": [],
   "source": [
    "expr_gene.to_csv(\"../data/GSE/GSE197406_gene_expression_mean.csv\")"
   ]
  },
  {
   "cell_type": "markdown",
   "id": "96b5a60c",
   "metadata": {},
   "source": [
    "##### now we do the DEGs analysis using python ##"
   ]
  },
  {
   "cell_type": "code",
   "execution_count": 67,
   "id": "6ad4a228",
   "metadata": {},
   "outputs": [],
   "source": [
    "import numpy as np\n",
    "pheno[\"condition\"] = np.where(\n",
    "    pheno[\"source_name_ch1\"].str.contains(\"no liver abnormality\",\n",
    "                                          case=False,\n",
    "                                          na=False),\n",
    "                                          \"control\",\"treated\"\n",
    ")"
   ]
  },
  {
   "cell_type": "code",
   "execution_count": 72,
   "id": "78ac23b1",
   "metadata": {},
   "outputs": [
    {
     "data": {
      "text/plain": [
       "condition\n",
       "control    8\n",
       "treated    7\n",
       "Name: count, dtype: int64"
      ]
     },
     "execution_count": 72,
     "metadata": {},
     "output_type": "execute_result"
    }
   ],
   "source": [
    "pheno[[\"geo_accession\",\"source_name_ch1\",\"condition\"]]\n",
    "pheno[\"condition\"].value_counts()"
   ]
  },
  {
   "cell_type": "code",
   "execution_count": 74,
   "id": "b830f473",
   "metadata": {},
   "outputs": [],
   "source": [
    "expr_gene = expr_gene[pheno[\"geo_accession\"]]"
   ]
  },
  {
   "cell_type": "markdown",
   "id": "13970f0b",
   "metadata": {},
   "source": [
    "##### Perform DEG analysis using the statmodels"
   ]
  },
  {
   "cell_type": "code",
   "execution_count": 79,
   "id": "effdd39d",
   "metadata": {},
   "outputs": [
    {
     "name": "stdout",
     "output_type": "stream",
     "text": [
      "           geo_accession condition  condition_num\n",
      "GSM5916425    GSM5916425   control              0\n",
      "GSM5916426    GSM5916426   control              0\n",
      "GSM5916427    GSM5916427   control              0\n",
      "GSM5916428    GSM5916428   control              0\n",
      "GSM5916429    GSM5916429   control              0\n"
     ]
    },
    {
     "name": "stderr",
     "output_type": "stream",
     "text": [
      "100%|██████████| 23520/23520 [00:13<00:00, 1714.00it/s]"
     ]
    },
    {
     "name": "stdout",
     "output_type": "stream",
     "text": [
      "✅ Significant DEGs found: 1298\n",
      "Regulation\n",
      "NotSig    22222\n",
      "Down        745\n",
      "Up          553\n",
      "Name: count, dtype: int64\n"
     ]
    },
    {
     "name": "stderr",
     "output_type": "stream",
     "text": [
      "\n"
     ]
    }
   ],
   "source": [
    "import pandas as pd\n",
    "import statsmodels.api as sm\n",
    "from tqdm import tqdm\n",
    "import numpy as np\n",
    "from statsmodels.stats.multitest import multipletests\n",
    "\n",
    "# 1️⃣ Create numeric design matrix\n",
    "pheno[\"condition_num\"] = (pheno[\"condition\"] == \"treated\").astype(int)\n",
    "\n",
    "# Check mapping\n",
    "print(pheno[[\"geo_accession\", \"condition\", \"condition_num\"]].head())\n",
    "\n",
    "# 2️⃣ Prepare design matrix\n",
    "X = sm.add_constant(pheno[\"condition_num\"].values)  # adds intercept\n",
    "results = []\n",
    "\n",
    "# 3️⃣ Loop through genes\n",
    "for gene in tqdm(expr_gene.index):\n",
    "    y = expr_gene.loc[gene].values.astype(float)\n",
    "    model = sm.OLS(y, X).fit()\n",
    "    coef = model.params[1]\n",
    "    pval = model.pvalues[1]\n",
    "    results.append((gene, coef, pval))\n",
    "\n",
    "# 4️⃣ Build DEG results DataFrame\n",
    "deg_results = pd.DataFrame(results, columns=[\"Gene\", \"logFC\", \"pvalue\"])\n",
    "\n",
    "# 5️⃣ Adjust p-values (Benjamini-Hochberg FDR)\n",
    "deg_results[\"adj.P.Val\"] = multipletests(deg_results[\"pvalue\"], method=\"fdr_bh\")[1]\n",
    "\n",
    "# 6️⃣ Filter significant DEGs\n",
    "deg_sig = deg_results[(deg_results[\"adj.P.Val\"] < 0.05) & (abs(deg_results[\"logFC\"]) > 0.6)]\n",
    "\n",
    "print(\"✅ Significant DEGs found:\", len(deg_sig))\n",
    "deg_sig.head()\n",
    "\n",
    "\n",
    "# Add a column for DEG classification\n",
    "deg_results[\"Regulation\"] = \"NotSig\"\n",
    "deg_results.loc[(deg_results[\"adj.P.Val\"] < 0.05) & (deg_results[\"logFC\"] > 0.6), \"Regulation\"] = \"Up\"\n",
    "deg_results.loc[(deg_results[\"adj.P.Val\"] < 0.05) & (deg_results[\"logFC\"] < -0.6), \"Regulation\"] = \"Down\"\n",
    "\n",
    "# Quick check of counts\n",
    "print(deg_results[\"Regulation\"].value_counts())\n",
    "\n",
    "\n",
    "\n"
   ]
  },
  {
   "cell_type": "code",
   "execution_count": 80,
   "id": "fd58a285",
   "metadata": {},
   "outputs": [
    {
     "data": {
      "image/png": "[encoded data removed]",
      "text/plain": [
       "<Figure size 800x600 with 1 Axes>"
      ]
     },
     "metadata": {},
     "output_type": "display_data"
    }
   ],
   "source": [
    "import matplotlib.pyplot as plt\n",
    "import numpy as np\n",
    "\n",
    "# Define color map\n",
    "colors = {\"Up\": \"red\", \"Down\": \"green\", \"NotSig\": \"grey\"}\n",
    "\n",
    "plt.figure(figsize=(8,6))\n",
    "plt.scatter(\n",
    "    deg_results[\"logFC\"], \n",
    "    -np.log10(deg_results[\"pvalue\"]),\n",
    "    c=deg_results[\"Regulation\"].map(colors),\n",
    "    alpha=0.7,\n",
    "    s=12\n",
    ")\n",
    "\n",
    "# Add reference lines\n",
    "plt.axvline(x=1, color=\"black\", linestyle=\"--\", lw=1)\n",
    "plt.axvline(x=-1, color=\"black\", linestyle=\"--\", lw=1)\n",
    "plt.axhline(y=-np.log10(0.05), color=\"black\", linestyle=\"--\", lw=1)\n",
    "\n",
    "plt.xlabel(\"log2 Fold Change\")\n",
    "plt.ylabel(\"-log10(p-value)\")\n",
    "plt.title(\"Volcano Plot - GSE197406\")\n",
    "\n",
    "plt.show()\n",
    "\n"
   ]
  }
 ],
 "metadata": {
  "kernelspec": {
   "display_name": "myytcode",
   "language": "python",
   "name": "python3"
  },
  "language_info": {
   "codemirror_mode": {
    "name": "ipython",
    "version": 3
   },
   "file_extension": ".py",
   "mimetype": "text/x-python",
   "name": "python",
   "nbconvert_exporter": "python",
   "pygments_lexer": "ipython3",
   "version": "3.12.6"
  }
 },
 "nbformat": 4,
 "nbformat_minor": 5
}
