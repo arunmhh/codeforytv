{
 "cells": [
  {
   "cell_type": "markdown",
   "metadata": {},
   "source": [
    "##### H0 = No difference in the mean of population or group \n",
    "##### Ha = There is difference in the mean of population or group \n",
    "##### Alpha = 0.05 "
   ]
  },
  {
   "cell_type": "code",
   "execution_count": 2,
   "metadata": {
    "vscode": {
     "languageId": "r"
    }
   },
   "outputs": [
    {
     "name": "stderr",
     "output_type": "stream",
     "text": [
      "── \u001b[1mAttaching core tidyverse packages\u001b[22m ──────────────────────── tidyverse 2.0.0 ──\n",
      "\u001b[32m✔\u001b[39m \u001b[34mdplyr    \u001b[39m 1.1.4     \u001b[32m✔\u001b[39m \u001b[34mreadr    \u001b[39m 2.1.5\n",
      "\u001b[32m✔\u001b[39m \u001b[34mforcats  \u001b[39m 1.0.0     \u001b[32m✔\u001b[39m \u001b[34mstringr  \u001b[39m 1.5.1\n",
      "\u001b[32m✔\u001b[39m \u001b[34mggplot2  \u001b[39m 3.5.1     \u001b[32m✔\u001b[39m \u001b[34mtibble   \u001b[39m 3.2.1\n",
      "\u001b[32m✔\u001b[39m \u001b[34mlubridate\u001b[39m 1.9.3     \u001b[32m✔\u001b[39m \u001b[34mtidyr    \u001b[39m 1.3.1\n",
      "\u001b[32m✔\u001b[39m \u001b[34mpurrr    \u001b[39m 1.0.2     \n",
      "── \u001b[1mConflicts\u001b[22m ────────────────────────────────────────── tidyverse_conflicts() ──\n",
      "\u001b[31m✖\u001b[39m \u001b[34mdplyr\u001b[39m::\u001b[32mfilter()\u001b[39m masks \u001b[34mstats\u001b[39m::filter()\n",
      "\u001b[31m✖\u001b[39m \u001b[34mdplyr\u001b[39m::\u001b[32mlag()\u001b[39m    masks \u001b[34mstats\u001b[39m::lag()\n",
      "\u001b[36mℹ\u001b[39m Use the conflicted package (\u001b[3m\u001b[34m<http://conflicted.r-lib.org/>\u001b[39m\u001b[23m) to force all conflicts to become errors\n",
      "You can cite this package as:\n",
      "     Patil, I. (2021). Visualizations with statistical details: The 'ggstatsplot' approach.\n",
      "     Journal of Open Source Software, 6(61), 3167, doi:10.21105/joss.03167\n",
      "\n",
      "\n",
      "Attache Paket: ‘ISLR2’\n",
      "\n",
      "\n",
      "Die folgenden Objekte sind maskiert von ‘package:ISLR’:\n",
      "\n",
      "    Auto, Credit\n",
      "\n",
      "\n",
      "\n",
      "Attache Paket: ‘psych’\n",
      "\n",
      "\n",
      "Die folgenden Objekte sind maskiert von ‘package:ggplot2’:\n",
      "\n",
      "    %+%, alpha\n",
      "\n",
      "\n",
      "\n",
      "Attache Paket: ‘effectsize’\n",
      "\n",
      "\n",
      "Das folgende Objekt ist maskiert ‘package:psych’:\n",
      "\n",
      "    phi\n",
      "\n",
      "\n",
      "Registered S3 method overwritten by 'GGally':\n",
      "  method from   \n",
      "  +.gg   ggplot2\n",
      "\n",
      "Lade nötiges Paket: xts\n",
      "\n",
      "Lade nötiges Paket: zoo\n",
      "\n",
      "\n",
      "Attache Paket: ‘zoo’\n",
      "\n",
      "\n",
      "Die folgenden Objekte sind maskiert von ‘package:base’:\n",
      "\n",
      "    as.Date, as.Date.numeric\n",
      "\n",
      "\n",
      "\n",
      "######################### Warning from 'xts' package ##########################\n",
      "#                                                                             #\n",
      "# The dplyr lag() function breaks how base R's lag() function is supposed to  #\n",
      "# work, which breaks lag(my_xts). Calls to lag(my_xts) that you type or       #\n",
      "# source() into this session won't work correctly.                            #\n",
      "#                                                                             #\n",
      "# Use stats::lag() to make sure you're not using dplyr::lag(), or you can add #\n",
      "# conflictRules('dplyr', exclude = 'lag') to your .Rprofile to stop           #\n",
      "# dplyr from breaking base R's lag() function.                                #\n",
      "#                                                                             #\n",
      "# Code in packages is not affected. It's protected by R's namespace mechanism #\n",
      "# Set `options(xts.warn_dplyr_breaks_lag = FALSE)` to suppress this warning.  #\n",
      "#                                                                             #\n",
      "###############################################################################\n",
      "\n",
      "\n",
      "Attache Paket: ‘xts’\n",
      "\n",
      "\n",
      "Die folgenden Objekte sind maskiert von ‘package:dplyr’:\n",
      "\n",
      "    first, last\n",
      "\n",
      "\n",
      "\n",
      "Attache Paket: ‘PerformanceAnalytics’\n",
      "\n",
      "\n",
      "Das folgende Objekt ist maskiert ‘package:graphics’:\n",
      "\n",
      "    legend\n",
      "\n",
      "\n",
      "Registered S3 methods overwritten by 'dlookr':\n",
      "  method          from  \n",
      "  plot.transform  scales\n",
      "  print.transform scales\n",
      "\n",
      "\n",
      "Attache Paket: ‘dlookr’\n",
      "\n",
      "\n",
      "Die folgenden Objekte sind maskiert von ‘package:PerformanceAnalytics’:\n",
      "\n",
      "    kurtosis, skewness\n",
      "\n",
      "\n",
      "Das folgende Objekt ist maskiert ‘package:psych’:\n",
      "\n",
      "    describe\n",
      "\n",
      "\n",
      "Das folgende Objekt ist maskiert ‘package:tidyr’:\n",
      "\n",
      "    extract\n",
      "\n",
      "\n",
      "Das folgende Objekt ist maskiert ‘package:base’:\n",
      "\n",
      "    transform\n",
      "\n",
      "\n",
      "\n",
      "Attache Paket: ‘flextable’\n",
      "\n",
      "\n",
      "Das folgende Objekt ist maskiert ‘package:purrr’:\n",
      "\n",
      "    compose\n",
      "\n",
      "\n",
      "\n",
      "Attache Paket: ‘ggpubr’\n",
      "\n",
      "\n",
      "Die folgenden Objekte sind maskiert von ‘package:flextable’:\n",
      "\n",
      "    border, font, rotate\n",
      "\n",
      "\n",
      "Welcome to emmeans.\n",
      "Caution: You lose important information if you filter this package's results.\n",
      "See '? untidy'\n",
      "\n",
      "\n",
      "Attache Paket: ‘emmeans’\n",
      "\n",
      "\n",
      "Das folgende Objekt ist maskiert ‘package:GGally’:\n",
      "\n",
      "    pigs\n",
      "\n",
      "\n",
      "Lade nötiges Paket: SparseM\n",
      "\n",
      "\n",
      "Attache Paket: ‘SparseM’\n",
      "\n",
      "\n",
      "Das folgende Objekt ist maskiert ‘package:base’:\n",
      "\n",
      "    backsolve\n",
      "\n",
      "\n",
      "\n",
      "Attache Paket: ‘quantreg’\n",
      "\n",
      "\n",
      "Das folgende Objekt ist maskiert ‘package:survival’:\n",
      "\n",
      "    untangle.specials\n",
      "\n",
      "\n",
      "── \u001b[1mAttaching packages\u001b[22m ────────────────────────────────────── tidymodels 1.2.0 ──\n",
      "\n",
      "\u001b[32m✔\u001b[39m \u001b[34mbroom       \u001b[39m 1.0.5      \u001b[32m✔\u001b[39m \u001b[34mrecipes     \u001b[39m 1.0.10\n",
      "\u001b[32m✔\u001b[39m \u001b[34mdials       \u001b[39m 1.2.1      \u001b[32m✔\u001b[39m \u001b[34mtune        \u001b[39m 1.2.1 \n",
      "\u001b[32m✔\u001b[39m \u001b[34minfer       \u001b[39m 1.0.7      \u001b[32m✔\u001b[39m \u001b[34mworkflows   \u001b[39m 1.1.4 \n",
      "\u001b[32m✔\u001b[39m \u001b[34mmodeldata   \u001b[39m 1.3.0      \u001b[32m✔\u001b[39m \u001b[34mworkflowsets\u001b[39m 1.1.0 \n",
      "\u001b[32m✔\u001b[39m \u001b[34mparsnip     \u001b[39m 1.2.1      \u001b[32m✔\u001b[39m \u001b[34myardstick   \u001b[39m 1.3.1 \n",
      "\n",
      "── \u001b[1mConflicts\u001b[22m ───────────────────────────────────────── tidymodels_conflicts() ──\n",
      "\u001b[31m✖\u001b[39m \u001b[34mpsych\u001b[39m::\u001b[32m%+%()\u001b[39m         masks \u001b[34mggplot2\u001b[39m::%+%()\n",
      "\u001b[31m✖\u001b[39m \u001b[34mscales\u001b[39m::\u001b[32malpha()\u001b[39m      masks \u001b[34mpsych\u001b[39m::alpha(), \u001b[34mggplot2\u001b[39m::alpha()\n",
      "\u001b[31m✖\u001b[39m \u001b[34mflextable\u001b[39m::\u001b[32mcompose()\u001b[39m masks \u001b[34mpurrr\u001b[39m::compose()\n",
      "\u001b[31m✖\u001b[39m \u001b[34mscales\u001b[39m::\u001b[32mdiscard()\u001b[39m    masks \u001b[34mpurrr\u001b[39m::discard()\n",
      "\u001b[31m✖\u001b[39m \u001b[34mdlookr\u001b[39m::\u001b[32mextract()\u001b[39m    masks \u001b[34mtidyr\u001b[39m::extract()\n",
      "\u001b[31m✖\u001b[39m \u001b[34mdplyr\u001b[39m::\u001b[32mfilter()\u001b[39m      masks \u001b[34mstats\u001b[39m::filter()\n",
      "\u001b[31m✖\u001b[39m \u001b[34mxts\u001b[39m::\u001b[32mfirst()\u001b[39m         masks \u001b[34mdplyr\u001b[39m::first()\n",
      "\u001b[31m✖\u001b[39m \u001b[34mrecipes\u001b[39m::\u001b[32mfixed()\u001b[39m     masks \u001b[34mstringr\u001b[39m::fixed()\n",
      "\u001b[31m✖\u001b[39m \u001b[34mdplyr\u001b[39m::\u001b[32mlag()\u001b[39m         masks \u001b[34mstats\u001b[39m::lag()\n",
      "\u001b[31m✖\u001b[39m \u001b[34mxts\u001b[39m::\u001b[32mlast()\u001b[39m          masks \u001b[34mdplyr\u001b[39m::last()\n",
      "\u001b[31m✖\u001b[39m \u001b[34myardstick\u001b[39m::\u001b[32mspec()\u001b[39m    masks \u001b[34mreadr\u001b[39m::spec()\n",
      "\u001b[31m✖\u001b[39m \u001b[34mrecipes\u001b[39m::\u001b[32mstep()\u001b[39m      masks \u001b[34mstats\u001b[39m::step()\n",
      "\u001b[34m•\u001b[39m Search for functions across packages at \u001b[32mhttps://www.tidymodels.org/find/\u001b[39m\n",
      "\n",
      "system might not have X11 capabilities; in case of errors when using dfSummary(), set st_options(use.x11 = FALSE)\n",
      "\n",
      "\n",
      "Attache Paket: ‘summarytools’\n",
      "\n",
      "\n",
      "Das folgende Objekt ist maskiert ‘package:tibble’:\n",
      "\n",
      "    view\n",
      "\n",
      "\n",
      "\n",
      "Attache Paket: ‘gtsummary’\n",
      "\n",
      "\n",
      "Die folgenden Objekte sind maskiert von ‘package:recipes’:\n",
      "\n",
      "    all_double, all_factor, all_integer, all_logical, all_numeric\n",
      "\n",
      "\n",
      "Die folgenden Objekte sind maskiert von ‘package:flextable’:\n",
      "\n",
      "    as_flextable, continuous_summary\n",
      "\n",
      "\n"
     ]
    }
   ],
   "source": [
    "  library(tidyverse)\n",
    "  library(datarium)\n",
    "  library(ggstatsplot) \n",
    "  library(ISLR)\n",
    "  library(ISLR2)\n",
    "  library(readxl)\n",
    "  library(dplyr) \n",
    "  library(gapminder)\n",
    "  library(psych)\n",
    "  library(effectsize)\n",
    "  library(GGally)\n",
    "  library(PerformanceAnalytics)\n",
    "  library(dlookr)\n",
    "  library(flextable) \n",
    "  library(survival)\n",
    "  library(MVN)\n",
    "  library(tinystatr)\n",
    "  library(ggplot2)\n",
    "  library(ggpubr)\n",
    "  library(emmeans)\n",
    "  library(quantreg)\n",
    "  library(sjPlot)\n",
    "  library(rsample)\n",
    "  library(tidymodels)\n",
    "  library(SmartEDA)\n",
    "  library(summarytools)\n",
    "  library(gtsummary)\n",
    "  library(DataExplorer)\n",
    "  library(report)"
   ]
  },
  {
   "cell_type": "markdown",
   "metadata": {},
   "source": [
    "### read data from library datarium"
   ]
  },
  {
   "cell_type": "code",
   "execution_count": 3,
   "metadata": {
    "vscode": {
     "languageId": "r"
    }
   },
   "outputs": [
    {
     "data": {
      "text/html": [
       "<table class=\"dataframe\">\n",
       "<caption>A tibble: 45 × 5</caption>\n",
       "<thead>\n",
       "\t<tr><th scope=col>id</th><th scope=col>group</th><th scope=col>t1</th><th scope=col>t2</th><th scope=col>t3</th></tr>\n",
       "\t<tr><th scope=col>&lt;fct&gt;</th><th scope=col>&lt;fct&gt;</th><th scope=col>&lt;dbl&gt;</th><th scope=col>&lt;dbl&gt;</th><th scope=col>&lt;dbl&gt;</th></tr>\n",
       "</thead>\n",
       "<tbody>\n",
       "\t<tr><td>1 </td><td>grp1</td><td>14.1</td><td>14.4</td><td>14.1</td></tr>\n",
       "\t<tr><td>2 </td><td>grp1</td><td>14.5</td><td>14.6</td><td>14.3</td></tr>\n",
       "\t<tr><td>3 </td><td>grp1</td><td>15.7</td><td>15.2</td><td>14.9</td></tr>\n",
       "\t<tr><td>4 </td><td>grp1</td><td>16.0</td><td>15.5</td><td>15.3</td></tr>\n",
       "\t<tr><td>5 </td><td>grp1</td><td>16.5</td><td>15.8</td><td>15.7</td></tr>\n",
       "\t<tr><td>6 </td><td>grp1</td><td>16.9</td><td>16.5</td><td>16.2</td></tr>\n",
       "\t<tr><td>7 </td><td>grp1</td><td>17.0</td><td>16.8</td><td>16.5</td></tr>\n",
       "\t<tr><td>8 </td><td>grp1</td><td>17.0</td><td>17.1</td><td>16.6</td></tr>\n",
       "\t<tr><td>9 </td><td>grp1</td><td>17.3</td><td>16.9</td><td>16.5</td></tr>\n",
       "\t<tr><td>10</td><td>grp1</td><td>17.3</td><td>17.1</td><td>16.7</td></tr>\n",
       "\t<tr><td>11</td><td>grp1</td><td>17.8</td><td>17.7</td><td>17.3</td></tr>\n",
       "\t<tr><td>12</td><td>grp1</td><td>17.9</td><td>17.7</td><td>17.5</td></tr>\n",
       "\t<tr><td>13</td><td>grp1</td><td>19.1</td><td>19.4</td><td>19.3</td></tr>\n",
       "\t<tr><td>14</td><td>grp1</td><td>19.4</td><td>19.2</td><td>17.3</td></tr>\n",
       "\t<tr><td>15</td><td>grp1</td><td>19.8</td><td>20.0</td><td>19.4</td></tr>\n",
       "\t<tr><td>16</td><td>grp2</td><td>13.7</td><td>13.4</td><td>12.7</td></tr>\n",
       "\t<tr><td>17</td><td>grp2</td><td>14.7</td><td>14.8</td><td>13.1</td></tr>\n",
       "\t<tr><td>18</td><td>grp2</td><td>14.9</td><td>14.4</td><td>13.6</td></tr>\n",
       "\t<tr><td>19</td><td>grp2</td><td>15.1</td><td>14.8</td><td>13.6</td></tr>\n",
       "\t<tr><td>20</td><td>grp2</td><td>15.8</td><td>14.8</td><td>14.2</td></tr>\n",
       "\t<tr><td>21</td><td>grp2</td><td>16.4</td><td>15.7</td><td>14.9</td></tr>\n",
       "\t<tr><td>22</td><td>grp2</td><td>16.6</td><td>16.9</td><td>16.1</td></tr>\n",
       "\t<tr><td>23</td><td>grp2</td><td>16.9</td><td>16.9</td><td>16.1</td></tr>\n",
       "\t<tr><td>24</td><td>grp2</td><td>16.9</td><td>16.9</td><td>16.3</td></tr>\n",
       "\t<tr><td>25</td><td>grp2</td><td>17.2</td><td>17.3</td><td>15.9</td></tr>\n",
       "\t<tr><td>26</td><td>grp2</td><td>17.8</td><td>18.2</td><td>17.4</td></tr>\n",
       "\t<tr><td>27</td><td>grp2</td><td>17.8</td><td>17.7</td><td>16.9</td></tr>\n",
       "\t<tr><td>28</td><td>grp2</td><td>18.2</td><td>17.8</td><td>17.1</td></tr>\n",
       "\t<tr><td>29</td><td>grp2</td><td>18.4</td><td>18.5</td><td>17.3</td></tr>\n",
       "\t<tr><td>30</td><td>grp2</td><td>19.3</td><td>18.9</td><td>17.7</td></tr>\n",
       "\t<tr><td>31</td><td>grp3</td><td>14.6</td><td>13.0</td><td>11.7</td></tr>\n",
       "\t<tr><td>32</td><td>grp3</td><td>15.0</td><td>13.0</td><td>11.9</td></tr>\n",
       "\t<tr><td>33</td><td>grp3</td><td>15.5</td><td>12.7</td><td>11.0</td></tr>\n",
       "\t<tr><td>34</td><td>grp3</td><td>15.7</td><td>14.1</td><td>12.1</td></tr>\n",
       "\t<tr><td>35</td><td>grp3</td><td>16.4</td><td>14.4</td><td>12.3</td></tr>\n",
       "\t<tr><td>36</td><td>grp3</td><td>16.9</td><td>14.5</td><td>13.6</td></tr>\n",
       "\t<tr><td>37</td><td>grp3</td><td>17.1</td><td>15.6</td><td>14.3</td></tr>\n",
       "\t<tr><td>38</td><td>grp3</td><td>17.3</td><td>15.4</td><td>14.2</td></tr>\n",
       "\t<tr><td>39</td><td>grp3</td><td>17.5</td><td>15.6</td><td>14.4</td></tr>\n",
       "\t<tr><td>40</td><td>grp3</td><td>17.6</td><td>14.8</td><td>13.8</td></tr>\n",
       "\t<tr><td>41</td><td>grp3</td><td>17.8</td><td>16.1</td><td>14.3</td></tr>\n",
       "\t<tr><td>42</td><td>grp3</td><td>17.9</td><td>15.7</td><td>13.8</td></tr>\n",
       "\t<tr><td>43</td><td>grp3</td><td>18.4</td><td>16.7</td><td>15.4</td></tr>\n",
       "\t<tr><td>44</td><td>grp3</td><td>18.5</td><td>16.4</td><td>15.1</td></tr>\n",
       "\t<tr><td>45</td><td>grp3</td><td>19.0</td><td>17.2</td><td>15.5</td></tr>\n",
       "</tbody>\n",
       "</table>\n"
      ],
      "text/latex": [
       "A tibble: 45 × 5\n",
       "\\begin{tabular}{lllll}\n",
       " id & group & t1 & t2 & t3\\\\\n",
       " <fct> & <fct> & <dbl> & <dbl> & <dbl>\\\\\n",
       "\\hline\n",
       "\t 1  & grp1 & 14.1 & 14.4 & 14.1\\\\\n",
       "\t 2  & grp1 & 14.5 & 14.6 & 14.3\\\\\n",
       "\t 3  & grp1 & 15.7 & 15.2 & 14.9\\\\\n",
       "\t 4  & grp1 & 16.0 & 15.5 & 15.3\\\\\n",
       "\t 5  & grp1 & 16.5 & 15.8 & 15.7\\\\\n",
       "\t 6  & grp1 & 16.9 & 16.5 & 16.2\\\\\n",
       "\t 7  & grp1 & 17.0 & 16.8 & 16.5\\\\\n",
       "\t 8  & grp1 & 17.0 & 17.1 & 16.6\\\\\n",
       "\t 9  & grp1 & 17.3 & 16.9 & 16.5\\\\\n",
       "\t 10 & grp1 & 17.3 & 17.1 & 16.7\\\\\n",
       "\t 11 & grp1 & 17.8 & 17.7 & 17.3\\\\\n",
       "\t 12 & grp1 & 17.9 & 17.7 & 17.5\\\\\n",
       "\t 13 & grp1 & 19.1 & 19.4 & 19.3\\\\\n",
       "\t 14 & grp1 & 19.4 & 19.2 & 17.3\\\\\n",
       "\t 15 & grp1 & 19.8 & 20.0 & 19.4\\\\\n",
       "\t 16 & grp2 & 13.7 & 13.4 & 12.7\\\\\n",
       "\t 17 & grp2 & 14.7 & 14.8 & 13.1\\\\\n",
       "\t 18 & grp2 & 14.9 & 14.4 & 13.6\\\\\n",
       "\t 19 & grp2 & 15.1 & 14.8 & 13.6\\\\\n",
       "\t 20 & grp2 & 15.8 & 14.8 & 14.2\\\\\n",
       "\t 21 & grp2 & 16.4 & 15.7 & 14.9\\\\\n",
       "\t 22 & grp2 & 16.6 & 16.9 & 16.1\\\\\n",
       "\t 23 & grp2 & 16.9 & 16.9 & 16.1\\\\\n",
       "\t 24 & grp2 & 16.9 & 16.9 & 16.3\\\\\n",
       "\t 25 & grp2 & 17.2 & 17.3 & 15.9\\\\\n",
       "\t 26 & grp2 & 17.8 & 18.2 & 17.4\\\\\n",
       "\t 27 & grp2 & 17.8 & 17.7 & 16.9\\\\\n",
       "\t 28 & grp2 & 18.2 & 17.8 & 17.1\\\\\n",
       "\t 29 & grp2 & 18.4 & 18.5 & 17.3\\\\\n",
       "\t 30 & grp2 & 19.3 & 18.9 & 17.7\\\\\n",
       "\t 31 & grp3 & 14.6 & 13.0 & 11.7\\\\\n",
       "\t 32 & grp3 & 15.0 & 13.0 & 11.9\\\\\n",
       "\t 33 & grp3 & 15.5 & 12.7 & 11.0\\\\\n",
       "\t 34 & grp3 & 15.7 & 14.1 & 12.1\\\\\n",
       "\t 35 & grp3 & 16.4 & 14.4 & 12.3\\\\\n",
       "\t 36 & grp3 & 16.9 & 14.5 & 13.6\\\\\n",
       "\t 37 & grp3 & 17.1 & 15.6 & 14.3\\\\\n",
       "\t 38 & grp3 & 17.3 & 15.4 & 14.2\\\\\n",
       "\t 39 & grp3 & 17.5 & 15.6 & 14.4\\\\\n",
       "\t 40 & grp3 & 17.6 & 14.8 & 13.8\\\\\n",
       "\t 41 & grp3 & 17.8 & 16.1 & 14.3\\\\\n",
       "\t 42 & grp3 & 17.9 & 15.7 & 13.8\\\\\n",
       "\t 43 & grp3 & 18.4 & 16.7 & 15.4\\\\\n",
       "\t 44 & grp3 & 18.5 & 16.4 & 15.1\\\\\n",
       "\t 45 & grp3 & 19.0 & 17.2 & 15.5\\\\\n",
       "\\end{tabular}\n"
      ],
      "text/markdown": [
       "\n",
       "A tibble: 45 × 5\n",
       "\n",
       "| id &lt;fct&gt; | group &lt;fct&gt; | t1 &lt;dbl&gt; | t2 &lt;dbl&gt; | t3 &lt;dbl&gt; |\n",
       "|---|---|---|---|---|\n",
       "| 1  | grp1 | 14.1 | 14.4 | 14.1 |\n",
       "| 2  | grp1 | 14.5 | 14.6 | 14.3 |\n",
       "| 3  | grp1 | 15.7 | 15.2 | 14.9 |\n",
       "| 4  | grp1 | 16.0 | 15.5 | 15.3 |\n",
       "| 5  | grp1 | 16.5 | 15.8 | 15.7 |\n",
       "| 6  | grp1 | 16.9 | 16.5 | 16.2 |\n",
       "| 7  | grp1 | 17.0 | 16.8 | 16.5 |\n",
       "| 8  | grp1 | 17.0 | 17.1 | 16.6 |\n",
       "| 9  | grp1 | 17.3 | 16.9 | 16.5 |\n",
       "| 10 | grp1 | 17.3 | 17.1 | 16.7 |\n",
       "| 11 | grp1 | 17.8 | 17.7 | 17.3 |\n",
       "| 12 | grp1 | 17.9 | 17.7 | 17.5 |\n",
       "| 13 | grp1 | 19.1 | 19.4 | 19.3 |\n",
       "| 14 | grp1 | 19.4 | 19.2 | 17.3 |\n",
       "| 15 | grp1 | 19.8 | 20.0 | 19.4 |\n",
       "| 16 | grp2 | 13.7 | 13.4 | 12.7 |\n",
       "| 17 | grp2 | 14.7 | 14.8 | 13.1 |\n",
       "| 18 | grp2 | 14.9 | 14.4 | 13.6 |\n",
       "| 19 | grp2 | 15.1 | 14.8 | 13.6 |\n",
       "| 20 | grp2 | 15.8 | 14.8 | 14.2 |\n",
       "| 21 | grp2 | 16.4 | 15.7 | 14.9 |\n",
       "| 22 | grp2 | 16.6 | 16.9 | 16.1 |\n",
       "| 23 | grp2 | 16.9 | 16.9 | 16.1 |\n",
       "| 24 | grp2 | 16.9 | 16.9 | 16.3 |\n",
       "| 25 | grp2 | 17.2 | 17.3 | 15.9 |\n",
       "| 26 | grp2 | 17.8 | 18.2 | 17.4 |\n",
       "| 27 | grp2 | 17.8 | 17.7 | 16.9 |\n",
       "| 28 | grp2 | 18.2 | 17.8 | 17.1 |\n",
       "| 29 | grp2 | 18.4 | 18.5 | 17.3 |\n",
       "| 30 | grp2 | 19.3 | 18.9 | 17.7 |\n",
       "| 31 | grp3 | 14.6 | 13.0 | 11.7 |\n",
       "| 32 | grp3 | 15.0 | 13.0 | 11.9 |\n",
       "| 33 | grp3 | 15.5 | 12.7 | 11.0 |\n",
       "| 34 | grp3 | 15.7 | 14.1 | 12.1 |\n",
       "| 35 | grp3 | 16.4 | 14.4 | 12.3 |\n",
       "| 36 | grp3 | 16.9 | 14.5 | 13.6 |\n",
       "| 37 | grp3 | 17.1 | 15.6 | 14.3 |\n",
       "| 38 | grp3 | 17.3 | 15.4 | 14.2 |\n",
       "| 39 | grp3 | 17.5 | 15.6 | 14.4 |\n",
       "| 40 | grp3 | 17.6 | 14.8 | 13.8 |\n",
       "| 41 | grp3 | 17.8 | 16.1 | 14.3 |\n",
       "| 42 | grp3 | 17.9 | 15.7 | 13.8 |\n",
       "| 43 | grp3 | 18.4 | 16.7 | 15.4 |\n",
       "| 44 | grp3 | 18.5 | 16.4 | 15.1 |\n",
       "| 45 | grp3 | 19.0 | 17.2 | 15.5 |\n",
       "\n"
      ],
      "text/plain": [
       "   id group t1   t2   t3  \n",
       "1  1  grp1  14.1 14.4 14.1\n",
       "2  2  grp1  14.5 14.6 14.3\n",
       "3  3  grp1  15.7 15.2 14.9\n",
       "4  4  grp1  16.0 15.5 15.3\n",
       "5  5  grp1  16.5 15.8 15.7\n",
       "6  6  grp1  16.9 16.5 16.2\n",
       "7  7  grp1  17.0 16.8 16.5\n",
       "8  8  grp1  17.0 17.1 16.6\n",
       "9  9  grp1  17.3 16.9 16.5\n",
       "10 10 grp1  17.3 17.1 16.7\n",
       "11 11 grp1  17.8 17.7 17.3\n",
       "12 12 grp1  17.9 17.7 17.5\n",
       "13 13 grp1  19.1 19.4 19.3\n",
       "14 14 grp1  19.4 19.2 17.3\n",
       "15 15 grp1  19.8 20.0 19.4\n",
       "16 16 grp2  13.7 13.4 12.7\n",
       "17 17 grp2  14.7 14.8 13.1\n",
       "18 18 grp2  14.9 14.4 13.6\n",
       "19 19 grp2  15.1 14.8 13.6\n",
       "20 20 grp2  15.8 14.8 14.2\n",
       "21 21 grp2  16.4 15.7 14.9\n",
       "22 22 grp2  16.6 16.9 16.1\n",
       "23 23 grp2  16.9 16.9 16.1\n",
       "24 24 grp2  16.9 16.9 16.3\n",
       "25 25 grp2  17.2 17.3 15.9\n",
       "26 26 grp2  17.8 18.2 17.4\n",
       "27 27 grp2  17.8 17.7 16.9\n",
       "28 28 grp2  18.2 17.8 17.1\n",
       "29 29 grp2  18.4 18.5 17.3\n",
       "30 30 grp2  19.3 18.9 17.7\n",
       "31 31 grp3  14.6 13.0 11.7\n",
       "32 32 grp3  15.0 13.0 11.9\n",
       "33 33 grp3  15.5 12.7 11.0\n",
       "34 34 grp3  15.7 14.1 12.1\n",
       "35 35 grp3  16.4 14.4 12.3\n",
       "36 36 grp3  16.9 14.5 13.6\n",
       "37 37 grp3  17.1 15.6 14.3\n",
       "38 38 grp3  17.3 15.4 14.2\n",
       "39 39 grp3  17.5 15.6 14.4\n",
       "40 40 grp3  17.6 14.8 13.8\n",
       "41 41 grp3  17.8 16.1 14.3\n",
       "42 42 grp3  17.9 15.7 13.8\n",
       "43 43 grp3  18.4 16.7 15.4\n",
       "44 44 grp3  18.5 16.4 15.1\n",
       "45 45 grp3  19.0 17.2 15.5"
      ]
     },
     "metadata": {},
     "output_type": "display_data"
    }
   ],
   "source": [
    "dataan <- anxiety\n",
    "dataan"
   ]
  },
  {
   "cell_type": "code",
   "execution_count": 4,
   "metadata": {
    "vscode": {
     "languageId": "r"
    }
   },
   "outputs": [
    {
     "data": {
      "text/html": [
       "<table class=\"dataframe\">\n",
       "<caption>A tibble: 135 × 4</caption>\n",
       "<thead>\n",
       "\t<tr><th scope=col>id</th><th scope=col>group</th><th scope=col>observation</th><th scope=col>reads</th></tr>\n",
       "\t<tr><th scope=col>&lt;fct&gt;</th><th scope=col>&lt;fct&gt;</th><th scope=col>&lt;chr&gt;</th><th scope=col>&lt;dbl&gt;</th></tr>\n",
       "</thead>\n",
       "<tbody>\n",
       "\t<tr><td>1 </td><td>grp1</td><td>t1</td><td>14.1</td></tr>\n",
       "\t<tr><td>1 </td><td>grp1</td><td>t2</td><td>14.4</td></tr>\n",
       "\t<tr><td>1 </td><td>grp1</td><td>t3</td><td>14.1</td></tr>\n",
       "\t<tr><td>2 </td><td>grp1</td><td>t1</td><td>14.5</td></tr>\n",
       "\t<tr><td>2 </td><td>grp1</td><td>t2</td><td>14.6</td></tr>\n",
       "\t<tr><td>2 </td><td>grp1</td><td>t3</td><td>14.3</td></tr>\n",
       "\t<tr><td>3 </td><td>grp1</td><td>t1</td><td>15.7</td></tr>\n",
       "\t<tr><td>3 </td><td>grp1</td><td>t2</td><td>15.2</td></tr>\n",
       "\t<tr><td>3 </td><td>grp1</td><td>t3</td><td>14.9</td></tr>\n",
       "\t<tr><td>4 </td><td>grp1</td><td>t1</td><td>16.0</td></tr>\n",
       "\t<tr><td>4 </td><td>grp1</td><td>t2</td><td>15.5</td></tr>\n",
       "\t<tr><td>4 </td><td>grp1</td><td>t3</td><td>15.3</td></tr>\n",
       "\t<tr><td>5 </td><td>grp1</td><td>t1</td><td>16.5</td></tr>\n",
       "\t<tr><td>5 </td><td>grp1</td><td>t2</td><td>15.8</td></tr>\n",
       "\t<tr><td>5 </td><td>grp1</td><td>t3</td><td>15.7</td></tr>\n",
       "\t<tr><td>6 </td><td>grp1</td><td>t1</td><td>16.9</td></tr>\n",
       "\t<tr><td>6 </td><td>grp1</td><td>t2</td><td>16.5</td></tr>\n",
       "\t<tr><td>6 </td><td>grp1</td><td>t3</td><td>16.2</td></tr>\n",
       "\t<tr><td>7 </td><td>grp1</td><td>t1</td><td>17.0</td></tr>\n",
       "\t<tr><td>7 </td><td>grp1</td><td>t2</td><td>16.8</td></tr>\n",
       "\t<tr><td>7 </td><td>grp1</td><td>t3</td><td>16.5</td></tr>\n",
       "\t<tr><td>8 </td><td>grp1</td><td>t1</td><td>17.0</td></tr>\n",
       "\t<tr><td>8 </td><td>grp1</td><td>t2</td><td>17.1</td></tr>\n",
       "\t<tr><td>8 </td><td>grp1</td><td>t3</td><td>16.6</td></tr>\n",
       "\t<tr><td>9 </td><td>grp1</td><td>t1</td><td>17.3</td></tr>\n",
       "\t<tr><td>9 </td><td>grp1</td><td>t2</td><td>16.9</td></tr>\n",
       "\t<tr><td>9 </td><td>grp1</td><td>t3</td><td>16.5</td></tr>\n",
       "\t<tr><td>10</td><td>grp1</td><td>t1</td><td>17.3</td></tr>\n",
       "\t<tr><td>10</td><td>grp1</td><td>t2</td><td>17.1</td></tr>\n",
       "\t<tr><td>10</td><td>grp1</td><td>t3</td><td>16.7</td></tr>\n",
       "\t<tr><td>⋮</td><td>⋮</td><td>⋮</td><td>⋮</td></tr>\n",
       "\t<tr><td>36</td><td>grp3</td><td>t1</td><td>16.9</td></tr>\n",
       "\t<tr><td>36</td><td>grp3</td><td>t2</td><td>14.5</td></tr>\n",
       "\t<tr><td>36</td><td>grp3</td><td>t3</td><td>13.6</td></tr>\n",
       "\t<tr><td>37</td><td>grp3</td><td>t1</td><td>17.1</td></tr>\n",
       "\t<tr><td>37</td><td>grp3</td><td>t2</td><td>15.6</td></tr>\n",
       "\t<tr><td>37</td><td>grp3</td><td>t3</td><td>14.3</td></tr>\n",
       "\t<tr><td>38</td><td>grp3</td><td>t1</td><td>17.3</td></tr>\n",
       "\t<tr><td>38</td><td>grp3</td><td>t2</td><td>15.4</td></tr>\n",
       "\t<tr><td>38</td><td>grp3</td><td>t3</td><td>14.2</td></tr>\n",
       "\t<tr><td>39</td><td>grp3</td><td>t1</td><td>17.5</td></tr>\n",
       "\t<tr><td>39</td><td>grp3</td><td>t2</td><td>15.6</td></tr>\n",
       "\t<tr><td>39</td><td>grp3</td><td>t3</td><td>14.4</td></tr>\n",
       "\t<tr><td>40</td><td>grp3</td><td>t1</td><td>17.6</td></tr>\n",
       "\t<tr><td>40</td><td>grp3</td><td>t2</td><td>14.8</td></tr>\n",
       "\t<tr><td>40</td><td>grp3</td><td>t3</td><td>13.8</td></tr>\n",
       "\t<tr><td>41</td><td>grp3</td><td>t1</td><td>17.8</td></tr>\n",
       "\t<tr><td>41</td><td>grp3</td><td>t2</td><td>16.1</td></tr>\n",
       "\t<tr><td>41</td><td>grp3</td><td>t3</td><td>14.3</td></tr>\n",
       "\t<tr><td>42</td><td>grp3</td><td>t1</td><td>17.9</td></tr>\n",
       "\t<tr><td>42</td><td>grp3</td><td>t2</td><td>15.7</td></tr>\n",
       "\t<tr><td>42</td><td>grp3</td><td>t3</td><td>13.8</td></tr>\n",
       "\t<tr><td>43</td><td>grp3</td><td>t1</td><td>18.4</td></tr>\n",
       "\t<tr><td>43</td><td>grp3</td><td>t2</td><td>16.7</td></tr>\n",
       "\t<tr><td>43</td><td>grp3</td><td>t3</td><td>15.4</td></tr>\n",
       "\t<tr><td>44</td><td>grp3</td><td>t1</td><td>18.5</td></tr>\n",
       "\t<tr><td>44</td><td>grp3</td><td>t2</td><td>16.4</td></tr>\n",
       "\t<tr><td>44</td><td>grp3</td><td>t3</td><td>15.1</td></tr>\n",
       "\t<tr><td>45</td><td>grp3</td><td>t1</td><td>19.0</td></tr>\n",
       "\t<tr><td>45</td><td>grp3</td><td>t2</td><td>17.2</td></tr>\n",
       "\t<tr><td>45</td><td>grp3</td><td>t3</td><td>15.5</td></tr>\n",
       "</tbody>\n",
       "</table>\n"
      ],
      "text/latex": [
       "A tibble: 135 × 4\n",
       "\\begin{tabular}{llll}\n",
       " id & group & observation & reads\\\\\n",
       " <fct> & <fct> & <chr> & <dbl>\\\\\n",
       "\\hline\n",
       "\t 1  & grp1 & t1 & 14.1\\\\\n",
       "\t 1  & grp1 & t2 & 14.4\\\\\n",
       "\t 1  & grp1 & t3 & 14.1\\\\\n",
       "\t 2  & grp1 & t1 & 14.5\\\\\n",
       "\t 2  & grp1 & t2 & 14.6\\\\\n",
       "\t 2  & grp1 & t3 & 14.3\\\\\n",
       "\t 3  & grp1 & t1 & 15.7\\\\\n",
       "\t 3  & grp1 & t2 & 15.2\\\\\n",
       "\t 3  & grp1 & t3 & 14.9\\\\\n",
       "\t 4  & grp1 & t1 & 16.0\\\\\n",
       "\t 4  & grp1 & t2 & 15.5\\\\\n",
       "\t 4  & grp1 & t3 & 15.3\\\\\n",
       "\t 5  & grp1 & t1 & 16.5\\\\\n",
       "\t 5  & grp1 & t2 & 15.8\\\\\n",
       "\t 5  & grp1 & t3 & 15.7\\\\\n",
       "\t 6  & grp1 & t1 & 16.9\\\\\n",
       "\t 6  & grp1 & t2 & 16.5\\\\\n",
       "\t 6  & grp1 & t3 & 16.2\\\\\n",
       "\t 7  & grp1 & t1 & 17.0\\\\\n",
       "\t 7  & grp1 & t2 & 16.8\\\\\n",
       "\t 7  & grp1 & t3 & 16.5\\\\\n",
       "\t 8  & grp1 & t1 & 17.0\\\\\n",
       "\t 8  & grp1 & t2 & 17.1\\\\\n",
       "\t 8  & grp1 & t3 & 16.6\\\\\n",
       "\t 9  & grp1 & t1 & 17.3\\\\\n",
       "\t 9  & grp1 & t2 & 16.9\\\\\n",
       "\t 9  & grp1 & t3 & 16.5\\\\\n",
       "\t 10 & grp1 & t1 & 17.3\\\\\n",
       "\t 10 & grp1 & t2 & 17.1\\\\\n",
       "\t 10 & grp1 & t3 & 16.7\\\\\n",
       "\t ⋮ & ⋮ & ⋮ & ⋮\\\\\n",
       "\t 36 & grp3 & t1 & 16.9\\\\\n",
       "\t 36 & grp3 & t2 & 14.5\\\\\n",
       "\t 36 & grp3 & t3 & 13.6\\\\\n",
       "\t 37 & grp3 & t1 & 17.1\\\\\n",
       "\t 37 & grp3 & t2 & 15.6\\\\\n",
       "\t 37 & grp3 & t3 & 14.3\\\\\n",
       "\t 38 & grp3 & t1 & 17.3\\\\\n",
       "\t 38 & grp3 & t2 & 15.4\\\\\n",
       "\t 38 & grp3 & t3 & 14.2\\\\\n",
       "\t 39 & grp3 & t1 & 17.5\\\\\n",
       "\t 39 & grp3 & t2 & 15.6\\\\\n",
       "\t 39 & grp3 & t3 & 14.4\\\\\n",
       "\t 40 & grp3 & t1 & 17.6\\\\\n",
       "\t 40 & grp3 & t2 & 14.8\\\\\n",
       "\t 40 & grp3 & t3 & 13.8\\\\\n",
       "\t 41 & grp3 & t1 & 17.8\\\\\n",
       "\t 41 & grp3 & t2 & 16.1\\\\\n",
       "\t 41 & grp3 & t3 & 14.3\\\\\n",
       "\t 42 & grp3 & t1 & 17.9\\\\\n",
       "\t 42 & grp3 & t2 & 15.7\\\\\n",
       "\t 42 & grp3 & t3 & 13.8\\\\\n",
       "\t 43 & grp3 & t1 & 18.4\\\\\n",
       "\t 43 & grp3 & t2 & 16.7\\\\\n",
       "\t 43 & grp3 & t3 & 15.4\\\\\n",
       "\t 44 & grp3 & t1 & 18.5\\\\\n",
       "\t 44 & grp3 & t2 & 16.4\\\\\n",
       "\t 44 & grp3 & t3 & 15.1\\\\\n",
       "\t 45 & grp3 & t1 & 19.0\\\\\n",
       "\t 45 & grp3 & t2 & 17.2\\\\\n",
       "\t 45 & grp3 & t3 & 15.5\\\\\n",
       "\\end{tabular}\n"
      ],
      "text/markdown": [
       "\n",
       "A tibble: 135 × 4\n",
       "\n",
       "| id &lt;fct&gt; | group &lt;fct&gt; | observation &lt;chr&gt; | reads &lt;dbl&gt; |\n",
       "|---|---|---|---|\n",
       "| 1  | grp1 | t1 | 14.1 |\n",
       "| 1  | grp1 | t2 | 14.4 |\n",
       "| 1  | grp1 | t3 | 14.1 |\n",
       "| 2  | grp1 | t1 | 14.5 |\n",
       "| 2  | grp1 | t2 | 14.6 |\n",
       "| 2  | grp1 | t3 | 14.3 |\n",
       "| 3  | grp1 | t1 | 15.7 |\n",
       "| 3  | grp1 | t2 | 15.2 |\n",
       "| 3  | grp1 | t3 | 14.9 |\n",
       "| 4  | grp1 | t1 | 16.0 |\n",
       "| 4  | grp1 | t2 | 15.5 |\n",
       "| 4  | grp1 | t3 | 15.3 |\n",
       "| 5  | grp1 | t1 | 16.5 |\n",
       "| 5  | grp1 | t2 | 15.8 |\n",
       "| 5  | grp1 | t3 | 15.7 |\n",
       "| 6  | grp1 | t1 | 16.9 |\n",
       "| 6  | grp1 | t2 | 16.5 |\n",
       "| 6  | grp1 | t3 | 16.2 |\n",
       "| 7  | grp1 | t1 | 17.0 |\n",
       "| 7  | grp1 | t2 | 16.8 |\n",
       "| 7  | grp1 | t3 | 16.5 |\n",
       "| 8  | grp1 | t1 | 17.0 |\n",
       "| 8  | grp1 | t2 | 17.1 |\n",
       "| 8  | grp1 | t3 | 16.6 |\n",
       "| 9  | grp1 | t1 | 17.3 |\n",
       "| 9  | grp1 | t2 | 16.9 |\n",
       "| 9  | grp1 | t3 | 16.5 |\n",
       "| 10 | grp1 | t1 | 17.3 |\n",
       "| 10 | grp1 | t2 | 17.1 |\n",
       "| 10 | grp1 | t3 | 16.7 |\n",
       "| ⋮ | ⋮ | ⋮ | ⋮ |\n",
       "| 36 | grp3 | t1 | 16.9 |\n",
       "| 36 | grp3 | t2 | 14.5 |\n",
       "| 36 | grp3 | t3 | 13.6 |\n",
       "| 37 | grp3 | t1 | 17.1 |\n",
       "| 37 | grp3 | t2 | 15.6 |\n",
       "| 37 | grp3 | t3 | 14.3 |\n",
       "| 38 | grp3 | t1 | 17.3 |\n",
       "| 38 | grp3 | t2 | 15.4 |\n",
       "| 38 | grp3 | t3 | 14.2 |\n",
       "| 39 | grp3 | t1 | 17.5 |\n",
       "| 39 | grp3 | t2 | 15.6 |\n",
       "| 39 | grp3 | t3 | 14.4 |\n",
       "| 40 | grp3 | t1 | 17.6 |\n",
       "| 40 | grp3 | t2 | 14.8 |\n",
       "| 40 | grp3 | t3 | 13.8 |\n",
       "| 41 | grp3 | t1 | 17.8 |\n",
       "| 41 | grp3 | t2 | 16.1 |\n",
       "| 41 | grp3 | t3 | 14.3 |\n",
       "| 42 | grp3 | t1 | 17.9 |\n",
       "| 42 | grp3 | t2 | 15.7 |\n",
       "| 42 | grp3 | t3 | 13.8 |\n",
       "| 43 | grp3 | t1 | 18.4 |\n",
       "| 43 | grp3 | t2 | 16.7 |\n",
       "| 43 | grp3 | t3 | 15.4 |\n",
       "| 44 | grp3 | t1 | 18.5 |\n",
       "| 44 | grp3 | t2 | 16.4 |\n",
       "| 44 | grp3 | t3 | 15.1 |\n",
       "| 45 | grp3 | t1 | 19.0 |\n",
       "| 45 | grp3 | t2 | 17.2 |\n",
       "| 45 | grp3 | t3 | 15.5 |\n",
       "\n"
      ],
      "text/plain": [
       "    id group observation reads\n",
       "1   1  grp1  t1          14.1 \n",
       "2   1  grp1  t2          14.4 \n",
       "3   1  grp1  t3          14.1 \n",
       "4   2  grp1  t1          14.5 \n",
       "5   2  grp1  t2          14.6 \n",
       "6   2  grp1  t3          14.3 \n",
       "7   3  grp1  t1          15.7 \n",
       "8   3  grp1  t2          15.2 \n",
       "9   3  grp1  t3          14.9 \n",
       "10  4  grp1  t1          16.0 \n",
       "11  4  grp1  t2          15.5 \n",
       "12  4  grp1  t3          15.3 \n",
       "13  5  grp1  t1          16.5 \n",
       "14  5  grp1  t2          15.8 \n",
       "15  5  grp1  t3          15.7 \n",
       "16  6  grp1  t1          16.9 \n",
       "17  6  grp1  t2          16.5 \n",
       "18  6  grp1  t3          16.2 \n",
       "19  7  grp1  t1          17.0 \n",
       "20  7  grp1  t2          16.8 \n",
       "21  7  grp1  t3          16.5 \n",
       "22  8  grp1  t1          17.0 \n",
       "23  8  grp1  t2          17.1 \n",
       "24  8  grp1  t3          16.6 \n",
       "25  9  grp1  t1          17.3 \n",
       "26  9  grp1  t2          16.9 \n",
       "27  9  grp1  t3          16.5 \n",
       "28  10 grp1  t1          17.3 \n",
       "29  10 grp1  t2          17.1 \n",
       "30  10 grp1  t3          16.7 \n",
       "⋮   ⋮  ⋮     ⋮           ⋮    \n",
       "106 36 grp3  t1          16.9 \n",
       "107 36 grp3  t2          14.5 \n",
       "108 36 grp3  t3          13.6 \n",
       "109 37 grp3  t1          17.1 \n",
       "110 37 grp3  t2          15.6 \n",
       "111 37 grp3  t3          14.3 \n",
       "112 38 grp3  t1          17.3 \n",
       "113 38 grp3  t2          15.4 \n",
       "114 38 grp3  t3          14.2 \n",
       "115 39 grp3  t1          17.5 \n",
       "116 39 grp3  t2          15.6 \n",
       "117 39 grp3  t3          14.4 \n",
       "118 40 grp3  t1          17.6 \n",
       "119 40 grp3  t2          14.8 \n",
       "120 40 grp3  t3          13.8 \n",
       "121 41 grp3  t1          17.8 \n",
       "122 41 grp3  t2          16.1 \n",
       "123 41 grp3  t3          14.3 \n",
       "124 42 grp3  t1          17.9 \n",
       "125 42 grp3  t2          15.7 \n",
       "126 42 grp3  t3          13.8 \n",
       "127 43 grp3  t1          18.4 \n",
       "128 43 grp3  t2          16.7 \n",
       "129 43 grp3  t3          15.4 \n",
       "130 44 grp3  t1          18.5 \n",
       "131 44 grp3  t2          16.4 \n",
       "132 44 grp3  t3          15.1 \n",
       "133 45 grp3  t1          19.0 \n",
       "134 45 grp3  t2          17.2 \n",
       "135 45 grp3  t3          15.5 "
      ]
     },
     "metadata": {},
     "output_type": "display_data"
    }
   ],
   "source": [
    "dataan_longer <- dataan %>%\n",
    "  pivot_longer(cols = 3:5,\n",
    "               names_to = \"observation\",\n",
    "               values_to = \"reads\")\n",
    "dataan_longer"
   ]
  },
  {
   "cell_type": "code",
   "execution_count": 5,
   "metadata": {
    "vscode": {
     "languageId": "r"
    }
   },
   "outputs": [
    {
     "data": {
      "text/plain": [
       "\n",
       "\tShapiro-Wilk normality test\n",
       "\n",
       "data:  dataan_longer$reads\n",
       "W = 0.98698, p-value = 0.2316\n"
      ]
     },
     "metadata": {},
     "output_type": "display_data"
    }
   ],
   "source": [
    "# we check the data for normal distribution\n",
    "shapiro.test(dataan_longer $ reads) "
   ]
  },
  {
   "cell_type": "markdown",
   "metadata": {},
   "source": [
    "#### Bartlett test: to check the homogeneity of variances"
   ]
  },
  {
   "cell_type": "code",
   "execution_count": 6,
   "metadata": {
    "vscode": {
     "languageId": "r"
    }
   },
   "outputs": [
    {
     "data": {
      "text/plain": [
       "\n",
       "\tBartlett test of homogeneity of variances\n",
       "\n",
       "data:  reads by observation\n",
       "Bartlett's K-squared = 3.3527, df = 2, p-value = 0.1871\n"
      ]
     },
     "metadata": {},
     "output_type": "display_data"
    }
   ],
   "source": [
    "bartlett.test(reads ~ observation, data = dataan_longer)"
   ]
  },
  {
   "cell_type": "code",
   "execution_count": 7,
   "metadata": {
    "vscode": {
     "languageId": "r"
    }
   },
   "outputs": [
    {
     "data": {
      "text/plain": [
       "             Df Sum Sq Mean Sq F value   Pr(>F)    \n",
       "observation   2   66.6   33.29   10.84 4.38e-05 ***\n",
       "Residuals   132  405.4    3.07                     \n",
       "---\n",
       "Signif. codes:  0 ‘***’ 0.001 ‘**’ 0.01 ‘*’ 0.05 ‘.’ 0.1 ‘ ’ 1"
      ]
     },
     "metadata": {},
     "output_type": "display_data"
    }
   ],
   "source": [
    "aov_model <- aov(reads ~ observation, data = dataan_longer)\n",
    "summary(aov_model)"
   ]
  },
  {
   "cell_type": "code",
   "execution_count": 8,
   "metadata": {
    "vscode": {
     "languageId": "r"
    }
   },
   "outputs": [
    {
     "data": {
      "text/plain": [
       "  Tukey multiple comparisons of means\n",
       "    95% family-wise confidence level\n",
       "\n",
       "Fit: aov(formula = reads ~ observation, data = dataan_longer)\n",
       "\n",
       "$observation\n",
       "            diff       lwr         upr     p adj\n",
       "t2-t1 -0.7800000 -1.655747  0.09574702 0.0914210\n",
       "t3-t1 -1.7177778 -2.593525 -0.84203076 0.0000236\n",
       "t3-t2 -0.9377778 -1.813525 -0.06203076 0.0327338\n"
      ]
     },
     "metadata": {},
     "output_type": "display_data"
    }
   ],
   "source": [
    "TukeyHSD(aov_model)"
   ]
  },
  {
   "cell_type": "code",
   "execution_count": 9,
   "metadata": {
    "vscode": {
     "languageId": "r"
    }
   },
   "outputs": [],
   "source": [
    "write.csv(dataan_longer, \"anxity.csv\")"
   ]
  },
  {
   "cell_type": "markdown",
   "metadata": {},
   "source": [
    "### just testing ####"
   ]
  },
  {
   "cell_type": "code",
   "execution_count": 10,
   "metadata": {
    "vscode": {
     "languageId": "r"
    }
   },
   "outputs": [
    {
     "data": {
      "text/html": [
       "<table class=\"dataframe\">\n",
       "<caption>A data.frame: 20 × 2</caption>\n",
       "<thead>\n",
       "\t<tr><th scope=col>PreTest</th><th scope=col>PostTest</th></tr>\n",
       "\t<tr><th scope=col>&lt;dbl&gt;</th><th scope=col>&lt;dbl&gt;</th></tr>\n",
       "</thead>\n",
       "<tbody>\n",
       "\t<tr><td> 8.879049</td><td> 9.811225</td></tr>\n",
       "\t<tr><td> 9.539645</td><td>11.321670</td></tr>\n",
       "\t<tr><td>13.117417</td><td>14.091412</td></tr>\n",
       "\t<tr><td>10.141017</td><td>11.412126</td></tr>\n",
       "\t<tr><td>10.258575</td><td>11.633536</td></tr>\n",
       "\t<tr><td>13.430130</td><td>13.743437</td></tr>\n",
       "\t<tr><td>10.921832</td><td>13.759619</td></tr>\n",
       "\t<tr><td> 7.469878</td><td> 9.623251</td></tr>\n",
       "\t<tr><td> 8.626294</td><td> 9.488157</td></tr>\n",
       "\t<tr><td> 9.108676</td><td>12.362491</td></tr>\n",
       "\t<tr><td>12.448164</td><td>14.874628</td></tr>\n",
       "\t<tr><td>10.719628</td><td>12.424556</td></tr>\n",
       "\t<tr><td>10.801543</td><td>13.696669</td></tr>\n",
       "\t<tr><td>10.221365</td><td>13.099499</td></tr>\n",
       "\t<tr><td> 8.888318</td><td>11.709899</td></tr>\n",
       "\t<tr><td>13.573826</td><td>16.262467</td></tr>\n",
       "\t<tr><td>10.995701</td><td>13.549619</td></tr>\n",
       "\t<tr><td> 6.066766</td><td> 8.004854</td></tr>\n",
       "\t<tr><td>11.402712</td><td>13.096749</td></tr>\n",
       "\t<tr><td> 9.054417</td><td>10.673946</td></tr>\n",
       "</tbody>\n",
       "</table>\n"
      ],
      "text/latex": [
       "A data.frame: 20 × 2\n",
       "\\begin{tabular}{ll}\n",
       " PreTest & PostTest\\\\\n",
       " <dbl> & <dbl>\\\\\n",
       "\\hline\n",
       "\t  8.879049 &  9.811225\\\\\n",
       "\t  9.539645 & 11.321670\\\\\n",
       "\t 13.117417 & 14.091412\\\\\n",
       "\t 10.141017 & 11.412126\\\\\n",
       "\t 10.258575 & 11.633536\\\\\n",
       "\t 13.430130 & 13.743437\\\\\n",
       "\t 10.921832 & 13.759619\\\\\n",
       "\t  7.469878 &  9.623251\\\\\n",
       "\t  8.626294 &  9.488157\\\\\n",
       "\t  9.108676 & 12.362491\\\\\n",
       "\t 12.448164 & 14.874628\\\\\n",
       "\t 10.719628 & 12.424556\\\\\n",
       "\t 10.801543 & 13.696669\\\\\n",
       "\t 10.221365 & 13.099499\\\\\n",
       "\t  8.888318 & 11.709899\\\\\n",
       "\t 13.573826 & 16.262467\\\\\n",
       "\t 10.995701 & 13.549619\\\\\n",
       "\t  6.066766 &  8.004854\\\\\n",
       "\t 11.402712 & 13.096749\\\\\n",
       "\t  9.054417 & 10.673946\\\\\n",
       "\\end{tabular}\n"
      ],
      "text/markdown": [
       "\n",
       "A data.frame: 20 × 2\n",
       "\n",
       "| PreTest &lt;dbl&gt; | PostTest &lt;dbl&gt; |\n",
       "|---|---|\n",
       "|  8.879049 |  9.811225 |\n",
       "|  9.539645 | 11.321670 |\n",
       "| 13.117417 | 14.091412 |\n",
       "| 10.141017 | 11.412126 |\n",
       "| 10.258575 | 11.633536 |\n",
       "| 13.430130 | 13.743437 |\n",
       "| 10.921832 | 13.759619 |\n",
       "|  7.469878 |  9.623251 |\n",
       "|  8.626294 |  9.488157 |\n",
       "|  9.108676 | 12.362491 |\n",
       "| 12.448164 | 14.874628 |\n",
       "| 10.719628 | 12.424556 |\n",
       "| 10.801543 | 13.696669 |\n",
       "| 10.221365 | 13.099499 |\n",
       "|  8.888318 | 11.709899 |\n",
       "| 13.573826 | 16.262467 |\n",
       "| 10.995701 | 13.549619 |\n",
       "|  6.066766 |  8.004854 |\n",
       "| 11.402712 | 13.096749 |\n",
       "|  9.054417 | 10.673946 |\n",
       "\n"
      ],
      "text/plain": [
       "   PreTest   PostTest \n",
       "1   8.879049  9.811225\n",
       "2   9.539645 11.321670\n",
       "3  13.117417 14.091412\n",
       "4  10.141017 11.412126\n",
       "5  10.258575 11.633536\n",
       "6  13.430130 13.743437\n",
       "7  10.921832 13.759619\n",
       "8   7.469878  9.623251\n",
       "9   8.626294  9.488157\n",
       "10  9.108676 12.362491\n",
       "11 12.448164 14.874628\n",
       "12 10.719628 12.424556\n",
       "13 10.801543 13.696669\n",
       "14 10.221365 13.099499\n",
       "15  8.888318 11.709899\n",
       "16 13.573826 16.262467\n",
       "17 10.995701 13.549619\n",
       "18  6.066766  8.004854\n",
       "19 11.402712 13.096749\n",
       "20  9.054417 10.673946"
      ]
     },
     "metadata": {},
     "output_type": "display_data"
    }
   ],
   "source": [
    "# Set seed for reproducibility\n",
    "set.seed(123)\n",
    "\n",
    "# Generate sample data\n",
    "pre_test <- rnorm(20, mean = 10, sd = 2)\n",
    "post_test <- pre_test + rnorm(20, mean = 2, sd = 1)\n",
    "\n",
    "# Create a data frame\n",
    "data <- data.frame(PreTest = pre_test, PostTest = post_test)\n",
    "\n",
    "\n",
    "data\n"
   ]
  },
  {
   "cell_type": "code",
   "execution_count": 11,
   "metadata": {
    "vscode": {
     "languageId": "r"
    }
   },
   "outputs": [
    {
     "data": {
      "text/plain": [
       "\n",
       "\tWilcoxon signed rank exact test\n",
       "\n",
       "data:  data$PreTest and data$PostTest\n",
       "V = 0, p-value = 1.907e-06\n",
       "alternative hypothesis: true location shift is not equal to 0\n"
      ]
     },
     "metadata": {},
     "output_type": "display_data"
    }
   ],
   "source": [
    "# Perform Wilcoxon Signed Rank Test\n",
    "wilcox.test(data$PreTest, data$PostTest, paired = TRUE)\n"
   ]
  },
  {
   "cell_type": "code",
   "execution_count": 12,
   "metadata": {
    "vscode": {
     "languageId": "r"
    }
   },
   "outputs": [
    {
     "data": {
      "image/png": "[encoded data removed]",
      "text/plain": [
       "Plot with title “density(x = data$PreTest)”"
      ]
     },
     "metadata": {
      "image/png": {
       "height": 420,
       "width": 420
      }
     },
     "output_type": "display_data"
    },
    {
     "name": "stdout",
     "output_type": "stream",
     "text": [
      "integer(0)\n"
     ]
    },
    {
     "data": {
      "image/png": "[encoded data removed]",
      "text/plain": [
       "Plot with title “density(x = data$PostTest)”"
      ]
     },
     "metadata": {
      "image/png": {
       "height": 420,
       "width": 420
      }
     },
     "output_type": "display_data"
    }
   ],
   "source": [
    "test1 <- plot(density(data$PreTest))\n",
    "test2 <- plot(density(data$PostTest))\n",
    "test <- test1+ test2\n",
    "print(test)"
   ]
  },
  {
   "cell_type": "code",
   "execution_count": 13,
   "metadata": {
    "vscode": {
     "languageId": "r"
    }
   },
   "outputs": [
    {
     "data": {
      "image/png": "[encoded data removed]",
      "text/plain": [
       "Plot with title “Density Plot of PreTest”"
      ]
     },
     "metadata": {
      "image/png": {
       "height": 420,
       "width": 420
      }
     },
     "output_type": "display_data"
    }
   ],
   "source": [
    "# Plot density of PreTest\n",
    "test1 <- density(data$PreTest)\n",
    "plot(test1, main = \"Density Plot of PreTest\", xlab = \"Values\", col = \"blue\")\n",
    "\n",
    "# Add abline to the first plot\n",
    "##abline(v = mean(data$PreTest), col = \"green\", lwd = 2)\n",
    "\n",
    "# Plot density of PostTest\n",
    "test2 <- density(data$PostTest)\n",
    "lines(test2, col = \"red\")\n",
    "\n",
    "# Add abline to the second plot\n",
    "#abline(v = mean(data$PostTest), col = \"orange\", lwd = 2)\n",
    "\n",
    "# Add legend\n",
    "#legend(\"topright\", legend = c(\"PreTest\", \"PostTest\"), col = c(\"blue\", \"red\"), lty = 1)\n",
    "\n",
    "# Print the plot\n",
    "\n"
   ]
  },
  {
   "cell_type": "code",
   "execution_count": 14,
   "metadata": {
    "vscode": {
     "languageId": "r"
    }
   },
   "outputs": [
    {
     "data": {
      "text/html": [
       "10.2832476049492"
      ],
      "text/latex": [
       "10.2832476049492"
      ],
      "text/markdown": [
       "10.2832476049492"
      ],
      "text/plain": [
       "[1] 10.28325"
      ]
     },
     "metadata": {},
     "output_type": "display_data"
    },
    {
     "data": {
      "text/html": [
       "12.2319904434773"
      ],
      "text/latex": [
       "12.2319904434773"
      ],
      "text/markdown": [
       "12.2319904434773"
      ],
      "text/plain": [
       "[1] 12.23199"
      ]
     },
     "metadata": {},
     "output_type": "display_data"
    }
   ],
   "source": [
    "mean(data$PreTest)\n",
    "mean(data$PostTest)"
   ]
  },
  {
   "cell_type": "code",
   "execution_count": 15,
   "metadata": {
    "vscode": {
     "languageId": "r"
    }
   },
   "outputs": [],
   "source": [
    "cd133DMSO = read.delim(\"/Volumes/NGS/Myytcode/codeforytv/CD133 DMSO Control normalized (RMA).txt\")\n",
    "cd133EXP = read.delim(\"/Volumes/NGS/Myytcode/codeforytv/CD133 DMSO Experiment normalized (RMA).txt\")"
   ]
  },
  {
   "cell_type": "code",
   "execution_count": 16,
   "metadata": {
    "vscode": {
     "languageId": "r"
    }
   },
   "outputs": [
    {
     "data": {
      "text/html": [
       "<table class=\"dataframe\">\n",
       "<caption>A data.frame: 54715 × 9</caption>\n",
       "<thead>\n",
       "\t<tr><th scope=col>ID</th><th scope=col>DMSO.CD133.N.1.ga.cel</th><th scope=col>DMSO.CD133.N.2.ga.cel</th><th scope=col>DMSO.CD133.N.3.ga.cel</th><th scope=col>DMSO.CD133.NR.ga.cel</th><th scope=col>DMSO.CD133.P.1.ga.cel</th><th scope=col>DMSO.CD133.P.2.ga.cel</th><th scope=col>DMSO.CD133.P.3.ga.cel</th><th scope=col>DMSO.CD133.PR.ga.cel</th></tr>\n",
       "\t<tr><th scope=col>&lt;chr&gt;</th><th scope=col>&lt;dbl&gt;</th><th scope=col>&lt;dbl&gt;</th><th scope=col>&lt;dbl&gt;</th><th scope=col>&lt;dbl&gt;</th><th scope=col>&lt;dbl&gt;</th><th scope=col>&lt;dbl&gt;</th><th scope=col>&lt;dbl&gt;</th><th scope=col>&lt;dbl&gt;</th></tr>\n",
       "</thead>\n",
       "<tbody>\n",
       "\t<tr><td>1007_PM_s_at   </td><td>8.885362</td><td>8.613698</td><td>7.628713</td><td>7.640883</td><td>8.736861</td><td>8.600804</td><td>7.498251</td><td>7.506411</td></tr>\n",
       "\t<tr><td>1053_PM_at     </td><td>5.594371</td><td>5.864095</td><td>7.250735</td><td>7.039113</td><td>6.046368</td><td>6.106366</td><td>7.227457</td><td>7.044297</td></tr>\n",
       "\t<tr><td>117_PM_at      </td><td>3.151293</td><td>3.359443</td><td>2.987656</td><td>3.127865</td><td>3.379536</td><td>3.386184</td><td>3.071770</td><td>3.067604</td></tr>\n",
       "\t<tr><td>121_PM_at      </td><td>5.728864</td><td>5.608865</td><td>5.518192</td><td>5.694289</td><td>5.630234</td><td>5.570508</td><td>5.610709</td><td>5.846937</td></tr>\n",
       "\t<tr><td>1255_PM_g_at   </td><td>2.885118</td><td>2.664795</td><td>2.623704</td><td>2.678880</td><td>2.762519</td><td>2.739002</td><td>2.657027</td><td>2.718653</td></tr>\n",
       "\t<tr><td>1294_PM_at     </td><td>3.888597</td><td>3.940705</td><td>3.362582</td><td>3.293179</td><td>3.514136</td><td>3.563783</td><td>3.218820</td><td>3.360508</td></tr>\n",
       "\t<tr><td>1316_PM_at     </td><td>4.926180</td><td>4.931900</td><td>5.033186</td><td>4.571066</td><td>4.822719</td><td>4.706626</td><td>4.740242</td><td>4.981946</td></tr>\n",
       "\t<tr><td>1320_PM_at     </td><td>3.773307</td><td>3.534339</td><td>3.671815</td><td>3.466012</td><td>3.389212</td><td>3.618355</td><td>3.554816</td><td>3.620228</td></tr>\n",
       "\t<tr><td>1405_PM_i_at   </td><td>2.288410</td><td>2.319572</td><td>2.186705</td><td>2.326173</td><td>2.275394</td><td>2.243246</td><td>2.243262</td><td>2.364399</td></tr>\n",
       "\t<tr><td>1431_PM_at     </td><td>3.017094</td><td>2.906740</td><td>2.885349</td><td>2.758986</td><td>2.924976</td><td>2.804624</td><td>2.744872</td><td>2.910527</td></tr>\n",
       "\t<tr><td>1438_PM_at     </td><td>3.389032</td><td>3.302989</td><td>3.171752</td><td>3.154032</td><td>3.417763</td><td>3.240231</td><td>3.247924</td><td>3.350288</td></tr>\n",
       "\t<tr><td>1487_PM_at     </td><td>6.366674</td><td>6.473742</td><td>6.407120</td><td>6.710070</td><td>6.323806</td><td>6.381688</td><td>6.248862</td><td>6.396006</td></tr>\n",
       "\t<tr><td>1494_PM_f_at   </td><td>4.643928</td><td>4.536323</td><td>4.443522</td><td>4.614136</td><td>4.699342</td><td>4.429657</td><td>4.436386</td><td>4.493658</td></tr>\n",
       "\t<tr><td>1552256_PM_a_at</td><td>9.454020</td><td>9.548932</td><td>8.597283</td><td>8.569178</td><td>8.950695</td><td>8.942413</td><td>8.374316</td><td>8.300190</td></tr>\n",
       "\t<tr><td>1552257_PM_a_at</td><td>7.209962</td><td>7.180438</td><td>7.676549</td><td>7.634876</td><td>6.992900</td><td>6.934843</td><td>7.656927</td><td>7.677221</td></tr>\n",
       "\t<tr><td>1552258_PM_at  </td><td>4.785204</td><td>4.664017</td><td>4.710472</td><td>4.634806</td><td>4.729433</td><td>4.707628</td><td>4.903425</td><td>5.268756</td></tr>\n",
       "\t<tr><td>1552261_PM_at  </td><td>3.544892</td><td>3.580859</td><td>3.251806</td><td>3.281447</td><td>3.429209</td><td>3.354658</td><td>3.375316</td><td>3.436852</td></tr>\n",
       "\t<tr><td>1552263_PM_at  </td><td>7.847043</td><td>7.725257</td><td>7.595614</td><td>7.689633</td><td>7.811051</td><td>7.735553</td><td>7.710237</td><td>7.764872</td></tr>\n",
       "\t<tr><td>1552264_PM_a_at</td><td>6.905194</td><td>7.395182</td><td>7.971049</td><td>7.756404</td><td>7.435536</td><td>7.517870</td><td>8.053482</td><td>7.698432</td></tr>\n",
       "\t<tr><td>1552266_PM_at  </td><td>2.432278</td><td>2.454661</td><td>2.508436</td><td>2.490546</td><td>2.436183</td><td>2.459559</td><td>2.591250</td><td>2.392214</td></tr>\n",
       "\t<tr><td>1552269_PM_at  </td><td>3.052561</td><td>3.062701</td><td>3.367819</td><td>3.243638</td><td>3.372663</td><td>3.406757</td><td>3.159718</td><td>3.030481</td></tr>\n",
       "\t<tr><td>1552271_PM_at  </td><td>3.220018</td><td>3.403897</td><td>3.263987</td><td>3.705092</td><td>3.000301</td><td>3.100922</td><td>3.437889</td><td>3.487134</td></tr>\n",
       "\t<tr><td>1552272_PM_a_at</td><td>3.872551</td><td>4.011718</td><td>4.390814</td><td>4.297212</td><td>3.737307</td><td>4.084546</td><td>4.072656</td><td>4.158188</td></tr>\n",
       "\t<tr><td>1552274_PM_at  </td><td>6.211911</td><td>6.754881</td><td>6.421975</td><td>6.408744</td><td>6.677109</td><td>6.740486</td><td>6.300895</td><td>6.333499</td></tr>\n",
       "\t<tr><td>1552275_PM_s_at</td><td>5.608468</td><td>5.956458</td><td>5.820836</td><td>5.758255</td><td>6.264344</td><td>6.299508</td><td>5.616879</td><td>5.230769</td></tr>\n",
       "\t<tr><td>1552276_PM_a_at</td><td>3.418092</td><td>3.392910</td><td>3.537146</td><td>3.699674</td><td>3.346751</td><td>3.442849</td><td>3.751143</td><td>3.694827</td></tr>\n",
       "\t<tr><td>1552277_PM_a_at</td><td>6.661454</td><td>6.591322</td><td>7.614130</td><td>7.437845</td><td>6.780053</td><td>6.807658</td><td>7.529850</td><td>7.445567</td></tr>\n",
       "\t<tr><td>1552278_PM_a_at</td><td>3.953925</td><td>3.939735</td><td>4.726075</td><td>4.872580</td><td>4.151397</td><td>4.237725</td><td>4.482172</td><td>4.632512</td></tr>\n",
       "\t<tr><td>1552279_PM_a_at</td><td>6.240797</td><td>6.283211</td><td>6.107579</td><td>6.240797</td><td>6.113408</td><td>6.188821</td><td>6.141877</td><td>6.104801</td></tr>\n",
       "\t<tr><td>1552280_PM_at  </td><td>3.069585</td><td>2.946777</td><td>2.765358</td><td>2.835506</td><td>2.858532</td><td>2.926449</td><td>2.934301</td><td>2.997599</td></tr>\n",
       "\t<tr><td>⋮</td><td>⋮</td><td>⋮</td><td>⋮</td><td>⋮</td><td>⋮</td><td>⋮</td><td>⋮</td><td>⋮</td></tr>\n",
       "\t<tr><td>AFFX-r2-Ec-bioB-M_at</td><td> 7.084842</td><td> 6.888188</td><td> 6.780358</td><td> 5.751993</td><td> 6.203994</td><td> 6.953140</td><td> 6.929507</td><td> 6.142484</td></tr>\n",
       "\t<tr><td>AFFX-r2-Ec-bioC-3_at</td><td> 9.059390</td><td> 8.908194</td><td> 8.770598</td><td> 7.793099</td><td> 8.394742</td><td> 9.112066</td><td> 8.773416</td><td> 8.131721</td></tr>\n",
       "\t<tr><td>AFFX-r2-Ec-bioC-5_at</td><td> 8.711153</td><td> 8.434086</td><td> 8.279909</td><td> 7.272918</td><td> 7.919564</td><td> 8.585284</td><td> 8.362772</td><td> 7.739407</td></tr>\n",
       "\t<tr><td>AFFX-r2-Ec-bioD-3_at</td><td>11.092169</td><td>10.852274</td><td>10.794816</td><td> 9.906810</td><td>10.564616</td><td>10.924099</td><td>10.899713</td><td>10.327044</td></tr>\n",
       "\t<tr><td>AFFX-r2-Ec-bioD-5_at</td><td>10.743308</td><td>10.469128</td><td>10.435803</td><td> 9.595671</td><td>10.098448</td><td>10.616550</td><td>10.546964</td><td> 9.974052</td></tr>\n",
       "\t<tr><td>AFFX-r2-P1-cre-3_at </td><td>12.271286</td><td>12.100002</td><td>12.132830</td><td>11.581800</td><td>12.033656</td><td>12.199078</td><td>12.227246</td><td>11.838865</td></tr>\n",
       "\t<tr><td>AFFX-r2-P1-cre-5_at </td><td>11.945021</td><td>11.756619</td><td>11.763038</td><td>11.155075</td><td>11.708669</td><td>11.901894</td><td>11.844225</td><td>11.530048</td></tr>\n",
       "\t<tr><td>AFFX-r2-TagA_at     </td><td> 2.459079</td><td> 2.419386</td><td> 2.508436</td><td> 2.619685</td><td> 2.467580</td><td> 2.490575</td><td> 2.458503</td><td> 2.426445</td></tr>\n",
       "\t<tr><td>AFFX-r2-TagB_at     </td><td> 2.684590</td><td> 2.807794</td><td> 2.560679</td><td> 2.848649</td><td> 2.784319</td><td> 2.735989</td><td> 2.475594</td><td> 2.715363</td></tr>\n",
       "\t<tr><td>AFFX-r2-TagC_at     </td><td> 2.651514</td><td> 2.603034</td><td> 2.518328</td><td> 2.634171</td><td> 2.532988</td><td> 2.367849</td><td> 2.501584</td><td> 2.808712</td></tr>\n",
       "\t<tr><td>AFFX-r2-TagD_at     </td><td> 2.493501</td><td> 2.503269</td><td> 2.536481</td><td> 2.643128</td><td> 2.601537</td><td> 2.577390</td><td> 2.483308</td><td> 2.498954</td></tr>\n",
       "\t<tr><td>AFFX-r2-TagE_at     </td><td> 2.613573</td><td> 2.597244</td><td> 2.655334</td><td> 2.615785</td><td> 2.688173</td><td> 2.702416</td><td> 2.622812</td><td> 2.726091</td></tr>\n",
       "\t<tr><td>AFFX-r2-TagF_at     </td><td> 2.841644</td><td> 2.860520</td><td> 2.672612</td><td> 2.865701</td><td> 2.869671</td><td> 2.885350</td><td> 2.823251</td><td> 2.916935</td></tr>\n",
       "\t<tr><td>AFFX-r2-TagG_at     </td><td> 2.931498</td><td> 3.006258</td><td> 2.942719</td><td> 2.951271</td><td> 3.072376</td><td> 3.016945</td><td> 2.945827</td><td> 2.977583</td></tr>\n",
       "\t<tr><td>AFFX-r2-TagH_at     </td><td> 3.161181</td><td> 2.881887</td><td> 2.922924</td><td> 3.010407</td><td> 3.127307</td><td> 3.229728</td><td> 2.945827</td><td> 3.065527</td></tr>\n",
       "\t<tr><td>AFFX-r2-TagIN-3_at  </td><td> 3.266419</td><td> 3.081651</td><td> 3.394844</td><td> 3.232922</td><td> 3.123006</td><td> 3.199318</td><td> 3.130997</td><td> 3.250034</td></tr>\n",
       "\t<tr><td>AFFX-r2-TagIN-5_at  </td><td> 2.689456</td><td> 2.899782</td><td> 2.681259</td><td> 2.655675</td><td> 2.881156</td><td> 2.644536</td><td> 2.636156</td><td> 2.582420</td></tr>\n",
       "\t<tr><td>AFFX-r2-TagIN-M_at  </td><td> 2.910345</td><td> 2.530232</td><td> 2.689382</td><td> 2.736307</td><td> 2.741258</td><td> 2.781181</td><td> 2.659798</td><td> 2.570945</td></tr>\n",
       "\t<tr><td>AFFX-r2-TagJ-3_at   </td><td> 2.974212</td><td> 2.982348</td><td> 3.003261</td><td> 2.957965</td><td> 3.026739</td><td> 2.890537</td><td> 2.908131</td><td> 2.901238</td></tr>\n",
       "\t<tr><td>AFFX-r2-TagJ-5_at   </td><td> 2.654838</td><td> 2.778608</td><td> 2.692797</td><td> 2.560228</td><td> 2.680953</td><td> 2.629553</td><td> 2.653334</td><td> 2.663629</td></tr>\n",
       "\t<tr><td>AFFX-r2-TagO-3_at   </td><td> 2.851899</td><td> 2.965734</td><td> 3.020344</td><td> 2.959055</td><td> 3.005670</td><td> 3.075435</td><td> 3.051032</td><td> 2.892559</td></tr>\n",
       "\t<tr><td>AFFX-r2-TagO-5_at   </td><td> 3.069305</td><td> 3.034799</td><td> 3.004373</td><td> 2.983832</td><td> 2.967664</td><td> 3.042533</td><td> 3.112436</td><td> 3.026903</td></tr>\n",
       "\t<tr><td>AFFX-r2-TagQ-3_at   </td><td> 2.833272</td><td> 2.721932</td><td> 2.728374</td><td> 2.762162</td><td> 2.915641</td><td> 2.712176</td><td> 2.736790</td><td> 2.718575</td></tr>\n",
       "\t<tr><td>AFFX-r2-TagQ-5_at   </td><td> 2.797721</td><td> 2.867992</td><td> 2.836620</td><td> 2.817603</td><td> 2.934817</td><td> 2.878637</td><td> 2.865658</td><td> 2.932669</td></tr>\n",
       "\t<tr><td>AFFX-ThrX-3_at      </td><td> 7.165411</td><td> 6.215242</td><td> 4.476262</td><td> 6.219324</td><td> 6.375874</td><td> 6.878585</td><td> 5.019171</td><td> 6.781524</td></tr>\n",
       "\t<tr><td>AFFX-ThrX-5_at      </td><td> 4.427306</td><td> 3.651931</td><td> 3.064086</td><td> 3.359943</td><td> 3.468463</td><td> 3.963639</td><td> 3.144306</td><td> 3.559210</td></tr>\n",
       "\t<tr><td>AFFX-ThrX-M_at      </td><td> 5.995079</td><td> 5.033946</td><td> 3.462540</td><td> 4.405365</td><td> 4.985326</td><td> 5.501443</td><td> 4.053974</td><td> 5.069577</td></tr>\n",
       "\t<tr><td>AFFX-TrpnX-3_at     </td><td> 2.526865</td><td> 2.566588</td><td> 2.541874</td><td> 2.529545</td><td> 2.476678</td><td> 2.492063</td><td> 2.509742</td><td> 2.532818</td></tr>\n",
       "\t<tr><td>AFFX-TrpnX-5_at     </td><td> 2.718465</td><td> 2.664435</td><td> 2.714666</td><td> 2.680298</td><td> 2.578877</td><td> 2.663007</td><td> 2.612642</td><td> 2.605021</td></tr>\n",
       "\t<tr><td>AFFX-TrpnX-M_at     </td><td> 2.654917</td><td> 2.521445</td><td> 2.759127</td><td> 2.688867</td><td> 2.716353</td><td> 2.543446</td><td> 2.708904</td><td> 2.616762</td></tr>\n",
       "</tbody>\n",
       "</table>\n"
      ],
      "text/latex": [
       "A data.frame: 54715 × 9\n",
       "\\begin{tabular}{lllllllll}\n",
       " ID & DMSO.CD133.N.1.ga.cel & DMSO.CD133.N.2.ga.cel & DMSO.CD133.N.3.ga.cel & DMSO.CD133.NR.ga.cel & DMSO.CD133.P.1.ga.cel & DMSO.CD133.P.2.ga.cel & DMSO.CD133.P.3.ga.cel & DMSO.CD133.PR.ga.cel\\\\\n",
       " <chr> & <dbl> & <dbl> & <dbl> & <dbl> & <dbl> & <dbl> & <dbl> & <dbl>\\\\\n",
       "\\hline\n",
       "\t 1007\\_PM\\_s\\_at    & 8.885362 & 8.613698 & 7.628713 & 7.640883 & 8.736861 & 8.600804 & 7.498251 & 7.506411\\\\\n",
       "\t 1053\\_PM\\_at      & 5.594371 & 5.864095 & 7.250735 & 7.039113 & 6.046368 & 6.106366 & 7.227457 & 7.044297\\\\\n",
       "\t 117\\_PM\\_at       & 3.151293 & 3.359443 & 2.987656 & 3.127865 & 3.379536 & 3.386184 & 3.071770 & 3.067604\\\\\n",
       "\t 121\\_PM\\_at       & 5.728864 & 5.608865 & 5.518192 & 5.694289 & 5.630234 & 5.570508 & 5.610709 & 5.846937\\\\\n",
       "\t 1255\\_PM\\_g\\_at    & 2.885118 & 2.664795 & 2.623704 & 2.678880 & 2.762519 & 2.739002 & 2.657027 & 2.718653\\\\\n",
       "\t 1294\\_PM\\_at      & 3.888597 & 3.940705 & 3.362582 & 3.293179 & 3.514136 & 3.563783 & 3.218820 & 3.360508\\\\\n",
       "\t 1316\\_PM\\_at      & 4.926180 & 4.931900 & 5.033186 & 4.571066 & 4.822719 & 4.706626 & 4.740242 & 4.981946\\\\\n",
       "\t 1320\\_PM\\_at      & 3.773307 & 3.534339 & 3.671815 & 3.466012 & 3.389212 & 3.618355 & 3.554816 & 3.620228\\\\\n",
       "\t 1405\\_PM\\_i\\_at    & 2.288410 & 2.319572 & 2.186705 & 2.326173 & 2.275394 & 2.243246 & 2.243262 & 2.364399\\\\\n",
       "\t 1431\\_PM\\_at      & 3.017094 & 2.906740 & 2.885349 & 2.758986 & 2.924976 & 2.804624 & 2.744872 & 2.910527\\\\\n",
       "\t 1438\\_PM\\_at      & 3.389032 & 3.302989 & 3.171752 & 3.154032 & 3.417763 & 3.240231 & 3.247924 & 3.350288\\\\\n",
       "\t 1487\\_PM\\_at      & 6.366674 & 6.473742 & 6.407120 & 6.710070 & 6.323806 & 6.381688 & 6.248862 & 6.396006\\\\\n",
       "\t 1494\\_PM\\_f\\_at    & 4.643928 & 4.536323 & 4.443522 & 4.614136 & 4.699342 & 4.429657 & 4.436386 & 4.493658\\\\\n",
       "\t 1552256\\_PM\\_a\\_at & 9.454020 & 9.548932 & 8.597283 & 8.569178 & 8.950695 & 8.942413 & 8.374316 & 8.300190\\\\\n",
       "\t 1552257\\_PM\\_a\\_at & 7.209962 & 7.180438 & 7.676549 & 7.634876 & 6.992900 & 6.934843 & 7.656927 & 7.677221\\\\\n",
       "\t 1552258\\_PM\\_at   & 4.785204 & 4.664017 & 4.710472 & 4.634806 & 4.729433 & 4.707628 & 4.903425 & 5.268756\\\\\n",
       "\t 1552261\\_PM\\_at   & 3.544892 & 3.580859 & 3.251806 & 3.281447 & 3.429209 & 3.354658 & 3.375316 & 3.436852\\\\\n",
       "\t 1552263\\_PM\\_at   & 7.847043 & 7.725257 & 7.595614 & 7.689633 & 7.811051 & 7.735553 & 7.710237 & 7.764872\\\\\n",
       "\t 1552264\\_PM\\_a\\_at & 6.905194 & 7.395182 & 7.971049 & 7.756404 & 7.435536 & 7.517870 & 8.053482 & 7.698432\\\\\n",
       "\t 1552266\\_PM\\_at   & 2.432278 & 2.454661 & 2.508436 & 2.490546 & 2.436183 & 2.459559 & 2.591250 & 2.392214\\\\\n",
       "\t 1552269\\_PM\\_at   & 3.052561 & 3.062701 & 3.367819 & 3.243638 & 3.372663 & 3.406757 & 3.159718 & 3.030481\\\\\n",
       "\t 1552271\\_PM\\_at   & 3.220018 & 3.403897 & 3.263987 & 3.705092 & 3.000301 & 3.100922 & 3.437889 & 3.487134\\\\\n",
       "\t 1552272\\_PM\\_a\\_at & 3.872551 & 4.011718 & 4.390814 & 4.297212 & 3.737307 & 4.084546 & 4.072656 & 4.158188\\\\\n",
       "\t 1552274\\_PM\\_at   & 6.211911 & 6.754881 & 6.421975 & 6.408744 & 6.677109 & 6.740486 & 6.300895 & 6.333499\\\\\n",
       "\t 1552275\\_PM\\_s\\_at & 5.608468 & 5.956458 & 5.820836 & 5.758255 & 6.264344 & 6.299508 & 5.616879 & 5.230769\\\\\n",
       "\t 1552276\\_PM\\_a\\_at & 3.418092 & 3.392910 & 3.537146 & 3.699674 & 3.346751 & 3.442849 & 3.751143 & 3.694827\\\\\n",
       "\t 1552277\\_PM\\_a\\_at & 6.661454 & 6.591322 & 7.614130 & 7.437845 & 6.780053 & 6.807658 & 7.529850 & 7.445567\\\\\n",
       "\t 1552278\\_PM\\_a\\_at & 3.953925 & 3.939735 & 4.726075 & 4.872580 & 4.151397 & 4.237725 & 4.482172 & 4.632512\\\\\n",
       "\t 1552279\\_PM\\_a\\_at & 6.240797 & 6.283211 & 6.107579 & 6.240797 & 6.113408 & 6.188821 & 6.141877 & 6.104801\\\\\n",
       "\t 1552280\\_PM\\_at   & 3.069585 & 2.946777 & 2.765358 & 2.835506 & 2.858532 & 2.926449 & 2.934301 & 2.997599\\\\\n",
       "\t ⋮ & ⋮ & ⋮ & ⋮ & ⋮ & ⋮ & ⋮ & ⋮ & ⋮\\\\\n",
       "\t AFFX-r2-Ec-bioB-M\\_at &  7.084842 &  6.888188 &  6.780358 &  5.751993 &  6.203994 &  6.953140 &  6.929507 &  6.142484\\\\\n",
       "\t AFFX-r2-Ec-bioC-3\\_at &  9.059390 &  8.908194 &  8.770598 &  7.793099 &  8.394742 &  9.112066 &  8.773416 &  8.131721\\\\\n",
       "\t AFFX-r2-Ec-bioC-5\\_at &  8.711153 &  8.434086 &  8.279909 &  7.272918 &  7.919564 &  8.585284 &  8.362772 &  7.739407\\\\\n",
       "\t AFFX-r2-Ec-bioD-3\\_at & 11.092169 & 10.852274 & 10.794816 &  9.906810 & 10.564616 & 10.924099 & 10.899713 & 10.327044\\\\\n",
       "\t AFFX-r2-Ec-bioD-5\\_at & 10.743308 & 10.469128 & 10.435803 &  9.595671 & 10.098448 & 10.616550 & 10.546964 &  9.974052\\\\\n",
       "\t AFFX-r2-P1-cre-3\\_at  & 12.271286 & 12.100002 & 12.132830 & 11.581800 & 12.033656 & 12.199078 & 12.227246 & 11.838865\\\\\n",
       "\t AFFX-r2-P1-cre-5\\_at  & 11.945021 & 11.756619 & 11.763038 & 11.155075 & 11.708669 & 11.901894 & 11.844225 & 11.530048\\\\\n",
       "\t AFFX-r2-TagA\\_at      &  2.459079 &  2.419386 &  2.508436 &  2.619685 &  2.467580 &  2.490575 &  2.458503 &  2.426445\\\\\n",
       "\t AFFX-r2-TagB\\_at      &  2.684590 &  2.807794 &  2.560679 &  2.848649 &  2.784319 &  2.735989 &  2.475594 &  2.715363\\\\\n",
       "\t AFFX-r2-TagC\\_at      &  2.651514 &  2.603034 &  2.518328 &  2.634171 &  2.532988 &  2.367849 &  2.501584 &  2.808712\\\\\n",
       "\t AFFX-r2-TagD\\_at      &  2.493501 &  2.503269 &  2.536481 &  2.643128 &  2.601537 &  2.577390 &  2.483308 &  2.498954\\\\\n",
       "\t AFFX-r2-TagE\\_at      &  2.613573 &  2.597244 &  2.655334 &  2.615785 &  2.688173 &  2.702416 &  2.622812 &  2.726091\\\\\n",
       "\t AFFX-r2-TagF\\_at      &  2.841644 &  2.860520 &  2.672612 &  2.865701 &  2.869671 &  2.885350 &  2.823251 &  2.916935\\\\\n",
       "\t AFFX-r2-TagG\\_at      &  2.931498 &  3.006258 &  2.942719 &  2.951271 &  3.072376 &  3.016945 &  2.945827 &  2.977583\\\\\n",
       "\t AFFX-r2-TagH\\_at      &  3.161181 &  2.881887 &  2.922924 &  3.010407 &  3.127307 &  3.229728 &  2.945827 &  3.065527\\\\\n",
       "\t AFFX-r2-TagIN-3\\_at   &  3.266419 &  3.081651 &  3.394844 &  3.232922 &  3.123006 &  3.199318 &  3.130997 &  3.250034\\\\\n",
       "\t AFFX-r2-TagIN-5\\_at   &  2.689456 &  2.899782 &  2.681259 &  2.655675 &  2.881156 &  2.644536 &  2.636156 &  2.582420\\\\\n",
       "\t AFFX-r2-TagIN-M\\_at   &  2.910345 &  2.530232 &  2.689382 &  2.736307 &  2.741258 &  2.781181 &  2.659798 &  2.570945\\\\\n",
       "\t AFFX-r2-TagJ-3\\_at    &  2.974212 &  2.982348 &  3.003261 &  2.957965 &  3.026739 &  2.890537 &  2.908131 &  2.901238\\\\\n",
       "\t AFFX-r2-TagJ-5\\_at    &  2.654838 &  2.778608 &  2.692797 &  2.560228 &  2.680953 &  2.629553 &  2.653334 &  2.663629\\\\\n",
       "\t AFFX-r2-TagO-3\\_at    &  2.851899 &  2.965734 &  3.020344 &  2.959055 &  3.005670 &  3.075435 &  3.051032 &  2.892559\\\\\n",
       "\t AFFX-r2-TagO-5\\_at    &  3.069305 &  3.034799 &  3.004373 &  2.983832 &  2.967664 &  3.042533 &  3.112436 &  3.026903\\\\\n",
       "\t AFFX-r2-TagQ-3\\_at    &  2.833272 &  2.721932 &  2.728374 &  2.762162 &  2.915641 &  2.712176 &  2.736790 &  2.718575\\\\\n",
       "\t AFFX-r2-TagQ-5\\_at    &  2.797721 &  2.867992 &  2.836620 &  2.817603 &  2.934817 &  2.878637 &  2.865658 &  2.932669\\\\\n",
       "\t AFFX-ThrX-3\\_at       &  7.165411 &  6.215242 &  4.476262 &  6.219324 &  6.375874 &  6.878585 &  5.019171 &  6.781524\\\\\n",
       "\t AFFX-ThrX-5\\_at       &  4.427306 &  3.651931 &  3.064086 &  3.359943 &  3.468463 &  3.963639 &  3.144306 &  3.559210\\\\\n",
       "\t AFFX-ThrX-M\\_at       &  5.995079 &  5.033946 &  3.462540 &  4.405365 &  4.985326 &  5.501443 &  4.053974 &  5.069577\\\\\n",
       "\t AFFX-TrpnX-3\\_at      &  2.526865 &  2.566588 &  2.541874 &  2.529545 &  2.476678 &  2.492063 &  2.509742 &  2.532818\\\\\n",
       "\t AFFX-TrpnX-5\\_at      &  2.718465 &  2.664435 &  2.714666 &  2.680298 &  2.578877 &  2.663007 &  2.612642 &  2.605021\\\\\n",
       "\t AFFX-TrpnX-M\\_at      &  2.654917 &  2.521445 &  2.759127 &  2.688867 &  2.716353 &  2.543446 &  2.708904 &  2.616762\\\\\n",
       "\\end{tabular}\n"
      ],
      "text/markdown": [
       "\n",
       "A data.frame: 54715 × 9\n",
       "\n",
       "| ID &lt;chr&gt; | DMSO.CD133.N.1.ga.cel &lt;dbl&gt; | DMSO.CD133.N.2.ga.cel &lt;dbl&gt; | DMSO.CD133.N.3.ga.cel &lt;dbl&gt; | DMSO.CD133.NR.ga.cel &lt;dbl&gt; | DMSO.CD133.P.1.ga.cel &lt;dbl&gt; | DMSO.CD133.P.2.ga.cel &lt;dbl&gt; | DMSO.CD133.P.3.ga.cel &lt;dbl&gt; | DMSO.CD133.PR.ga.cel &lt;dbl&gt; |\n",
       "|---|---|---|---|---|---|---|---|---|\n",
       "| 1007_PM_s_at    | 8.885362 | 8.613698 | 7.628713 | 7.640883 | 8.736861 | 8.600804 | 7.498251 | 7.506411 |\n",
       "| 1053_PM_at      | 5.594371 | 5.864095 | 7.250735 | 7.039113 | 6.046368 | 6.106366 | 7.227457 | 7.044297 |\n",
       "| 117_PM_at       | 3.151293 | 3.359443 | 2.987656 | 3.127865 | 3.379536 | 3.386184 | 3.071770 | 3.067604 |\n",
       "| 121_PM_at       | 5.728864 | 5.608865 | 5.518192 | 5.694289 | 5.630234 | 5.570508 | 5.610709 | 5.846937 |\n",
       "| 1255_PM_g_at    | 2.885118 | 2.664795 | 2.623704 | 2.678880 | 2.762519 | 2.739002 | 2.657027 | 2.718653 |\n",
       "| 1294_PM_at      | 3.888597 | 3.940705 | 3.362582 | 3.293179 | 3.514136 | 3.563783 | 3.218820 | 3.360508 |\n",
       "| 1316_PM_at      | 4.926180 | 4.931900 | 5.033186 | 4.571066 | 4.822719 | 4.706626 | 4.740242 | 4.981946 |\n",
       "| 1320_PM_at      | 3.773307 | 3.534339 | 3.671815 | 3.466012 | 3.389212 | 3.618355 | 3.554816 | 3.620228 |\n",
       "| 1405_PM_i_at    | 2.288410 | 2.319572 | 2.186705 | 2.326173 | 2.275394 | 2.243246 | 2.243262 | 2.364399 |\n",
       "| 1431_PM_at      | 3.017094 | 2.906740 | 2.885349 | 2.758986 | 2.924976 | 2.804624 | 2.744872 | 2.910527 |\n",
       "| 1438_PM_at      | 3.389032 | 3.302989 | 3.171752 | 3.154032 | 3.417763 | 3.240231 | 3.247924 | 3.350288 |\n",
       "| 1487_PM_at      | 6.366674 | 6.473742 | 6.407120 | 6.710070 | 6.323806 | 6.381688 | 6.248862 | 6.396006 |\n",
       "| 1494_PM_f_at    | 4.643928 | 4.536323 | 4.443522 | 4.614136 | 4.699342 | 4.429657 | 4.436386 | 4.493658 |\n",
       "| 1552256_PM_a_at | 9.454020 | 9.548932 | 8.597283 | 8.569178 | 8.950695 | 8.942413 | 8.374316 | 8.300190 |\n",
       "| 1552257_PM_a_at | 7.209962 | 7.180438 | 7.676549 | 7.634876 | 6.992900 | 6.934843 | 7.656927 | 7.677221 |\n",
       "| 1552258_PM_at   | 4.785204 | 4.664017 | 4.710472 | 4.634806 | 4.729433 | 4.707628 | 4.903425 | 5.268756 |\n",
       "| 1552261_PM_at   | 3.544892 | 3.580859 | 3.251806 | 3.281447 | 3.429209 | 3.354658 | 3.375316 | 3.436852 |\n",
       "| 1552263_PM_at   | 7.847043 | 7.725257 | 7.595614 | 7.689633 | 7.811051 | 7.735553 | 7.710237 | 7.764872 |\n",
       "| 1552264_PM_a_at | 6.905194 | 7.395182 | 7.971049 | 7.756404 | 7.435536 | 7.517870 | 8.053482 | 7.698432 |\n",
       "| 1552266_PM_at   | 2.432278 | 2.454661 | 2.508436 | 2.490546 | 2.436183 | 2.459559 | 2.591250 | 2.392214 |\n",
       "| 1552269_PM_at   | 3.052561 | 3.062701 | 3.367819 | 3.243638 | 3.372663 | 3.406757 | 3.159718 | 3.030481 |\n",
       "| 1552271_PM_at   | 3.220018 | 3.403897 | 3.263987 | 3.705092 | 3.000301 | 3.100922 | 3.437889 | 3.487134 |\n",
       "| 1552272_PM_a_at | 3.872551 | 4.011718 | 4.390814 | 4.297212 | 3.737307 | 4.084546 | 4.072656 | 4.158188 |\n",
       "| 1552274_PM_at   | 6.211911 | 6.754881 | 6.421975 | 6.408744 | 6.677109 | 6.740486 | 6.300895 | 6.333499 |\n",
       "| 1552275_PM_s_at | 5.608468 | 5.956458 | 5.820836 | 5.758255 | 6.264344 | 6.299508 | 5.616879 | 5.230769 |\n",
       "| 1552276_PM_a_at | 3.418092 | 3.392910 | 3.537146 | 3.699674 | 3.346751 | 3.442849 | 3.751143 | 3.694827 |\n",
       "| 1552277_PM_a_at | 6.661454 | 6.591322 | 7.614130 | 7.437845 | 6.780053 | 6.807658 | 7.529850 | 7.445567 |\n",
       "| 1552278_PM_a_at | 3.953925 | 3.939735 | 4.726075 | 4.872580 | 4.151397 | 4.237725 | 4.482172 | 4.632512 |\n",
       "| 1552279_PM_a_at | 6.240797 | 6.283211 | 6.107579 | 6.240797 | 6.113408 | 6.188821 | 6.141877 | 6.104801 |\n",
       "| 1552280_PM_at   | 3.069585 | 2.946777 | 2.765358 | 2.835506 | 2.858532 | 2.926449 | 2.934301 | 2.997599 |\n",
       "| ⋮ | ⋮ | ⋮ | ⋮ | ⋮ | ⋮ | ⋮ | ⋮ | ⋮ |\n",
       "| AFFX-r2-Ec-bioB-M_at |  7.084842 |  6.888188 |  6.780358 |  5.751993 |  6.203994 |  6.953140 |  6.929507 |  6.142484 |\n",
       "| AFFX-r2-Ec-bioC-3_at |  9.059390 |  8.908194 |  8.770598 |  7.793099 |  8.394742 |  9.112066 |  8.773416 |  8.131721 |\n",
       "| AFFX-r2-Ec-bioC-5_at |  8.711153 |  8.434086 |  8.279909 |  7.272918 |  7.919564 |  8.585284 |  8.362772 |  7.739407 |\n",
       "| AFFX-r2-Ec-bioD-3_at | 11.092169 | 10.852274 | 10.794816 |  9.906810 | 10.564616 | 10.924099 | 10.899713 | 10.327044 |\n",
       "| AFFX-r2-Ec-bioD-5_at | 10.743308 | 10.469128 | 10.435803 |  9.595671 | 10.098448 | 10.616550 | 10.546964 |  9.974052 |\n",
       "| AFFX-r2-P1-cre-3_at  | 12.271286 | 12.100002 | 12.132830 | 11.581800 | 12.033656 | 12.199078 | 12.227246 | 11.838865 |\n",
       "| AFFX-r2-P1-cre-5_at  | 11.945021 | 11.756619 | 11.763038 | 11.155075 | 11.708669 | 11.901894 | 11.844225 | 11.530048 |\n",
       "| AFFX-r2-TagA_at      |  2.459079 |  2.419386 |  2.508436 |  2.619685 |  2.467580 |  2.490575 |  2.458503 |  2.426445 |\n",
       "| AFFX-r2-TagB_at      |  2.684590 |  2.807794 |  2.560679 |  2.848649 |  2.784319 |  2.735989 |  2.475594 |  2.715363 |\n",
       "| AFFX-r2-TagC_at      |  2.651514 |  2.603034 |  2.518328 |  2.634171 |  2.532988 |  2.367849 |  2.501584 |  2.808712 |\n",
       "| AFFX-r2-TagD_at      |  2.493501 |  2.503269 |  2.536481 |  2.643128 |  2.601537 |  2.577390 |  2.483308 |  2.498954 |\n",
       "| AFFX-r2-TagE_at      |  2.613573 |  2.597244 |  2.655334 |  2.615785 |  2.688173 |  2.702416 |  2.622812 |  2.726091 |\n",
       "| AFFX-r2-TagF_at      |  2.841644 |  2.860520 |  2.672612 |  2.865701 |  2.869671 |  2.885350 |  2.823251 |  2.916935 |\n",
       "| AFFX-r2-TagG_at      |  2.931498 |  3.006258 |  2.942719 |  2.951271 |  3.072376 |  3.016945 |  2.945827 |  2.977583 |\n",
       "| AFFX-r2-TagH_at      |  3.161181 |  2.881887 |  2.922924 |  3.010407 |  3.127307 |  3.229728 |  2.945827 |  3.065527 |\n",
       "| AFFX-r2-TagIN-3_at   |  3.266419 |  3.081651 |  3.394844 |  3.232922 |  3.123006 |  3.199318 |  3.130997 |  3.250034 |\n",
       "| AFFX-r2-TagIN-5_at   |  2.689456 |  2.899782 |  2.681259 |  2.655675 |  2.881156 |  2.644536 |  2.636156 |  2.582420 |\n",
       "| AFFX-r2-TagIN-M_at   |  2.910345 |  2.530232 |  2.689382 |  2.736307 |  2.741258 |  2.781181 |  2.659798 |  2.570945 |\n",
       "| AFFX-r2-TagJ-3_at    |  2.974212 |  2.982348 |  3.003261 |  2.957965 |  3.026739 |  2.890537 |  2.908131 |  2.901238 |\n",
       "| AFFX-r2-TagJ-5_at    |  2.654838 |  2.778608 |  2.692797 |  2.560228 |  2.680953 |  2.629553 |  2.653334 |  2.663629 |\n",
       "| AFFX-r2-TagO-3_at    |  2.851899 |  2.965734 |  3.020344 |  2.959055 |  3.005670 |  3.075435 |  3.051032 |  2.892559 |\n",
       "| AFFX-r2-TagO-5_at    |  3.069305 |  3.034799 |  3.004373 |  2.983832 |  2.967664 |  3.042533 |  3.112436 |  3.026903 |\n",
       "| AFFX-r2-TagQ-3_at    |  2.833272 |  2.721932 |  2.728374 |  2.762162 |  2.915641 |  2.712176 |  2.736790 |  2.718575 |\n",
       "| AFFX-r2-TagQ-5_at    |  2.797721 |  2.867992 |  2.836620 |  2.817603 |  2.934817 |  2.878637 |  2.865658 |  2.932669 |\n",
       "| AFFX-ThrX-3_at       |  7.165411 |  6.215242 |  4.476262 |  6.219324 |  6.375874 |  6.878585 |  5.019171 |  6.781524 |\n",
       "| AFFX-ThrX-5_at       |  4.427306 |  3.651931 |  3.064086 |  3.359943 |  3.468463 |  3.963639 |  3.144306 |  3.559210 |\n",
       "| AFFX-ThrX-M_at       |  5.995079 |  5.033946 |  3.462540 |  4.405365 |  4.985326 |  5.501443 |  4.053974 |  5.069577 |\n",
       "| AFFX-TrpnX-3_at      |  2.526865 |  2.566588 |  2.541874 |  2.529545 |  2.476678 |  2.492063 |  2.509742 |  2.532818 |\n",
       "| AFFX-TrpnX-5_at      |  2.718465 |  2.664435 |  2.714666 |  2.680298 |  2.578877 |  2.663007 |  2.612642 |  2.605021 |\n",
       "| AFFX-TrpnX-M_at      |  2.654917 |  2.521445 |  2.759127 |  2.688867 |  2.716353 |  2.543446 |  2.708904 |  2.616762 |\n",
       "\n"
      ],
      "text/plain": [
       "      ID                   DMSO.CD133.N.1.ga.cel DMSO.CD133.N.2.ga.cel\n",
       "1     1007_PM_s_at         8.885362              8.613698             \n",
       "2     1053_PM_at           5.594371              5.864095             \n",
       "3     117_PM_at            3.151293              3.359443             \n",
       "4     121_PM_at            5.728864              5.608865             \n",
       "5     1255_PM_g_at         2.885118              2.664795             \n",
       "6     1294_PM_at           3.888597              3.940705             \n",
       "7     1316_PM_at           4.926180              4.931900             \n",
       "8     1320_PM_at           3.773307              3.534339             \n",
       "9     1405_PM_i_at         2.288410              2.319572             \n",
       "10    1431_PM_at           3.017094              2.906740             \n",
       "11    1438_PM_at           3.389032              3.302989             \n",
       "12    1487_PM_at           6.366674              6.473742             \n",
       "13    1494_PM_f_at         4.643928              4.536323             \n",
       "14    1552256_PM_a_at      9.454020              9.548932             \n",
       "15    1552257_PM_a_at      7.209962              7.180438             \n",
       "16    1552258_PM_at        4.785204              4.664017             \n",
       "17    1552261_PM_at        3.544892              3.580859             \n",
       "18    1552263_PM_at        7.847043              7.725257             \n",
       "19    1552264_PM_a_at      6.905194              7.395182             \n",
       "20    1552266_PM_at        2.432278              2.454661             \n",
       "21    1552269_PM_at        3.052561              3.062701             \n",
       "22    1552271_PM_at        3.220018              3.403897             \n",
       "23    1552272_PM_a_at      3.872551              4.011718             \n",
       "24    1552274_PM_at        6.211911              6.754881             \n",
       "25    1552275_PM_s_at      5.608468              5.956458             \n",
       "26    1552276_PM_a_at      3.418092              3.392910             \n",
       "27    1552277_PM_a_at      6.661454              6.591322             \n",
       "28    1552278_PM_a_at      3.953925              3.939735             \n",
       "29    1552279_PM_a_at      6.240797              6.283211             \n",
       "30    1552280_PM_at        3.069585              2.946777             \n",
       "⋮     ⋮                    ⋮                     ⋮                    \n",
       "54686 AFFX-r2-Ec-bioB-M_at  7.084842              6.888188            \n",
       "54687 AFFX-r2-Ec-bioC-3_at  9.059390              8.908194            \n",
       "54688 AFFX-r2-Ec-bioC-5_at  8.711153              8.434086            \n",
       "54689 AFFX-r2-Ec-bioD-3_at 11.092169             10.852274            \n",
       "54690 AFFX-r2-Ec-bioD-5_at 10.743308             10.469128            \n",
       "54691 AFFX-r2-P1-cre-3_at  12.271286             12.100002            \n",
       "54692 AFFX-r2-P1-cre-5_at  11.945021             11.756619            \n",
       "54693 AFFX-r2-TagA_at       2.459079              2.419386            \n",
       "54694 AFFX-r2-TagB_at       2.684590              2.807794            \n",
       "54695 AFFX-r2-TagC_at       2.651514              2.603034            \n",
       "54696 AFFX-r2-TagD_at       2.493501              2.503269            \n",
       "54697 AFFX-r2-TagE_at       2.613573              2.597244            \n",
       "54698 AFFX-r2-TagF_at       2.841644              2.860520            \n",
       "54699 AFFX-r2-TagG_at       2.931498              3.006258            \n",
       "54700 AFFX-r2-TagH_at       3.161181              2.881887            \n",
       "54701 AFFX-r2-TagIN-3_at    3.266419              3.081651            \n",
       "54702 AFFX-r2-TagIN-5_at    2.689456              2.899782            \n",
       "54703 AFFX-r2-TagIN-M_at    2.910345              2.530232            \n",
       "54704 AFFX-r2-TagJ-3_at     2.974212              2.982348            \n",
       "54705 AFFX-r2-TagJ-5_at     2.654838              2.778608            \n",
       "54706 AFFX-r2-TagO-3_at     2.851899              2.965734            \n",
       "54707 AFFX-r2-TagO-5_at     3.069305              3.034799            \n",
       "54708 AFFX-r2-TagQ-3_at     2.833272              2.721932            \n",
       "54709 AFFX-r2-TagQ-5_at     2.797721              2.867992            \n",
       "54710 AFFX-ThrX-3_at        7.165411              6.215242            \n",
       "54711 AFFX-ThrX-5_at        4.427306              3.651931            \n",
       "54712 AFFX-ThrX-M_at        5.995079              5.033946            \n",
       "54713 AFFX-TrpnX-3_at       2.526865              2.566588            \n",
       "54714 AFFX-TrpnX-5_at       2.718465              2.664435            \n",
       "54715 AFFX-TrpnX-M_at       2.654917              2.521445            \n",
       "      DMSO.CD133.N.3.ga.cel DMSO.CD133.NR.ga.cel DMSO.CD133.P.1.ga.cel\n",
       "1     7.628713              7.640883             8.736861             \n",
       "2     7.250735              7.039113             6.046368             \n",
       "3     2.987656              3.127865             3.379536             \n",
       "4     5.518192              5.694289             5.630234             \n",
       "5     2.623704              2.678880             2.762519             \n",
       "6     3.362582              3.293179             3.514136             \n",
       "7     5.033186              4.571066             4.822719             \n",
       "8     3.671815              3.466012             3.389212             \n",
       "9     2.186705              2.326173             2.275394             \n",
       "10    2.885349              2.758986             2.924976             \n",
       "11    3.171752              3.154032             3.417763             \n",
       "12    6.407120              6.710070             6.323806             \n",
       "13    4.443522              4.614136             4.699342             \n",
       "14    8.597283              8.569178             8.950695             \n",
       "15    7.676549              7.634876             6.992900             \n",
       "16    4.710472              4.634806             4.729433             \n",
       "17    3.251806              3.281447             3.429209             \n",
       "18    7.595614              7.689633             7.811051             \n",
       "19    7.971049              7.756404             7.435536             \n",
       "20    2.508436              2.490546             2.436183             \n",
       "21    3.367819              3.243638             3.372663             \n",
       "22    3.263987              3.705092             3.000301             \n",
       "23    4.390814              4.297212             3.737307             \n",
       "24    6.421975              6.408744             6.677109             \n",
       "25    5.820836              5.758255             6.264344             \n",
       "26    3.537146              3.699674             3.346751             \n",
       "27    7.614130              7.437845             6.780053             \n",
       "28    4.726075              4.872580             4.151397             \n",
       "29    6.107579              6.240797             6.113408             \n",
       "30    2.765358              2.835506             2.858532             \n",
       "⋮     ⋮                     ⋮                    ⋮                    \n",
       "54686  6.780358              5.751993             6.203994            \n",
       "54687  8.770598              7.793099             8.394742            \n",
       "54688  8.279909              7.272918             7.919564            \n",
       "54689 10.794816              9.906810            10.564616            \n",
       "54690 10.435803              9.595671            10.098448            \n",
       "54691 12.132830             11.581800            12.033656            \n",
       "54692 11.763038             11.155075            11.708669            \n",
       "54693  2.508436              2.619685             2.467580            \n",
       "54694  2.560679              2.848649             2.784319            \n",
       "54695  2.518328              2.634171             2.532988            \n",
       "54696  2.536481              2.643128             2.601537            \n",
       "54697  2.655334              2.615785             2.688173            \n",
       "54698  2.672612              2.865701             2.869671            \n",
       "54699  2.942719              2.951271             3.072376            \n",
       "54700  2.922924              3.010407             3.127307            \n",
       "54701  3.394844              3.232922             3.123006            \n",
       "54702  2.681259              2.655675             2.881156            \n",
       "54703  2.689382              2.736307             2.741258            \n",
       "54704  3.003261              2.957965             3.026739            \n",
       "54705  2.692797              2.560228             2.680953            \n",
       "54706  3.020344              2.959055             3.005670            \n",
       "54707  3.004373              2.983832             2.967664            \n",
       "54708  2.728374              2.762162             2.915641            \n",
       "54709  2.836620              2.817603             2.934817            \n",
       "54710  4.476262              6.219324             6.375874            \n",
       "54711  3.064086              3.359943             3.468463            \n",
       "54712  3.462540              4.405365             4.985326            \n",
       "54713  2.541874              2.529545             2.476678            \n",
       "54714  2.714666              2.680298             2.578877            \n",
       "54715  2.759127              2.688867             2.716353            \n",
       "      DMSO.CD133.P.2.ga.cel DMSO.CD133.P.3.ga.cel DMSO.CD133.PR.ga.cel\n",
       "1     8.600804              7.498251              7.506411            \n",
       "2     6.106366              7.227457              7.044297            \n",
       "3     3.386184              3.071770              3.067604            \n",
       "4     5.570508              5.610709              5.846937            \n",
       "5     2.739002              2.657027              2.718653            \n",
       "6     3.563783              3.218820              3.360508            \n",
       "7     4.706626              4.740242              4.981946            \n",
       "8     3.618355              3.554816              3.620228            \n",
       "9     2.243246              2.243262              2.364399            \n",
       "10    2.804624              2.744872              2.910527            \n",
       "11    3.240231              3.247924              3.350288            \n",
       "12    6.381688              6.248862              6.396006            \n",
       "13    4.429657              4.436386              4.493658            \n",
       "14    8.942413              8.374316              8.300190            \n",
       "15    6.934843              7.656927              7.677221            \n",
       "16    4.707628              4.903425              5.268756            \n",
       "17    3.354658              3.375316              3.436852            \n",
       "18    7.735553              7.710237              7.764872            \n",
       "19    7.517870              8.053482              7.698432            \n",
       "20    2.459559              2.591250              2.392214            \n",
       "21    3.406757              3.159718              3.030481            \n",
       "22    3.100922              3.437889              3.487134            \n",
       "23    4.084546              4.072656              4.158188            \n",
       "24    6.740486              6.300895              6.333499            \n",
       "25    6.299508              5.616879              5.230769            \n",
       "26    3.442849              3.751143              3.694827            \n",
       "27    6.807658              7.529850              7.445567            \n",
       "28    4.237725              4.482172              4.632512            \n",
       "29    6.188821              6.141877              6.104801            \n",
       "30    2.926449              2.934301              2.997599            \n",
       "⋮     ⋮                     ⋮                     ⋮                   \n",
       "54686  6.953140              6.929507              6.142484           \n",
       "54687  9.112066              8.773416              8.131721           \n",
       "54688  8.585284              8.362772              7.739407           \n",
       "54689 10.924099             10.899713             10.327044           \n",
       "54690 10.616550             10.546964              9.974052           \n",
       "54691 12.199078             12.227246             11.838865           \n",
       "54692 11.901894             11.844225             11.530048           \n",
       "54693  2.490575              2.458503              2.426445           \n",
       "54694  2.735989              2.475594              2.715363           \n",
       "54695  2.367849              2.501584              2.808712           \n",
       "54696  2.577390              2.483308              2.498954           \n",
       "54697  2.702416              2.622812              2.726091           \n",
       "54698  2.885350              2.823251              2.916935           \n",
       "54699  3.016945              2.945827              2.977583           \n",
       "54700  3.229728              2.945827              3.065527           \n",
       "54701  3.199318              3.130997              3.250034           \n",
       "54702  2.644536              2.636156              2.582420           \n",
       "54703  2.781181              2.659798              2.570945           \n",
       "54704  2.890537              2.908131              2.901238           \n",
       "54705  2.629553              2.653334              2.663629           \n",
       "54706  3.075435              3.051032              2.892559           \n",
       "54707  3.042533              3.112436              3.026903           \n",
       "54708  2.712176              2.736790              2.718575           \n",
       "54709  2.878637              2.865658              2.932669           \n",
       "54710  6.878585              5.019171              6.781524           \n",
       "54711  3.963639              3.144306              3.559210           \n",
       "54712  5.501443              4.053974              5.069577           \n",
       "54713  2.492063              2.509742              2.532818           \n",
       "54714  2.663007              2.612642              2.605021           \n",
       "54715  2.543446              2.708904              2.616762           "
      ]
     },
     "metadata": {},
     "output_type": "display_data"
    }
   ],
   "source": [
    "allcd133 <- left_join(cd133DMSO, cd133EXP, by = \"ID\")\n",
    "allcd133"
   ]
  },
  {
   "cell_type": "code",
   "execution_count": 17,
   "metadata": {
    "vscode": {
     "languageId": "r"
    }
   },
   "outputs": [],
   "source": [
    "allcd133_1 <- allcd133 %>% \n",
    "select(1:9) %>% \n",
    "filter(grepl(\"_PM_at\" , ID)) %>% \n",
    "mutate(DMSO1 = 2^(DMSO.CD133.N.1.ga.cel),\n",
    "       DMSO2 = 2^(DMSO.CD133.N.2.ga.cel),\n",
    "       DMSO3 = 2^(DMSO.CD133.N.3.ga.cel),\n",
    "       DMSO4 = 2^(DMSO.CD133.NR.ga.cel),\n",
    "       DMSO5 = 2^(DMSO.CD133.P.1.ga.cel),\n",
    "       DMSO6 = 2^(DMSO.CD133.P.2.ga.cel),\n",
    "       DMSO7 = 2^(DMSO.CD133.P.3.ga.cel),\n",
    "       DMSO8 = 2^(DMSO.CD133.PR.ga.cel),\n",
    "       average_DMSO1 = (DMSO1+DMSO2+DMSO3+DMSO4)/4,\n",
    "       average_DMSO2 = (DMSO4+DMSO5+DMSO6+DMSO7)/4,\n",
    "       FC = average_DMSO1/average_DMSO2)\t%>%\n",
    "       filter(FC > 1,5 | FC < -1.5)"
   ]
  },
  {
   "cell_type": "code",
   "execution_count": 18,
   "metadata": {
    "vscode": {
     "languageId": "r"
    }
   },
   "outputs": [],
   "source": [
    "d<-mtcars %>%\n",
    "mutate(cyl = factor(cyl),\n",
    "am = factor(am),\n",
    "gear = factor(gear))\n"
   ]
  },
  {
   "cell_type": "code",
   "execution_count": 19,
   "metadata": {
    "vscode": {
     "languageId": "r"
    }
   },
   "outputs": [
    {
     "data": {
      "text/plain": [
       "            Df Sum Sq Mean Sq F value   Pr(>F)    \n",
       "cyl          2  824.8   412.4    39.7 4.98e-09 ***\n",
       "Residuals   29  301.3    10.4                     \n",
       "---\n",
       "Signif. codes:  0 ‘***’ 0.001 ‘**’ 0.01 ‘*’ 0.05 ‘.’ 0.1 ‘ ’ 1"
      ]
     },
     "metadata": {},
     "output_type": "display_data"
    }
   ],
   "source": [
    "aov(mpg~cyl,d) %>% \n",
    "  summary() "
   ]
  },
  {
   "cell_type": "code",
   "execution_count": 20,
   "metadata": {
    "vscode": {
     "languageId": "r"
    }
   },
   "outputs": [
    {
     "data": {
      "text/plain": [
       "\n",
       "Call:\n",
       "lm(formula = mpg ~ cyl, data = d)\n",
       "\n",
       "Residuals:\n",
       "    Min      1Q  Median      3Q     Max \n",
       "-5.2636 -1.8357  0.0286  1.3893  7.2364 \n",
       "\n",
       "Coefficients:\n",
       "            Estimate Std. Error t value Pr(>|t|)    \n",
       "(Intercept)  26.6636     0.9718  27.437  < 2e-16 ***\n",
       "cyl6         -6.9208     1.5583  -4.441 0.000119 ***\n",
       "cyl8        -11.5636     1.2986  -8.905 8.57e-10 ***\n",
       "---\n",
       "Signif. codes:  0 ‘***’ 0.001 ‘**’ 0.01 ‘*’ 0.05 ‘.’ 0.1 ‘ ’ 1\n",
       "\n",
       "Residual standard error: 3.223 on 29 degrees of freedom\n",
       "Multiple R-squared:  0.7325,\tAdjusted R-squared:  0.714 \n",
       "F-statistic:  39.7 on 2 and 29 DF,  p-value: 4.979e-09\n"
      ]
     },
     "metadata": {},
     "output_type": "display_data"
    },
    {
     "data": {
      "image/png": "[encoded data removed]",
      "text/plain": [
       "plot without title"
      ]
     },
     "metadata": {
      "image/png": {
       "height": 420,
       "width": 420
      }
     },
     "output_type": "display_data"
    }
   ],
   "source": [
    "##liner model\n",
    "\n",
    "m <- lm(mpg ~ cyl, d)\n",
    "m %>%  summary()\n",
    "plot_model(m, type = \"pred\", term = \"cyl\")"
   ]
  },
  {
   "cell_type": "code",
   "execution_count": 21,
   "metadata": {
    "vscode": {
     "languageId": "r"
    }
   },
   "outputs": [
    {
     "data": {
      "image/png": "[encoded data removed]",
      "text/plain": [
       "plot without title"
      ]
     },
     "metadata": {
      "image/png": {
       "height": 420,
       "width": 420
      }
     },
     "output_type": "display_data"
    }
   ],
   "source": [
    "lm(mpg ~ cyl, d) %>%\n",
    "emmeans(pairwise ~ cyl) %>% plot()"
   ]
  },
  {
   "cell_type": "code",
   "execution_count": 22,
   "metadata": {
    "vscode": {
     "languageId": "r"
    }
   },
   "outputs": [
    {
     "data": {
      "text/plain": [
       " cyl  prob     SE  df asymp.LCL asymp.UCL\n",
       " 4   0.727 0.1343 Inf     0.414     0.910\n",
       " 6   0.429 0.1870 Inf     0.144     0.770\n",
       " 8   0.143 0.0935 Inf     0.036     0.427\n",
       "\n",
       "Confidence level used: 0.95 \n",
       "Intervals are back-transformed from the logit scale "
      ]
     },
     "metadata": {},
     "output_type": "display_data"
    }
   ],
   "source": [
    "glm(am ~ cyl, d, family = binomial) %>%\n",
    "emmeans( ~ cyl, type = \"response\") "
   ]
  },
  {
   "cell_type": "code",
   "execution_count": 23,
   "metadata": {
    "vscode": {
     "languageId": "r"
    }
   },
   "outputs": [
    {
     "data": {
      "text/plain": [
       " gear am  hp prediction    SE df\n",
       " 3    0  147       18.0 0.818 27\n",
       " 4    0  147       18.1 1.545 27\n",
       " 5    0  147       20.4 2.331 27\n",
       " 3    1  147       22.1 1.958 27\n",
       " 4    1  147       22.2 1.226 27\n",
       " 5    1  147       24.5 1.409 27\n"
      ]
     },
     "metadata": {},
     "output_type": "display_data"
    },
    {
     "data": {
      "text/html": [
       "146.6875"
      ],
      "text/latex": [
       "146.6875"
      ],
      "text/markdown": [
       "146.6875"
      ],
      "text/plain": [
       "[1] 146.6875"
      ]
     },
     "metadata": {},
     "output_type": "display_data"
    }
   ],
   "source": [
    "m <- lm(mpg ~ gear + am + hp, d)\n",
    "ref_grid(m)\n",
    "mean(d$hp)"
   ]
  },
  {
   "cell_type": "code",
   "execution_count": 24,
   "metadata": {
    "vscode": {
     "languageId": "r"
    }
   },
   "outputs": [
    {
     "data": {
      "text/plain": [
       " cyl prediction    SE df\n",
       " 4         26.7 0.972 29\n",
       " 6         19.7 1.218 29\n",
       " 8         15.1 0.861 29\n"
      ]
     },
     "metadata": {},
     "output_type": "display_data"
    },
    {
     "data": {
      "text/html": [
       "<dl>\n",
       "\t<dt>$emmeans</dt>\n",
       "\t\t<dd><table class=\"dataframe\">\n",
       "<caption>A summary_emm: 3 × 6</caption>\n",
       "<thead>\n",
       "\t<tr><th></th><th scope=col>cyl</th><th scope=col>emmean</th><th scope=col>SE</th><th scope=col>df</th><th scope=col>lower.CL</th><th scope=col>upper.CL</th></tr>\n",
       "\t<tr><th></th><th scope=col>&lt;fct&gt;</th><th scope=col>&lt;dbl&gt;</th><th scope=col>&lt;dbl&gt;</th><th scope=col>&lt;dbl&gt;</th><th scope=col>&lt;dbl&gt;</th><th scope=col>&lt;dbl&gt;</th></tr>\n",
       "</thead>\n",
       "<tbody>\n",
       "\t<tr><th scope=row>1</th><td>4</td><td>26.66364</td><td>0.9718008</td><td>29</td><td>24.67608</td><td>28.65119</td></tr>\n",
       "\t<tr><th scope=row>2</th><td>6</td><td>19.74286</td><td>1.2182168</td><td>29</td><td>17.25132</td><td>22.23439</td></tr>\n",
       "\t<tr><th scope=row>3</th><td>8</td><td>15.10000</td><td>0.8614094</td><td>29</td><td>13.33822</td><td>16.86178</td></tr>\n",
       "</tbody>\n",
       "</table>\n",
       "</dd>\n",
       "\t<dt>$contrasts</dt>\n",
       "\t\t<dd><table class=\"dataframe\">\n",
       "<caption>A summary_emm: 3 × 6</caption>\n",
       "<thead>\n",
       "\t<tr><th></th><th scope=col>contrast</th><th scope=col>estimate</th><th scope=col>SE</th><th scope=col>df</th><th scope=col>t.ratio</th><th scope=col>p.value</th></tr>\n",
       "\t<tr><th></th><th scope=col>&lt;chr&gt;</th><th scope=col>&lt;dbl&gt;</th><th scope=col>&lt;dbl&gt;</th><th scope=col>&lt;dbl&gt;</th><th scope=col>&lt;dbl&gt;</th><th scope=col>&lt;dbl&gt;</th></tr>\n",
       "</thead>\n",
       "<tbody>\n",
       "\t<tr><th scope=row>1</th><td>cyl4 - cyl6</td><td> 6.920779</td><td>1.558348</td><td>29</td><td>4.441099</td><td>3.423720e-04</td></tr>\n",
       "\t<tr><th scope=row>2</th><td>cyl4 - cyl8</td><td>11.563636</td><td>1.298623</td><td>29</td><td>8.904534</td><td>2.543980e-09</td></tr>\n",
       "\t<tr><th scope=row>3</th><td>cyl6 - cyl8</td><td> 4.642857</td><td>1.492005</td><td>29</td><td>3.111825</td><td>1.122868e-02</td></tr>\n",
       "</tbody>\n",
       "</table>\n",
       "</dd>\n",
       "</dl>\n"
      ],
      "text/latex": [
       "\\begin{description}\n",
       "\\item[\\$emmeans] A summary\\_emm: 3 × 6\n",
       "\\begin{tabular}{r|llllll}\n",
       "  & cyl & emmean & SE & df & lower.CL & upper.CL\\\\\n",
       "  & <fct> & <dbl> & <dbl> & <dbl> & <dbl> & <dbl>\\\\\n",
       "\\hline\n",
       "\t1 & 4 & 26.66364 & 0.9718008 & 29 & 24.67608 & 28.65119\\\\\n",
       "\t2 & 6 & 19.74286 & 1.2182168 & 29 & 17.25132 & 22.23439\\\\\n",
       "\t3 & 8 & 15.10000 & 0.8614094 & 29 & 13.33822 & 16.86178\\\\\n",
       "\\end{tabular}\n",
       "\n",
       "\\item[\\$contrasts] A summary\\_emm: 3 × 6\n",
       "\\begin{tabular}{r|llllll}\n",
       "  & contrast & estimate & SE & df & t.ratio & p.value\\\\\n",
       "  & <chr> & <dbl> & <dbl> & <dbl> & <dbl> & <dbl>\\\\\n",
       "\\hline\n",
       "\t1 & cyl4 - cyl6 &  6.920779 & 1.558348 & 29 & 4.441099 & 3.423720e-04\\\\\n",
       "\t2 & cyl4 - cyl8 & 11.563636 & 1.298623 & 29 & 8.904534 & 2.543980e-09\\\\\n",
       "\t3 & cyl6 - cyl8 &  4.642857 & 1.492005 & 29 & 3.111825 & 1.122868e-02\\\\\n",
       "\\end{tabular}\n",
       "\n",
       "\\end{description}\n"
      ],
      "text/markdown": [
       "$emmeans\n",
       ":   \n",
       "A summary_emm: 3 × 6\n",
       "\n",
       "| <!--/--> | cyl &lt;fct&gt; | emmean &lt;dbl&gt; | SE &lt;dbl&gt; | df &lt;dbl&gt; | lower.CL &lt;dbl&gt; | upper.CL &lt;dbl&gt; |\n",
       "|---|---|---|---|---|---|---|\n",
       "| 1 | 4 | 26.66364 | 0.9718008 | 29 | 24.67608 | 28.65119 |\n",
       "| 2 | 6 | 19.74286 | 1.2182168 | 29 | 17.25132 | 22.23439 |\n",
       "| 3 | 8 | 15.10000 | 0.8614094 | 29 | 13.33822 | 16.86178 |\n",
       "\n",
       "\n",
       "$contrasts\n",
       ":   \n",
       "A summary_emm: 3 × 6\n",
       "\n",
       "| <!--/--> | contrast &lt;chr&gt; | estimate &lt;dbl&gt; | SE &lt;dbl&gt; | df &lt;dbl&gt; | t.ratio &lt;dbl&gt; | p.value &lt;dbl&gt; |\n",
       "|---|---|---|---|---|---|---|\n",
       "| 1 | cyl4 - cyl6 |  6.920779 | 1.558348 | 29 | 4.441099 | 3.423720e-04 |\n",
       "| 2 | cyl4 - cyl8 | 11.563636 | 1.298623 | 29 | 8.904534 | 2.543980e-09 |\n",
       "| 3 | cyl6 - cyl8 |  4.642857 | 1.492005 | 29 | 3.111825 | 1.122868e-02 |\n",
       "\n",
       "\n",
       "\n",
       "\n"
      ],
      "text/plain": [
       "$emmeans\n",
       " cyl emmean    SE df lower.CL upper.CL\n",
       " 4     26.7 0.972 29     24.7     28.7\n",
       " 6     19.7 1.218 29     17.3     22.2\n",
       " 8     15.1 0.861 29     13.3     16.9\n",
       "\n",
       "Confidence level used: 0.95 \n",
       "\n",
       "$contrasts\n",
       " contrast    estimate   SE df t.ratio p.value\n",
       " cyl4 - cyl6     6.92 1.56 29   4.441  0.0003\n",
       " cyl4 - cyl8    11.56 1.30 29   8.905  <.0001\n",
       " cyl6 - cyl8     4.64 1.49 29   3.112  0.0112\n",
       "\n",
       "P value adjustment: tukey method for comparing a family of 3 estimates \n"
      ]
     },
     "metadata": {},
     "output_type": "display_data"
    }
   ],
   "source": [
    "m <- lm(mpg ~ cyl, d)\n",
    "ref_grid(m)\n",
    "emmeans(m, pairwise ~ cyl) %>% summary()"
   ]
  },
  {
   "cell_type": "code",
   "execution_count": 25,
   "metadata": {
    "vscode": {
     "languageId": "r"
    }
   },
   "outputs": [
    {
     "data": {
      "text/html": [
       "<table class=\"dataframe\">\n",
       "<caption>A summary_emm: 3 × 6</caption>\n",
       "<thead>\n",
       "\t<tr><th></th><th scope=col>contrast</th><th scope=col>estimate</th><th scope=col>SE</th><th scope=col>df</th><th scope=col>t.ratio</th><th scope=col>p.value</th></tr>\n",
       "\t<tr><th></th><th scope=col>&lt;chr&gt;</th><th scope=col>&lt;dbl&gt;</th><th scope=col>&lt;dbl&gt;</th><th scope=col>&lt;dbl&gt;</th><th scope=col>&lt;dbl&gt;</th><th scope=col>&lt;dbl&gt;</th></tr>\n",
       "</thead>\n",
       "<tbody>\n",
       "\t<tr><th scope=row>1</th><td>cyl4 - cyl6</td><td> 6.920779</td><td>1.558348</td><td>29</td><td>4.441099</td><td>1.792044e-04</td></tr>\n",
       "\t<tr><th scope=row>2</th><td>cyl4 - cyl8</td><td>11.563636</td><td>1.298623</td><td>29</td><td>8.904534</td><td>2.570463e-09</td></tr>\n",
       "\t<tr><th scope=row>3</th><td>cyl6 - cyl8</td><td> 4.642857</td><td>1.492005</td><td>29</td><td>3.111825</td><td>4.152209e-03</td></tr>\n",
       "</tbody>\n",
       "</table>\n"
      ],
      "text/latex": [
       "A summary\\_emm: 3 × 6\n",
       "\\begin{tabular}{r|llllll}\n",
       "  & contrast & estimate & SE & df & t.ratio & p.value\\\\\n",
       "  & <chr> & <dbl> & <dbl> & <dbl> & <dbl> & <dbl>\\\\\n",
       "\\hline\n",
       "\t1 & cyl4 - cyl6 &  6.920779 & 1.558348 & 29 & 4.441099 & 1.792044e-04\\\\\n",
       "\t2 & cyl4 - cyl8 & 11.563636 & 1.298623 & 29 & 8.904534 & 2.570463e-09\\\\\n",
       "\t3 & cyl6 - cyl8 &  4.642857 & 1.492005 & 29 & 3.111825 & 4.152209e-03\\\\\n",
       "\\end{tabular}\n"
      ],
      "text/markdown": [
       "\n",
       "A summary_emm: 3 × 6\n",
       "\n",
       "| <!--/--> | contrast &lt;chr&gt; | estimate &lt;dbl&gt; | SE &lt;dbl&gt; | df &lt;dbl&gt; | t.ratio &lt;dbl&gt; | p.value &lt;dbl&gt; |\n",
       "|---|---|---|---|---|---|---|\n",
       "| 1 | cyl4 - cyl6 |  6.920779 | 1.558348 | 29 | 4.441099 | 1.792044e-04 |\n",
       "| 2 | cyl4 - cyl8 | 11.563636 | 1.298623 | 29 | 8.904534 | 2.570463e-09 |\n",
       "| 3 | cyl6 - cyl8 |  4.642857 | 1.492005 | 29 | 3.111825 | 4.152209e-03 |\n",
       "\n"
      ],
      "text/plain": [
       "  contrast    estimate  SE       df t.ratio  p.value     \n",
       "1 cyl4 - cyl6  6.920779 1.558348 29 4.441099 1.792044e-04\n",
       "2 cyl4 - cyl8 11.563636 1.298623 29 8.904534 2.570463e-09\n",
       "3 cyl6 - cyl8  4.642857 1.492005 29 3.111825 4.152209e-03"
      ]
     },
     "metadata": {},
     "output_type": "display_data"
    }
   ],
   "source": [
    "emmeans(m, pairwise ~ cyl, adjust = \"BH\")$contrasts %>% summary()"
   ]
  },
  {
   "cell_type": "code",
   "execution_count": 26,
   "metadata": {
    "vscode": {
     "languageId": "r"
    }
   },
   "outputs": [
    {
     "data": {
      "text/html": [
       "<table class=\"dataframe\">\n",
       "<caption>A summary_emm: 3 × 8</caption>\n",
       "<thead>\n",
       "\t<tr><th></th><th scope=col>contrast</th><th scope=col>estimate</th><th scope=col>SE</th><th scope=col>df</th><th scope=col>lower.CL</th><th scope=col>upper.CL</th><th scope=col>t.ratio</th><th scope=col>p.value</th></tr>\n",
       "\t<tr><th></th><th scope=col>&lt;chr&gt;</th><th scope=col>&lt;dbl&gt;</th><th scope=col>&lt;dbl&gt;</th><th scope=col>&lt;dbl&gt;</th><th scope=col>&lt;dbl&gt;</th><th scope=col>&lt;dbl&gt;</th><th scope=col>&lt;dbl&gt;</th><th scope=col>&lt;dbl&gt;</th></tr>\n",
       "</thead>\n",
       "<tbody>\n",
       "\t<tr><th scope=row>1</th><td>cyl4 - cyl6</td><td> 6.920779</td><td>1.558348</td><td>29</td><td>3.0722086</td><td>10.769350</td><td>4.441099</td><td>3.423720e-04</td></tr>\n",
       "\t<tr><th scope=row>2</th><td>cyl4 - cyl8</td><td>11.563636</td><td>1.298623</td><td>29</td><td>8.3564942</td><td>14.770779</td><td>8.904534</td><td>2.543980e-09</td></tr>\n",
       "\t<tr><th scope=row>3</th><td>cyl6 - cyl8</td><td> 4.642857</td><td>1.492005</td><td>29</td><td>0.9581313</td><td> 8.327583</td><td>3.111825</td><td>1.122868e-02</td></tr>\n",
       "</tbody>\n",
       "</table>\n"
      ],
      "text/latex": [
       "A summary\\_emm: 3 × 8\n",
       "\\begin{tabular}{r|llllllll}\n",
       "  & contrast & estimate & SE & df & lower.CL & upper.CL & t.ratio & p.value\\\\\n",
       "  & <chr> & <dbl> & <dbl> & <dbl> & <dbl> & <dbl> & <dbl> & <dbl>\\\\\n",
       "\\hline\n",
       "\t1 & cyl4 - cyl6 &  6.920779 & 1.558348 & 29 & 3.0722086 & 10.769350 & 4.441099 & 3.423720e-04\\\\\n",
       "\t2 & cyl4 - cyl8 & 11.563636 & 1.298623 & 29 & 8.3564942 & 14.770779 & 8.904534 & 2.543980e-09\\\\\n",
       "\t3 & cyl6 - cyl8 &  4.642857 & 1.492005 & 29 & 0.9581313 &  8.327583 & 3.111825 & 1.122868e-02\\\\\n",
       "\\end{tabular}\n"
      ],
      "text/markdown": [
       "\n",
       "A summary_emm: 3 × 8\n",
       "\n",
       "| <!--/--> | contrast &lt;chr&gt; | estimate &lt;dbl&gt; | SE &lt;dbl&gt; | df &lt;dbl&gt; | lower.CL &lt;dbl&gt; | upper.CL &lt;dbl&gt; | t.ratio &lt;dbl&gt; | p.value &lt;dbl&gt; |\n",
       "|---|---|---|---|---|---|---|---|---|\n",
       "| 1 | cyl4 - cyl6 |  6.920779 | 1.558348 | 29 | 3.0722086 | 10.769350 | 4.441099 | 3.423720e-04 |\n",
       "| 2 | cyl4 - cyl8 | 11.563636 | 1.298623 | 29 | 8.3564942 | 14.770779 | 8.904534 | 2.543980e-09 |\n",
       "| 3 | cyl6 - cyl8 |  4.642857 | 1.492005 | 29 | 0.9581313 |  8.327583 | 3.111825 | 1.122868e-02 |\n",
       "\n"
      ],
      "text/plain": [
       "  contrast    estimate  SE       df lower.CL  upper.CL  t.ratio  p.value     \n",
       "1 cyl4 - cyl6  6.920779 1.558348 29 3.0722086 10.769350 4.441099 3.423720e-04\n",
       "2 cyl4 - cyl8 11.563636 1.298623 29 8.3564942 14.770779 8.904534 2.543980e-09\n",
       "3 cyl6 - cyl8  4.642857 1.492005 29 0.9581313  8.327583 3.111825 1.122868e-02"
      ]
     },
     "metadata": {},
     "output_type": "display_data"
    }
   ],
   "source": [
    "emmeans(m, pairwise ~cyl, infer = T)$contrasts %>% summary()"
   ]
  },
  {
   "cell_type": "code",
   "execution_count": 27,
   "metadata": {
    "vscode": {
     "languageId": "r"
    }
   },
   "outputs": [
    {
     "data": {
      "text/plain": [
       " cyl emmean    SE df lower.CL upper.CL\n",
       " 4     26.7 0.972 29     24.7     28.7\n",
       " 6     19.7 1.218 29     17.3     22.2\n",
       " 8     15.1 0.861 29     13.3     16.9\n",
       "\n",
       "Confidence level used: 0.95 "
      ]
     },
     "metadata": {},
     "output_type": "display_data"
    }
   ],
   "source": [
    "emmeans(m, ~ cyl)"
   ]
  },
  {
   "cell_type": "markdown",
   "metadata": {},
   "source": [
    "##### plot any CIs"
   ]
  },
  {
   "cell_type": "code",
   "execution_count": 28,
   "metadata": {
    "vscode": {
     "languageId": "r"
    }
   },
   "outputs": [
    {
     "data": {
      "image/png": "[encoded data removed]",
      "text/plain": [
       "plot without title"
      ]
     },
     "metadata": {
      "image/png": {
       "height": 420,
       "width": 420
      }
     },
     "output_type": "display_data"
    }
   ],
   "source": [
    "emmeans(m, pairwise ~ cyl, level = 0.5)$emmeans %>% plot()"
   ]
  },
  {
   "cell_type": "markdown",
   "metadata": {},
   "source": [
    "## single numeric predictor"
   ]
  },
  {
   "cell_type": "code",
   "execution_count": 29,
   "metadata": {
    "vscode": {
     "languageId": "r"
    }
   },
   "outputs": [
    {
     "data": {
      "text/plain": [
       "  hp emmean    SE df lower.CL upper.CL\n",
       " 147   20.1 0.683 30     18.7     21.5\n",
       "\n",
       "Confidence level used: 0.95 "
      ]
     },
     "metadata": {},
     "output_type": "display_data"
    }
   ],
   "source": [
    "m <- lm(mpg ~ hp, d)\n",
    "emmeans(m, ~ hp)"
   ]
  },
  {
   "cell_type": "code",
   "execution_count": 30,
   "metadata": {
    "vscode": {
     "languageId": "r"
    }
   },
   "outputs": [
    {
     "data": {
      "image/png": "[encoded data removed]",
      "text/plain": [
       "plot without title"
      ]
     },
     "metadata": {
      "image/png": {
       "height": 420,
       "width": 420
      }
     },
     "output_type": "display_data"
    }
   ],
   "source": [
    "emmeans(m, ~ hp, cov.reduce = range) %>% plot()"
   ]
  },
  {
   "cell_type": "code",
   "execution_count": 31,
   "metadata": {
    "vscode": {
     "languageId": "r"
    }
   },
   "outputs": [
    {
     "name": "stderr",
     "output_type": "stream",
     "text": [
      "Data points may overlap. Use the `jitter` argument to add some amount of\n",
      "  random variation to the location of data points and avoid overplotting.\n",
      "\n"
     ]
    },
    {
     "data": {
      "image/png": "[encoded data removed]",
      "text/plain": [
       "plot without title"
      ]
     },
     "metadata": {
      "image/png": {
       "height": 420,
       "width": 420
      }
     },
     "output_type": "display_data"
    }
   ],
   "source": [
    "m1<- lm(mpg ~poly(hp, 2), d)\n",
    "plot_model(m1, type = \"pred\", terms = \"hp\", show.data = T)"
   ]
  },
  {
   "cell_type": "code",
   "execution_count": 32,
   "metadata": {
    "vscode": {
     "languageId": "r"
    }
   },
   "outputs": [
    {
     "data": {
      "image/png": "[encoded data removed]",
      "text/plain": [
       "plot without title"
      ]
     },
     "metadata": {
      "image/png": {
       "height": 420,
       "width": 420
      }
     },
     "output_type": "display_data"
    }
   ],
   "source": [
    "emmeans(m1, ~ hp, at = list(hp = c(100, 150, 200))) %>% plot(comparisons = T)"
   ]
  },
  {
   "cell_type": "code",
   "execution_count": 33,
   "metadata": {
    "vscode": {
     "languageId": "r"
    }
   },
   "outputs": [
    {
     "data": {
      "text/html": [
       "<dl>\n",
       "\t<dt>$emmeans</dt>\n",
       "\t\t<dd><dl>\n",
       "\t<dt>$bhat</dt>\n",
       "\t\t<dd><style>\n",
       ".list-inline {list-style: none; margin:0; padding: 0}\n",
       ".list-inline>li {display: inline-block}\n",
       ".list-inline>li:not(:last-child)::after {content: \"\\00b7\"; padding: 0 .5ex}\n",
       "</style>\n",
       "<ol class=list-inline><li>20.090625</li><li>-26.045592217406</li><li>13.1545677264726</li></ol>\n",
       "</dd>\n",
       "\t<dt>$V</dt>\n",
       "\t\t<dd><table class=\"dataframe\">\n",
       "<caption>A matrix: 3 × 3 of type dbl</caption>\n",
       "<thead>\n",
       "\t<tr><th></th><th scope=col>(Intercept)</th><th scope=col>poly(hp, 2)1</th><th scope=col>poly(hp, 2)2</th></tr>\n",
       "</thead>\n",
       "<tbody>\n",
       "\t<tr><th scope=row>(Intercept)</th><td> 2.959393e-01</td><td>8.537755e-19</td><td>-3.731274e-17</td></tr>\n",
       "\t<tr><th scope=row>poly(hp, 2)1</th><td> 8.537755e-19</td><td>9.470057e+00</td><td> 6.037471e-16</td></tr>\n",
       "\t<tr><th scope=row>poly(hp, 2)2</th><td>-3.731274e-17</td><td>6.037471e-16</td><td> 9.470057e+00</td></tr>\n",
       "</tbody>\n",
       "</table>\n",
       "</dd>\n",
       "\t<dt>$levels</dt>\n",
       "\t\t<dd><strong>$hp</strong> = <style>\n",
       ".list-inline {list-style: none; margin:0; padding: 0}\n",
       ".list-inline>li {display: inline-block}\n",
       ".list-inline>li:not(:last-child)::after {content: \"\\00b7\"; padding: 0 .5ex}\n",
       "</style>\n",
       "<ol class=list-inline><li>100</li><li>150</li><li>200</li></ol>\n",
       "</dd>\n",
       "\t<dt>$linfct</dt>\n",
       "\t\t<dd><table class=\"dataframe\">\n",
       "<caption>A matrix: 3 × 3 of type dbl</caption>\n",
       "<thead>\n",
       "\t<tr><th scope=col>(Intercept)</th><th scope=col>poly(hp, 2)1</th><th scope=col>poly(hp, 2)2</th></tr>\n",
       "</thead>\n",
       "<tbody>\n",
       "\t<tr><td>1</td><td>-0.122301221</td><td> 0.0007917227</td></tr>\n",
       "\t<tr><td>1</td><td> 0.008677329</td><td>-0.1507756847</td></tr>\n",
       "\t<tr><td>1</td><td> 0.139655879</td><td>-0.1423927090</td></tr>\n",
       "</tbody>\n",
       "</table>\n",
       "</dd>\n",
       "\t<dt>$dffun</dt>\n",
       "\t\t<dd><pre class=language-r><code>function (k, dfargs) \n",
       "dfargs$df</code></pre></dd>\n",
       "\t<dt>$dfargs</dt>\n",
       "\t\t<dd><strong>$df</strong> = 29</dd>\n",
       "\t<dt>$post.beta</dt>\n",
       "\t\t<dd><table class=\"dataframe\">\n",
       "<caption>A matrix: 1 × 1 of type lgl</caption>\n",
       "<tbody>\n",
       "\t<tr><td>NA</td></tr>\n",
       "</tbody>\n",
       "</table>\n",
       "</dd>\n",
       "\t<dt>$estName</dt>\n",
       "\t\t<dd>'emmean'</dd>\n",
       "\t<dt>$estType</dt>\n",
       "\t\t<dd>'prediction'</dd>\n",
       "\t<dt>$infer</dt>\n",
       "\t\t<dd><style>\n",
       ".list-inline {list-style: none; margin:0; padding: 0}\n",
       ".list-inline>li {display: inline-block}\n",
       ".list-inline>li:not(:last-child)::after {content: \"\\00b7\"; padding: 0 .5ex}\n",
       "</style>\n",
       "<ol class=list-inline><li>TRUE</li><li>FALSE</li></ol>\n",
       "</dd>\n",
       "\t<dt>$level</dt>\n",
       "\t\t<dd>0.95</dd>\n",
       "\t<dt>$adjust</dt>\n",
       "\t\t<dd>'none'</dd>\n",
       "\t<dt>$famSize</dt>\n",
       "\t\t<dd>3</dd>\n",
       "\t<dt>$avgd.over</dt>\n",
       "\t\t<dd></dd>\n",
       "\t<dt>$sigma</dt>\n",
       "\t\t<dd>3.07734581940597</dd>\n",
       "\t<dt>$methDesc</dt>\n",
       "\t\t<dd>'emmeans'</dd>\n",
       "\t<dt>$extras</dt>\n",
       "\t\t<dd><table class=\"dataframe\">\n",
       "<caption>A data.frame: 3 × 1</caption>\n",
       "<thead>\n",
       "\t<tr><th scope=col>.wgt.</th></tr>\n",
       "\t<tr><th scope=col>&lt;dbl&gt;</th></tr>\n",
       "</thead>\n",
       "<tbody>\n",
       "\t<tr><td>1</td></tr>\n",
       "\t<tr><td>1</td></tr>\n",
       "\t<tr><td>1</td></tr>\n",
       "</tbody>\n",
       "</table>\n",
       "</dd>\n",
       "</dl>\n",
       "</dd>\n",
       "\t<dt>$contrasts</dt>\n",
       "\t\t<dd><dl>\n",
       "\t<dt>$bhat</dt>\n",
       "\t\t<dd><style>\n",
       ".list-inline {list-style: none; margin:0; padding: 0}\n",
       ".list-inline>li {display: inline-block}\n",
       ".list-inline>li:not(:last-child)::after {content: \"\\00b7\"; padding: 0 .5ex}\n",
       "</style>\n",
       "<ol class=list-inline><li>20.090625</li><li>-26.045592217406</li><li>13.1545677264726</li></ol>\n",
       "</dd>\n",
       "\t<dt>$V</dt>\n",
       "\t\t<dd><table class=\"dataframe\">\n",
       "<caption>A matrix: 3 × 3 of type dbl</caption>\n",
       "<thead>\n",
       "\t<tr><th></th><th scope=col>(Intercept)</th><th scope=col>poly(hp, 2)1</th><th scope=col>poly(hp, 2)2</th></tr>\n",
       "</thead>\n",
       "<tbody>\n",
       "\t<tr><th scope=row>(Intercept)</th><td> 2.959393e-01</td><td>8.537755e-19</td><td>-3.731274e-17</td></tr>\n",
       "\t<tr><th scope=row>poly(hp, 2)1</th><td> 8.537755e-19</td><td>9.470057e+00</td><td> 6.037471e-16</td></tr>\n",
       "\t<tr><th scope=row>poly(hp, 2)2</th><td>-3.731274e-17</td><td>6.037471e-16</td><td> 9.470057e+00</td></tr>\n",
       "</tbody>\n",
       "</table>\n",
       "</dd>\n",
       "\t<dt>$levels</dt>\n",
       "\t\t<dd><strong>$contrast</strong> = <style>\n",
       ".list-inline {list-style: none; margin:0; padding: 0}\n",
       ".list-inline>li {display: inline-block}\n",
       ".list-inline>li:not(:last-child)::after {content: \"\\00b7\"; padding: 0 .5ex}\n",
       "</style>\n",
       "<ol class=list-inline><li>'hp100 - hp150'</li><li>'hp100 - hp200'</li><li>'hp150 - hp200'</li></ol>\n",
       "</dd>\n",
       "\t<dt>$linfct</dt>\n",
       "\t\t<dd><table class=\"dataframe\">\n",
       "<caption>A matrix: 3 × 3 of type dbl</caption>\n",
       "<thead>\n",
       "\t<tr><th scope=col>(Intercept)</th><th scope=col>poly(hp, 2)1</th><th scope=col>poly(hp, 2)2</th></tr>\n",
       "</thead>\n",
       "<tbody>\n",
       "\t<tr><td>0</td><td>-0.1309786</td><td> 0.151567407</td></tr>\n",
       "\t<tr><td>0</td><td>-0.2619571</td><td> 0.143184432</td></tr>\n",
       "\t<tr><td>0</td><td>-0.1309786</td><td>-0.008382976</td></tr>\n",
       "</tbody>\n",
       "</table>\n",
       "</dd>\n",
       "\t<dt>$dffun</dt>\n",
       "\t\t<dd><pre class=language-r><code>function (k, dfargs) \n",
       "dfargs$df</code></pre></dd>\n",
       "\t<dt>$dfargs</dt>\n",
       "\t\t<dd><strong>$df</strong> = 29</dd>\n",
       "\t<dt>$post.beta</dt>\n",
       "\t\t<dd><table class=\"dataframe\">\n",
       "<caption>A matrix: 1 × 1 of type lgl</caption>\n",
       "<tbody>\n",
       "\t<tr><td>NA</td></tr>\n",
       "</tbody>\n",
       "</table>\n",
       "</dd>\n",
       "\t<dt>$estName</dt>\n",
       "\t\t<dd>'estimate'</dd>\n",
       "\t<dt>$estType</dt>\n",
       "\t\t<dd>'pairs'</dd>\n",
       "\t<dt>$infer</dt>\n",
       "\t\t<dd><style>\n",
       ".list-inline {list-style: none; margin:0; padding: 0}\n",
       ".list-inline>li {display: inline-block}\n",
       ".list-inline>li:not(:last-child)::after {content: \"\\00b7\"; padding: 0 .5ex}\n",
       "</style>\n",
       "<ol class=list-inline><li>FALSE</li><li>TRUE</li></ol>\n",
       "</dd>\n",
       "\t<dt>$level</dt>\n",
       "\t\t<dd>0.95</dd>\n",
       "\t<dt>$adjust</dt>\n",
       "\t\t<dd>'tukey'</dd>\n",
       "\t<dt>$famSize</dt>\n",
       "\t\t<dd>3</dd>\n",
       "\t<dt>$avgd.over</dt>\n",
       "\t\t<dd></dd>\n",
       "\t<dt>$methDesc</dt>\n",
       "\t\t<dd>'pairwise differences'</dd>\n",
       "\t<dt>$is.new.rg</dt>\n",
       "\t\t<dd>FALSE</dd>\n",
       "\t<dt>$.pairby</dt>\n",
       "\t\t<dd>''</dd>\n",
       "\t<dt>$orig.grid</dt>\n",
       "\t\t<dd><table class=\"dataframe\">\n",
       "<caption>A data.frame: 3 × 1</caption>\n",
       "<thead>\n",
       "\t<tr><th scope=col>hp</th></tr>\n",
       "\t<tr><th scope=col>&lt;dbl&gt;</th></tr>\n",
       "</thead>\n",
       "<tbody>\n",
       "\t<tr><td>100</td></tr>\n",
       "\t<tr><td>150</td></tr>\n",
       "\t<tr><td>200</td></tr>\n",
       "</tbody>\n",
       "</table>\n",
       "</dd>\n",
       "\t<dt>$con.coef</dt>\n",
       "\t\t<dd><table class=\"dataframe\">\n",
       "<caption>A matrix: 3 × 3 of type dbl</caption>\n",
       "<thead>\n",
       "\t<tr><th></th><th scope=col>hp100</th><th scope=col>hp150</th><th scope=col>hp200</th></tr>\n",
       "</thead>\n",
       "<tbody>\n",
       "\t<tr><th scope=row>hp100 - hp150</th><td>1</td><td>-1</td><td> 0</td></tr>\n",
       "\t<tr><th scope=row>hp100 - hp200</th><td>1</td><td> 0</td><td>-1</td></tr>\n",
       "\t<tr><th scope=row>hp150 - hp200</th><td>0</td><td> 1</td><td>-1</td></tr>\n",
       "</tbody>\n",
       "</table>\n",
       "</dd>\n",
       "</dl>\n",
       "</dd>\n",
       "</dl>\n"
      ],
      "text/latex": [
       "\\begin{description}\n",
       "\\item[\\$emmeans] \\begin{description}\n",
       "\\item[\\$bhat] \\begin{enumerate*}\n",
       "\\item 20.090625\n",
       "\\item -26.045592217406\n",
       "\\item 13.1545677264726\n",
       "\\end{enumerate*}\n",
       "\n",
       "\\item[\\$V] A matrix: 3 × 3 of type dbl\n",
       "\\begin{tabular}{r|lll}\n",
       "  & (Intercept) & poly(hp, 2)1 & poly(hp, 2)2\\\\\n",
       "\\hline\n",
       "\t(Intercept) &  2.959393e-01 & 8.537755e-19 & -3.731274e-17\\\\\n",
       "\tpoly(hp, 2)1 &  8.537755e-19 & 9.470057e+00 &  6.037471e-16\\\\\n",
       "\tpoly(hp, 2)2 & -3.731274e-17 & 6.037471e-16 &  9.470057e+00\\\\\n",
       "\\end{tabular}\n",
       "\n",
       "\\item[\\$levels] \\textbf{\\$hp} = \\begin{enumerate*}\n",
       "\\item 100\n",
       "\\item 150\n",
       "\\item 200\n",
       "\\end{enumerate*}\n",
       "\n",
       "\\item[\\$linfct] A matrix: 3 × 3 of type dbl\n",
       "\\begin{tabular}{lll}\n",
       " (Intercept) & poly(hp, 2)1 & poly(hp, 2)2\\\\\n",
       "\\hline\n",
       "\t 1 & -0.122301221 &  0.0007917227\\\\\n",
       "\t 1 &  0.008677329 & -0.1507756847\\\\\n",
       "\t 1 &  0.139655879 & -0.1423927090\\\\\n",
       "\\end{tabular}\n",
       "\n",
       "\\item[\\$dffun] \\begin{minted}{r}\n",
       "function (k, dfargs) \n",
       "dfargs\\$df\n",
       "\\end{minted}\n",
       "\\item[\\$dfargs] \\textbf{\\$df} = 29\n",
       "\\item[\\$post.beta] A matrix: 1 × 1 of type lgl\n",
       "\\begin{tabular}{l}\n",
       "\t NA\\\\\n",
       "\\end{tabular}\n",
       "\n",
       "\\item[\\$estName] 'emmean'\n",
       "\\item[\\$estType] 'prediction'\n",
       "\\item[\\$infer] \\begin{enumerate*}\n",
       "\\item TRUE\n",
       "\\item FALSE\n",
       "\\end{enumerate*}\n",
       "\n",
       "\\item[\\$level] 0.95\n",
       "\\item[\\$adjust] 'none'\n",
       "\\item[\\$famSize] 3\n",
       "\\item[\\$avgd.over] \n",
       "\\item[\\$sigma] 3.07734581940597\n",
       "\\item[\\$methDesc] 'emmeans'\n",
       "\\item[\\$extras] A data.frame: 3 × 1\n",
       "\\begin{tabular}{l}\n",
       " .wgt.\\\\\n",
       " <dbl>\\\\\n",
       "\\hline\n",
       "\t 1\\\\\n",
       "\t 1\\\\\n",
       "\t 1\\\\\n",
       "\\end{tabular}\n",
       "\n",
       "\\end{description}\n",
       "\n",
       "\\item[\\$contrasts] \\begin{description}\n",
       "\\item[\\$bhat] \\begin{enumerate*}\n",
       "\\item 20.090625\n",
       "\\item -26.045592217406\n",
       "\\item 13.1545677264726\n",
       "\\end{enumerate*}\n",
       "\n",
       "\\item[\\$V] A matrix: 3 × 3 of type dbl\n",
       "\\begin{tabular}{r|lll}\n",
       "  & (Intercept) & poly(hp, 2)1 & poly(hp, 2)2\\\\\n",
       "\\hline\n",
       "\t(Intercept) &  2.959393e-01 & 8.537755e-19 & -3.731274e-17\\\\\n",
       "\tpoly(hp, 2)1 &  8.537755e-19 & 9.470057e+00 &  6.037471e-16\\\\\n",
       "\tpoly(hp, 2)2 & -3.731274e-17 & 6.037471e-16 &  9.470057e+00\\\\\n",
       "\\end{tabular}\n",
       "\n",
       "\\item[\\$levels] \\textbf{\\$contrast} = \\begin{enumerate*}\n",
       "\\item 'hp100 - hp150'\n",
       "\\item 'hp100 - hp200'\n",
       "\\item 'hp150 - hp200'\n",
       "\\end{enumerate*}\n",
       "\n",
       "\\item[\\$linfct] A matrix: 3 × 3 of type dbl\n",
       "\\begin{tabular}{lll}\n",
       " (Intercept) & poly(hp, 2)1 & poly(hp, 2)2\\\\\n",
       "\\hline\n",
       "\t 0 & -0.1309786 &  0.151567407\\\\\n",
       "\t 0 & -0.2619571 &  0.143184432\\\\\n",
       "\t 0 & -0.1309786 & -0.008382976\\\\\n",
       "\\end{tabular}\n",
       "\n",
       "\\item[\\$dffun] \\begin{minted}{r}\n",
       "function (k, dfargs) \n",
       "dfargs\\$df\n",
       "\\end{minted}\n",
       "\\item[\\$dfargs] \\textbf{\\$df} = 29\n",
       "\\item[\\$post.beta] A matrix: 1 × 1 of type lgl\n",
       "\\begin{tabular}{l}\n",
       "\t NA\\\\\n",
       "\\end{tabular}\n",
       "\n",
       "\\item[\\$estName] 'estimate'\n",
       "\\item[\\$estType] 'pairs'\n",
       "\\item[\\$infer] \\begin{enumerate*}\n",
       "\\item FALSE\n",
       "\\item TRUE\n",
       "\\end{enumerate*}\n",
       "\n",
       "\\item[\\$level] 0.95\n",
       "\\item[\\$adjust] 'tukey'\n",
       "\\item[\\$famSize] 3\n",
       "\\item[\\$avgd.over] \n",
       "\\item[\\$methDesc] 'pairwise differences'\n",
       "\\item[\\$is.new.rg] FALSE\n",
       "\\item[\\$.pairby] ''\n",
       "\\item[\\$orig.grid] A data.frame: 3 × 1\n",
       "\\begin{tabular}{l}\n",
       " hp\\\\\n",
       " <dbl>\\\\\n",
       "\\hline\n",
       "\t 100\\\\\n",
       "\t 150\\\\\n",
       "\t 200\\\\\n",
       "\\end{tabular}\n",
       "\n",
       "\\item[\\$con.coef] A matrix: 3 × 3 of type dbl\n",
       "\\begin{tabular}{r|lll}\n",
       "  & hp100 & hp150 & hp200\\\\\n",
       "\\hline\n",
       "\thp100 - hp150 & 1 & -1 &  0\\\\\n",
       "\thp100 - hp200 & 1 &  0 & -1\\\\\n",
       "\thp150 - hp200 & 0 &  1 & -1\\\\\n",
       "\\end{tabular}\n",
       "\n",
       "\\end{description}\n",
       "\n",
       "\\end{description}\n"
      ],
      "text/markdown": [
       "$emmeans\n",
       ":   $bhat\n",
       ":   1. 20.090625\n",
       "2. -26.045592217406\n",
       "3. 13.1545677264726\n",
       "\n",
       "\n",
       "\n",
       "$V\n",
       ":   \n",
       "A matrix: 3 × 3 of type dbl\n",
       "\n",
       "| <!--/--> | (Intercept) | poly(hp, 2)1 | poly(hp, 2)2 |\n",
       "|---|---|---|---|\n",
       "| (Intercept) |  2.959393e-01 | 8.537755e-19 | -3.731274e-17 |\n",
       "| poly(hp, 2)1 |  8.537755e-19 | 9.470057e+00 |  6.037471e-16 |\n",
       "| poly(hp, 2)2 | -3.731274e-17 | 6.037471e-16 |  9.470057e+00 |\n",
       "\n",
       "\n",
       "$levels\n",
       ":   **$hp** = 1. 100\n",
       "2. 150\n",
       "3. 200\n",
       "\n",
       "\n",
       "\n",
       "$linfct\n",
       ":   \n",
       "A matrix: 3 × 3 of type dbl\n",
       "\n",
       "| (Intercept) | poly(hp, 2)1 | poly(hp, 2)2 |\n",
       "|---|---|---|\n",
       "| 1 | -0.122301221 |  0.0007917227 |\n",
       "| 1 |  0.008677329 | -0.1507756847 |\n",
       "| 1 |  0.139655879 | -0.1423927090 |\n",
       "\n",
       "\n",
       "$dffun\n",
       ":   ```r\n",
       "function (k, dfargs) \n",
       "dfargs$df\n",
       "```\n",
       "$dfargs\n",
       ":   **$df** = 29\n",
       "$post.beta\n",
       ":   \n",
       "A matrix: 1 × 1 of type lgl\n",
       "\n",
       "| NA |\n",
       "\n",
       "\n",
       "$estName\n",
       ":   'emmean'\n",
       "$estType\n",
       ":   'prediction'\n",
       "$infer\n",
       ":   1. TRUE\n",
       "2. FALSE\n",
       "\n",
       "\n",
       "\n",
       "$level\n",
       ":   0.95\n",
       "$adjust\n",
       ":   'none'\n",
       "$famSize\n",
       ":   3\n",
       "$avgd.over\n",
       ":   \n",
       "$sigma\n",
       ":   3.07734581940597\n",
       "$methDesc\n",
       ":   'emmeans'\n",
       "$extras\n",
       ":   \n",
       "A data.frame: 3 × 1\n",
       "\n",
       "| .wgt. &lt;dbl&gt; |\n",
       "|---|\n",
       "| 1 |\n",
       "| 1 |\n",
       "| 1 |\n",
       "\n",
       "\n",
       "\n",
       "\n",
       "\n",
       "$contrasts\n",
       ":   $bhat\n",
       ":   1. 20.090625\n",
       "2. -26.045592217406\n",
       "3. 13.1545677264726\n",
       "\n",
       "\n",
       "\n",
       "$V\n",
       ":   \n",
       "A matrix: 3 × 3 of type dbl\n",
       "\n",
       "| <!--/--> | (Intercept) | poly(hp, 2)1 | poly(hp, 2)2 |\n",
       "|---|---|---|---|\n",
       "| (Intercept) |  2.959393e-01 | 8.537755e-19 | -3.731274e-17 |\n",
       "| poly(hp, 2)1 |  8.537755e-19 | 9.470057e+00 |  6.037471e-16 |\n",
       "| poly(hp, 2)2 | -3.731274e-17 | 6.037471e-16 |  9.470057e+00 |\n",
       "\n",
       "\n",
       "$levels\n",
       ":   **$contrast** = 1. 'hp100 - hp150'\n",
       "2. 'hp100 - hp200'\n",
       "3. 'hp150 - hp200'\n",
       "\n",
       "\n",
       "\n",
       "$linfct\n",
       ":   \n",
       "A matrix: 3 × 3 of type dbl\n",
       "\n",
       "| (Intercept) | poly(hp, 2)1 | poly(hp, 2)2 |\n",
       "|---|---|---|\n",
       "| 0 | -0.1309786 |  0.151567407 |\n",
       "| 0 | -0.2619571 |  0.143184432 |\n",
       "| 0 | -0.1309786 | -0.008382976 |\n",
       "\n",
       "\n",
       "$dffun\n",
       ":   ```r\n",
       "function (k, dfargs) \n",
       "dfargs$df\n",
       "```\n",
       "$dfargs\n",
       ":   **$df** = 29\n",
       "$post.beta\n",
       ":   \n",
       "A matrix: 1 × 1 of type lgl\n",
       "\n",
       "| NA |\n",
       "\n",
       "\n",
       "$estName\n",
       ":   'estimate'\n",
       "$estType\n",
       ":   'pairs'\n",
       "$infer\n",
       ":   1. FALSE\n",
       "2. TRUE\n",
       "\n",
       "\n",
       "\n",
       "$level\n",
       ":   0.95\n",
       "$adjust\n",
       ":   'tukey'\n",
       "$famSize\n",
       ":   3\n",
       "$avgd.over\n",
       ":   \n",
       "$methDesc\n",
       ":   'pairwise differences'\n",
       "$is.new.rg\n",
       ":   FALSE\n",
       "$.pairby\n",
       ":   ''\n",
       "$orig.grid\n",
       ":   \n",
       "A data.frame: 3 × 1\n",
       "\n",
       "| hp &lt;dbl&gt; |\n",
       "|---|\n",
       "| 100 |\n",
       "| 150 |\n",
       "| 200 |\n",
       "\n",
       "\n",
       "$con.coef\n",
       ":   \n",
       "A matrix: 3 × 3 of type dbl\n",
       "\n",
       "| <!--/--> | hp100 | hp150 | hp200 |\n",
       "|---|---|---|---|\n",
       "| hp100 - hp150 | 1 | -1 |  0 |\n",
       "| hp100 - hp200 | 1 |  0 | -1 |\n",
       "| hp150 - hp200 | 0 |  1 | -1 |\n",
       "\n",
       "\n",
       "\n",
       "\n",
       "\n",
       "\n",
       "\n"
      ],
      "text/plain": [
       "$emmeans\n",
       "  hp emmean    SE df lower.CL upper.CL\n",
       " 100   23.3 0.662 29     21.9     24.6\n",
       " 150   17.9 0.715 29     16.4     19.3\n",
       " 200   14.6 0.820 29     12.9     16.3\n",
       "\n",
       "Confidence level used: 0.95 \n",
       "\n",
       "$contrasts\n",
       " contrast      estimate    SE df t.ratio p.value\n",
       " hp100 - hp150     5.41 0.616 29   8.768  <.0001\n",
       " hp100 - hp200     8.71 0.919 29   9.477  <.0001\n",
       " hp150 - hp200     3.30 0.404 29   8.173  <.0001\n",
       "\n",
       "P value adjustment: tukey method for comparing a family of 3 estimates \n"
      ]
     },
     "metadata": {},
     "output_type": "display_data"
    }
   ],
   "source": [
    "emmeans(m1, pairwise ~ hp, at = list(hp = c(100, 150, 200)))"
   ]
  },
  {
   "cell_type": "markdown",
   "metadata": {},
   "source": [
    "## one categorical + one numeric"
   ]
  },
  {
   "cell_type": "code",
   "execution_count": 34,
   "metadata": {
    "vscode": {
     "languageId": "r"
    }
   },
   "outputs": [],
   "source": [
    "library(ISLR)\n",
    "set.seed (10)\n",
    "salary <- Wage %>% \n",
    "group_by(jobclass) %>% sample_n(50)"
   ]
  },
  {
   "cell_type": "code",
   "execution_count": 35,
   "metadata": {
    "vscode": {
     "languageId": "r"
    }
   },
   "outputs": [],
   "source": [
    "m <- lm(wage ~ jobclass + age, salary)"
   ]
  },
  {
   "cell_type": "code",
   "execution_count": 36,
   "metadata": {
    "vscode": {
     "languageId": "r"
    }
   },
   "outputs": [
    {
     "data": {
      "text/plain": [
       " jobclass        age prediction   SE df\n",
       " 1. Industrial  41.4       99.9 5.33 97\n",
       " 2. Information 41.4      116.4 5.33 97\n"
      ]
     },
     "metadata": {},
     "output_type": "display_data"
    }
   ],
   "source": [
    "ref_grid(m)"
   ]
  },
  {
   "cell_type": "code",
   "execution_count": 37,
   "metadata": {
    "vscode": {
     "languageId": "r"
    }
   },
   "outputs": [],
   "source": [
    "mno_age <- lm(wage ~ jobclass, salary)"
   ]
  },
  {
   "cell_type": "code",
   "execution_count": 38,
   "metadata": {
    "vscode": {
     "languageId": "r"
    }
   },
   "outputs": [
    {
     "data": {
      "text/html": [
       "<table class=\"dataframe\">\n",
       "<caption>A data.frame: 2 × 2</caption>\n",
       "<thead>\n",
       "\t<tr><th></th><th scope=col>df</th><th scope=col>AIC</th></tr>\n",
       "\t<tr><th></th><th scope=col>&lt;dbl&gt;</th><th scope=col>&lt;dbl&gt;</th></tr>\n",
       "</thead>\n",
       "<tbody>\n",
       "\t<tr><th scope=row>m</th><td>4</td><td>1014.413</td></tr>\n",
       "\t<tr><th scope=row>mno_age</th><td>3</td><td>1020.342</td></tr>\n",
       "</tbody>\n",
       "</table>\n"
      ],
      "text/latex": [
       "A data.frame: 2 × 2\n",
       "\\begin{tabular}{r|ll}\n",
       "  & df & AIC\\\\\n",
       "  & <dbl> & <dbl>\\\\\n",
       "\\hline\n",
       "\tm & 4 & 1014.413\\\\\n",
       "\tmno\\_age & 3 & 1020.342\\\\\n",
       "\\end{tabular}\n"
      ],
      "text/markdown": [
       "\n",
       "A data.frame: 2 × 2\n",
       "\n",
       "| <!--/--> | df &lt;dbl&gt; | AIC &lt;dbl&gt; |\n",
       "|---|---|---|\n",
       "| m | 4 | 1014.413 |\n",
       "| mno_age | 3 | 1020.342 |\n",
       "\n"
      ],
      "text/plain": [
       "        df AIC     \n",
       "m       4  1014.413\n",
       "mno_age 3  1020.342"
      ]
     },
     "metadata": {},
     "output_type": "display_data"
    }
   ],
   "source": [
    "AIC(m, mno_age)"
   ]
  },
  {
   "cell_type": "code",
   "execution_count": 39,
   "metadata": {
    "vscode": {
     "languageId": "r"
    }
   },
   "outputs": [
    {
     "data": {
      "text/plain": [
       " jobclass       emmean   SE df lower.CL upper.CL\n",
       " 1. Industrial    99.9 5.33 97     89.4      111\n",
       " 2. Information  116.4 5.33 97    105.8      127\n",
       "\n",
       "Confidence level used: 0.95 "
      ]
     },
     "metadata": {},
     "output_type": "display_data"
    }
   ],
   "source": [
    "emmeans(m, ~jobclass)"
   ]
  },
  {
   "cell_type": "code",
   "execution_count": 40,
   "metadata": {
    "vscode": {
     "languageId": "r"
    }
   },
   "outputs": [
    {
     "data": {
      "text/plain": [
       "jobclass = 1. Industrial:\n",
       " contrast      estimate    SE df t.ratio p.value\n",
       " age25 - age50    -22.8  8.06 97  -2.829  0.0155\n",
       " age25 - age70    -41.0 14.50 97  -2.829  0.0155\n",
       " age50 - age70    -18.2  6.45 97  -2.829  0.0155\n",
       "\n",
       "jobclass = 2. Information:\n",
       " contrast      estimate    SE df t.ratio p.value\n",
       " age25 - age50    -22.8  8.06 97  -2.829  0.0155\n",
       " age25 - age70    -41.0 14.50 97  -2.829  0.0155\n",
       " age50 - age70    -18.2  6.45 97  -2.829  0.0155\n",
       "\n",
       "P value adjustment: tukey method for comparing a family of 3 estimates "
      ]
     },
     "metadata": {},
     "output_type": "display_data"
    }
   ],
   "source": [
    "emmeans(m, pairwise ~ age|jobclass,\n",
    "at = list(age = c(25,50,70)))$contrasts"
   ]
  },
  {
   "cell_type": "code",
   "execution_count": 41,
   "metadata": {
    "vscode": {
     "languageId": "r"
    }
   },
   "outputs": [
    {
     "data": {
      "text/plain": [
       "jobclass = 1. Industrial:\n",
       " age emmean    SE df lower.CL upper.CL\n",
       "  25     85  7.33 97     70.4     99.5\n",
       "  50    108  6.12 97     95.6    119.9\n",
       "  70    126 10.86 97    104.5    147.6\n",
       "\n",
       "jobclass = 2. Information:\n",
       " age emmean    SE df lower.CL upper.CL\n",
       "  25    101  7.67 97     86.2    116.6\n",
       "  50    124  5.90 97    112.5    135.9\n",
       "  70    142 10.44 97    121.7    163.2\n",
       "\n",
       "Confidence level used: 0.95 "
      ]
     },
     "metadata": {},
     "output_type": "display_data"
    }
   ],
   "source": [
    "emmeans(m, pairwise ~ age|jobclass,\n",
    "at = list(age = c(25,50,70)))$emmeans"
   ]
  },
  {
   "cell_type": "code",
   "execution_count": 42,
   "metadata": {
    "vscode": {
     "languageId": "r"
    }
   },
   "outputs": [
    {
     "data": {
      "image/png": "[encoded data removed]",
      "text/plain": [
       "plot without title"
      ]
     },
     "metadata": {
      "image/png": {
       "height": 420,
       "width": 420
      }
     },
     "output_type": "display_data"
    }
   ],
   "source": [
    "lm(mpg ~ hp * wt, d) %>% \n",
    "plot_model(type = \"pred\", terms = c( \"wt\", \"hp[52,335]\"))"
   ]
  },
  {
   "cell_type": "code",
   "execution_count": 43,
   "metadata": {
    "vscode": {
     "languageId": "r"
    }
   },
   "outputs": [
    {
     "ename": "ERROR",
     "evalue": "Error in `$`(., emmeans(pairwise ~ hp | wt, cov.reduce = range.default), : 3 Argumente an '$' übergeben, welches 2 benötigt\n",
     "output_type": "error",
     "traceback": [
      "Error in `$`(., emmeans(pairwise ~ hp | wt, cov.reduce = range.default), : 3 Argumente an '$' übergeben, welches 2 benötigt\nTraceback:\n",
      "1. lm(mpg ~ hp * wt, d) %>% emmeans(pairwise ~ hp | wt, cov.reduce = range.default)$contrasts"
     ]
    },
    {
     "ename": "",
     "evalue": "",
     "output_type": "error",
     "traceback": [
      "\u001b[1;31mThe Kernel crashed while executing code in the current cell or a previous cell. \n",
      "\u001b[1;31mPlease review the code in the cell(s) to identify a possible cause of the failure. \n",
      "\u001b[1;31mClick <a href='https://aka.ms/vscodeJupyterKernelCrash'>here</a> for more info. \n",
      "\u001b[1;31mView Jupyter <a href='command:jupyter.viewOutput'>log</a> for further details."
     ]
    }
   ],
   "source": [
    "lm(mpg ~ hp * wt, d) %>%\n",
    "  emmeans(pairwise ~ hp | wt, cov.reduce = range.default)$contrasts"
   ]
  },
  {
   "cell_type": "code",
   "execution_count": null,
   "metadata": {
    "vscode": {
     "languageId": "r"
    }
   },
   "outputs": [],
   "source": [
    "set.seed(9999)\n",
    "salary <- Wage %>% \n",
    "sample_n(100)\n",
    "m <- lm(wage ~ education, salary)"
   ]
  },
  {
   "cell_type": "code",
   "execution_count": null,
   "metadata": {
    "vscode": {
     "languageId": "r"
    }
   },
   "outputs": [],
   "source": [
    "m <- lm(wage ~ education, salary)"
   ]
  },
  {
   "cell_type": "code",
   "execution_count": null,
   "metadata": {
    "vscode": {
     "languageId": "r"
    }
   },
   "outputs": [],
   "source": [
    "plot_model(m, type = \"pred\" ,term = \"education\",\n",
    "show.data = T, jitter = T)"
   ]
  },
  {
   "cell_type": "code",
   "execution_count": null,
   "metadata": {
    "vscode": {
     "languageId": "r"
    }
   },
   "outputs": [],
   "source": [
    "#library(see)\n",
    "check_normality(m) %>% plot(type = \"qq\")"
   ]
  },
  {
   "cell_type": "code",
   "execution_count": null,
   "metadata": {
    "vscode": {
     "languageId": "r"
    }
   },
   "outputs": [],
   "source": [
    "###bootstrapping##\n",
    "boot_data <- bootstraps(salary, times = 1000)\n",
    "boot_data$splits[[1]]\n",
    "boot_models <- boot_data %>% \n",
    "mutate(model = map(splits, ~ lm(wage ~ 0 + education, data = salary)),\n",
    "coefs = map(model, tidy))"
   ]
  },
  {
   "cell_type": "code",
   "execution_count": null,
   "metadata": {
    "vscode": {
     "languageId": "r"
    }
   },
   "outputs": [],
   "source": [
    "boot_data$splits[[1]]"
   ]
  },
  {
   "cell_type": "code",
   "execution_count": null,
   "metadata": {
    "vscode": {
     "languageId": "r"
    }
   },
   "outputs": [],
   "source": [
    "boot_models <- boot_data %>% \n",
    "mutate(model = map(splits, ~ lm(wage ~ 0 + education, data = salary)),\n",
    "coefs = map(model, tidy))"
   ]
  },
  {
   "cell_type": "code",
   "execution_count": null,
   "metadata": {
    "vscode": {
     "languageId": "r"
    }
   },
   "outputs": [],
   "source": [
    "dlookr::describe(iris)"
   ]
  },
  {
   "cell_type": "code",
   "execution_count": null,
   "metadata": {
    "vscode": {
     "languageId": "r"
    }
   },
   "outputs": [],
   "source": [
    "ggbarstats(data = Wage, x = jobclass, y = education, label = \"both\")"
   ]
  },
  {
   "cell_type": "code",
   "execution_count": null,
   "metadata": {
    "vscode": {
     "languageId": "r"
    }
   },
   "outputs": [],
   "source": [
    "dlookr::describe(iris)"
   ]
  },
  {
   "cell_type": "code",
   "execution_count": null,
   "metadata": {
    "vscode": {
     "languageId": "r"
    }
   },
   "outputs": [],
   "source": [
    "dlookr::univar_numeric(iris)"
   ]
  },
  {
   "cell_type": "code",
   "execution_count": null,
   "metadata": {
    "vscode": {
     "languageId": "r"
    }
   },
   "outputs": [],
   "source": [
    "dlookr::diagnose_numeric(iris)"
   ]
  },
  {
   "cell_type": "code",
   "execution_count": null,
   "metadata": {
    "vscode": {
     "languageId": "r"
    }
   },
   "outputs": [],
   "source": [
    "library(SmartEDA)\n",
    "ExpNumStat(iris, by = \"GA\" ,gp = \"Species\") "
   ]
  },
  {
   "cell_type": "code",
   "execution_count": null,
   "metadata": {
    "vscode": {
     "languageId": "r"
    }
   },
   "outputs": [],
   "source": [
    "library(summarytools)\n",
    "dfSummary(airquality)"
   ]
  },
  {
   "cell_type": "code",
   "execution_count": null,
   "metadata": {
    "vscode": {
     "languageId": "r"
    }
   },
   "outputs": [],
   "source": [
    "library(gtsummary)\n",
    "mtcars %>% \n",
    "select(mpg,hp,am,gear,cyl) %>% tbl_summary()\n",
    "\n",
    "#Wage %>%\n",
    "  #select(age, wage, education,jobclass) %>%\n",
    "  #tbl_summary(by = education) %>%\n",
    "  #add_p()"
   ]
  },
  {
   "cell_type": "code",
   "execution_count": null,
   "metadata": {
    "vscode": {
     "languageId": "r"
    }
   },
   "outputs": [],
   "source": [
    "library(DataExplorer)"
   ]
  },
  {
   "cell_type": "code",
   "execution_count": null,
   "metadata": {
    "vscode": {
     "languageId": "r"
    }
   },
   "outputs": [],
   "source": [
    "plot_density(Wage)"
   ]
  },
  {
   "cell_type": "code",
   "execution_count": null,
   "metadata": {
    "vscode": {
     "languageId": "r"
    }
   },
   "outputs": [],
   "source": [
    "skewness(airquality$Ozone)\n",
    "agostino.test(airquality$Ozone)\n"
   ]
  },
  {
   "cell_type": "code",
   "execution_count": null,
   "metadata": {
    "vscode": {
     "languageId": "r"
    }
   },
   "outputs": [],
   "source": [
    "\n",
    "\n",
    "skewness(airquality$Wind)\n",
    "agostino.test(airquality$Wind)"
   ]
  },
  {
   "cell_type": "code",
   "execution_count": null,
   "metadata": {
    "vscode": {
     "languageId": "r"
    }
   },
   "outputs": [],
   "source": [
    "anscombe.test(airquality$Ozone)\n",
    "anscombe.test(airquality$Wind)"
   ]
  },
  {
   "cell_type": "code",
   "execution_count": null,
   "metadata": {
    "vscode": {
     "languageId": "r"
    }
   },
   "outputs": [],
   "source": [
    "library(DataExplorer)\n",
    "plot_qq(iris)\n",
    "plot_qq(iris, by = \"Species\")"
   ]
  },
  {
   "cell_type": "code",
   "execution_count": null,
   "metadata": {
    "vscode": {
     "languageId": "r"
    }
   },
   "outputs": [],
   "source": [
    "iris %>% group_by(Species) %>% \n",
    "plot_normality(Petal.Length)"
   ]
  },
  {
   "cell_type": "code",
   "execution_count": null,
   "metadata": {
    "vscode": {
     "languageId": "r"
    }
   },
   "outputs": [],
   "source": [
    "library(ggpubr)\n",
    "ggqqplot(iris, x = \"Sepal.Length\", facet.by = \"Species\", ggtheme = theme_classic()())"
   ]
  },
  {
   "cell_type": "code",
   "execution_count": null,
   "metadata": {
    "vscode": {
     "languageId": "r"
    }
   },
   "outputs": [],
   "source": [
    "normality(airquality) %>% \n",
    "mutate_if(is.numeric, ~ round (., 3)) %>% flextable()\n"
   ]
  },
  {
   "cell_type": "code",
   "execution_count": null,
   "metadata": {
    "vscode": {
     "languageId": "r"
    }
   },
   "outputs": [],
   "source": [
    "diamonds %>% \n",
    "group_by (cut, color, clarity) %>% \n",
    "normality()"
   ]
  },
  {
   "cell_type": "code",
   "execution_count": null,
   "metadata": {
    "vscode": {
     "languageId": "r"
    }
   },
   "outputs": [],
   "source": [
    "ggbetweenstats(data = iris, x = Species, y = Sepal.Length, type = \"np\")"
   ]
  },
  {
   "cell_type": "code",
   "execution_count": null,
   "metadata": {
    "vscode": {
     "languageId": "r"
    }
   },
   "outputs": [],
   "source": [
    "\n",
    "plot_correlate(airquality,method = \"kendall\")"
   ]
  },
  {
   "cell_type": "markdown",
   "metadata": {},
   "source": [
    "#### Wilcoxon Rank sum test #### \n",
    "#### Mann-whitney test ####"
   ]
  },
  {
   "cell_type": "code",
   "execution_count": null,
   "metadata": {
    "vscode": {
     "languageId": "r"
    }
   },
   "outputs": [],
   "source": [
    "mannw <-read.csv(\"Mann_Whitneytest.csv\")"
   ]
  },
  {
   "cell_type": "code",
   "execution_count": null,
   "metadata": {
    "vscode": {
     "languageId": "r"
    }
   },
   "outputs": [],
   "source": [
    "shapiro.test(mannw$Male)\n",
    "shapiro.test(mannw$Female)"
   ]
  },
  {
   "cell_type": "code",
   "execution_count": null,
   "metadata": {
    "vscode": {
     "languageId": "r"
    }
   },
   "outputs": [],
   "source": [
    "library(dlookr)\n",
    "mannw %>% \n",
    "normality()"
   ]
  },
  {
   "cell_type": "code",
   "execution_count": null,
   "metadata": {
    "vscode": {
     "languageId": "r"
    }
   },
   "outputs": [],
   "source": [
    "wilcox.test(mannw$Male,mannw$Female,\n",
    "paired = FALSE,\n",
    "exact = FALSE)"
   ]
  },
  {
   "cell_type": "code",
   "execution_count": null,
   "metadata": {
    "vscode": {
     "languageId": "r"
    }
   },
   "outputs": [],
   "source": [
    "library(ggstatsplot)\n",
    "library(reshape2)"
   ]
  },
  {
   "cell_type": "code",
   "execution_count": null,
   "metadata": {
    "vscode": {
     "languageId": "r"
    }
   },
   "outputs": [],
   "source": [
    "mannlong <- melt(mannw)"
   ]
  },
  {
   "cell_type": "code",
   "execution_count": null,
   "metadata": {
    "vscode": {
     "languageId": "r"
    }
   },
   "outputs": [],
   "source": [
    "ggbetweenstats(data = mannlong,\n",
    "x = variable,\n",
    "y = value,\n",
    "type = \"np\")"
   ]
  },
  {
   "cell_type": "code",
   "execution_count": null,
   "metadata": {
    "vscode": {
     "languageId": "r"
    }
   },
   "outputs": [],
   "source": [
    "library(effectsize)\n",
    "interpret_rank_biserial(r = 0.28)"
   ]
  },
  {
   "cell_type": "code",
   "execution_count": null,
   "metadata": {
    "vscode": {
     "languageId": "r"
    }
   },
   "outputs": [],
   "source": [
    "??effectsize"
   ]
  },
  {
   "cell_type": "markdown",
   "metadata": {},
   "source": [
    "#######Singlecellanalysis####"
   ]
  },
  {
   "cell_type": "code",
   "execution_count": null,
   "metadata": {
    "vscode": {
     "languageId": "r"
    }
   },
   "outputs": [],
   "source": [
    "library(readxl)"
   ]
  },
  {
   "cell_type": "code",
   "execution_count": null,
   "metadata": {
    "vscode": {
     "languageId": "r"
    }
   },
   "outputs": [],
   "source": [
    "ngs <- read.table(\"GSE103866_RSEM.SC-RNAseq.smartseq.txt\", sep = \"\\t\", header = T)\n",
    "ngs"
   ]
  },
  {
   "cell_type": "code",
   "execution_count": null,
   "metadata": {
    "vscode": {
     "languageId": "r"
    }
   },
   "outputs": [],
   "source": []
  },
  {
   "cell_type": "code",
   "execution_count": null,
   "metadata": {
    "vscode": {
     "languageId": "r"
    }
   },
   "outputs": [],
   "source": [
    "library(dplyr)\n",
    "\n",
    "# Assuming ngs is your data frame\n",
    "ngs_posctrl <- ngs %>% \n",
    "  select(starts_with(\"H7TPS\"))\n",
    "\n",
    "ngs_negctrl <- ngs %>%\n",
    "  select(starts_with(\"H7TNS\"))\n",
    "\n",
    "ngs_Epcamp <- ngs %>%\n",
    "  select(starts_with(\"H7EPCAMSC\"))\n",
    "\n",
    "ngs_CD133PC <- ngs %>%\n",
    "  select(starts_with(\"H7CD133SC\"))\n",
    "\n"
   ]
  },
  {
   "cell_type": "code",
   "execution_count": null,
   "metadata": {
    "vscode": {
     "languageId": "r"
    }
   },
   "outputs": [],
   "source": [
    "ngs_CD133PC"
   ]
  },
  {
   "cell_type": "code",
   "execution_count": null,
   "metadata": {
    "vscode": {
     "languageId": "r"
    }
   },
   "outputs": [],
   "source": [
    "colnames(ngs_selected)"
   ]
  },
  {
   "cell_type": "code",
   "execution_count": null,
   "metadata": {
    "vscode": {
     "languageId": "r"
    }
   },
   "outputs": [],
   "source": [
    "ensembl <- read.csv(\"ensemble_ids-1.csv\",header = T)\n"
   ]
  },
  {
   "cell_type": "code",
   "execution_count": null,
   "metadata": {
    "vscode": {
     "languageId": "r"
    }
   },
   "outputs": [],
   "source": [
    "colnames(ensembl)"
   ]
  },
  {
   "cell_type": "code",
   "execution_count": null,
   "metadata": {
    "vscode": {
     "languageId": "r"
    }
   },
   "outputs": [],
   "source": [
    "ensembl1 <- ensembl%>%\n",
    "rename(symbol = ensemble_ids)"
   ]
  },
  {
   "cell_type": "code",
   "execution_count": null,
   "metadata": {
    "vscode": {
     "languageId": "r"
    }
   },
   "outputs": [],
   "source": [
    "ensembl1$symbol = str_split(ensembl1$symbol, pattern = \"\\\\.\", simplify = T)[,1]"
   ]
  },
  {
   "cell_type": "code",
   "execution_count": null,
   "metadata": {
    "vscode": {
     "languageId": "r"
    }
   },
   "outputs": [],
   "source": [
    "ensembl1"
   ]
  },
  {
   "cell_type": "code",
   "execution_count": null,
   "metadata": {
    "vscode": {
     "languageId": "r"
    }
   },
   "outputs": [],
   "source": [
    "library(BiocManager)"
   ]
  },
  {
   "cell_type": "code",
   "execution_count": null,
   "metadata": {
    "vscode": {
     "languageId": "r"
    }
   },
   "outputs": [],
   "source": [
    "library(Seurat)\n",
    "library(DESeq2)"
   ]
  },
  {
   "cell_type": "code",
   "execution_count": null,
   "metadata": {
    "vscode": {
     "languageId": "r"
    }
   },
   "outputs": [],
   "source": [
    "library(readxl)\n",
    "blood <- read_excel(\"wilcoxontest-1.xlsx\")"
   ]
  },
  {
   "cell_type": "code",
   "execution_count": null,
   "metadata": {
    "vscode": {
     "languageId": "r"
    }
   },
   "outputs": [],
   "source": [
    "wilcox.test(blood$Before,blood$After,\n",
    "paired = TRUE)\n"
   ]
  },
  {
   "cell_type": "code",
   "execution_count": null,
   "metadata": {
    "vscode": {
     "languageId": "r"
    }
   },
   "outputs": [],
   "source": [
    "library(effectsize)\n",
    "interpret_rank_biserial(r = 0.889231)"
   ]
  },
  {
   "cell_type": "code",
   "execution_count": null,
   "metadata": {
    "vscode": {
     "languageId": "r"
    }
   },
   "outputs": [],
   "source": [
    "mm <-read_csv(\"income.data.csv\", show_col_types = FALSE)"
   ]
  },
  {
   "cell_type": "code",
   "execution_count": null,
   "metadata": {
    "vscode": {
     "languageId": "r"
    }
   },
   "outputs": [
    {
     "name": "stderr",
     "output_type": "stream",
     "text": [
      "Aktualisiere HTML-Index der Pakete in '.Library'\n",
      "\n",
      "Making 'packages.html' ...\n",
      " fertig\n",
      "\n"
     ]
    }
   ],
   "source": [
    "install.packages(\"effects\")\n",
    "library(janitor)\n",
    "library(effects)"
   ]
  },
  {
   "cell_type": "code",
   "execution_count": null,
   "metadata": {
    "vscode": {
     "languageId": "r"
    }
   },
   "outputs": [
    {
     "data": {
      "text/html": [
       "<table class=\"dataframe\">\n",
       "<caption>A spec_tbl_df: 498 × 3</caption>\n",
       "<thead>\n",
       "\t<tr><th scope=col>s_no</th><th scope=col>income</th><th scope=col>happiness</th></tr>\n",
       "\t<tr><th scope=col>&lt;dbl&gt;</th><th scope=col>&lt;dbl&gt;</th><th scope=col>&lt;dbl&gt;</th></tr>\n",
       "</thead>\n",
       "<tbody>\n",
       "\t<tr><td> 1</td><td>3.862647</td><td>2.314489</td></tr>\n",
       "\t<tr><td> 2</td><td>4.979381</td><td>3.433490</td></tr>\n",
       "\t<tr><td> 3</td><td>4.923957</td><td>4.599373</td></tr>\n",
       "\t<tr><td> 4</td><td>3.214372</td><td>2.791114</td></tr>\n",
       "\t<tr><td> 5</td><td>7.196409</td><td>5.596398</td></tr>\n",
       "\t<tr><td> 6</td><td>3.729643</td><td>2.458556</td></tr>\n",
       "\t<tr><td> 7</td><td>4.674517</td><td>3.192992</td></tr>\n",
       "\t<tr><td> 8</td><td>4.498104</td><td>1.907137</td></tr>\n",
       "\t<tr><td> 9</td><td>3.121631</td><td>2.942450</td></tr>\n",
       "\t<tr><td>10</td><td>4.639914</td><td>3.737942</td></tr>\n",
       "\t<tr><td>11</td><td>4.632840</td><td>3.175406</td></tr>\n",
       "\t<tr><td>12</td><td>2.773179</td><td>2.009046</td></tr>\n",
       "\t<tr><td>13</td><td>7.119479</td><td>5.951814</td></tr>\n",
       "\t<tr><td>14</td><td>7.466653</td><td>5.960547</td></tr>\n",
       "\t<tr><td>15</td><td>2.117742</td><td>1.445799</td></tr>\n",
       "\t<tr><td>16</td><td>2.559166</td><td>2.898583</td></tr>\n",
       "\t<tr><td>17</td><td>2.354793</td><td>1.231168</td></tr>\n",
       "\t<tr><td>18</td><td>2.388157</td><td>2.312988</td></tr>\n",
       "\t<tr><td>19</td><td>4.755680</td><td>2.666116</td></tr>\n",
       "\t<tr><td>20</td><td>1.994275</td><td>2.584729</td></tr>\n",
       "\t<tr><td>21</td><td>7.310916</td><td>5.747444</td></tr>\n",
       "\t<tr><td>22</td><td>3.528319</td><td>2.546525</td></tr>\n",
       "\t<tr><td>23</td><td>2.428752</td><td>1.200786</td></tr>\n",
       "\t<tr><td>24</td><td>3.542748</td><td>3.078293</td></tr>\n",
       "\t<tr><td>25</td><td>5.227201</td><td>4.317761</td></tr>\n",
       "\t<tr><td>26</td><td>6.691993</td><td>5.381479</td></tr>\n",
       "\t<tr><td>27</td><td>3.900410</td><td>3.565224</td></tr>\n",
       "\t<tr><td>28</td><td>2.291055</td><td>0.953413</td></tr>\n",
       "\t<tr><td>29</td><td>2.380513</td><td>2.169161</td></tr>\n",
       "\t<tr><td>30</td><td>2.549609</td><td>2.060794</td></tr>\n",
       "\t<tr><td>⋮</td><td>⋮</td><td>⋮</td></tr>\n",
       "\t<tr><td>469</td><td>3.126524</td><td>2.4133818</td></tr>\n",
       "\t<tr><td>470</td><td>6.781564</td><td>4.9853666</td></tr>\n",
       "\t<tr><td>471</td><td>7.119505</td><td>4.9819811</td></tr>\n",
       "\t<tr><td>472</td><td>7.297722</td><td>6.3842745</td></tr>\n",
       "\t<tr><td>473</td><td>5.873494</td><td>3.2674754</td></tr>\n",
       "\t<tr><td>474</td><td>1.587315</td><td>1.3127590</td></tr>\n",
       "\t<tr><td>475</td><td>6.001807</td><td>4.0395480</td></tr>\n",
       "\t<tr><td>476</td><td>5.723226</td><td>4.4259951</td></tr>\n",
       "\t<tr><td>477</td><td>5.237893</td><td>3.3427494</td></tr>\n",
       "\t<tr><td>478</td><td>6.449945</td><td>3.4923102</td></tr>\n",
       "\t<tr><td>479</td><td>4.172337</td><td>3.7512255</td></tr>\n",
       "\t<tr><td>480</td><td>6.522772</td><td>5.3865593</td></tr>\n",
       "\t<tr><td>481</td><td>7.448117</td><td>5.9634221</td></tr>\n",
       "\t<tr><td>482</td><td>7.225192</td><td>4.9852549</td></tr>\n",
       "\t<tr><td>483</td><td>3.275335</td><td>2.7981607</td></tr>\n",
       "\t<tr><td>484</td><td>2.031818</td><td>2.9673233</td></tr>\n",
       "\t<tr><td>485</td><td>2.840141</td><td>1.2287732</td></tr>\n",
       "\t<tr><td>486</td><td>6.101565</td><td>3.9617296</td></tr>\n",
       "\t<tr><td>487</td><td>6.074328</td><td>4.6491437</td></tr>\n",
       "\t<tr><td>488</td><td>4.243873</td><td>4.7541684</td></tr>\n",
       "\t<tr><td>489</td><td>5.318576</td><td>2.9619567</td></tr>\n",
       "\t<tr><td>490</td><td>6.052381</td><td>4.6334411</td></tr>\n",
       "\t<tr><td>491</td><td>3.154043</td><td>1.2941366</td></tr>\n",
       "\t<tr><td>492</td><td>2.482382</td><td>0.5483652</td></tr>\n",
       "\t<tr><td>493</td><td>3.435102</td><td>2.1151365</td></tr>\n",
       "\t<tr><td>494</td><td>5.249209</td><td>4.5687046</td></tr>\n",
       "\t<tr><td>495</td><td>3.471799</td><td>2.5350021</td></tr>\n",
       "\t<tr><td>496</td><td>6.087610</td><td>4.3974513</td></tr>\n",
       "\t<tr><td>497</td><td>3.440847</td><td>2.0706638</td></tr>\n",
       "\t<tr><td>498</td><td>4.530545</td><td>3.7101930</td></tr>\n",
       "</tbody>\n",
       "</table>\n"
      ],
      "text/latex": [
       "A spec\\_tbl\\_df: 498 × 3\n",
       "\\begin{tabular}{lll}\n",
       " s\\_no & income & happiness\\\\\n",
       " <dbl> & <dbl> & <dbl>\\\\\n",
       "\\hline\n",
       "\t  1 & 3.862647 & 2.314489\\\\\n",
       "\t  2 & 4.979381 & 3.433490\\\\\n",
       "\t  3 & 4.923957 & 4.599373\\\\\n",
       "\t  4 & 3.214372 & 2.791114\\\\\n",
       "\t  5 & 7.196409 & 5.596398\\\\\n",
       "\t  6 & 3.729643 & 2.458556\\\\\n",
       "\t  7 & 4.674517 & 3.192992\\\\\n",
       "\t  8 & 4.498104 & 1.907137\\\\\n",
       "\t  9 & 3.121631 & 2.942450\\\\\n",
       "\t 10 & 4.639914 & 3.737942\\\\\n",
       "\t 11 & 4.632840 & 3.175406\\\\\n",
       "\t 12 & 2.773179 & 2.009046\\\\\n",
       "\t 13 & 7.119479 & 5.951814\\\\\n",
       "\t 14 & 7.466653 & 5.960547\\\\\n",
       "\t 15 & 2.117742 & 1.445799\\\\\n",
       "\t 16 & 2.559166 & 2.898583\\\\\n",
       "\t 17 & 2.354793 & 1.231168\\\\\n",
       "\t 18 & 2.388157 & 2.312988\\\\\n",
       "\t 19 & 4.755680 & 2.666116\\\\\n",
       "\t 20 & 1.994275 & 2.584729\\\\\n",
       "\t 21 & 7.310916 & 5.747444\\\\\n",
       "\t 22 & 3.528319 & 2.546525\\\\\n",
       "\t 23 & 2.428752 & 1.200786\\\\\n",
       "\t 24 & 3.542748 & 3.078293\\\\\n",
       "\t 25 & 5.227201 & 4.317761\\\\\n",
       "\t 26 & 6.691993 & 5.381479\\\\\n",
       "\t 27 & 3.900410 & 3.565224\\\\\n",
       "\t 28 & 2.291055 & 0.953413\\\\\n",
       "\t 29 & 2.380513 & 2.169161\\\\\n",
       "\t 30 & 2.549609 & 2.060794\\\\\n",
       "\t ⋮ & ⋮ & ⋮\\\\\n",
       "\t 469 & 3.126524 & 2.4133818\\\\\n",
       "\t 470 & 6.781564 & 4.9853666\\\\\n",
       "\t 471 & 7.119505 & 4.9819811\\\\\n",
       "\t 472 & 7.297722 & 6.3842745\\\\\n",
       "\t 473 & 5.873494 & 3.2674754\\\\\n",
       "\t 474 & 1.587315 & 1.3127590\\\\\n",
       "\t 475 & 6.001807 & 4.0395480\\\\\n",
       "\t 476 & 5.723226 & 4.4259951\\\\\n",
       "\t 477 & 5.237893 & 3.3427494\\\\\n",
       "\t 478 & 6.449945 & 3.4923102\\\\\n",
       "\t 479 & 4.172337 & 3.7512255\\\\\n",
       "\t 480 & 6.522772 & 5.3865593\\\\\n",
       "\t 481 & 7.448117 & 5.9634221\\\\\n",
       "\t 482 & 7.225192 & 4.9852549\\\\\n",
       "\t 483 & 3.275335 & 2.7981607\\\\\n",
       "\t 484 & 2.031818 & 2.9673233\\\\\n",
       "\t 485 & 2.840141 & 1.2287732\\\\\n",
       "\t 486 & 6.101565 & 3.9617296\\\\\n",
       "\t 487 & 6.074328 & 4.6491437\\\\\n",
       "\t 488 & 4.243873 & 4.7541684\\\\\n",
       "\t 489 & 5.318576 & 2.9619567\\\\\n",
       "\t 490 & 6.052381 & 4.6334411\\\\\n",
       "\t 491 & 3.154043 & 1.2941366\\\\\n",
       "\t 492 & 2.482382 & 0.5483652\\\\\n",
       "\t 493 & 3.435102 & 2.1151365\\\\\n",
       "\t 494 & 5.249209 & 4.5687046\\\\\n",
       "\t 495 & 3.471799 & 2.5350021\\\\\n",
       "\t 496 & 6.087610 & 4.3974513\\\\\n",
       "\t 497 & 3.440847 & 2.0706638\\\\\n",
       "\t 498 & 4.530545 & 3.7101930\\\\\n",
       "\\end{tabular}\n"
      ],
      "text/markdown": [
       "\n",
       "A spec_tbl_df: 498 × 3\n",
       "\n",
       "| s_no &lt;dbl&gt; | income &lt;dbl&gt; | happiness &lt;dbl&gt; |\n",
       "|---|---|---|\n",
       "|  1 | 3.862647 | 2.314489 |\n",
       "|  2 | 4.979381 | 3.433490 |\n",
       "|  3 | 4.923957 | 4.599373 |\n",
       "|  4 | 3.214372 | 2.791114 |\n",
       "|  5 | 7.196409 | 5.596398 |\n",
       "|  6 | 3.729643 | 2.458556 |\n",
       "|  7 | 4.674517 | 3.192992 |\n",
       "|  8 | 4.498104 | 1.907137 |\n",
       "|  9 | 3.121631 | 2.942450 |\n",
       "| 10 | 4.639914 | 3.737942 |\n",
       "| 11 | 4.632840 | 3.175406 |\n",
       "| 12 | 2.773179 | 2.009046 |\n",
       "| 13 | 7.119479 | 5.951814 |\n",
       "| 14 | 7.466653 | 5.960547 |\n",
       "| 15 | 2.117742 | 1.445799 |\n",
       "| 16 | 2.559166 | 2.898583 |\n",
       "| 17 | 2.354793 | 1.231168 |\n",
       "| 18 | 2.388157 | 2.312988 |\n",
       "| 19 | 4.755680 | 2.666116 |\n",
       "| 20 | 1.994275 | 2.584729 |\n",
       "| 21 | 7.310916 | 5.747444 |\n",
       "| 22 | 3.528319 | 2.546525 |\n",
       "| 23 | 2.428752 | 1.200786 |\n",
       "| 24 | 3.542748 | 3.078293 |\n",
       "| 25 | 5.227201 | 4.317761 |\n",
       "| 26 | 6.691993 | 5.381479 |\n",
       "| 27 | 3.900410 | 3.565224 |\n",
       "| 28 | 2.291055 | 0.953413 |\n",
       "| 29 | 2.380513 | 2.169161 |\n",
       "| 30 | 2.549609 | 2.060794 |\n",
       "| ⋮ | ⋮ | ⋮ |\n",
       "| 469 | 3.126524 | 2.4133818 |\n",
       "| 470 | 6.781564 | 4.9853666 |\n",
       "| 471 | 7.119505 | 4.9819811 |\n",
       "| 472 | 7.297722 | 6.3842745 |\n",
       "| 473 | 5.873494 | 3.2674754 |\n",
       "| 474 | 1.587315 | 1.3127590 |\n",
       "| 475 | 6.001807 | 4.0395480 |\n",
       "| 476 | 5.723226 | 4.4259951 |\n",
       "| 477 | 5.237893 | 3.3427494 |\n",
       "| 478 | 6.449945 | 3.4923102 |\n",
       "| 479 | 4.172337 | 3.7512255 |\n",
       "| 480 | 6.522772 | 5.3865593 |\n",
       "| 481 | 7.448117 | 5.9634221 |\n",
       "| 482 | 7.225192 | 4.9852549 |\n",
       "| 483 | 3.275335 | 2.7981607 |\n",
       "| 484 | 2.031818 | 2.9673233 |\n",
       "| 485 | 2.840141 | 1.2287732 |\n",
       "| 486 | 6.101565 | 3.9617296 |\n",
       "| 487 | 6.074328 | 4.6491437 |\n",
       "| 488 | 4.243873 | 4.7541684 |\n",
       "| 489 | 5.318576 | 2.9619567 |\n",
       "| 490 | 6.052381 | 4.6334411 |\n",
       "| 491 | 3.154043 | 1.2941366 |\n",
       "| 492 | 2.482382 | 0.5483652 |\n",
       "| 493 | 3.435102 | 2.1151365 |\n",
       "| 494 | 5.249209 | 4.5687046 |\n",
       "| 495 | 3.471799 | 2.5350021 |\n",
       "| 496 | 6.087610 | 4.3974513 |\n",
       "| 497 | 3.440847 | 2.0706638 |\n",
       "| 498 | 4.530545 | 3.7101930 |\n",
       "\n"
      ],
      "text/plain": [
       "    s_no income   happiness\n",
       "1    1   3.862647 2.314489 \n",
       "2    2   4.979381 3.433490 \n",
       "3    3   4.923957 4.599373 \n",
       "4    4   3.214372 2.791114 \n",
       "5    5   7.196409 5.596398 \n",
       "6    6   3.729643 2.458556 \n",
       "7    7   4.674517 3.192992 \n",
       "8    8   4.498104 1.907137 \n",
       "9    9   3.121631 2.942450 \n",
       "10  10   4.639914 3.737942 \n",
       "11  11   4.632840 3.175406 \n",
       "12  12   2.773179 2.009046 \n",
       "13  13   7.119479 5.951814 \n",
       "14  14   7.466653 5.960547 \n",
       "15  15   2.117742 1.445799 \n",
       "16  16   2.559166 2.898583 \n",
       "17  17   2.354793 1.231168 \n",
       "18  18   2.388157 2.312988 \n",
       "19  19   4.755680 2.666116 \n",
       "20  20   1.994275 2.584729 \n",
       "21  21   7.310916 5.747444 \n",
       "22  22   3.528319 2.546525 \n",
       "23  23   2.428752 1.200786 \n",
       "24  24   3.542748 3.078293 \n",
       "25  25   5.227201 4.317761 \n",
       "26  26   6.691993 5.381479 \n",
       "27  27   3.900410 3.565224 \n",
       "28  28   2.291055 0.953413 \n",
       "29  29   2.380513 2.169161 \n",
       "30  30   2.549609 2.060794 \n",
       "⋮   ⋮    ⋮        ⋮        \n",
       "469 469  3.126524 2.4133818\n",
       "470 470  6.781564 4.9853666\n",
       "471 471  7.119505 4.9819811\n",
       "472 472  7.297722 6.3842745\n",
       "473 473  5.873494 3.2674754\n",
       "474 474  1.587315 1.3127590\n",
       "475 475  6.001807 4.0395480\n",
       "476 476  5.723226 4.4259951\n",
       "477 477  5.237893 3.3427494\n",
       "478 478  6.449945 3.4923102\n",
       "479 479  4.172337 3.7512255\n",
       "480 480  6.522772 5.3865593\n",
       "481 481  7.448117 5.9634221\n",
       "482 482  7.225192 4.9852549\n",
       "483 483  3.275335 2.7981607\n",
       "484 484  2.031818 2.9673233\n",
       "485 485  2.840141 1.2287732\n",
       "486 486  6.101565 3.9617296\n",
       "487 487  6.074328 4.6491437\n",
       "488 488  4.243873 4.7541684\n",
       "489 489  5.318576 2.9619567\n",
       "490 490  6.052381 4.6334411\n",
       "491 491  3.154043 1.2941366\n",
       "492 492  2.482382 0.5483652\n",
       "493 493  3.435102 2.1151365\n",
       "494 494  5.249209 4.5687046\n",
       "495 495  3.471799 2.5350021\n",
       "496 496  6.087610 4.3974513\n",
       "497 497  3.440847 2.0706638\n",
       "498 498  4.530545 3.7101930"
      ]
     },
     "metadata": {},
     "output_type": "display_data"
    }
   ],
   "source": [
    "mm <- mm%>%\n",
    "janitor::clean_names()\n",
    "mm"
   ]
  },
  {
   "cell_type": "code",
   "execution_count": null,
   "metadata": {
    "vscode": {
     "languageId": "r"
    }
   },
   "outputs": [
    {
     "data": {
      "text/plain": [
       "      s_no           income        happiness    \n",
       " Min.   :  1.0   Min.   :1.506   Min.   :0.266  \n",
       " 1st Qu.:125.2   1st Qu.:3.006   1st Qu.:2.266  \n",
       " Median :249.5   Median :4.424   Median :3.473  \n",
       " Mean   :249.5   Mean   :4.467   Mean   :3.393  \n",
       " 3rd Qu.:373.8   3rd Qu.:5.992   3rd Qu.:4.503  \n",
       " Max.   :498.0   Max.   :7.482   Max.   :6.863  "
      ]
     },
     "metadata": {},
     "output_type": "display_data"
    }
   ],
   "source": [
    "summary(mm)"
   ]
  },
  {
   "cell_type": "code",
   "execution_count": null,
   "metadata": {
    "vscode": {
     "languageId": "r"
    }
   },
   "outputs": [
    {
     "data": {
      "text/html": [
       "<table class=\"dataframe\">\n",
       "<caption>A tibble: 3 × 4</caption>\n",
       "<thead>\n",
       "\t<tr><th scope=col>vars</th><th scope=col>statistic</th><th scope=col>p_value</th><th scope=col>sample</th></tr>\n",
       "\t<tr><th scope=col>&lt;chr&gt;</th><th scope=col>&lt;dbl&gt;</th><th scope=col>&lt;dbl&gt;</th><th scope=col>&lt;dbl&gt;</th></tr>\n",
       "</thead>\n",
       "<tbody>\n",
       "\t<tr><td>s_no     </td><td>0.9547222</td><td>3.146273e-11</td><td>498</td></tr>\n",
       "\t<tr><td>income   </td><td>0.9518498</td><td>1.158988e-11</td><td>498</td></tr>\n",
       "\t<tr><td>happiness</td><td>0.9870523</td><td>2.095229e-04</td><td>498</td></tr>\n",
       "</tbody>\n",
       "</table>\n"
      ],
      "text/latex": [
       "A tibble: 3 × 4\n",
       "\\begin{tabular}{llll}\n",
       " vars & statistic & p\\_value & sample\\\\\n",
       " <chr> & <dbl> & <dbl> & <dbl>\\\\\n",
       "\\hline\n",
       "\t s\\_no      & 0.9547222 & 3.146273e-11 & 498\\\\\n",
       "\t income    & 0.9518498 & 1.158988e-11 & 498\\\\\n",
       "\t happiness & 0.9870523 & 2.095229e-04 & 498\\\\\n",
       "\\end{tabular}\n"
      ],
      "text/markdown": [
       "\n",
       "A tibble: 3 × 4\n",
       "\n",
       "| vars &lt;chr&gt; | statistic &lt;dbl&gt; | p_value &lt;dbl&gt; | sample &lt;dbl&gt; |\n",
       "|---|---|---|---|\n",
       "| s_no      | 0.9547222 | 3.146273e-11 | 498 |\n",
       "| income    | 0.9518498 | 1.158988e-11 | 498 |\n",
       "| happiness | 0.9870523 | 2.095229e-04 | 498 |\n",
       "\n"
      ],
      "text/plain": [
       "  vars      statistic p_value      sample\n",
       "1 s_no      0.9547222 3.146273e-11 498   \n",
       "2 income    0.9518498 1.158988e-11 498   \n",
       "3 happiness 0.9870523 2.095229e-04 498   "
      ]
     },
     "metadata": {},
     "output_type": "display_data"
    }
   ],
   "source": [
    "library(dlookr)\n",
    "normality(mm)"
   ]
  },
  {
   "cell_type": "code",
   "execution_count": null,
   "metadata": {
    "vscode": {
     "languageId": "r"
    }
   },
   "outputs": [],
   "source": [
    "imm <- lm(happiness ~ income, data = mm)"
   ]
  },
  {
   "cell_type": "code",
   "execution_count": null,
   "metadata": {
    "vscode": {
     "languageId": "r"
    }
   },
   "outputs": [],
   "source": [
    "plot(allEffects(imm))"
   ]
  },
  {
   "cell_type": "code",
   "execution_count": null,
   "metadata": {
    "vscode": {
     "languageId": "r"
    }
   },
   "outputs": [],
   "source": [
    "library(performance)\n",
    "check_model(imm)"
   ]
  },
  {
   "cell_type": "code",
   "execution_count": null,
   "metadata": {
    "vscode": {
     "languageId": "r"
    }
   },
   "outputs": [],
   "source": [
    "plot_model(imm)"
   ]
  },
  {
   "cell_type": "code",
   "execution_count": null,
   "metadata": {
    "vscode": {
     "languageId": "r"
    }
   },
   "outputs": [],
   "source": [
    "plot_model(imm) # nolint"
   ]
  },
  {
   "cell_type": "code",
   "execution_count": null,
   "metadata": {
    "vscode": {
     "languageId": "r"
    }
   },
   "outputs": [],
   "source": [
    "install.packages(\"report\")\n",
    "library(report)\n"
   ]
  },
  {
   "cell_type": "code",
   "execution_count": null,
   "metadata": {
    "vscode": {
     "languageId": "r"
    }
   },
   "outputs": [],
   "source": [
    "report(imm)"
   ]
  },
  {
   "cell_type": "code",
   "execution_count": null,
   "metadata": {
    "vscode": {
     "languageId": "r"
    }
   },
   "outputs": [
    {
     "name": "stdout",
     "output_type": "stream",
     "text": [
      "R Information\n",
      "\n",
      "Vignettes with name or keyword or title matching ‘emmeams’ using fuzzy\n",
      "matching:\n",
      "\n",
      "\n",
      "emmeans::AQuickStart    A quick-start guide for emmeans\n",
      "emmeans::FAQs           FAQs for emmeans\n",
      "emmeans::interactions   Interaction analysis in emmeans\n",
      "emmeans::models         Models supported by emmeans\n",
      "emmeans::predictions    Prediction in emmeans\n",
      "emmeans::sophisticated\n",
      "                        Sophisticated models in emmeans\n",
      "emmeans::xtending       For developers: Extending emmeans\n",
      "\n",
      "\n",
      "Type 'vignette(\"FOO\", package=\"PKG\")' to inspect entries 'PKG::FOO'.\n",
      "\n",
      "\n",
      "\n",
      "Help files with alias or concept or title matching ‘emmeams’ using\n",
      "fuzzy matching:\n",
      "\n",
      "\n",
      "broom::tidy.emmGrid     Tidy a(n) emmGrid object\n",
      "  Concepts: emmeans tidiers\n",
      "broom::tidy.lsmobj      Tidy a(n) lsmobj object\n",
      "  Aliases: emmeans_tidiers\n",
      "  Concepts: emmeans tidiers\n",
      "broom::tidy.ref.grid    Tidy a(n) ref.grid object\n",
      "  Concepts: emmeans tidiers\n",
      "broom::tidy.summary_emm\n",
      "                        Tidy a(n) summary_emm object\n",
      "  Concepts: emmeans tidiers\n",
      "emmeans::emm_options    Set or change emmeans options\n",
      "emmeans::emmeans        Estimated marginal means (Least-squares means)\n",
      "  Aliases: emmeans\n",
      "emmeans::emmeans-package\n",
      "                        Estimated marginal means (aka Least-squares\n",
      "                        means)\n",
      "  Aliases: emmeans-package\n",
      "emmeans::extending-emmeans\n",
      "                        Support functions for model extensions\n",
      "  Aliases: extending-emmeans\n",
      "emmeans::models         Models supported in 'emmeans'\n",
      "ggeffects::as.data.frame.ggeffects\n",
      "                        Adjusted predictions from regression models\n",
      "  Aliases: ggemmeans\n",
      "modelbased::get_emcontrasts\n",
      "                        Easy 'emmeans' and 'emtrends'\n",
      "  Aliases: get_emmeans, model_emmeans\n",
      "rstatix::emmeans_test   Pairwise Comparisons of Estimated Marginal\n",
      "                        Means\n",
      "  Aliases: emmeans_test, get_emmeans\n",
      "\n",
      "\n",
      "Type '?PKG::FOO' to inspect entries 'PKG::FOO', or 'TYPE?PKG::FOO' for\n",
      "entries like 'PKG::FOO-TYPE'.\n",
      "\n",
      "\n"
     ]
    }
   ],
   "source": [
    "??emmeams"
   ]
  },
  {
   "cell_type": "code",
   "execution_count": null,
   "metadata": {
    "vscode": {
     "languageId": "r"
    }
   },
   "outputs": [
    {
     "data": {
      "text/html": [
       "'vignette(\"FOO\", package=\"emmeans\")'"
      ],
      "text/latex": [
       "'vignette(\"FOO\", package=\"emmeans\")'"
      ],
      "text/markdown": [
       "'vignette(\"FOO\", package=\"emmeans\")'"
      ],
      "text/plain": [
       "[1] \"vignette(\\\"FOO\\\", package=\\\"emmeans\\\")\""
      ]
     },
     "metadata": {},
     "output_type": "display_data"
    }
   ],
   "source": [
    "'vignette(\"FOO\", package=\"emmeans\")'"
   ]
  },
  {
   "cell_type": "code",
   "execution_count": 1,
   "metadata": {
    "vscode": {
     "languageId": "r"
    }
   },
   "outputs": [
    {
     "name": "stderr",
     "output_type": "stream",
     "text": [
      "Aktualisiere HTML-Index der Pakete in '.Library'\n",
      "\n",
      "Making 'packages.html' ...\n",
      " fertig\n",
      "\n"
     ]
    }
   ],
   "source": [
    "install.packages(\"BiocManager\")"
   ]
  },
  {
   "cell_type": "code",
   "execution_count": 5,
   "metadata": {
    "vscode": {
     "languageId": "r"
    }
   },
   "outputs": [
    {
     "data": {
      "text/html": [
       "'/Volumes/NGS/conda/miniconda3/envs/akms/lib/R/library/limma'"
      ],
      "text/latex": [
       "'/Volumes/NGS/conda/miniconda3/envs/akms/lib/R/library/limma'"
      ],
      "text/markdown": [
       "'/Volumes/NGS/conda/miniconda3/envs/akms/lib/R/library/limma'"
      ],
      "text/plain": [
       "[1] \"/Volumes/NGS/conda/miniconda3/envs/akms/lib/R/library/limma\""
      ]
     },
     "metadata": {},
     "output_type": "display_data"
    }
   ],
   "source": [
    "find.package(\"limma\")"
   ]
  }
 ],
 "metadata": {
  "kernelspec": {
   "display_name": "R",
   "language": "R",
   "name": "ir"
  },
  "language_info": {
   "codemirror_mode": "r",
   "file_extension": ".r",
   "mimetype": "text/x-r-source",
   "name": "R",
   "pygments_lexer": "r",
   "version": "4.2.3"
  }
 },
 "nbformat": 4,
 "nbformat_minor": 2
}
