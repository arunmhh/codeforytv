{
 "cells": [
  {
   "cell_type": "code",
   "execution_count": 11,
   "metadata": {
    "vscode": {
     "languageId": "r"
    }
   },
   "outputs": [
    {
     "ename": "ERROR",
     "evalue": "Error in library(hdf5): es gibt kein Paket namens ‘hdf5’\n",
     "output_type": "error",
     "traceback": [
      "Error in library(hdf5): es gibt kein Paket namens ‘hdf5’\nTraceback:\n",
      "1. library(hdf5)"
     ]
    }
   ],
   "source": [
    "library(Seurat)\n",
    "library(SeuratObject)\n",
    "library(sp)\n",
    "library(hdf5)\n",
    "library(tidyverse)"
   ]
  },
  {
   "cell_type": "code",
   "execution_count": 13,
   "metadata": {
    "vscode": {
     "languageId": "r"
    }
   },
   "outputs": [
    {
     "data": {
      "text/html": [
       "'/Volumes/NGS/conda/miniconda3/envs/myytcode/lib/R/library/sp'"
      ],
      "text/latex": [
       "'/Volumes/NGS/conda/miniconda3/envs/myytcode/lib/R/library/sp'"
      ],
      "text/markdown": [
       "'/Volumes/NGS/conda/miniconda3/envs/myytcode/lib/R/library/sp'"
      ],
      "text/plain": [
       "[1] \"/Volumes/NGS/conda/miniconda3/envs/myytcode/lib/R/library/sp\""
      ]
     },
     "metadata": {},
     "output_type": "display_data"
    }
   ],
   "source": [
    "find.package(\"sp\")\n"
   ]
  }
 ],
 "metadata": {
  "kernelspec": {
   "display_name": "R",
   "language": "R",
   "name": "ir"
  },
  "language_info": {
   "codemirror_mode": "r",
   "file_extension": ".r",
   "mimetype": "text/x-r-source",
   "name": "R",
   "pygments_lexer": "r",
   "version": "4.3.3"
  }
 },
 "nbformat": 4,
 "nbformat_minor": 2
}
