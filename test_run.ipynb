{
 "cells": [
  {
   "cell_type": "code",
   "execution_count": 27,
   "metadata": {
    "vscode": {
     "languageId": "r"
    }
   },
   "outputs": [],
   "source": [
    "library(tidyverse)\n",
    "library(readxl)\n",
    "library(ggplot2)\n",
    "library(ggpubr)"
   ]
  },
  {
   "cell_type": "code",
   "execution_count": 28,
   "metadata": {
    "vscode": {
     "languageId": "r"
    }
   },
   "outputs": [],
   "source": [
    "# Generating data\n",
    "set.seed(123)\n",
    "data <- data.frame(Category = sample(c(\"A\", \"B\", \"C\"), 100, replace = TRUE),\n",
    "                   Outcome = sample(c(\"Yes\", \"No\"), 100, replace = TRUE))\n"
   ]
  },
  {
   "cell_type": "code",
   "execution_count": 29,
   "metadata": {
    "vscode": {
     "languageId": "r"
    }
   },
   "outputs": [
    {
     "data": {
      "text/html": [
       "<table class=\"dataframe\">\n",
       "<caption>A data.frame: 100 × 2</caption>\n",
       "<thead>\n",
       "\t<tr><th scope=col>Category</th><th scope=col>Outcome</th></tr>\n",
       "\t<tr><th scope=col>&lt;chr&gt;</th><th scope=col>&lt;chr&gt;</th></tr>\n",
       "</thead>\n",
       "<tbody>\n",
       "\t<tr><td>C</td><td>Yes</td></tr>\n",
       "\t<tr><td>C</td><td>No </td></tr>\n",
       "\t<tr><td>C</td><td>No </td></tr>\n",
       "\t<tr><td>B</td><td>Yes</td></tr>\n",
       "\t<tr><td>C</td><td>Yes</td></tr>\n",
       "\t<tr><td>B</td><td>Yes</td></tr>\n",
       "\t<tr><td>B</td><td>No </td></tr>\n",
       "\t<tr><td>B</td><td>Yes</td></tr>\n",
       "\t<tr><td>C</td><td>No </td></tr>\n",
       "\t<tr><td>A</td><td>No </td></tr>\n",
       "\t<tr><td>B</td><td>No </td></tr>\n",
       "\t<tr><td>B</td><td>No </td></tr>\n",
       "\t<tr><td>A</td><td>No </td></tr>\n",
       "\t<tr><td>B</td><td>No </td></tr>\n",
       "\t<tr><td>C</td><td>No </td></tr>\n",
       "\t<tr><td>A</td><td>Yes</td></tr>\n",
       "\t<tr><td>C</td><td>No </td></tr>\n",
       "\t<tr><td>C</td><td>No </td></tr>\n",
       "\t<tr><td>A</td><td>No </td></tr>\n",
       "\t<tr><td>A</td><td>Yes</td></tr>\n",
       "\t<tr><td>A</td><td>No </td></tr>\n",
       "\t<tr><td>A</td><td>No </td></tr>\n",
       "\t<tr><td>C</td><td>No </td></tr>\n",
       "\t<tr><td>B</td><td>Yes</td></tr>\n",
       "\t<tr><td>C</td><td>No </td></tr>\n",
       "\t<tr><td>B</td><td>No </td></tr>\n",
       "\t<tr><td>A</td><td>Yes</td></tr>\n",
       "\t<tr><td>B</td><td>No </td></tr>\n",
       "\t<tr><td>C</td><td>Yes</td></tr>\n",
       "\t<tr><td>B</td><td>No </td></tr>\n",
       "\t<tr><td>⋮</td><td>⋮</td></tr>\n",
       "\t<tr><td>B</td><td>No </td></tr>\n",
       "\t<tr><td>C</td><td>Yes</td></tr>\n",
       "\t<tr><td>C</td><td>Yes</td></tr>\n",
       "\t<tr><td>A</td><td>No </td></tr>\n",
       "\t<tr><td>B</td><td>Yes</td></tr>\n",
       "\t<tr><td>B</td><td>No </td></tr>\n",
       "\t<tr><td>A</td><td>No </td></tr>\n",
       "\t<tr><td>B</td><td>No </td></tr>\n",
       "\t<tr><td>A</td><td>No </td></tr>\n",
       "\t<tr><td>A</td><td>Yes</td></tr>\n",
       "\t<tr><td>B</td><td>No </td></tr>\n",
       "\t<tr><td>C</td><td>No </td></tr>\n",
       "\t<tr><td>C</td><td>No </td></tr>\n",
       "\t<tr><td>A</td><td>Yes</td></tr>\n",
       "\t<tr><td>B</td><td>No </td></tr>\n",
       "\t<tr><td>A</td><td>No </td></tr>\n",
       "\t<tr><td>B</td><td>No </td></tr>\n",
       "\t<tr><td>A</td><td>Yes</td></tr>\n",
       "\t<tr><td>C</td><td>Yes</td></tr>\n",
       "\t<tr><td>C</td><td>No </td></tr>\n",
       "\t<tr><td>B</td><td>No </td></tr>\n",
       "\t<tr><td>C</td><td>No </td></tr>\n",
       "\t<tr><td>A</td><td>No </td></tr>\n",
       "\t<tr><td>B</td><td>Yes</td></tr>\n",
       "\t<tr><td>B</td><td>No </td></tr>\n",
       "\t<tr><td>C</td><td>Yes</td></tr>\n",
       "\t<tr><td>B</td><td>No </td></tr>\n",
       "\t<tr><td>A</td><td>Yes</td></tr>\n",
       "\t<tr><td>C</td><td>Yes</td></tr>\n",
       "\t<tr><td>C</td><td>Yes</td></tr>\n",
       "</tbody>\n",
       "</table>\n"
      ],
      "text/latex": [
       "A data.frame: 100 × 2\n",
       "\\begin{tabular}{ll}\n",
       " Category & Outcome\\\\\n",
       " <chr> & <chr>\\\\\n",
       "\\hline\n",
       "\t C & Yes\\\\\n",
       "\t C & No \\\\\n",
       "\t C & No \\\\\n",
       "\t B & Yes\\\\\n",
       "\t C & Yes\\\\\n",
       "\t B & Yes\\\\\n",
       "\t B & No \\\\\n",
       "\t B & Yes\\\\\n",
       "\t C & No \\\\\n",
       "\t A & No \\\\\n",
       "\t B & No \\\\\n",
       "\t B & No \\\\\n",
       "\t A & No \\\\\n",
       "\t B & No \\\\\n",
       "\t C & No \\\\\n",
       "\t A & Yes\\\\\n",
       "\t C & No \\\\\n",
       "\t C & No \\\\\n",
       "\t A & No \\\\\n",
       "\t A & Yes\\\\\n",
       "\t A & No \\\\\n",
       "\t A & No \\\\\n",
       "\t C & No \\\\\n",
       "\t B & Yes\\\\\n",
       "\t C & No \\\\\n",
       "\t B & No \\\\\n",
       "\t A & Yes\\\\\n",
       "\t B & No \\\\\n",
       "\t C & Yes\\\\\n",
       "\t B & No \\\\\n",
       "\t ⋮ & ⋮\\\\\n",
       "\t B & No \\\\\n",
       "\t C & Yes\\\\\n",
       "\t C & Yes\\\\\n",
       "\t A & No \\\\\n",
       "\t B & Yes\\\\\n",
       "\t B & No \\\\\n",
       "\t A & No \\\\\n",
       "\t B & No \\\\\n",
       "\t A & No \\\\\n",
       "\t A & Yes\\\\\n",
       "\t B & No \\\\\n",
       "\t C & No \\\\\n",
       "\t C & No \\\\\n",
       "\t A & Yes\\\\\n",
       "\t B & No \\\\\n",
       "\t A & No \\\\\n",
       "\t B & No \\\\\n",
       "\t A & Yes\\\\\n",
       "\t C & Yes\\\\\n",
       "\t C & No \\\\\n",
       "\t B & No \\\\\n",
       "\t C & No \\\\\n",
       "\t A & No \\\\\n",
       "\t B & Yes\\\\\n",
       "\t B & No \\\\\n",
       "\t C & Yes\\\\\n",
       "\t B & No \\\\\n",
       "\t A & Yes\\\\\n",
       "\t C & Yes\\\\\n",
       "\t C & Yes\\\\\n",
       "\\end{tabular}\n"
      ],
      "text/markdown": [
       "\n",
       "A data.frame: 100 × 2\n",
       "\n",
       "| Category &lt;chr&gt; | Outcome &lt;chr&gt; |\n",
       "|---|---|\n",
       "| C | Yes |\n",
       "| C | No  |\n",
       "| C | No  |\n",
       "| B | Yes |\n",
       "| C | Yes |\n",
       "| B | Yes |\n",
       "| B | No  |\n",
       "| B | Yes |\n",
       "| C | No  |\n",
       "| A | No  |\n",
       "| B | No  |\n",
       "| B | No  |\n",
       "| A | No  |\n",
       "| B | No  |\n",
       "| C | No  |\n",
       "| A | Yes |\n",
       "| C | No  |\n",
       "| C | No  |\n",
       "| A | No  |\n",
       "| A | Yes |\n",
       "| A | No  |\n",
       "| A | No  |\n",
       "| C | No  |\n",
       "| B | Yes |\n",
       "| C | No  |\n",
       "| B | No  |\n",
       "| A | Yes |\n",
       "| B | No  |\n",
       "| C | Yes |\n",
       "| B | No  |\n",
       "| ⋮ | ⋮ |\n",
       "| B | No  |\n",
       "| C | Yes |\n",
       "| C | Yes |\n",
       "| A | No  |\n",
       "| B | Yes |\n",
       "| B | No  |\n",
       "| A | No  |\n",
       "| B | No  |\n",
       "| A | No  |\n",
       "| A | Yes |\n",
       "| B | No  |\n",
       "| C | No  |\n",
       "| C | No  |\n",
       "| A | Yes |\n",
       "| B | No  |\n",
       "| A | No  |\n",
       "| B | No  |\n",
       "| A | Yes |\n",
       "| C | Yes |\n",
       "| C | No  |\n",
       "| B | No  |\n",
       "| C | No  |\n",
       "| A | No  |\n",
       "| B | Yes |\n",
       "| B | No  |\n",
       "| C | Yes |\n",
       "| B | No  |\n",
       "| A | Yes |\n",
       "| C | Yes |\n",
       "| C | Yes |\n",
       "\n"
      ],
      "text/plain": [
       "    Category Outcome\n",
       "1   C        Yes    \n",
       "2   C        No     \n",
       "3   C        No     \n",
       "4   B        Yes    \n",
       "5   C        Yes    \n",
       "6   B        Yes    \n",
       "7   B        No     \n",
       "8   B        Yes    \n",
       "9   C        No     \n",
       "10  A        No     \n",
       "11  B        No     \n",
       "12  B        No     \n",
       "13  A        No     \n",
       "14  B        No     \n",
       "15  C        No     \n",
       "16  A        Yes    \n",
       "17  C        No     \n",
       "18  C        No     \n",
       "19  A        No     \n",
       "20  A        Yes    \n",
       "21  A        No     \n",
       "22  A        No     \n",
       "23  C        No     \n",
       "24  B        Yes    \n",
       "25  C        No     \n",
       "26  B        No     \n",
       "27  A        Yes    \n",
       "28  B        No     \n",
       "29  C        Yes    \n",
       "30  B        No     \n",
       "⋮   ⋮        ⋮      \n",
       "71  B        No     \n",
       "72  C        Yes    \n",
       "73  C        Yes    \n",
       "74  A        No     \n",
       "75  B        Yes    \n",
       "76  B        No     \n",
       "77  A        No     \n",
       "78  B        No     \n",
       "79  A        No     \n",
       "80  A        Yes    \n",
       "81  B        No     \n",
       "82  C        No     \n",
       "83  C        No     \n",
       "84  A        Yes    \n",
       "85  B        No     \n",
       "86  A        No     \n",
       "87  B        No     \n",
       "88  A        Yes    \n",
       "89  C        Yes    \n",
       "90  C        No     \n",
       "91  B        No     \n",
       "92  C        No     \n",
       "93  A        No     \n",
       "94  B        Yes    \n",
       "95  B        No     \n",
       "96  C        Yes    \n",
       "97  B        No     \n",
       "98  A        Yes    \n",
       "99  C        Yes    \n",
       "100 C        Yes    "
      ]
     },
     "metadata": {},
     "output_type": "display_data"
    }
   ],
   "source": [
    "data"
   ]
  },
  {
   "cell_type": "markdown",
   "metadata": {},
   "source": [
    "##### lets prepare the contigency table"
   ]
  },
  {
   "cell_type": "code",
   "execution_count": 9,
   "metadata": {
    "vscode": {
     "languageId": "r"
    }
   },
   "outputs": [],
   "source": [
    "# Create a contingency table\n",
    "contingency_table <- table(data$Category, data$Outcome)\n"
   ]
  },
  {
   "cell_type": "code",
   "execution_count": 31,
   "metadata": {
    "vscode": {
     "languageId": "r"
    }
   },
   "outputs": [
    {
     "data": {
      "text/plain": [
       "   \n",
       "    No Yes\n",
       "  A 17  16\n",
       "  B 21  11\n",
       "  C 18  17"
      ]
     },
     "metadata": {},
     "output_type": "display_data"
    }
   ],
   "source": [
    "contingency_table"
   ]
  },
  {
   "cell_type": "code",
   "execution_count": 30,
   "metadata": {
    "vscode": {
     "languageId": "r"
    }
   },
   "outputs": [
    {
     "name": "stdout",
     "output_type": "stream",
     "text": [
      "\n",
      "\tPearson's Chi-squared test\n",
      "\n",
      "data:  contingency_table\n",
      "X-squared = 1.7694, df = 2, p-value = 0.4128\n",
      "\n"
     ]
    }
   ],
   "source": [
    "# Perform chi-square test\n",
    "chi_square_test <- chisq.test(contingency_table)\n",
    "# Print the result\n",
    "print(chi_square_test)"
   ]
  }
 ],
 "metadata": {
  "kernelspec": {
   "display_name": "R",
   "language": "R",
   "name": "ir"
  },
  "language_info": {
   "codemirror_mode": "r",
   "file_extension": ".r",
   "mimetype": "text/x-r-source",
   "name": "R",
   "pygments_lexer": "r",
   "version": "4.2.3"
  }
 },
 "nbformat": 4,
 "nbformat_minor": 2
}
